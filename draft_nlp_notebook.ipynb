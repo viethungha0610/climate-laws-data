{
 "cells": [
  {
   "cell_type": "code",
   "execution_count": 1,
   "metadata": {},
   "outputs": [],
   "source": [
    "# Base packages\n",
    "import os\n",
    "import numpy as np\n",
    "import pandas as pd\n",
    "import json\n",
    "\n",
    "# Web scraping\n",
    "from bs4 import BeautifulSoup\n",
    "import requests\n",
    "\n",
    "# Misc\n",
    "from tqdm import tqdm"
   ]
  },
  {
   "cell_type": "markdown",
   "metadata": {},
   "source": [
    "# Web scraping and data cleaning"
   ]
  },
  {
   "cell_type": "markdown",
   "metadata": {},
   "source": [
    "##"
   ]
  },
  {
   "cell_type": "markdown",
   "metadata": {},
   "source": [
    "After investigating https://www.climate-laws.org/ with Edge's Developer Console, I've found out that the website's React app gets its JSON data from this link https://www.climate-laws.org/legislation_and_policies.json?offset=[offset]. This will allow me to batch request the data straight from the website's back-end, instead of scraping and cleaning static HTML files."
   ]
  },
  {
   "cell_type": "code",
   "execution_count": 2,
   "metadata": {},
   "outputs": [],
   "source": [
    "# Function to request data\n",
    "def request_climate_laws_data(offset_batch=np.arange(10, 2100, 10)):\n",
    "    \"\"\"\n",
    "    Get online Climate Laws data from climate-laws.org, and process it into DataFrame\n",
    "    \"\"\"\n",
    "    climate_laws_df = pd.DataFrame()\n",
    "    for offset in tqdm(offset_batch):\n",
    "        climate_laws_url = f\"https://www.climate-laws.org/legislation_and_policies.json?offset={offset}\"\n",
    "        climate_laws_data = requests.get(climate_laws_url)\n",
    "        climate_laws_df = climate_laws_df.append(climate_laws_data.json()[\"items\"])\n",
    "    return climate_laws_df.reset_index()"
   ]
  },
  {
   "cell_type": "code",
   "execution_count": 3,
   "metadata": {
    "scrolled": true
   },
   "outputs": [
    {
     "name": "stderr",
     "output_type": "stream",
     "text": [
      "100%|████████████████████████████████████████████████████████████████████████████████| 209/209 [00:38<00:00,  5.42it/s]\n"
     ]
    }
   ],
   "source": [
    "climate_laws_df = request_climate_laws_data(np.arange(10, 2100, 10))"
   ]
  },
  {
   "cell_type": "code",
   "execution_count": 4,
   "metadata": {
    "scrolled": false
   },
   "outputs": [
    {
     "name": "stdout",
     "output_type": "stream",
     "text": [
      "Data shape: (2086, 23)\n",
      "Columns:\n",
      "Index(['index', 'id', 'title', 'description', 'law_id', 'slug', 'geography_id',\n",
      "       'created_at', 'updated_at', 'visibility_status', 'created_by_id',\n",
      "       'updated_by_id', 'discarded_at', 'legislation_type', 'parent_id',\n",
      "       'date', 'link', 'short_description', 'geography', 'date_passed',\n",
      "       'last_change', 'legislation_type_humanize', 'geography_path'],\n",
      "      dtype='object')\n"
     ]
    },
    {
     "data": {
      "text/html": [
       "<div>\n",
       "<style scoped>\n",
       "    .dataframe tbody tr th:only-of-type {\n",
       "        vertical-align: middle;\n",
       "    }\n",
       "\n",
       "    .dataframe tbody tr th {\n",
       "        vertical-align: top;\n",
       "    }\n",
       "\n",
       "    .dataframe thead th {\n",
       "        text-align: right;\n",
       "    }\n",
       "</style>\n",
       "<table border=\"1\" class=\"dataframe\">\n",
       "  <thead>\n",
       "    <tr style=\"text-align: right;\">\n",
       "      <th></th>\n",
       "      <th>index</th>\n",
       "      <th>id</th>\n",
       "      <th>title</th>\n",
       "      <th>description</th>\n",
       "      <th>law_id</th>\n",
       "      <th>slug</th>\n",
       "      <th>geography_id</th>\n",
       "      <th>created_at</th>\n",
       "      <th>updated_at</th>\n",
       "      <th>visibility_status</th>\n",
       "      <th>...</th>\n",
       "      <th>legislation_type</th>\n",
       "      <th>parent_id</th>\n",
       "      <th>date</th>\n",
       "      <th>link</th>\n",
       "      <th>short_description</th>\n",
       "      <th>geography</th>\n",
       "      <th>date_passed</th>\n",
       "      <th>last_change</th>\n",
       "      <th>legislation_type_humanize</th>\n",
       "      <th>geography_path</th>\n",
       "    </tr>\n",
       "  </thead>\n",
       "  <tbody>\n",
       "    <tr>\n",
       "      <th>0</th>\n",
       "      <td>0</td>\n",
       "      <td>9737</td>\n",
       "      <td>Plan to Control Illegal Deforestation and Reco...</td>\n",
       "      <td>&lt;div&gt;This plan aims to continuously and consis...</td>\n",
       "      <td>None</td>\n",
       "      <td>plan-to-control-illegal-deforestation-and-reco...</td>\n",
       "      <td>24</td>\n",
       "      <td>2020-11-17T13:43:31.244Z</td>\n",
       "      <td>2020-11-17T13:51:05.342Z</td>\n",
       "      <td>published</td>\n",
       "      <td>...</td>\n",
       "      <td>executive</td>\n",
       "      <td>NaN</td>\n",
       "      <td>2020-10-25</td>\n",
       "      <td>&lt;a href=\"/geographies/brazil/policies/plan-to-...</td>\n",
       "      <td>This plan aims to continuously and consistentl...</td>\n",
       "      <td>{'id': 24, 'geography_type': 'national', 'iso'...</td>\n",
       "      <td>2004</td>\n",
       "      <td>October, 2020</td>\n",
       "      <td>Executive</td>\n",
       "      <td>/geographies/brazil</td>\n",
       "    </tr>\n",
       "    <tr>\n",
       "      <th>1</th>\n",
       "      <td>1</td>\n",
       "      <td>9740</td>\n",
       "      <td>Institutional Program of the National Institut...</td>\n",
       "      <td>&lt;div&gt;The agreement that creates the Institutio...</td>\n",
       "      <td>None</td>\n",
       "      <td>institutional-program-of-the-national-institut...</td>\n",
       "      <td>114</td>\n",
       "      <td>2020-12-04T17:29:29.757Z</td>\n",
       "      <td>2020-12-04T17:33:08.878Z</td>\n",
       "      <td>published</td>\n",
       "      <td>...</td>\n",
       "      <td>executive</td>\n",
       "      <td>NaN</td>\n",
       "      <td>2020-10-16</td>\n",
       "      <td>&lt;a href=\"/geographies/mexico/policies/institut...</td>\n",
       "      <td>The agreement that creates the Institutional P...</td>\n",
       "      <td>{'id': 114, 'geography_type': 'national', 'iso...</td>\n",
       "      <td>2020</td>\n",
       "      <td>None</td>\n",
       "      <td>Executive</td>\n",
       "      <td>/geographies/mexico</td>\n",
       "    </tr>\n",
       "    <tr>\n",
       "      <th>2</th>\n",
       "      <td>2</td>\n",
       "      <td>1657</td>\n",
       "      <td>Electricity Utility Act</td>\n",
       "      <td>&lt;div&gt;The Electricity Business Law mandates bot...</td>\n",
       "      <td>None</td>\n",
       "      <td>electricity-utility-act</td>\n",
       "      <td>166</td>\n",
       "      <td>2019-12-08T17:46:16.862Z</td>\n",
       "      <td>2020-06-29T15:45:25.525Z</td>\n",
       "      <td>published</td>\n",
       "      <td>...</td>\n",
       "      <td>legislative</td>\n",
       "      <td>NaN</td>\n",
       "      <td>2020-10-01</td>\n",
       "      <td>&lt;a href=\"/geographies/south-korea/laws/electri...</td>\n",
       "      <td>The Electricity Business Law mandates both the...</td>\n",
       "      <td>{'id': 166, 'geography_type': 'national', 'iso...</td>\n",
       "      <td>1990</td>\n",
       "      <td>October, 2020</td>\n",
       "      <td>Legislative</td>\n",
       "      <td>/geographies/south-korea</td>\n",
       "    </tr>\n",
       "    <tr>\n",
       "      <th>3</th>\n",
       "      <td>3</td>\n",
       "      <td>9732</td>\n",
       "      <td>Circular No. 25/2020 / TT-BCT on the implement...</td>\n",
       "      <td>&lt;div&gt;This circular was adopted by the Minister...</td>\n",
       "      <td>None</td>\n",
       "      <td>circular-no-25-2020-tt-bct-on-the-implementati...</td>\n",
       "      <td>197</td>\n",
       "      <td>2020-10-31T13:46:44.180Z</td>\n",
       "      <td>2020-10-31T13:46:44.180Z</td>\n",
       "      <td>published</td>\n",
       "      <td>...</td>\n",
       "      <td>executive</td>\n",
       "      <td>NaN</td>\n",
       "      <td>2020-09-29</td>\n",
       "      <td>&lt;a href=\"/geographies/vietnam/policies/circula...</td>\n",
       "      <td>This circular was adopted by the Minister of I...</td>\n",
       "      <td>{'id': 197, 'geography_type': 'national', 'iso...</td>\n",
       "      <td>2020</td>\n",
       "      <td>None</td>\n",
       "      <td>Executive</td>\n",
       "      <td>/geographies/vietnam</td>\n",
       "    </tr>\n",
       "    <tr>\n",
       "      <th>4</th>\n",
       "      <td>4</td>\n",
       "      <td>9728</td>\n",
       "      <td>Framework law for the use and promotion of bic...</td>\n",
       "      <td>&lt;div&gt;The main objective of this law is to gene...</td>\n",
       "      <td>None</td>\n",
       "      <td>framework-law-for-the-use-and-promotion-of-bic...</td>\n",
       "      <td>54</td>\n",
       "      <td>2020-10-26T21:17:32.493Z</td>\n",
       "      <td>2020-10-29T16:08:05.326Z</td>\n",
       "      <td>published</td>\n",
       "      <td>...</td>\n",
       "      <td>legislative</td>\n",
       "      <td>NaN</td>\n",
       "      <td>2020-09-25</td>\n",
       "      <td>&lt;a href=\"/geographies/el-salvador/laws/framewo...</td>\n",
       "      <td>The main objective of this law is to generate ...</td>\n",
       "      <td>{'id': 54, 'geography_type': 'national', 'iso'...</td>\n",
       "      <td>2020</td>\n",
       "      <td>None</td>\n",
       "      <td>Legislative</td>\n",
       "      <td>/geographies/el-salvador</td>\n",
       "    </tr>\n",
       "  </tbody>\n",
       "</table>\n",
       "<p>5 rows × 23 columns</p>\n",
       "</div>"
      ],
      "text/plain": [
       "   index    id                                              title  \\\n",
       "0      0  9737  Plan to Control Illegal Deforestation and Reco...   \n",
       "1      1  9740  Institutional Program of the National Institut...   \n",
       "2      2  1657                            Electricity Utility Act   \n",
       "3      3  9732  Circular No. 25/2020 / TT-BCT on the implement...   \n",
       "4      4  9728  Framework law for the use and promotion of bic...   \n",
       "\n",
       "                                         description law_id  \\\n",
       "0  <div>This plan aims to continuously and consis...   None   \n",
       "1  <div>The agreement that creates the Institutio...   None   \n",
       "2  <div>The Electricity Business Law mandates bot...   None   \n",
       "3  <div>This circular was adopted by the Minister...   None   \n",
       "4  <div>The main objective of this law is to gene...   None   \n",
       "\n",
       "                                                slug  geography_id  \\\n",
       "0  plan-to-control-illegal-deforestation-and-reco...            24   \n",
       "1  institutional-program-of-the-national-institut...           114   \n",
       "2                            electricity-utility-act           166   \n",
       "3  circular-no-25-2020-tt-bct-on-the-implementati...           197   \n",
       "4  framework-law-for-the-use-and-promotion-of-bic...            54   \n",
       "\n",
       "                 created_at                updated_at visibility_status  ...  \\\n",
       "0  2020-11-17T13:43:31.244Z  2020-11-17T13:51:05.342Z         published  ...   \n",
       "1  2020-12-04T17:29:29.757Z  2020-12-04T17:33:08.878Z         published  ...   \n",
       "2  2019-12-08T17:46:16.862Z  2020-06-29T15:45:25.525Z         published  ...   \n",
       "3  2020-10-31T13:46:44.180Z  2020-10-31T13:46:44.180Z         published  ...   \n",
       "4  2020-10-26T21:17:32.493Z  2020-10-29T16:08:05.326Z         published  ...   \n",
       "\n",
       "  legislation_type parent_id        date  \\\n",
       "0        executive       NaN  2020-10-25   \n",
       "1        executive       NaN  2020-10-16   \n",
       "2      legislative       NaN  2020-10-01   \n",
       "3        executive       NaN  2020-09-29   \n",
       "4      legislative       NaN  2020-09-25   \n",
       "\n",
       "                                                link  \\\n",
       "0  <a href=\"/geographies/brazil/policies/plan-to-...   \n",
       "1  <a href=\"/geographies/mexico/policies/institut...   \n",
       "2  <a href=\"/geographies/south-korea/laws/electri...   \n",
       "3  <a href=\"/geographies/vietnam/policies/circula...   \n",
       "4  <a href=\"/geographies/el-salvador/laws/framewo...   \n",
       "\n",
       "                                   short_description  \\\n",
       "0  This plan aims to continuously and consistentl...   \n",
       "1  The agreement that creates the Institutional P...   \n",
       "2  The Electricity Business Law mandates both the...   \n",
       "3  This circular was adopted by the Minister of I...   \n",
       "4  The main objective of this law is to generate ...   \n",
       "\n",
       "                                           geography date_passed  \\\n",
       "0  {'id': 24, 'geography_type': 'national', 'iso'...        2004   \n",
       "1  {'id': 114, 'geography_type': 'national', 'iso...        2020   \n",
       "2  {'id': 166, 'geography_type': 'national', 'iso...        1990   \n",
       "3  {'id': 197, 'geography_type': 'national', 'iso...        2020   \n",
       "4  {'id': 54, 'geography_type': 'national', 'iso'...        2020   \n",
       "\n",
       "     last_change legislation_type_humanize            geography_path  \n",
       "0  October, 2020                 Executive       /geographies/brazil  \n",
       "1           None                 Executive       /geographies/mexico  \n",
       "2  October, 2020               Legislative  /geographies/south-korea  \n",
       "3           None                 Executive      /geographies/vietnam  \n",
       "4           None               Legislative  /geographies/el-salvador  \n",
       "\n",
       "[5 rows x 23 columns]"
      ]
     },
     "execution_count": 4,
     "metadata": {},
     "output_type": "execute_result"
    }
   ],
   "source": [
    "# Exploring dataset\n",
    "print(f\"Data shape: {climate_laws_df.shape}\")\n",
    "print(f\"Columns:\\n{climate_laws_df.columns}\")\n",
    "climate_laws_df.head()"
   ]
  },
  {
   "cell_type": "code",
   "execution_count": 5,
   "metadata": {},
   "outputs": [],
   "source": [
    "from datetime import datetime\n",
    "\n",
    "# Saving data to use later, instead of requesting from server\n",
    "os.makedirs(\"./climate_laws_data\", exist_ok=True)\n",
    "timestamp = datetime.now().strftime(\"%Y.%m.%d_%H.%M.%S\")\n",
    "\n",
    "climate_laws_df.to_excel(f\"./climate_laws_data/{timestamp}_climate_laws_data.xlsx\", index=False)"
   ]
  },
  {
   "cell_type": "markdown",
   "metadata": {},
   "source": [
    "### EDA and data cleaning"
   ]
  },
  {
   "cell_type": "code",
   "execution_count": 6,
   "metadata": {},
   "outputs": [
    {
     "name": "stderr",
     "output_type": "stream",
     "text": [
      "C:\\Users\\ZH834BT\\AppData\\Local\\Continuum\\anaconda3_python\\lib\\site-packages\\statsmodels\\tools\\_testing.py:19: FutureWarning: pandas.util.testing is deprecated. Use the functions in the public API at pandas.testing instead.\n",
      "  import pandas.util.testing as tm\n"
     ]
    }
   ],
   "source": [
    "import matplotlib.pyplot as plt\n",
    "import seaborn as sns"
   ]
  },
  {
   "cell_type": "code",
   "execution_count": 7,
   "metadata": {},
   "outputs": [
    {
     "data": {
      "image/png": "[encoded data removed]",
      "text/plain": [
       "<Figure size 432x288 with 1 Axes>"
      ]
     },
     "metadata": {
      "needs_background": "light"
     },
     "output_type": "display_data"
    }
   ],
   "source": [
    "# Types of legislation\n",
    "legislation_type_plot = sns.countplot(x=\"legislation_type_humanize\", data=climate_laws_df)\n",
    "plt.xlabel(\"Legislation type\")\n",
    "plt.show()"
   ]
  },
  {
   "cell_type": "code",
   "execution_count": 33,
   "metadata": {
    "scrolled": false
   },
   "outputs": [
    {
     "data": {
      "image/png": "[encoded data removed]",
      "text/plain": [
       "<Figure size 432x288 with 1 Axes>"
      ]
     },
     "metadata": {
      "needs_background": "light"
     },
     "output_type": "display_data"
    },
    {
     "name": "stdout",
     "output_type": "stream",
     "text": [
      "Year with maximum number of laws passed\n"
     ]
    },
    {
     "data": {
      "text/html": [
       "<div>\n",
       "<style scoped>\n",
       "    .dataframe tbody tr th:only-of-type {\n",
       "        vertical-align: middle;\n",
       "    }\n",
       "\n",
       "    .dataframe tbody tr th {\n",
       "        vertical-align: top;\n",
       "    }\n",
       "\n",
       "    .dataframe thead th {\n",
       "        text-align: right;\n",
       "    }\n",
       "</style>\n",
       "<table border=\"1\" class=\"dataframe\">\n",
       "  <thead>\n",
       "    <tr style=\"text-align: right;\">\n",
       "      <th></th>\n",
       "      <th>date_passed</th>\n",
       "      <th>id</th>\n",
       "    </tr>\n",
       "  </thead>\n",
       "  <tbody>\n",
       "    <tr>\n",
       "      <th>44</th>\n",
       "      <td>2013</td>\n",
       "      <td>160</td>\n",
       "    </tr>\n",
       "  </tbody>\n",
       "</table>\n",
       "</div>"
      ],
      "text/plain": [
       "   date_passed   id\n",
       "44        2013  160"
      ]
     },
     "execution_count": 33,
     "metadata": {},
     "output_type": "execute_result"
    }
   ],
   "source": [
    "# Date passed - seeing the distribution of pass date of the laws\n",
    "date_passed_count_df = pd.DataFrame(pd.pivot_table(values=\"id\", index=\"date_passed\", aggfunc='count', data=climate_laws_df).to_records())\n",
    "date_passed_count_df.plot(x=\"date_passed\", ylabel=\"Number of climate laws passed\", xlabel=\"Year passed\")\n",
    "plt.show()\n",
    "\n",
    "print(\"Year with maximum number of laws passed\")\n",
    "date_passed_count_df[date_passed_count_df[\"id\"] == date_passed_count_df[\"id\"].max()]"
   ]
  },
  {
   "cell_type": "markdown",
   "metadata": {},
   "source": [
    "#### Observations:\n",
    "The figure above is interesting. \n",
    "\n",
    "The number of laws passed started to skyrocket around 1999 and continue to rise until 2013, after which we see a marked decline.\n",
    "\n",
    "Additionally, we see that 2013 has the highest number of climate laws passed, it will be interesting to see which countries contribute to these? As well as which topics (topic modelling will come later)"
   ]
  },
  {
   "cell_type": "markdown",
   "metadata": {},
   "source": [
    "#### Provisional research question:\n",
    "\n",
    "\"What factors explain the presence of climate laws in a given year?\""
   ]
  },
  {
   "cell_type": "code",
   "execution_count": 36,
   "metadata": {},
   "outputs": [],
   "source": [
    "# Extracting country name from geography column\n",
    "def extract_country_name(df):\n",
    "    return df[\"geography\"][\"name\"]\n",
    "climate_laws_df.loc[:, \"country_name\"] = climate_laws_df.apply(lambda x: extract_country_name(x), axis=1)"
   ]
  },
  {
   "cell_type": "code",
   "execution_count": 42,
   "metadata": {},
   "outputs": [],
   "source": [
    "# Investigating which countries pass to the Climate laws in 2013\n",
    "def country_laws_year_passed(year=2013):\n",
    "    count_df = pd.DataFrame(pd.pivot_table(values=\"id\", index=\"country_name\", aggfunc=\"count\",\n",
    "                                          data=climate_laws_df[climate_laws_df[\"date_passed\"]==str(year)]).to_records())\n",
    "    return count_df"
   ]
  },
  {
   "cell_type": "code",
   "execution_count": 66,
   "metadata": {},
   "outputs": [
    {
     "data": {
      "text/html": [
       "<div>\n",
       "<style scoped>\n",
       "    .dataframe tbody tr th:only-of-type {\n",
       "        vertical-align: middle;\n",
       "    }\n",
       "\n",
       "    .dataframe tbody tr th {\n",
       "        vertical-align: top;\n",
       "    }\n",
       "\n",
       "    .dataframe thead th {\n",
       "        text-align: right;\n",
       "    }\n",
       "</style>\n",
       "<table border=\"1\" class=\"dataframe\">\n",
       "  <thead>\n",
       "    <tr style=\"text-align: right;\">\n",
       "      <th></th>\n",
       "      <th>country_name</th>\n",
       "      <th>id</th>\n",
       "    </tr>\n",
       "  </thead>\n",
       "  <tbody>\n",
       "    <tr>\n",
       "      <th>81</th>\n",
       "      <td>Spain</td>\n",
       "      <td>8</td>\n",
       "    </tr>\n",
       "    <tr>\n",
       "      <th>31</th>\n",
       "      <td>European Union</td>\n",
       "      <td>5</td>\n",
       "    </tr>\n",
       "    <tr>\n",
       "      <th>15</th>\n",
       "      <td>Burkina Faso</td>\n",
       "      <td>5</td>\n",
       "    </tr>\n",
       "    <tr>\n",
       "      <th>12</th>\n",
       "      <td>Brazil</td>\n",
       "      <td>5</td>\n",
       "    </tr>\n",
       "    <tr>\n",
       "      <th>18</th>\n",
       "      <td>Chile</td>\n",
       "      <td>4</td>\n",
       "    </tr>\n",
       "  </tbody>\n",
       "</table>\n",
       "</div>"
      ],
      "text/plain": [
       "      country_name  id\n",
       "81           Spain   8\n",
       "31  European Union   5\n",
       "15    Burkina Faso   5\n",
       "12          Brazil   5\n",
       "18           Chile   4"
      ]
     },
     "execution_count": 66,
     "metadata": {},
     "output_type": "execute_result"
    }
   ],
   "source": [
    "# Seeing the Top five countries passing highest number of climate laws in 2013\n",
    "country_laws_year_passed(year=2013).sort_values(\"id\", ascending=False).head()"
   ]
  },
  {
   "cell_type": "code",
   "execution_count": 74,
   "metadata": {},
   "outputs": [
    {
     "name": "stdout",
     "output_type": "stream",
     "text": [
      "// Burkina Faso - 2013: //\n",
      "National multi-risk plan for disaster preparedness and response\n",
      "Decree no. 2013-325 (establishing the mission of a national entity responding to climate change)\n",
      "Law no. 006-2013 (on the Code for the Environment)\n",
      "Decree no. 2013-151 (on the National Council for the Environment and Sustainable Development)\n",
      "Law of finance 2013 relative to the deletion of customs charges on equipments and material of solar energy\n"
     ]
    }
   ],
   "source": [
    "# I've found it a bit surprising to see Burkina Faso on this list, let's investigate which laws were passed\n",
    "# Helper function\n",
    "def print_laws_title_country_year(country, year):\n",
    "    print(f\"// {country} - {str(year)}: //\")\n",
    "    for item in climate_laws_df[(climate_laws_df[\"country_name\"]==country) & \n",
    "                    (climate_laws_df[\"date_passed\"]==str(year))][\"title\"]:\n",
    "        print(item)\n",
    "\n",
    "print_laws_title_country_year(\"Burkina Faso\", 2013)"
   ]
  },
  {
   "cell_type": "markdown",
   "metadata": {},
   "source": [
    "#### Observation:\n",
    "\n",
    "Upon further observations, I noticed that the \"geography\" column contains a lot of useful information, such as the country's World Bank Income Group, Climate Risk index, Percent of Global Emissions, etc. It will be very useful to bring these information into the columns of the main DataFrame."
   ]
  },
  {
   "cell_type": "code",
   "execution_count": 63,
   "metadata": {},
   "outputs": [],
   "source": [
    "# Enriching data with more useful information from \"geography column\"\n",
    "def percent_global_emissions(df):\n",
    "    return df[\"geography\"][\"percent_global_emissions\"]\n",
    "\n",
    "def climate_risk_index(df):\n",
    "    return df[\"geography\"][\"climate_risk_index\"]\n",
    "\n",
    "def wb_income_group(df):\n",
    "    return df[\"geography\"][\"wb_income_group\"]\n",
    "\n",
    "def eu_member_ind(df):\n",
    "    return df[\"geography\"][\"eu_member\"]\n",
    "\n",
    "def visibility_status(df):\n",
    "    return df[\"geography\"][\"visibility_status\"]\n",
    "\n",
    "def law_discarded_at(df):\n",
    "    return df[\"geography\"][\"discarded_at\"]\n",
    "\n",
    "# Adding columns\n",
    "for func, name in zip([percent_global_emissions, climate_risk_index, wb_income_group, eu_member_ind, visibility_status, law_discarded_at],\n",
    "                     [\"percent_global_emissions\", \"climate_risk_index\", \"wb_income_group\", \"eu_member_ind\", \"visibility_status\", \"law_discarded_at\"]):\n",
    "    climate_laws_df.loc[:, name] = climate_laws_df.apply(lambda x: func(x), axis=1)"
   ]
  },
  {
   "cell_type": "code",
   "execution_count": 80,
   "metadata": {},
   "outputs": [
    {
     "data": {
      "text/html": [
       "<div>\n",
       "<style scoped>\n",
       "    .dataframe tbody tr th:only-of-type {\n",
       "        vertical-align: middle;\n",
       "    }\n",
       "\n",
       "    .dataframe tbody tr th {\n",
       "        vertical-align: top;\n",
       "    }\n",
       "\n",
       "    .dataframe thead th {\n",
       "        text-align: right;\n",
       "    }\n",
       "</style>\n",
       "<table border=\"1\" class=\"dataframe\">\n",
       "  <thead>\n",
       "    <tr style=\"text-align: right;\">\n",
       "      <th></th>\n",
       "      <th>wb_income_group</th>\n",
       "      <th>id</th>\n",
       "    </tr>\n",
       "  </thead>\n",
       "  <tbody>\n",
       "    <tr>\n",
       "      <th>0</th>\n",
       "      <td>High income</td>\n",
       "      <td>735</td>\n",
       "    </tr>\n",
       "    <tr>\n",
       "      <th>1</th>\n",
       "      <td>Low income</td>\n",
       "      <td>237</td>\n",
       "    </tr>\n",
       "    <tr>\n",
       "      <th>2</th>\n",
       "      <td>Lower middle income</td>\n",
       "      <td>499</td>\n",
       "    </tr>\n",
       "    <tr>\n",
       "      <th>3</th>\n",
       "      <td>Upper middle income</td>\n",
       "      <td>528</td>\n",
       "    </tr>\n",
       "  </tbody>\n",
       "</table>\n",
       "</div>"
      ],
      "text/plain": [
       "       wb_income_group   id\n",
       "0          High income  735\n",
       "1           Low income  237\n",
       "2  Lower middle income  499\n",
       "3  Upper middle income  528"
      ]
     },
     "execution_count": 80,
     "metadata": {},
     "output_type": "execute_result"
    }
   ],
   "source": [
    "# Seeing number of laws passed per WB Income Group\n",
    "pd.DataFrame(pd.pivot_table(values=\"id\", index=\"wb_income_group\", aggfunc=\"count\", data=climate_laws_df).to_records())"
   ]
  },
  {
   "cell_type": "code",
   "execution_count": 81,
   "metadata": {},
   "outputs": [],
   "source": [
    "timestamp = datetime.now().strftime(\"%Y.%m.%d_%H.%M.%S\")\n",
    "climate_laws_df.to_excel(f\"./climate_laws_data/{timestamp}_climate_laws_data_expanded.xlsx\", index=False)"
   ]
  }
 ],
 "metadata": {
  "kernelspec": {
   "display_name": "Python 3",
   "language": "python",
   "name": "python3"
  },
  "language_info": {
   "codemirror_mode": {
    "name": "ipython",
    "version": 3
   },
   "file_extension": ".py",
   "mimetype": "text/x-python",
   "name": "python",
   "nbconvert_exporter": "python",
   "pygments_lexer": "ipython3",
   "version": "3.7.4"
  }
 },
 "nbformat": 4,
 "nbformat_minor": 2
}
