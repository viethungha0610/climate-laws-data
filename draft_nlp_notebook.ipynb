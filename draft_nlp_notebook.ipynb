{
 "cells": [
  {
   "cell_type": "code",
   "execution_count": 1,
   "metadata": {},
   "outputs": [],
   "source": [
    "# Base packages\n",
    "import os\n",
    "import numpy as np\n",
    "import pandas as pd\n",
    "import json\n",
    "\n",
    "# Web scraping\n",
    "from bs4 import BeautifulSoup\n",
    "import requests\n",
    "\n",
    "# Misc\n",
    "from tqdm import tqdm\n",
    "from datetime import datetime"
   ]
  },
  {
   "cell_type": "code",
   "execution_count": 148,
   "metadata": {},
   "outputs": [
    {
     "data": {
      "text/html": [
       "<style>.container { width:100% !important; }</style>"
      ],
      "text/plain": [
       "<IPython.core.display.HTML object>"
      ]
     },
     "metadata": {},
     "output_type": "display_data"
    }
   ],
   "source": [
    "# Making Jupyter notebook wider\n",
    "from IPython.core.display import display, HTML\n",
    "display(HTML(\"<style>.container { width:100% !important; }</style>\"))"
   ]
  },
  {
   "cell_type": "markdown",
   "metadata": {},
   "source": [
    "# Web scraping and data cleaning"
   ]
  },
  {
   "cell_type": "markdown",
   "metadata": {},
   "source": [
    "## Data source: Grantham Institute Climate Laws data\n",
    "\n",
    "\n",
    "<img src=\"logo-gri.png\" width=200>"
   ]
  },
  {
   "cell_type": "markdown",
   "metadata": {},
   "source": [
    "After investigating https://www.climate-laws.org/ with Edge's Developer Console, I've found out that the website's React app gets its JSON data from this link https://www.climate-laws.org/legislation_and_policies.json?offset=[offset]. This will allow me to batch request the data straight from the website's back-end, instead of scraping and cleaning static HTML files."
   ]
  },
  {
   "cell_type": "code",
   "execution_count": 2,
   "metadata": {},
   "outputs": [],
   "source": [
    "# Function to request data\n",
    "def request_climate_laws_data(offset_batch=np.arange(10, 2100, 10)):\n",
    "    \"\"\"\n",
    "    Get online Climate Laws data from climate-laws.org, and process it into DataFrame\n",
    "    \"\"\"\n",
    "    climate_laws_df = pd.DataFrame()\n",
    "    for offset in tqdm(offset_batch):\n",
    "        climate_laws_url = f\"https://www.climate-laws.org/legislation_and_policies.json?offset={offset}\"\n",
    "        climate_laws_data = requests.get(climate_laws_url)\n",
    "        climate_laws_df = climate_laws_df.append(climate_laws_data.json()[\"items\"])\n",
    "    return climate_laws_df.reset_index()"
   ]
  },
  {
   "cell_type": "code",
   "execution_count": 3,
   "metadata": {
    "scrolled": true
   },
   "outputs": [
    {
     "name": "stderr",
     "output_type": "stream",
     "text": [
      "100%|████████████████████████████████████████████████████████████████████████████████| 209/209 [00:48<00:00,  4.28it/s]\n"
     ]
    }
   ],
   "source": [
    "climate_laws_df = request_climate_laws_data(np.arange(10, 2100, 10))"
   ]
  },
  {
   "cell_type": "code",
   "execution_count": 4,
   "metadata": {
    "scrolled": false
   },
   "outputs": [
    {
     "name": "stdout",
     "output_type": "stream",
     "text": [
      "Data shape: (2087, 24)\n",
      "Columns:\n",
      "Index(['index', 'id', 'title', 'description', 'law_id', 'slug', 'geography_id',\n",
      "       'created_at', 'updated_at', 'visibility_status', 'created_by_id',\n",
      "       'updated_by_id', 'discarded_at', 'legislation_type', 'parent_id', 'tsv',\n",
      "       'date', 'link', 'short_description', 'geography', 'date_passed',\n",
      "       'last_change', 'legislation_type_humanize', 'geography_path'],\n",
      "      dtype='object')\n"
     ]
    },
    {
     "data": {
      "text/html": [
       "<div>\n",
       "<style scoped>\n",
       "    .dataframe tbody tr th:only-of-type {\n",
       "        vertical-align: middle;\n",
       "    }\n",
       "\n",
       "    .dataframe tbody tr th {\n",
       "        vertical-align: top;\n",
       "    }\n",
       "\n",
       "    .dataframe thead th {\n",
       "        text-align: right;\n",
       "    }\n",
       "</style>\n",
       "<table border=\"1\" class=\"dataframe\">\n",
       "  <thead>\n",
       "    <tr style=\"text-align: right;\">\n",
       "      <th></th>\n",
       "      <th>index</th>\n",
       "      <th>id</th>\n",
       "      <th>title</th>\n",
       "      <th>description</th>\n",
       "      <th>law_id</th>\n",
       "      <th>slug</th>\n",
       "      <th>geography_id</th>\n",
       "      <th>created_at</th>\n",
       "      <th>updated_at</th>\n",
       "      <th>visibility_status</th>\n",
       "      <th>...</th>\n",
       "      <th>parent_id</th>\n",
       "      <th>tsv</th>\n",
       "      <th>date</th>\n",
       "      <th>link</th>\n",
       "      <th>short_description</th>\n",
       "      <th>geography</th>\n",
       "      <th>date_passed</th>\n",
       "      <th>last_change</th>\n",
       "      <th>legislation_type_humanize</th>\n",
       "      <th>geography_path</th>\n",
       "    </tr>\n",
       "  </thead>\n",
       "  <tbody>\n",
       "    <tr>\n",
       "      <th>0</th>\n",
       "      <td>0</td>\n",
       "      <td>9739</td>\n",
       "      <td>An EU Strategy to harness the potential of off...</td>\n",
       "      <td>&lt;div&gt;This communication from the Commission es...</td>\n",
       "      <td>None</td>\n",
       "      <td>an-eu-strategy-to-harness-the-potential-of-off...</td>\n",
       "      <td>59</td>\n",
       "      <td>2020-12-04T17:10:20.086Z</td>\n",
       "      <td>2020-12-04T17:18:40.050Z</td>\n",
       "      <td>published</td>\n",
       "      <td>...</td>\n",
       "      <td>NaN</td>\n",
       "      <td>'-400':75B '2050':40B '300':74B 'achiev':72B '...</td>\n",
       "      <td>2020-11-19</td>\n",
       "      <td>&lt;a href=\"/geographies/european-union/policies/...</td>\n",
       "      <td>This communication from the Commission establi...</td>\n",
       "      <td>{'id': 59, 'geography_type': 'supranational', ...</td>\n",
       "      <td>2020</td>\n",
       "      <td>None</td>\n",
       "      <td>Executive</td>\n",
       "      <td>/geographies/european-union</td>\n",
       "    </tr>\n",
       "    <tr>\n",
       "      <th>1</th>\n",
       "      <td>1</td>\n",
       "      <td>9734</td>\n",
       "      <td>Royal Decree 960/2020 regulating the economic ...</td>\n",
       "      <td>&lt;div&gt;This document sets the remuneration frame...</td>\n",
       "      <td>None</td>\n",
       "      <td>royal-decree-960-2020-regulating-the-economic-...</td>\n",
       "      <td>168</td>\n",
       "      <td>2020-11-16T15:58:40.307Z</td>\n",
       "      <td>2020-11-16T16:00:51.183Z</td>\n",
       "      <td>published</td>\n",
       "      <td>...</td>\n",
       "      <td>9468</td>\n",
       "      <td>'960/2020':3A 'base':43B 'call':31B 'de':40B '...</td>\n",
       "      <td>2020-11-03</td>\n",
       "      <td>&lt;a href=\"/geographies/spain/policies/royal-dec...</td>\n",
       "      <td>This document sets the remuneration framework ...</td>\n",
       "      <td>{'id': 168, 'geography_type': 'national', 'iso...</td>\n",
       "      <td>2020</td>\n",
       "      <td>None</td>\n",
       "      <td>Executive</td>\n",
       "      <td>/geographies/spain</td>\n",
       "    </tr>\n",
       "    <tr>\n",
       "      <th>2</th>\n",
       "      <td>2</td>\n",
       "      <td>9738</td>\n",
       "      <td>Law n ° 85-30 relating to the development and ...</td>\n",
       "      <td>&lt;div&gt;This law recognises the mountain as a set...</td>\n",
       "      <td>None</td>\n",
       "      <td>law-n-85-30-relating-to-the-development-and-pr...</td>\n",
       "      <td>62</td>\n",
       "      <td>2020-12-04T15:22:44.666Z</td>\n",
       "      <td>2020-12-04T15:22:44.666Z</td>\n",
       "      <td>published</td>\n",
       "      <td>...</td>\n",
       "      <td>NaN</td>\n",
       "      <td>'-1888':18A '-30':4A '2016':17A,77B '2020':92B...</td>\n",
       "      <td>2020-11-02</td>\n",
       "      <td>&lt;a href=\"/geographies/france/laws/law-n-85-30-...</td>\n",
       "      <td>This law recognises the mountain as a set of t...</td>\n",
       "      <td>{'id': 62, 'geography_type': 'national', 'iso'...</td>\n",
       "      <td>2016</td>\n",
       "      <td>November, 2020</td>\n",
       "      <td>Legislative</td>\n",
       "      <td>/geographies/france</td>\n",
       "    </tr>\n",
       "    <tr>\n",
       "      <th>3</th>\n",
       "      <td>3</td>\n",
       "      <td>9737</td>\n",
       "      <td>Plan to Control Illegal Deforestation and Reco...</td>\n",
       "      <td>&lt;div&gt;This plan aims to continuously and consis...</td>\n",
       "      <td>None</td>\n",
       "      <td>plan-to-control-illegal-deforestation-and-reco...</td>\n",
       "      <td>24</td>\n",
       "      <td>2020-11-17T13:43:31.244Z</td>\n",
       "      <td>2020-11-17T13:51:05.342Z</td>\n",
       "      <td>published</td>\n",
       "      <td>...</td>\n",
       "      <td>NaN</td>\n",
       "      <td>'aim':14B 'amazon':34B 'condit':24B 'consist':...</td>\n",
       "      <td>2020-10-25</td>\n",
       "      <td>&lt;a href=\"/geographies/brazil/policies/plan-to-...</td>\n",
       "      <td>This plan aims to continuously and consistentl...</td>\n",
       "      <td>{'id': 24, 'geography_type': 'national', 'iso'...</td>\n",
       "      <td>2004</td>\n",
       "      <td>October, 2020</td>\n",
       "      <td>Executive</td>\n",
       "      <td>/geographies/brazil</td>\n",
       "    </tr>\n",
       "    <tr>\n",
       "      <th>4</th>\n",
       "      <td>4</td>\n",
       "      <td>9740</td>\n",
       "      <td>Institutional Program of the National Institut...</td>\n",
       "      <td>&lt;div&gt;The agreement that creates the Institutio...</td>\n",
       "      <td>None</td>\n",
       "      <td>institutional-program-of-the-national-institut...</td>\n",
       "      <td>114</td>\n",
       "      <td>2020-12-04T17:29:29.757Z</td>\n",
       "      <td>2020-12-04T17:33:08.878Z</td>\n",
       "      <td>published</td>\n",
       "      <td>...</td>\n",
       "      <td>NaN</td>\n",
       "      <td>'-2024':13A,32B '2020':12A,31B 'administr':41B...</td>\n",
       "      <td>2020-10-16</td>\n",
       "      <td>&lt;a href=\"/geographies/mexico/policies/institut...</td>\n",
       "      <td>The agreement that creates the Institutional P...</td>\n",
       "      <td>{'id': 114, 'geography_type': 'national', 'iso...</td>\n",
       "      <td>2020</td>\n",
       "      <td>None</td>\n",
       "      <td>Executive</td>\n",
       "      <td>/geographies/mexico</td>\n",
       "    </tr>\n",
       "  </tbody>\n",
       "</table>\n",
       "<p>5 rows × 24 columns</p>\n",
       "</div>"
      ],
      "text/plain": [
       "   index    id                                              title  \\\n",
       "0      0  9739  An EU Strategy to harness the potential of off...   \n",
       "1      1  9734  Royal Decree 960/2020 regulating the economic ...   \n",
       "2      2  9738  Law n ° 85-30 relating to the development and ...   \n",
       "3      3  9737  Plan to Control Illegal Deforestation and Reco...   \n",
       "4      4  9740  Institutional Program of the National Institut...   \n",
       "\n",
       "                                         description law_id  \\\n",
       "0  <div>This communication from the Commission es...   None   \n",
       "1  <div>This document sets the remuneration frame...   None   \n",
       "2  <div>This law recognises the mountain as a set...   None   \n",
       "3  <div>This plan aims to continuously and consis...   None   \n",
       "4  <div>The agreement that creates the Institutio...   None   \n",
       "\n",
       "                                                slug  geography_id  \\\n",
       "0  an-eu-strategy-to-harness-the-potential-of-off...            59   \n",
       "1  royal-decree-960-2020-regulating-the-economic-...           168   \n",
       "2  law-n-85-30-relating-to-the-development-and-pr...            62   \n",
       "3  plan-to-control-illegal-deforestation-and-reco...            24   \n",
       "4  institutional-program-of-the-national-institut...           114   \n",
       "\n",
       "                 created_at                updated_at visibility_status  ...  \\\n",
       "0  2020-12-04T17:10:20.086Z  2020-12-04T17:18:40.050Z         published  ...   \n",
       "1  2020-11-16T15:58:40.307Z  2020-11-16T16:00:51.183Z         published  ...   \n",
       "2  2020-12-04T15:22:44.666Z  2020-12-04T15:22:44.666Z         published  ...   \n",
       "3  2020-11-17T13:43:31.244Z  2020-11-17T13:51:05.342Z         published  ...   \n",
       "4  2020-12-04T17:29:29.757Z  2020-12-04T17:33:08.878Z         published  ...   \n",
       "\n",
       "  parent_id                                                tsv        date  \\\n",
       "0       NaN  '-400':75B '2050':40B '300':74B 'achiev':72B '...  2020-11-19   \n",
       "1      9468  '960/2020':3A 'base':43B 'call':31B 'de':40B '...  2020-11-03   \n",
       "2       NaN  '-1888':18A '-30':4A '2016':17A,77B '2020':92B...  2020-11-02   \n",
       "3       NaN  'aim':14B 'amazon':34B 'condit':24B 'consist':...  2020-10-25   \n",
       "4       NaN  '-2024':13A,32B '2020':12A,31B 'administr':41B...  2020-10-16   \n",
       "\n",
       "                                                link  \\\n",
       "0  <a href=\"/geographies/european-union/policies/...   \n",
       "1  <a href=\"/geographies/spain/policies/royal-dec...   \n",
       "2  <a href=\"/geographies/france/laws/law-n-85-30-...   \n",
       "3  <a href=\"/geographies/brazil/policies/plan-to-...   \n",
       "4  <a href=\"/geographies/mexico/policies/institut...   \n",
       "\n",
       "                                   short_description  \\\n",
       "0  This communication from the Commission establi...   \n",
       "1  This document sets the remuneration framework ...   \n",
       "2  This law recognises the mountain as a set of t...   \n",
       "3  This plan aims to continuously and consistentl...   \n",
       "4  The agreement that creates the Institutional P...   \n",
       "\n",
       "                                           geography date_passed  \\\n",
       "0  {'id': 59, 'geography_type': 'supranational', ...        2020   \n",
       "1  {'id': 168, 'geography_type': 'national', 'iso...        2020   \n",
       "2  {'id': 62, 'geography_type': 'national', 'iso'...        2016   \n",
       "3  {'id': 24, 'geography_type': 'national', 'iso'...        2004   \n",
       "4  {'id': 114, 'geography_type': 'national', 'iso...        2020   \n",
       "\n",
       "      last_change legislation_type_humanize               geography_path  \n",
       "0            None                 Executive  /geographies/european-union  \n",
       "1            None                 Executive           /geographies/spain  \n",
       "2  November, 2020               Legislative          /geographies/france  \n",
       "3   October, 2020                 Executive          /geographies/brazil  \n",
       "4            None                 Executive          /geographies/mexico  \n",
       "\n",
       "[5 rows x 24 columns]"
      ]
     },
     "execution_count": 4,
     "metadata": {},
     "output_type": "execute_result"
    }
   ],
   "source": [
    "# Exploring dataset\n",
    "print(f\"Data shape: {climate_laws_df.shape}\")\n",
    "print(f\"Columns:\\n{climate_laws_df.columns}\")\n",
    "climate_laws_df.head()"
   ]
  },
  {
   "cell_type": "code",
   "execution_count": 5,
   "metadata": {},
   "outputs": [],
   "source": [
    "# Saving data to use later, instead of requesting from server\n",
    "os.makedirs(\"./climate_laws_data\", exist_ok=True)\n",
    "timestamp = datetime.now().strftime(\"%Y.%m.%d_%H.%M.%S\")\n",
    "\n",
    "climate_laws_df.to_excel(f\"./climate_laws_data/{timestamp}_climate_laws_data.xlsx\", index=False)"
   ]
  },
  {
   "cell_type": "markdown",
   "metadata": {},
   "source": [
    "### EDA and data cleaning"
   ]
  },
  {
   "cell_type": "code",
   "execution_count": 6,
   "metadata": {},
   "outputs": [
    {
     "name": "stderr",
     "output_type": "stream",
     "text": [
      "C:\\Users\\ZH834BT\\AppData\\Local\\Continuum\\anaconda3_python\\lib\\site-packages\\statsmodels\\tools\\_testing.py:19: FutureWarning: pandas.util.testing is deprecated. Use the functions in the public API at pandas.testing instead.\n",
      "  import pandas.util.testing as tm\n"
     ]
    }
   ],
   "source": [
    "import matplotlib.pyplot as plt\n",
    "import seaborn as sns"
   ]
  },
  {
   "cell_type": "code",
   "execution_count": 7,
   "metadata": {},
   "outputs": [
    {
     "data": {
      "image/png": "[encoded data removed]",
      "text/plain": [
       "<Figure size 432x288 with 1 Axes>"
      ]
     },
     "metadata": {
      "needs_background": "light"
     },
     "output_type": "display_data"
    }
   ],
   "source": [
    "# Types of legislation\n",
    "legislation_type_plot = sns.countplot(x=\"legislation_type_humanize\", data=climate_laws_df)\n",
    "plt.xlabel(\"Legislation type\")\n",
    "plt.show()"
   ]
  },
  {
   "cell_type": "code",
   "execution_count": 8,
   "metadata": {
    "scrolled": false
   },
   "outputs": [
    {
     "data": {
      "image/png": "[encoded data removed]",
      "text/plain": [
       "<Figure size 432x288 with 1 Axes>"
      ]
     },
     "metadata": {
      "needs_background": "light"
     },
     "output_type": "display_data"
    },
    {
     "name": "stdout",
     "output_type": "stream",
     "text": [
      "Year with maximum number of laws passed: \n"
     ]
    },
    {
     "data": {
      "text/html": [
       "<div>\n",
       "<style scoped>\n",
       "    .dataframe tbody tr th:only-of-type {\n",
       "        vertical-align: middle;\n",
       "    }\n",
       "\n",
       "    .dataframe tbody tr th {\n",
       "        vertical-align: top;\n",
       "    }\n",
       "\n",
       "    .dataframe thead th {\n",
       "        text-align: right;\n",
       "    }\n",
       "</style>\n",
       "<table border=\"1\" class=\"dataframe\">\n",
       "  <thead>\n",
       "    <tr style=\"text-align: right;\">\n",
       "      <th></th>\n",
       "      <th>date_passed</th>\n",
       "      <th>id</th>\n",
       "    </tr>\n",
       "  </thead>\n",
       "  <tbody>\n",
       "    <tr>\n",
       "      <th>44</th>\n",
       "      <td>2013</td>\n",
       "      <td>160</td>\n",
       "    </tr>\n",
       "  </tbody>\n",
       "</table>\n",
       "</div>"
      ],
      "text/plain": [
       "   date_passed   id\n",
       "44        2013  160"
      ]
     },
     "execution_count": 8,
     "metadata": {},
     "output_type": "execute_result"
    }
   ],
   "source": [
    "# Date passed - seeing the distribution of pass date of the laws\n",
    "date_passed_count_df = pd.DataFrame(pd.pivot_table(values=\"id\", index=\"date_passed\", aggfunc='count', data=climate_laws_df).to_records())\n",
    "date_passed_count_df.plot(x=\"date_passed\", ylabel=\"Number of climate laws passed\", xlabel=\"Year passed\")\n",
    "plt.show()\n",
    "\n",
    "print(\"Year with maximum number of laws passed: \")\n",
    "date_passed_count_df[date_passed_count_df[\"id\"] == date_passed_count_df[\"id\"].max()]"
   ]
  },
  {
   "cell_type": "markdown",
   "metadata": {},
   "source": [
    "#### Observations:\n",
    "The figure above is interesting. \n",
    "\n",
    "The number of laws passed started to skyrocket around 1999 and continue to rise until 2013, after which we see a marked decline.\n",
    "\n",
    "Additionally, we see that 2013 has the highest number of climate laws passed, it will be interesting to see which countries contribute to these? As well as which topics (topic modelling will come later)"
   ]
  },
  {
   "cell_type": "markdown",
   "metadata": {},
   "source": [
    "## Provisional research question:\n",
    "\n",
    "\"What factors explain the presence of climate laws in a given year?\""
   ]
  },
  {
   "cell_type": "code",
   "execution_count": 9,
   "metadata": {},
   "outputs": [],
   "source": [
    "# Extracting country name from geography column\n",
    "def extract_country_name(df):\n",
    "    return df[\"geography\"][\"name\"]\n",
    "climate_laws_df.loc[:, \"country_name\"] = climate_laws_df.apply(lambda x: extract_country_name(x), axis=1)"
   ]
  },
  {
   "cell_type": "code",
   "execution_count": 10,
   "metadata": {},
   "outputs": [],
   "source": [
    "# Investigating which countries pass to the Climate laws in 2013\n",
    "def country_laws_year_passed(year=2013):\n",
    "    count_df = pd.DataFrame(pd.pivot_table(values=\"id\", index=\"country_name\", aggfunc=\"count\",\n",
    "                                          data=climate_laws_df[climate_laws_df[\"date_passed\"]==str(year)]).to_records())\n",
    "    return count_df"
   ]
  },
  {
   "cell_type": "code",
   "execution_count": 11,
   "metadata": {},
   "outputs": [
    {
     "data": {
      "text/html": [
       "<div>\n",
       "<style scoped>\n",
       "    .dataframe tbody tr th:only-of-type {\n",
       "        vertical-align: middle;\n",
       "    }\n",
       "\n",
       "    .dataframe tbody tr th {\n",
       "        vertical-align: top;\n",
       "    }\n",
       "\n",
       "    .dataframe thead th {\n",
       "        text-align: right;\n",
       "    }\n",
       "</style>\n",
       "<table border=\"1\" class=\"dataframe\">\n",
       "  <thead>\n",
       "    <tr style=\"text-align: right;\">\n",
       "      <th></th>\n",
       "      <th>country_name</th>\n",
       "      <th>id</th>\n",
       "    </tr>\n",
       "  </thead>\n",
       "  <tbody>\n",
       "    <tr>\n",
       "      <th>81</th>\n",
       "      <td>Spain</td>\n",
       "      <td>8</td>\n",
       "    </tr>\n",
       "    <tr>\n",
       "      <th>31</th>\n",
       "      <td>European Union</td>\n",
       "      <td>5</td>\n",
       "    </tr>\n",
       "    <tr>\n",
       "      <th>15</th>\n",
       "      <td>Burkina Faso</td>\n",
       "      <td>5</td>\n",
       "    </tr>\n",
       "    <tr>\n",
       "      <th>12</th>\n",
       "      <td>Brazil</td>\n",
       "      <td>5</td>\n",
       "    </tr>\n",
       "    <tr>\n",
       "      <th>18</th>\n",
       "      <td>Chile</td>\n",
       "      <td>4</td>\n",
       "    </tr>\n",
       "  </tbody>\n",
       "</table>\n",
       "</div>"
      ],
      "text/plain": [
       "      country_name  id\n",
       "81           Spain   8\n",
       "31  European Union   5\n",
       "15    Burkina Faso   5\n",
       "12          Brazil   5\n",
       "18           Chile   4"
      ]
     },
     "execution_count": 11,
     "metadata": {},
     "output_type": "execute_result"
    }
   ],
   "source": [
    "# Seeing the Top five countries passing highest number of climate laws in 2013\n",
    "country_laws_year_passed(year=2013).sort_values(\"id\", ascending=False).head()"
   ]
  },
  {
   "cell_type": "code",
   "execution_count": 12,
   "metadata": {
    "scrolled": true
   },
   "outputs": [
    {
     "name": "stdout",
     "output_type": "stream",
     "text": [
      "// Burkina Faso - 2013: //\n",
      "National multi-risk plan for disaster preparedness and response\n",
      "Decree no. 2013-325 (establishing the mission of a national entity responding to climate change)\n",
      "Law no. 006-2013 (on the Code for the Environment)\n",
      "Decree no. 2013-151 (on the National Council for the Environment and Sustainable Development)\n",
      "Law of finance 2013 relative to the deletion of customs charges on equipments and material of solar energy\n"
     ]
    }
   ],
   "source": [
    "# I've found it a bit surprising to see Burkina Faso on this list, let's investigate which laws were passed\n",
    "# Helper function\n",
    "def print_laws_title_country_year(country, year):\n",
    "    print(f\"// {country} - {str(year)}: //\")\n",
    "    for item in climate_laws_df[(climate_laws_df[\"country_name\"]==country) & \n",
    "                    (climate_laws_df[\"date_passed\"]==str(year))][\"title\"]:\n",
    "        print(item)\n",
    "\n",
    "print_laws_title_country_year(\"Burkina Faso\", 2013)"
   ]
  },
  {
   "cell_type": "code",
   "execution_count": 13,
   "metadata": {},
   "outputs": [
    {
     "name": "stdout",
     "output_type": "stream",
     "text": [
      "Maximum number of climate laws passed by country/region in a year:\n",
      "id    9\n",
      "Name: (2009, European Union), dtype: int64\n"
     ]
    }
   ],
   "source": [
    "# Finding out which country/region passes the maximum number of climate laws within a year\n",
    "_ = pd.DataFrame(pd.pivot_table(values=\"id\", index=[\"date_passed\", \"country_name\"], aggfunc=\"count\", data=climate_laws_df))\n",
    "\n",
    "# Print out result\n",
    "print(f\"Maximum number of climate laws passed by country/region in a year:\\n{_.iloc[_.id.argmax(), :]}\")"
   ]
  },
  {
   "cell_type": "markdown",
   "metadata": {},
   "source": [
    "9 climate laws were passed by the European Union in 2009. Let's see what they are "
   ]
  },
  {
   "cell_type": "code",
   "execution_count": 14,
   "metadata": {},
   "outputs": [
    {
     "name": "stdout",
     "output_type": "stream",
     "text": [
      "Clean and energy-efficient road transport vehicles (Directive 2009/33/EC on the promotion of clean road transport vehicles in support of low-emission mobility) \n",
      "\n",
      "Revision of the EU Emission Trading System (EU ETS) (Directive 2009/29/EC amending Directive 2003/87/EC so as to improve and extend the greenhouse gas emission allowance trading scheme of the Community) \n",
      "\n",
      "Fuel Quality (Directives 2009/30/EC and 2015/1513 amending Directive 98/70/EC as regards the specification of petrol, diesel and gas-oil and introducing a mechanism to monitor and reduce GHG emissions and amending Council Directive 1999/32/EC as regards the specification of fuel used by inland waterway vessels and repealing Directive 93/12/EEC) \n",
      "\n",
      "Emission performance standards for new passenger cars (Regulation (EC) No. 443/2009 setting emission performance standards for new passenger cars as part of the Community's integrated approach to reduce CO2 emissions from light-duty vehicles) \n",
      "\n",
      "2020 Climate and Energy Package (contains Directive 2009/29/EC, Directive 2009/28/EC, Directive 2009/31/EC and Decision No. 406/2009/EC of the Parliament and the Council ; see below) \n",
      "\n",
      "Third Energy Package (Directive on electricity 2009/72/EC, repealing Directive 2003/54/EC and Directive on gas 2009/73/EC, repealing Directive 2003/55/EC) \n",
      "\n",
      "Regulation No 1222/2009 on the labelling of tyres with respect to fuel efficiency and other essential parameters \n",
      "\n",
      "Geological storage of carbon dioxide (Directive 2009/31/EC on the geological storage of carbon dioxide and amending Council Directive 85/337/EEC, European Parliament and Council Directives 2000/60/EC, 2001/80/EC, 2004/35/EC, 2006/12/EC, 2008/1/EC and Regulation (EC) No 1013/2006) \n",
      "\n",
      "Effort Sharing Decision (Decision No. 406/2009/EC on the effort of Member States to reduce their greenhouse gas emissions to meet the Community's greenhouse gas emission reduction commitments up to 2020) \n",
      "\n"
     ]
    }
   ],
   "source": [
    "# 9 laws passed by the EU in 2009\n",
    "for law in climate_laws_df[(climate_laws_df[\"date_passed\"]==\"2009\") & (climate_laws_df[\"country_name\"]==\"European Union\")][\"title\"]:\n",
    "    print(law, '\\n')"
   ]
  },
  {
   "cell_type": "markdown",
   "metadata": {},
   "source": [
    "#### Observation:\n",
    "\n",
    "Upon further observations, I noticed that the \"geography\" column contains a lot of useful information, such as the country's World Bank Income Group, Climate Risk index, Percent of Global Emissions, etc. It will be very useful to bring these information into the columns of the main DataFrame."
   ]
  },
  {
   "cell_type": "code",
   "execution_count": 15,
   "metadata": {},
   "outputs": [],
   "source": [
    "# Enriching data with more useful information from \"geography column\"\n",
    "def percent_global_emissions(df):\n",
    "    return df[\"geography\"][\"percent_global_emissions\"]\n",
    "\n",
    "def climate_risk_index(df):\n",
    "    return df[\"geography\"][\"climate_risk_index\"]\n",
    "\n",
    "def wb_income_group(df):\n",
    "    return df[\"geography\"][\"wb_income_group\"]\n",
    "\n",
    "def eu_member_ind(df):\n",
    "    return df[\"geography\"][\"eu_member\"]\n",
    "\n",
    "def visibility_status(df):\n",
    "    return df[\"geography\"][\"visibility_status\"]\n",
    "\n",
    "def law_discarded_at(df):\n",
    "    return df[\"geography\"][\"discarded_at\"]\n",
    "\n",
    "def federal_ind(df):\n",
    "    return df[\"geography\"][\"federal\"]\n",
    "\n",
    "def legislative_process(df):\n",
    "    return df[\"geography\"][\"legislative_process\"]\n",
    "\n",
    "# Adding columns\n",
    "for func, name in zip([percent_global_emissions, climate_risk_index, wb_income_group, eu_member_ind, visibility_status, law_discarded_at, federal_ind, legislative_process],\n",
    "                     [\"percent_global_emissions\", \"climate_risk_index\", \"wb_income_group\", \"eu_member_ind\", \"visibility_status\", \"law_discarded_at\", \"federal_ind\", \"legislative_process\"]):\n",
    "    climate_laws_df.loc[:, name] = climate_laws_df.apply(lambda x: func(x), axis=1)"
   ]
  },
  {
   "cell_type": "code",
   "execution_count": 16,
   "metadata": {},
   "outputs": [
    {
     "data": {
      "text/html": [
       "<div>\n",
       "<style scoped>\n",
       "    .dataframe tbody tr th:only-of-type {\n",
       "        vertical-align: middle;\n",
       "    }\n",
       "\n",
       "    .dataframe tbody tr th {\n",
       "        vertical-align: top;\n",
       "    }\n",
       "\n",
       "    .dataframe thead th {\n",
       "        text-align: right;\n",
       "    }\n",
       "</style>\n",
       "<table border=\"1\" class=\"dataframe\">\n",
       "  <thead>\n",
       "    <tr style=\"text-align: right;\">\n",
       "      <th></th>\n",
       "      <th>wb_income_group</th>\n",
       "      <th>id</th>\n",
       "    </tr>\n",
       "  </thead>\n",
       "  <tbody>\n",
       "    <tr>\n",
       "      <th>0</th>\n",
       "      <td></td>\n",
       "      <td>4</td>\n",
       "    </tr>\n",
       "    <tr>\n",
       "      <th>1</th>\n",
       "      <td>High income</td>\n",
       "      <td>736</td>\n",
       "    </tr>\n",
       "    <tr>\n",
       "      <th>2</th>\n",
       "      <td>Low income</td>\n",
       "      <td>237</td>\n",
       "    </tr>\n",
       "    <tr>\n",
       "      <th>3</th>\n",
       "      <td>Lower middle income</td>\n",
       "      <td>499</td>\n",
       "    </tr>\n",
       "    <tr>\n",
       "      <th>4</th>\n",
       "      <td>Upper middle income</td>\n",
       "      <td>527</td>\n",
       "    </tr>\n",
       "  </tbody>\n",
       "</table>\n",
       "</div>"
      ],
      "text/plain": [
       "       wb_income_group   id\n",
       "0                         4\n",
       "1          High income  736\n",
       "2           Low income  237\n",
       "3  Lower middle income  499\n",
       "4  Upper middle income  527"
      ]
     },
     "execution_count": 16,
     "metadata": {},
     "output_type": "execute_result"
    }
   ],
   "source": [
    "# Seeing number of laws passed per WB Income Group\n",
    "pd.DataFrame(pd.pivot_table(values=\"id\", index=\"wb_income_group\", aggfunc=\"count\", data=climate_laws_df.dropna(subset=[\"wb_income_group\"])).to_records())"
   ]
  },
  {
   "cell_type": "markdown",
   "metadata": {},
   "source": [
    "**Observation**\n",
    "\n",
    "Middle income countries are most active at issuing climate laws"
   ]
  },
  {
   "cell_type": "code",
   "execution_count": 17,
   "metadata": {},
   "outputs": [],
   "source": [
    "# Saving this expanded dataset\n",
    "timestamp = datetime.now().strftime(\"%Y.%m.%d_%H.%M.%S\")\n",
    "climate_laws_df.to_excel(f\"./climate_laws_data/{timestamp}_climate_laws_data_expanded.xlsx\", index=False)"
   ]
  },
  {
   "cell_type": "markdown",
   "metadata": {},
   "source": [
    "#### Exploring this expanded dataset "
   ]
  },
  {
   "cell_type": "code",
   "execution_count": 18,
   "metadata": {
    "scrolled": false
   },
   "outputs": [
    {
     "data": {
      "text/html": [
       "<div>\n",
       "<style scoped>\n",
       "    .dataframe tbody tr th:only-of-type {\n",
       "        vertical-align: middle;\n",
       "    }\n",
       "\n",
       "    .dataframe tbody tr th {\n",
       "        vertical-align: top;\n",
       "    }\n",
       "\n",
       "    .dataframe thead th {\n",
       "        text-align: right;\n",
       "    }\n",
       "</style>\n",
       "<table border=\"1\" class=\"dataframe\">\n",
       "  <thead>\n",
       "    <tr style=\"text-align: right;\">\n",
       "      <th></th>\n",
       "      <th>index</th>\n",
       "      <th>id</th>\n",
       "      <th>title</th>\n",
       "      <th>description</th>\n",
       "      <th>law_id</th>\n",
       "      <th>slug</th>\n",
       "      <th>geography_id</th>\n",
       "      <th>created_at</th>\n",
       "      <th>updated_at</th>\n",
       "      <th>visibility_status</th>\n",
       "      <th>...</th>\n",
       "      <th>legislation_type_humanize</th>\n",
       "      <th>geography_path</th>\n",
       "      <th>country_name</th>\n",
       "      <th>percent_global_emissions</th>\n",
       "      <th>climate_risk_index</th>\n",
       "      <th>wb_income_group</th>\n",
       "      <th>eu_member_ind</th>\n",
       "      <th>law_discarded_at</th>\n",
       "      <th>federal_ind</th>\n",
       "      <th>legislative_process</th>\n",
       "    </tr>\n",
       "  </thead>\n",
       "  <tbody>\n",
       "    <tr>\n",
       "      <th>0</th>\n",
       "      <td>0</td>\n",
       "      <td>9739</td>\n",
       "      <td>An EU Strategy to harness the potential of off...</td>\n",
       "      <td>&lt;div&gt;This communication from the Commission es...</td>\n",
       "      <td>None</td>\n",
       "      <td>an-eu-strategy-to-harness-the-potential-of-off...</td>\n",
       "      <td>59</td>\n",
       "      <td>2020-12-04T17:10:20.086Z</td>\n",
       "      <td>2020-12-04T17:18:40.050Z</td>\n",
       "      <td>published</td>\n",
       "      <td>...</td>\n",
       "      <td>Executive</td>\n",
       "      <td>/geographies/european-union</td>\n",
       "      <td>European Union</td>\n",
       "      <td>None</td>\n",
       "      <td>None</td>\n",
       "      <td>None</td>\n",
       "      <td>False</td>\n",
       "      <td>None</td>\n",
       "      <td>True</td>\n",
       "      <td>&lt;p style=\"text-align: justify;\"&gt;The legislativ...</td>\n",
       "    </tr>\n",
       "    <tr>\n",
       "      <th>1</th>\n",
       "      <td>1</td>\n",
       "      <td>9734</td>\n",
       "      <td>Royal Decree 960/2020 regulating the economic ...</td>\n",
       "      <td>&lt;div&gt;This document sets the remuneration frame...</td>\n",
       "      <td>None</td>\n",
       "      <td>royal-decree-960-2020-regulating-the-economic-...</td>\n",
       "      <td>168</td>\n",
       "      <td>2020-11-16T15:58:40.307Z</td>\n",
       "      <td>2020-11-16T16:00:51.183Z</td>\n",
       "      <td>published</td>\n",
       "      <td>...</td>\n",
       "      <td>Executive</td>\n",
       "      <td>/geographies/spain</td>\n",
       "      <td>Spain</td>\n",
       "      <td>0.6</td>\n",
       "      <td>47.33</td>\n",
       "      <td>High income</td>\n",
       "      <td>True</td>\n",
       "      <td>None</td>\n",
       "      <td>False</td>\n",
       "      <td>&lt;p style=\"text-align: justify;\"&gt;Spain is a Par...</td>\n",
       "    </tr>\n",
       "    <tr>\n",
       "      <th>2</th>\n",
       "      <td>2</td>\n",
       "      <td>9738</td>\n",
       "      <td>Law n ° 85-30 relating to the development and ...</td>\n",
       "      <td>&lt;div&gt;This law recognises the mountain as a set...</td>\n",
       "      <td>None</td>\n",
       "      <td>law-n-85-30-relating-to-the-development-and-pr...</td>\n",
       "      <td>62</td>\n",
       "      <td>2020-12-04T15:22:44.666Z</td>\n",
       "      <td>2020-12-04T15:22:44.666Z</td>\n",
       "      <td>published</td>\n",
       "      <td>...</td>\n",
       "      <td>Legislative</td>\n",
       "      <td>/geographies/france</td>\n",
       "      <td>France</td>\n",
       "      <td>0.69</td>\n",
       "      <td>38</td>\n",
       "      <td>High income</td>\n",
       "      <td>True</td>\n",
       "      <td>None</td>\n",
       "      <td>False</td>\n",
       "      <td>&lt;p style=\"text-align: justify;\"&gt;France has a b...</td>\n",
       "    </tr>\n",
       "    <tr>\n",
       "      <th>3</th>\n",
       "      <td>3</td>\n",
       "      <td>9737</td>\n",
       "      <td>Plan to Control Illegal Deforestation and Reco...</td>\n",
       "      <td>&lt;div&gt;This plan aims to continuously and consis...</td>\n",
       "      <td>None</td>\n",
       "      <td>plan-to-control-illegal-deforestation-and-reco...</td>\n",
       "      <td>24</td>\n",
       "      <td>2020-11-17T13:43:31.244Z</td>\n",
       "      <td>2020-11-17T13:51:05.342Z</td>\n",
       "      <td>published</td>\n",
       "      <td>...</td>\n",
       "      <td>Executive</td>\n",
       "      <td>/geographies/brazil</td>\n",
       "      <td>Brazil</td>\n",
       "      <td>2.9</td>\n",
       "      <td>83.17</td>\n",
       "      <td>Upper middle income</td>\n",
       "      <td>False</td>\n",
       "      <td>None</td>\n",
       "      <td>True</td>\n",
       "      <td>&lt;p style=\"text-align: justify;\"&gt;Brazil’s legis...</td>\n",
       "    </tr>\n",
       "    <tr>\n",
       "      <th>4</th>\n",
       "      <td>4</td>\n",
       "      <td>9740</td>\n",
       "      <td>Institutional Program of the National Institut...</td>\n",
       "      <td>&lt;div&gt;The agreement that creates the Institutio...</td>\n",
       "      <td>None</td>\n",
       "      <td>institutional-program-of-the-national-institut...</td>\n",
       "      <td>114</td>\n",
       "      <td>2020-12-04T17:29:29.757Z</td>\n",
       "      <td>2020-12-04T17:33:08.878Z</td>\n",
       "      <td>published</td>\n",
       "      <td>...</td>\n",
       "      <td>Executive</td>\n",
       "      <td>/geographies/mexico</td>\n",
       "      <td>Mexico</td>\n",
       "      <td>1.45</td>\n",
       "      <td>61.83</td>\n",
       "      <td>Upper middle income</td>\n",
       "      <td>False</td>\n",
       "      <td>None</td>\n",
       "      <td>True</td>\n",
       "      <td>&lt;div&gt;The United Mexican States (Mexico) has a ...</td>\n",
       "    </tr>\n",
       "  </tbody>\n",
       "</table>\n",
       "<p>5 rows × 32 columns</p>\n",
       "</div>"
      ],
      "text/plain": [
       "   index    id                                              title  \\\n",
       "0      0  9739  An EU Strategy to harness the potential of off...   \n",
       "1      1  9734  Royal Decree 960/2020 regulating the economic ...   \n",
       "2      2  9738  Law n ° 85-30 relating to the development and ...   \n",
       "3      3  9737  Plan to Control Illegal Deforestation and Reco...   \n",
       "4      4  9740  Institutional Program of the National Institut...   \n",
       "\n",
       "                                         description law_id  \\\n",
       "0  <div>This communication from the Commission es...   None   \n",
       "1  <div>This document sets the remuneration frame...   None   \n",
       "2  <div>This law recognises the mountain as a set...   None   \n",
       "3  <div>This plan aims to continuously and consis...   None   \n",
       "4  <div>The agreement that creates the Institutio...   None   \n",
       "\n",
       "                                                slug  geography_id  \\\n",
       "0  an-eu-strategy-to-harness-the-potential-of-off...            59   \n",
       "1  royal-decree-960-2020-regulating-the-economic-...           168   \n",
       "2  law-n-85-30-relating-to-the-development-and-pr...            62   \n",
       "3  plan-to-control-illegal-deforestation-and-reco...            24   \n",
       "4  institutional-program-of-the-national-institut...           114   \n",
       "\n",
       "                 created_at                updated_at visibility_status  ...  \\\n",
       "0  2020-12-04T17:10:20.086Z  2020-12-04T17:18:40.050Z         published  ...   \n",
       "1  2020-11-16T15:58:40.307Z  2020-11-16T16:00:51.183Z         published  ...   \n",
       "2  2020-12-04T15:22:44.666Z  2020-12-04T15:22:44.666Z         published  ...   \n",
       "3  2020-11-17T13:43:31.244Z  2020-11-17T13:51:05.342Z         published  ...   \n",
       "4  2020-12-04T17:29:29.757Z  2020-12-04T17:33:08.878Z         published  ...   \n",
       "\n",
       "  legislation_type_humanize               geography_path    country_name  \\\n",
       "0                 Executive  /geographies/european-union  European Union   \n",
       "1                 Executive           /geographies/spain           Spain   \n",
       "2               Legislative          /geographies/france          France   \n",
       "3                 Executive          /geographies/brazil          Brazil   \n",
       "4                 Executive          /geographies/mexico          Mexico   \n",
       "\n",
       "  percent_global_emissions climate_risk_index      wb_income_group  \\\n",
       "0                     None               None                 None   \n",
       "1                      0.6              47.33          High income   \n",
       "2                     0.69                 38          High income   \n",
       "3                      2.9              83.17  Upper middle income   \n",
       "4                     1.45              61.83  Upper middle income   \n",
       "\n",
       "  eu_member_ind law_discarded_at federal_ind  \\\n",
       "0         False             None        True   \n",
       "1          True             None       False   \n",
       "2          True             None       False   \n",
       "3         False             None        True   \n",
       "4         False             None        True   \n",
       "\n",
       "                                 legislative_process  \n",
       "0  <p style=\"text-align: justify;\">The legislativ...  \n",
       "1  <p style=\"text-align: justify;\">Spain is a Par...  \n",
       "2  <p style=\"text-align: justify;\">France has a b...  \n",
       "3  <p style=\"text-align: justify;\">Brazil’s legis...  \n",
       "4  <div>The United Mexican States (Mexico) has a ...  \n",
       "\n",
       "[5 rows x 32 columns]"
      ]
     },
     "execution_count": 18,
     "metadata": {},
     "output_type": "execute_result"
    }
   ],
   "source": [
    "climate_laws_df.head()"
   ]
  },
  {
   "cell_type": "code",
   "execution_count": 19,
   "metadata": {},
   "outputs": [
    {
     "data": {
      "text/plain": [
       "Index(['index', 'id', 'title', 'description', 'law_id', 'slug', 'geography_id',\n",
       "       'created_at', 'updated_at', 'visibility_status', 'created_by_id',\n",
       "       'updated_by_id', 'discarded_at', 'legislation_type', 'parent_id', 'tsv',\n",
       "       'date', 'link', 'short_description', 'geography', 'date_passed',\n",
       "       'last_change', 'legislation_type_humanize', 'geography_path',\n",
       "       'country_name', 'percent_global_emissions', 'climate_risk_index',\n",
       "       'wb_income_group', 'eu_member_ind', 'law_discarded_at', 'federal_ind',\n",
       "       'legislative_process'],\n",
       "      dtype='object')"
      ]
     },
     "execution_count": 19,
     "metadata": {},
     "output_type": "execute_result"
    }
   ],
   "source": [
    "climate_laws_df.columns"
   ]
  },
  {
   "cell_type": "code",
   "execution_count": 20,
   "metadata": {
    "scrolled": true
   },
   "outputs": [
    {
     "data": {
      "text/html": [
       "<div>\n",
       "<style scoped>\n",
       "    .dataframe tbody tr th:only-of-type {\n",
       "        vertical-align: middle;\n",
       "    }\n",
       "\n",
       "    .dataframe tbody tr th {\n",
       "        vertical-align: top;\n",
       "    }\n",
       "\n",
       "    .dataframe thead th {\n",
       "        text-align: right;\n",
       "    }\n",
       "</style>\n",
       "<table border=\"1\" class=\"dataframe\">\n",
       "  <thead>\n",
       "    <tr style=\"text-align: right;\">\n",
       "      <th></th>\n",
       "      <th>index</th>\n",
       "      <th>id</th>\n",
       "      <th>title</th>\n",
       "      <th>description</th>\n",
       "      <th>law_id</th>\n",
       "      <th>slug</th>\n",
       "      <th>geography_id</th>\n",
       "      <th>created_at</th>\n",
       "      <th>updated_at</th>\n",
       "      <th>visibility_status</th>\n",
       "      <th>...</th>\n",
       "      <th>legislation_type_humanize</th>\n",
       "      <th>geography_path</th>\n",
       "      <th>country_name</th>\n",
       "      <th>percent_global_emissions</th>\n",
       "      <th>climate_risk_index</th>\n",
       "      <th>wb_income_group</th>\n",
       "      <th>eu_member_ind</th>\n",
       "      <th>law_discarded_at</th>\n",
       "      <th>federal_ind</th>\n",
       "      <th>legislative_process</th>\n",
       "    </tr>\n",
       "  </thead>\n",
       "  <tbody>\n",
       "    <tr>\n",
       "      <th>0</th>\n",
       "      <td>0</td>\n",
       "      <td>9739</td>\n",
       "      <td>An EU Strategy to harness the potential of off...</td>\n",
       "      <td>&lt;div&gt;This communication from the Commission es...</td>\n",
       "      <td>None</td>\n",
       "      <td>an-eu-strategy-to-harness-the-potential-of-off...</td>\n",
       "      <td>59</td>\n",
       "      <td>2020-12-04T17:10:20.086Z</td>\n",
       "      <td>2020-12-04T17:18:40.050Z</td>\n",
       "      <td>published</td>\n",
       "      <td>...</td>\n",
       "      <td>Executive</td>\n",
       "      <td>/geographies/european-union</td>\n",
       "      <td>European Union</td>\n",
       "      <td>None</td>\n",
       "      <td>None</td>\n",
       "      <td>None</td>\n",
       "      <td>False</td>\n",
       "      <td>None</td>\n",
       "      <td>True</td>\n",
       "      <td>&lt;p style=\"text-align: justify;\"&gt;The legislativ...</td>\n",
       "    </tr>\n",
       "    <tr>\n",
       "      <th>1</th>\n",
       "      <td>1</td>\n",
       "      <td>9734</td>\n",
       "      <td>Royal Decree 960/2020 regulating the economic ...</td>\n",
       "      <td>&lt;div&gt;This document sets the remuneration frame...</td>\n",
       "      <td>None</td>\n",
       "      <td>royal-decree-960-2020-regulating-the-economic-...</td>\n",
       "      <td>168</td>\n",
       "      <td>2020-11-16T15:58:40.307Z</td>\n",
       "      <td>2020-11-16T16:00:51.183Z</td>\n",
       "      <td>published</td>\n",
       "      <td>...</td>\n",
       "      <td>Executive</td>\n",
       "      <td>/geographies/spain</td>\n",
       "      <td>Spain</td>\n",
       "      <td>0.6</td>\n",
       "      <td>47.33</td>\n",
       "      <td>High income</td>\n",
       "      <td>True</td>\n",
       "      <td>None</td>\n",
       "      <td>False</td>\n",
       "      <td>&lt;p style=\"text-align: justify;\"&gt;Spain is a Par...</td>\n",
       "    </tr>\n",
       "    <tr>\n",
       "      <th>2</th>\n",
       "      <td>2</td>\n",
       "      <td>9738</td>\n",
       "      <td>Law n ° 85-30 relating to the development and ...</td>\n",
       "      <td>&lt;div&gt;This law recognises the mountain as a set...</td>\n",
       "      <td>None</td>\n",
       "      <td>law-n-85-30-relating-to-the-development-and-pr...</td>\n",
       "      <td>62</td>\n",
       "      <td>2020-12-04T15:22:44.666Z</td>\n",
       "      <td>2020-12-04T15:22:44.666Z</td>\n",
       "      <td>published</td>\n",
       "      <td>...</td>\n",
       "      <td>Legislative</td>\n",
       "      <td>/geographies/france</td>\n",
       "      <td>France</td>\n",
       "      <td>0.69</td>\n",
       "      <td>38</td>\n",
       "      <td>High income</td>\n",
       "      <td>True</td>\n",
       "      <td>None</td>\n",
       "      <td>False</td>\n",
       "      <td>&lt;p style=\"text-align: justify;\"&gt;France has a b...</td>\n",
       "    </tr>\n",
       "    <tr>\n",
       "      <th>3</th>\n",
       "      <td>3</td>\n",
       "      <td>9737</td>\n",
       "      <td>Plan to Control Illegal Deforestation and Reco...</td>\n",
       "      <td>&lt;div&gt;This plan aims to continuously and consis...</td>\n",
       "      <td>None</td>\n",
       "      <td>plan-to-control-illegal-deforestation-and-reco...</td>\n",
       "      <td>24</td>\n",
       "      <td>2020-11-17T13:43:31.244Z</td>\n",
       "      <td>2020-11-17T13:51:05.342Z</td>\n",
       "      <td>published</td>\n",
       "      <td>...</td>\n",
       "      <td>Executive</td>\n",
       "      <td>/geographies/brazil</td>\n",
       "      <td>Brazil</td>\n",
       "      <td>2.9</td>\n",
       "      <td>83.17</td>\n",
       "      <td>Upper middle income</td>\n",
       "      <td>False</td>\n",
       "      <td>None</td>\n",
       "      <td>True</td>\n",
       "      <td>&lt;p style=\"text-align: justify;\"&gt;Brazil’s legis...</td>\n",
       "    </tr>\n",
       "    <tr>\n",
       "      <th>4</th>\n",
       "      <td>4</td>\n",
       "      <td>9740</td>\n",
       "      <td>Institutional Program of the National Institut...</td>\n",
       "      <td>&lt;div&gt;The agreement that creates the Institutio...</td>\n",
       "      <td>None</td>\n",
       "      <td>institutional-program-of-the-national-institut...</td>\n",
       "      <td>114</td>\n",
       "      <td>2020-12-04T17:29:29.757Z</td>\n",
       "      <td>2020-12-04T17:33:08.878Z</td>\n",
       "      <td>published</td>\n",
       "      <td>...</td>\n",
       "      <td>Executive</td>\n",
       "      <td>/geographies/mexico</td>\n",
       "      <td>Mexico</td>\n",
       "      <td>1.45</td>\n",
       "      <td>61.83</td>\n",
       "      <td>Upper middle income</td>\n",
       "      <td>False</td>\n",
       "      <td>None</td>\n",
       "      <td>True</td>\n",
       "      <td>&lt;div&gt;The United Mexican States (Mexico) has a ...</td>\n",
       "    </tr>\n",
       "  </tbody>\n",
       "</table>\n",
       "<p>5 rows × 32 columns</p>\n",
       "</div>"
      ],
      "text/plain": [
       "   index    id                                              title  \\\n",
       "0      0  9739  An EU Strategy to harness the potential of off...   \n",
       "1      1  9734  Royal Decree 960/2020 regulating the economic ...   \n",
       "2      2  9738  Law n ° 85-30 relating to the development and ...   \n",
       "3      3  9737  Plan to Control Illegal Deforestation and Reco...   \n",
       "4      4  9740  Institutional Program of the National Institut...   \n",
       "\n",
       "                                         description law_id  \\\n",
       "0  <div>This communication from the Commission es...   None   \n",
       "1  <div>This document sets the remuneration frame...   None   \n",
       "2  <div>This law recognises the mountain as a set...   None   \n",
       "3  <div>This plan aims to continuously and consis...   None   \n",
       "4  <div>The agreement that creates the Institutio...   None   \n",
       "\n",
       "                                                slug  geography_id  \\\n",
       "0  an-eu-strategy-to-harness-the-potential-of-off...            59   \n",
       "1  royal-decree-960-2020-regulating-the-economic-...           168   \n",
       "2  law-n-85-30-relating-to-the-development-and-pr...            62   \n",
       "3  plan-to-control-illegal-deforestation-and-reco...            24   \n",
       "4  institutional-program-of-the-national-institut...           114   \n",
       "\n",
       "                 created_at                updated_at visibility_status  ...  \\\n",
       "0  2020-12-04T17:10:20.086Z  2020-12-04T17:18:40.050Z         published  ...   \n",
       "1  2020-11-16T15:58:40.307Z  2020-11-16T16:00:51.183Z         published  ...   \n",
       "2  2020-12-04T15:22:44.666Z  2020-12-04T15:22:44.666Z         published  ...   \n",
       "3  2020-11-17T13:43:31.244Z  2020-11-17T13:51:05.342Z         published  ...   \n",
       "4  2020-12-04T17:29:29.757Z  2020-12-04T17:33:08.878Z         published  ...   \n",
       "\n",
       "  legislation_type_humanize               geography_path    country_name  \\\n",
       "0                 Executive  /geographies/european-union  European Union   \n",
       "1                 Executive           /geographies/spain           Spain   \n",
       "2               Legislative          /geographies/france          France   \n",
       "3                 Executive          /geographies/brazil          Brazil   \n",
       "4                 Executive          /geographies/mexico          Mexico   \n",
       "\n",
       "  percent_global_emissions climate_risk_index      wb_income_group  \\\n",
       "0                     None               None                 None   \n",
       "1                      0.6              47.33          High income   \n",
       "2                     0.69                 38          High income   \n",
       "3                      2.9              83.17  Upper middle income   \n",
       "4                     1.45              61.83  Upper middle income   \n",
       "\n",
       "  eu_member_ind law_discarded_at federal_ind  \\\n",
       "0         False             None        True   \n",
       "1          True             None       False   \n",
       "2          True             None       False   \n",
       "3         False             None        True   \n",
       "4         False             None        True   \n",
       "\n",
       "                                 legislative_process  \n",
       "0  <p style=\"text-align: justify;\">The legislativ...  \n",
       "1  <p style=\"text-align: justify;\">Spain is a Par...  \n",
       "2  <p style=\"text-align: justify;\">France has a b...  \n",
       "3  <p style=\"text-align: justify;\">Brazil’s legis...  \n",
       "4  <div>The United Mexican States (Mexico) has a ...  \n",
       "\n",
       "[5 rows x 32 columns]"
      ]
     },
     "execution_count": 20,
     "metadata": {},
     "output_type": "execute_result"
    }
   ],
   "source": [
    "climate_laws_df.head()"
   ]
  },
  {
   "cell_type": "code",
   "execution_count": 21,
   "metadata": {},
   "outputs": [
    {
     "data": {
      "text/html": [
       "<div>\n",
       "<style scoped>\n",
       "    .dataframe tbody tr th:only-of-type {\n",
       "        vertical-align: middle;\n",
       "    }\n",
       "\n",
       "    .dataframe tbody tr th {\n",
       "        vertical-align: top;\n",
       "    }\n",
       "\n",
       "    .dataframe thead th {\n",
       "        text-align: right;\n",
       "    }\n",
       "</style>\n",
       "<table border=\"1\" class=\"dataframe\">\n",
       "  <thead>\n",
       "    <tr style=\"text-align: right;\">\n",
       "      <th></th>\n",
       "      <th>country_name</th>\n",
       "      <th>id</th>\n",
       "    </tr>\n",
       "  </thead>\n",
       "  <tbody>\n",
       "    <tr>\n",
       "      <th>0</th>\n",
       "      <td>Afghanistan</td>\n",
       "      <td>14</td>\n",
       "    </tr>\n",
       "    <tr>\n",
       "      <th>1</th>\n",
       "      <td>Albania</td>\n",
       "      <td>3</td>\n",
       "    </tr>\n",
       "    <tr>\n",
       "      <th>2</th>\n",
       "      <td>Algeria</td>\n",
       "      <td>13</td>\n",
       "    </tr>\n",
       "    <tr>\n",
       "      <th>3</th>\n",
       "      <td>Andorra</td>\n",
       "      <td>8</td>\n",
       "    </tr>\n",
       "    <tr>\n",
       "      <th>4</th>\n",
       "      <td>Angola</td>\n",
       "      <td>21</td>\n",
       "    </tr>\n",
       "    <tr>\n",
       "      <th>...</th>\n",
       "      <td>...</td>\n",
       "      <td>...</td>\n",
       "    </tr>\n",
       "    <tr>\n",
       "      <th>193</th>\n",
       "      <td>Venezuela</td>\n",
       "      <td>4</td>\n",
       "    </tr>\n",
       "    <tr>\n",
       "      <th>194</th>\n",
       "      <td>Vietnam</td>\n",
       "      <td>26</td>\n",
       "    </tr>\n",
       "    <tr>\n",
       "      <th>195</th>\n",
       "      <td>Yemen</td>\n",
       "      <td>6</td>\n",
       "    </tr>\n",
       "    <tr>\n",
       "      <th>196</th>\n",
       "      <td>Zambia</td>\n",
       "      <td>17</td>\n",
       "    </tr>\n",
       "    <tr>\n",
       "      <th>197</th>\n",
       "      <td>Zimbabwe</td>\n",
       "      <td>12</td>\n",
       "    </tr>\n",
       "  </tbody>\n",
       "</table>\n",
       "<p>198 rows × 2 columns</p>\n",
       "</div>"
      ],
      "text/plain": [
       "    country_name  id\n",
       "0    Afghanistan  14\n",
       "1        Albania   3\n",
       "2        Algeria  13\n",
       "3        Andorra   8\n",
       "4         Angola  21\n",
       "..           ...  ..\n",
       "193    Venezuela   4\n",
       "194      Vietnam  26\n",
       "195        Yemen   6\n",
       "196       Zambia  17\n",
       "197     Zimbabwe  12\n",
       "\n",
       "[198 rows x 2 columns]"
      ]
     },
     "execution_count": 21,
     "metadata": {},
     "output_type": "execute_result"
    }
   ],
   "source": [
    "pd.DataFrame(pd.pivot_table(values=\"id\", index=[\"country_name\"], aggfunc=\"count\", data=climate_laws_df).to_records())"
   ]
  },
  {
   "cell_type": "markdown",
   "metadata": {},
   "source": [
    "### Cleaning the core description content\n",
    "\n",
    "The main description feature contains HTML tags and other items that needs to be cleaned"
   ]
  },
  {
   "cell_type": "code",
   "execution_count": 22,
   "metadata": {},
   "outputs": [],
   "source": [
    "# Import relevant libraries\n",
    "import re"
   ]
  },
  {
   "cell_type": "code",
   "execution_count": 23,
   "metadata": {},
   "outputs": [],
   "source": [
    "# Function to clean up description\n",
    "def clean_description(df, col=\"description\"):\n",
    "    # Convert to string\n",
    "    df[col] = str(df[col])\n",
    "    # Remove html tags and React non-breaking space characters i.e. &nbsp\n",
    "    df[col] = re.sub(r\"(&nbsp;)|(<([^>]+)>)\", \" \", df[col])\n",
    "    # Misc - converting markup ampersand to normal ampersand\n",
    "    df[col] = re.sub(r\"(&amp)\", \"&\", df[col])\n",
    "    # Convert any double space into single space\n",
    "    df[col] = df[col].replace(\"  \", \" \")\n",
    "    # Remove 'nan'\n",
    "    df[col] = df[col].replace(\"nan\", \"\")\n",
    "    # Remove 'None'\n",
    "    df[col] = df[col].replace(\"None\", \"\")\n",
    "    # Trimming leading or trailing space\n",
    "    df[col] = df[col].strip()\n",
    "    return df[col]\n",
    "\n",
    "# Applying the function\n",
    "climate_laws_df.loc[:, \"clean_description\"] = climate_laws_df.apply(lambda x: clean_description(x), axis=1)"
   ]
  },
  {
   "cell_type": "code",
   "execution_count": 24,
   "metadata": {},
   "outputs": [],
   "source": [
    "# Cleaning legislative process column\n",
    "climate_laws_df.loc[:, \"clean_legislative_process\"] = climate_laws_df.apply(\n",
    "    lambda x:clean_description(x, \"legislative_process\"), axis=1)"
   ]
  },
  {
   "cell_type": "code",
   "execution_count": 25,
   "metadata": {},
   "outputs": [
    {
     "data": {
      "text/plain": [
       "Index(['index', 'id', 'title', 'description', 'law_id', 'slug', 'geography_id',\n",
       "       'created_at', 'updated_at', 'visibility_status', 'created_by_id',\n",
       "       'updated_by_id', 'discarded_at', 'legislation_type', 'parent_id', 'tsv',\n",
       "       'date', 'link', 'short_description', 'geography', 'date_passed',\n",
       "       'last_change', 'legislation_type_humanize', 'geography_path',\n",
       "       'country_name', 'percent_global_emissions', 'climate_risk_index',\n",
       "       'wb_income_group', 'eu_member_ind', 'law_discarded_at', 'federal_ind',\n",
       "       'legislative_process', 'clean_description',\n",
       "       'clean_legislative_process'],\n",
       "      dtype='object')"
      ]
     },
     "execution_count": 25,
     "metadata": {},
     "output_type": "execute_result"
    }
   ],
   "source": [
    "climate_laws_df.columns"
   ]
  },
  {
   "cell_type": "code",
   "execution_count": 26,
   "metadata": {},
   "outputs": [
    {
     "data": {
      "text/plain": [
       "'Turkey is a republic based on democracy, secularism, social state, rule of and fundamental rights and freedoms. Legislative power is vested in the Grand National Assembly (GNAT), a unicameral parliament with 600 deputies elected for four-year terms. GNAT’s election system is based on proportional representation determined by the “D’Hondt formula”, a mathematical formula which involves the principle of highest average. A political party must have at least 10% of total votes to win seats in Parliament. Last general election was held in June 2018. The Assembly is responsible for the enactment, amendment and repeal of laws. The laws adopted by the Assembly are promulgated by the President within 15 days or referred back to the Assembly for further consideration.  The right to introduce bills belongs to the deputies and to the government. The bills introduced by deputies are described as private members’ bills. The Council of Ministers was abolished by the 2017 constitutional amendments, so the executive power is not dualist anymore. The Speaker of the Assembly designates the bill to be considered by a designated standing committee with relevant expertise, which issues a formal opinion to the Assembly before it is put to vote.  Once passed by the Assembly, the law is then transferred to the President. Then the law is sent to the Prime Ministry to be published in the Official Gazette according to the will of the President. Once published, the law takes immediate effect unless otherwise provided in the law. With the exception of budget bills the President may veto all or a portion of a bill, sending the legislation back to the Assembly for re-consideration with justification.  If the President does not approve the publication of the bill in part, the Assembly may debate only the articles that are not approved or the bill as a whole. The Assembly may adopt the text with or without amendments after this debate. If the Assembly accepts the law without amendment, the President must approve promulgation in the Official Gazette. If the Assembly accepts the law with amendments, the President has the right to send the law back to the Assembly.'"
      ]
     },
     "execution_count": 26,
     "metadata": {},
     "output_type": "execute_result"
    }
   ],
   "source": [
    "climate_laws_df[\"clean_legislative_process\"][20]"
   ]
  },
  {
   "cell_type": "markdown",
   "metadata": {},
   "source": [
    "##### Showing an example of a cleaned description "
   ]
  },
  {
   "cell_type": "code",
   "execution_count": 27,
   "metadata": {},
   "outputs": [
    {
     "name": "stdout",
     "output_type": "stream",
     "text": [
      "Gear Change, A bold vision for cycling and walking (Cycling and walking plan for England)\n",
      "\n",
      "\n",
      "<div>This document aims fostering walking and cycling in England. Four themes are laid out in the document: 1) better streets for cycling and people, 2) cycling and walking at the heart of decision-making, 3) empowering and encouraging local authorities, 4) enabling people to cycle and protecting them when they do. Physical and mental health is explicitly mentioned as an argument for increasing walking and cycling rates.<br><br>Under this plan, the government will build more (protected) cycle lanes, provide cycle training for everyone and bikes available on prescription. It will also create a long term cycling programme, consult to strengthen the Highway Code for safety purposes, support local authorities to crack down on traffic offenses, create low traffic neighbourhoods to improve air quality, focus on areas with poor average health and increase access to e-bikes.&nbsp;<br><br>A budget of two billion pounds has been allocated to this plan. Bike repair vouchers worth £50 will be released under a pilot plan. A scheme to support bike repairers is also considered.<br><br><br></div>\n",
      "\n",
      "\n",
      "This document aims fostering walking and cycling in England. Four themes are laid out in the document: 1) better streets for cycling and people, 2) cycling and walking at the heart of decision-making, 3) empowering and encouraging local authorities, 4) enabling people to cycle and protecting them when they do. Physical and mental health is explicitly mentioned as an argument for increasing walking and cycling rates. Under this plan, the government will build more (protected) cycle lanes, provide cycle training for everyone and bikes available on prescription. It will also create a long term cycling programme, consult to strengthen the Highway Code for safety purposes, support local authorities to crack down on traffic offenses, create low traffic neighbourhoods to improve air quality, focus on areas with poor average health and increase access to e-bikes.  A budget of two billion pounds has been allocated to this plan. Bike repair vouchers worth £50 will be released under a pilot plan. A scheme to support bike repairers is also considered.\n"
     ]
    }
   ],
   "source": [
    "# An example of before and after\n",
    "print(climate_laws_df[\"title\"][22])\n",
    "print('\\n')\n",
    "print(climate_laws_df[\"description\"][22])\n",
    "print('\\n')\n",
    "print(climate_laws_df[\"clean_description\"][22])"
   ]
  },
  {
   "cell_type": "code",
   "execution_count": 28,
   "metadata": {},
   "outputs": [],
   "source": [
    "# Output this DataFrame to Excel\n",
    "timestamp = datetime.now().strftime(\"%Y.%m.%d_%H.%M.%S\")\n",
    "climate_laws_df.to_excel(f\"./climate_laws_data/{timestamp}_climate_laws_data_cleaned.xlsx\", index=False)"
   ]
  },
  {
   "cell_type": "markdown",
   "metadata": {},
   "source": [
    "### Clustering description and legislative process --> Giving some structure to the text data "
   ]
  },
  {
   "cell_type": "code",
   "execution_count": 29,
   "metadata": {},
   "outputs": [],
   "source": [
    "# Feature extraction and clustering\n",
    "from sklearn.feature_extraction.text import TfidfVectorizer\n",
    "from sklearn.cluster import MiniBatchKMeans\n",
    "from sklearn.mixture import GaussianMixture\n",
    "\n",
    "# General NLP libraries\n",
    "from nltk import word_tokenize\n",
    "from nltk.stem import WordNetLemmatizer, PorterStemmer\n",
    "from nltk.corpus import stopwords\n",
    "import string\n",
    "\n",
    "# Spell correction\n",
    "from autocorrect import Speller\n",
    "\n",
    "# Global nlp vars\n",
    "stop_words = stopwords.words(\"english\")\n",
    "ps = PorterStemmer()\n",
    "lemmatizer = WordNetLemmatizer()"
   ]
  },
  {
   "cell_type": "code",
   "execution_count": 30,
   "metadata": {},
   "outputs": [
    {
     "name": "stdout",
     "output_type": "stream",
     "text": [
      "['can', 'if', 'else', 'could', 'may', 'should', 'must', 'might', 'would', 'will', 'maybe', 'also', 'ought', 'have', 'or', 'of', 'from', 'to', 'shall']\n"
     ]
    }
   ],
   "source": [
    "# Loading in stop words\n",
    "del_words_general = []\n",
    "with open('./misc/del_words_general.txt', 'r', encoding=\"utf8\") as file:\n",
    "    for line in file:\n",
    "        word = line.split('\\n')[0]\n",
    "        word = word.lower()\n",
    "        del_words_general.append(word)\n",
    "file.close()\n",
    "\n",
    "print(del_words_general)"
   ]
  },
  {
   "cell_type": "code",
   "execution_count": 31,
   "metadata": {},
   "outputs": [],
   "source": [
    "# Helper functions to remove Non-Ascii\n",
    "def removeNonAscii(s): \n",
    "    return \"\".join(i for i in s if ord(i)<128)\n",
    "\n",
    "def clean_text(text):\n",
    "    text = str(text)\n",
    "    text = text.lower()\n",
    "    text = re.sub(r'\\W+', ' ', text)\n",
    "    text = re.sub(r'\\s+', ' ', text)\n",
    "    text = re.sub('[^a-zA-Z ]+', '', text)\n",
    "    text = text.replace(\"nan\", \"\")\n",
    "    text = text.replace(\"None\", \"\")\n",
    "    text = removeNonAscii(text)\n",
    "    text = re.sub(r'\\b\\w{0,2}\\b', '', text) # Remove any words that are less than 3 characters longth\n",
    "    text = text.strip()\n",
    "    return text"
   ]
  },
  {
   "cell_type": "code",
   "execution_count": 32,
   "metadata": {},
   "outputs": [],
   "source": [
    "def correct_spelling(data, engine=Speller(fast=True)):\n",
    "    \"\"\"\n",
    "    Correct spelling at scale\n",
    "    \"\"\"\n",
    "    result = engine(data)\n",
    "    return result"
   ]
  },
  {
   "cell_type": "code",
   "execution_count": 33,
   "metadata": {
    "scrolled": true
   },
   "outputs": [],
   "source": [
    "# Processing function to clean and tokenize text data\n",
    "def preprocess(column, stem=False, lemmatize=True, del_words_general_ind=True):\n",
    "    print(\"Correcting spelling ...\")\n",
    "    column = [correct_spelling(row) for row in column]\n",
    "    print(\"Tokenizing and cleaning text ...\")\n",
    "    column = [clean_text(row) for row in column]\n",
    "    tokens = [word_tokenize(row) for row in column]\n",
    "    preprocessed = []\n",
    "    print(\"Carrying out core pre-processing processes ...\")\n",
    "    for val in tokens:\n",
    "        row=[]\n",
    "        for word in val:\n",
    "            if word not in stop_words + list(string.punctuation) + del_words_general_ind*del_words_general:\n",
    "                if stem == True:\n",
    "                    row.append(ps.stem(word))\n",
    "                elif lemmatize == True:\n",
    "                    row.append(lemmatizer.lemmatize(word))\n",
    "                else:\n",
    "                    row.append(word)\n",
    "        preprocessed.append(row)\n",
    "    assert len(preprocessed) == len(column)\n",
    "    return preprocessed"
   ]
  },
  {
   "cell_type": "code",
   "execution_count": 34,
   "metadata": {},
   "outputs": [],
   "source": [
    "# Converting empty string to NaNs\n",
    "climate_laws_df[\"clean_description\"] = climate_laws_df[\"clean_description\"].apply(lambda x: np.nan if x==\"\" else x)\n",
    "climate_laws_df[\"clean_legislative_process\"] = climate_laws_df[\"clean_legislative_process\"].apply(lambda x: np.nan if x==\"\" else x)"
   ]
  },
  {
   "cell_type": "code",
   "execution_count": 35,
   "metadata": {},
   "outputs": [
    {
     "name": "stdout",
     "output_type": "stream",
     "text": [
      "# of null descriptions 6\n",
      "# of null legislative process 661\n"
     ]
    }
   ],
   "source": [
    "print(\"# of null descriptions\", climate_laws_df[\"clean_description\"].isna().sum())\n",
    "print(\"# of null legislative process\", climate_laws_df[\"clean_legislative_process\"].isna().sum())"
   ]
  },
  {
   "cell_type": "markdown",
   "metadata": {},
   "source": [
    "#### Observation:\n",
    "\n",
    "The number of null descriptions is not very high, we can just simply remove those 6 data points from the dataset"
   ]
  },
  {
   "cell_type": "code",
   "execution_count": 36,
   "metadata": {},
   "outputs": [],
   "source": [
    "# Combining climate law title and description\n",
    "climate_laws_df[\"clean_title_plus_desc\"] = climate_laws_df.apply(lambda x: str(x[\"title\"]) + \" \" + str(x[\"clean_description\"]), axis=1)"
   ]
  },
  {
   "cell_type": "code",
   "execution_count": 37,
   "metadata": {},
   "outputs": [
    {
     "data": {
      "text/plain": [
       "0"
      ]
     },
     "execution_count": 37,
     "metadata": {},
     "output_type": "execute_result"
    }
   ],
   "source": [
    "# Check if there are any NaNs\n",
    "climate_laws_df[\"clean_title_plus_desc\"].isna().sum()"
   ]
  },
  {
   "cell_type": "markdown",
   "metadata": {},
   "source": [
    "There are null values in this newly contrived feature, which is good, let's head to preprocessing"
   ]
  },
  {
   "cell_type": "markdown",
   "metadata": {},
   "source": [
    "### Text data preprocessing "
   ]
  },
  {
   "cell_type": "code",
   "execution_count": 38,
   "metadata": {},
   "outputs": [
    {
     "name": "stdout",
     "output_type": "stream",
     "text": [
      "Correcting spelling ...\n",
      "Tokenizing and cleaning text ...\n",
      "Carrying out core pre-processing processes ...\n"
     ]
    }
   ],
   "source": [
    "# Main data points to use --> climate laws title + description\n",
    "climate_laws_texts = list(climate_laws_df[\"clean_title_plus_desc\"])\n",
    "climate_laws_texts = preprocess(climate_laws_texts)"
   ]
  },
  {
   "cell_type": "code",
   "execution_count": 39,
   "metadata": {
    "scrolled": true
   },
   "outputs": [
    {
     "data": {
      "text/plain": [
       "['framework',\n",
       " 'law',\n",
       " 'climate',\n",
       " 'change',\n",
       " 'framework',\n",
       " 'law',\n",
       " 'climate',\n",
       " 'change',\n",
       " 'published',\n",
       " 'april',\n",
       " 'establishes',\n",
       " 'principle',\n",
       " 'approach',\n",
       " 'general',\n",
       " 'provision',\n",
       " 'coordinate',\n",
       " 'articulate',\n",
       " 'design',\n",
       " 'execute',\n",
       " 'report',\n",
       " 'monitor',\n",
       " 'evaluate',\n",
       " 'disseminate',\n",
       " 'public',\n",
       " 'policy',\n",
       " 'integral',\n",
       " 'participatory',\n",
       " 'transparent',\n",
       " 'management',\n",
       " 'adaptation',\n",
       " 'mitigation',\n",
       " 'climate',\n",
       " 'change',\n",
       " 'law',\n",
       " 'aim',\n",
       " 'reducing',\n",
       " 'vulnerability',\n",
       " 'country',\n",
       " 'climate',\n",
       " 'change',\n",
       " 'take',\n",
       " 'advantage',\n",
       " 'opportunity',\n",
       " 'low',\n",
       " 'carbon',\n",
       " 'growth',\n",
       " 'fulfill',\n",
       " 'international',\n",
       " 'commitment',\n",
       " 'assumed',\n",
       " 'state',\n",
       " 'united',\n",
       " 'nation',\n",
       " 'framework',\n",
       " 'convention',\n",
       " 'climate',\n",
       " 'change',\n",
       " 'intergenerational',\n",
       " 'approach',\n",
       " 'law',\n",
       " 'establishes',\n",
       " 'responsibility',\n",
       " 'ministry',\n",
       " 'environment',\n",
       " 'peru',\n",
       " 'relation',\n",
       " 'country',\n",
       " 'ndc',\n",
       " 'ministry',\n",
       " 'submit',\n",
       " 'annual',\n",
       " 'report',\n",
       " 'parliament',\n",
       " 'includes',\n",
       " 'progress',\n",
       " 'ndc',\n",
       " 'ensure',\n",
       " 'compliance',\n",
       " 'dc',\n",
       " 'target',\n",
       " 'receive',\n",
       " 'report',\n",
       " 'pectoral',\n",
       " 'ndc',\n",
       " 'progress',\n",
       " 'ministry',\n",
       " 'public',\n",
       " 'entity',\n",
       " 'peru',\n",
       " 'ndc',\n",
       " 'identified',\n",
       " 'law',\n",
       " 'one',\n",
       " 'country',\n",
       " 'instrument',\n",
       " 'climate',\n",
       " 'management',\n",
       " 'binding',\n",
       " 'nature',\n",
       " 'competent',\n",
       " 'authority',\n",
       " 'considered',\n",
       " 'institutional',\n",
       " 'budget',\n",
       " 'article',\n",
       " 'list',\n",
       " 'number',\n",
       " 'principle',\n",
       " 'peruvian',\n",
       " 'state',\n",
       " 'apply',\n",
       " 'regard',\n",
       " 'climate',\n",
       " 'change',\n",
       " 'mitigation',\n",
       " 'adaptation',\n",
       " 'principle',\n",
       " 'integration',\n",
       " 'transversality',\n",
       " 'subsidiarity',\n",
       " 'accountability',\n",
       " 'transparency',\n",
       " 'participation',\n",
       " 'climate',\n",
       " 'goverce',\n",
       " 'prevention',\n",
       " 'article',\n",
       " 'detail',\n",
       " 'mitigation',\n",
       " 'effort',\n",
       " 'pursued',\n",
       " 'via',\n",
       " 'carbon',\n",
       " 'sequestration',\n",
       " 'increase',\n",
       " 'sink',\n",
       " 'prioritizing',\n",
       " 'protection',\n",
       " 'conservation',\n",
       " 'sustainable',\n",
       " 'management',\n",
       " 'forest',\n",
       " 'afforestation',\n",
       " 'deforestation',\n",
       " 'control',\n",
       " 'use',\n",
       " 'change',\n",
       " 'land',\n",
       " 'use',\n",
       " 'sustainable',\n",
       " 'transport',\n",
       " 'solid',\n",
       " 'waste',\n",
       " 'management',\n",
       " 'control',\n",
       " 'gaseous',\n",
       " 'e',\n",
       " 'went',\n",
       " 'emission',\n",
       " 'progressive',\n",
       " 'change',\n",
       " 'consumption',\n",
       " 'model',\n",
       " 'energy',\n",
       " 'matrix',\n",
       " 'renewable',\n",
       " 'clean',\n",
       " 'energy',\n",
       " 'energy',\n",
       " 'efficiency',\n",
       " 'various',\n",
       " 'productive',\n",
       " 'extractive',\n",
       " 'sector',\n",
       " 'among',\n",
       " 'january',\n",
       " 'government',\n",
       " 'approved',\n",
       " 'supreme',\n",
       " 'decree',\n",
       " 'minam',\n",
       " 'regulates',\n",
       " 'disposition',\n",
       " 'law',\n",
       " 'aim',\n",
       " 'reducing',\n",
       " 'peru',\n",
       " 'vulnerability',\n",
       " 'adverse',\n",
       " 'effect',\n",
       " 'climate',\n",
       " 'change',\n",
       " 'foster',\n",
       " 'low',\n",
       " 'carbon',\n",
       " 'activity',\n",
       " 'enable',\n",
       " 'country',\n",
       " 'meet',\n",
       " 'international',\n",
       " 'climate',\n",
       " 'pledge']"
      ]
     },
     "execution_count": 39,
     "metadata": {},
     "output_type": "execute_result"
    }
   ],
   "source": [
    "# Example cleaned output\n",
    "climate_laws_texts[90]"
   ]
  },
  {
   "cell_type": "markdown",
   "metadata": {},
   "source": [
    "### Elbow plot for KMeans model selection "
   ]
  },
  {
   "cell_type": "code",
   "execution_count": 40,
   "metadata": {},
   "outputs": [],
   "source": [
    "# Dummy func\n",
    "def dummy_func(doc):\n",
    "    return doc"
   ]
  },
  {
   "cell_type": "code",
   "execution_count": 41,
   "metadata": {},
   "outputs": [],
   "source": [
    "# Helper function\n",
    "def elbow_kmeans_ssd(data, n, step, ngram_range=(1,1)):\n",
    "    # Vectorization\n",
    "    tfidf = TfidfVectorizer(analyzer='word',\n",
    "                            tokenizer=dummy_func,\n",
    "                            preprocessor=dummy_func,\n",
    "                            token_pattern=None,\n",
    "                            ngram_range=ngram_range\n",
    "                            )\n",
    "    tfidf_matrix = tfidf.fit_transform(data)\n",
    "    print(\"TF-IDF matrix shape: \", tfidf_matrix.shape)\n",
    "    # Clustering\n",
    "    sum_of_square_distances = []\n",
    "    iter_range = range(1, n, step)\n",
    "    for k in tqdm(iter_range):\n",
    "        kmeans_model = MiniBatchKMeans(n_clusters=k,\n",
    "                                       init='k-means++',\n",
    "                                       n_init=1,\n",
    "                                       init_size=1000,\n",
    "                                       batch_size=1000,\n",
    "                                       verbose=0,\n",
    "                                       max_iter=1000,\n",
    "                                       random_state=0)\n",
    "        kmeans_model = kmeans_model.fit(tfidf_matrix)\n",
    "        sum_of_square_distances.append(kmeans_model.inertia_)\n",
    "    plt.plot(iter_range, sum_of_square_distances, 'bx-')\n",
    "    plt.xlabel(\"# of clusters\")\n",
    "    plt.ylabel(\"Sum of squared distances\")\n",
    "    plt.title(\"Elbow method for optimal K\")\n",
    "    plt.show()"
   ]
  },
  {
   "cell_type": "code",
   "execution_count": 42,
   "metadata": {},
   "outputs": [
    {
     "name": "stderr",
     "output_type": "stream",
     "text": [
      "  5%|████▏                                                                              | 2/40 [00:00<00:02, 16.72it/s]"
     ]
    },
    {
     "name": "stdout",
     "output_type": "stream",
     "text": [
      "TF-IDF matrix shape:  (2087, 7600)\n"
     ]
    },
    {
     "name": "stderr",
     "output_type": "stream",
     "text": [
      "100%|██████████████████████████████████████████████████████████████████████████████████| 40/40 [00:34<00:00,  1.17it/s]\n"
     ]
    },
    {
     "data": {
      "image/png": "[encoded data removed]",
      "text/plain": [
       "<Figure size 432x288 with 1 Axes>"
      ]
     },
     "metadata": {
      "needs_background": "light"
     },
     "output_type": "display_data"
    }
   ],
   "source": [
    "# Running the KMeans elbow plot\n",
    "elbow_kmeans_ssd(climate_laws_texts, 200, 5, (1,1))"
   ]
  },
  {
   "cell_type": "markdown",
   "metadata": {},
   "source": [
    "#### It looks like optimal k for ngram_range (1,1) is about 45 "
   ]
  },
  {
   "cell_type": "code",
   "execution_count": 43,
   "metadata": {},
   "outputs": [
    {
     "name": "stderr",
     "output_type": "stream",
     "text": [
      "  2%|██                                                                                 | 1/40 [00:00<00:06,  6.26it/s]"
     ]
    },
    {
     "name": "stdout",
     "output_type": "stream",
     "text": [
      "TF-IDF matrix shape:  (2087, 107438)\n"
     ]
    },
    {
     "name": "stderr",
     "output_type": "stream",
     "text": [
      "100%|██████████████████████████████████████████████████████████████████████████████████| 40/40 [02:24<00:00,  3.61s/it]\n"
     ]
    },
    {
     "data": {
      "image/png": "[encoded data removed]",
      "text/plain": [
       "<Figure size 432x288 with 1 Axes>"
      ]
     },
     "metadata": {
      "needs_background": "light"
     },
     "output_type": "display_data"
    }
   ],
   "source": [
    "# Let's try ngram (1,2)\n",
    "elbow_kmeans_ssd(climate_laws_texts, 200, 5, (1,2))"
   ]
  },
  {
   "cell_type": "markdown",
   "metadata": {},
   "source": [
    "#### It is quite hard to tell what the optimal K for this one is "
   ]
  },
  {
   "cell_type": "code",
   "execution_count": 215,
   "metadata": {
    "scrolled": true
   },
   "outputs": [
    {
     "data": {
      "text/plain": [
       "['u',\n",
       " 'strategy',\n",
       " 'harness',\n",
       " 'potential',\n",
       " 'offshore',\n",
       " 'renewable',\n",
       " 'energy',\n",
       " 'climate',\n",
       " 'neutral',\n",
       " 'future',\n",
       " 'communication',\n",
       " 'commission',\n",
       " 'establishes',\n",
       " 'u',\n",
       " 'strategy',\n",
       " 'make',\n",
       " 'offshore',\n",
       " 'renewable',\n",
       " 'energy',\n",
       " 'core',\n",
       " 'component',\n",
       " 'europe',\n",
       " 'energy',\n",
       " 'system',\n",
       " 'document',\n",
       " 'analysis',\n",
       " 'potential',\n",
       " 'offshore',\n",
       " 'basin',\n",
       " 'offshore',\n",
       " 'renewable',\n",
       " 'energy',\n",
       " 'technology',\n",
       " 'floating',\n",
       " 'px',\n",
       " 'tidal',\n",
       " 'energy',\n",
       " 'wave',\n",
       " 'energy',\n",
       " 'floating',\n",
       " 'wind',\n",
       " 'offshore',\n",
       " 'wind',\n",
       " 'examines',\n",
       " 'best',\n",
       " 'achieve',\n",
       " 'gt',\n",
       " 'installed',\n",
       " 'capacity']"
      ]
     },
     "execution_count": 215,
     "metadata": {},
     "output_type": "execute_result"
    }
   ],
   "source": [
    "# Creating dictionary linking climate_laws_texts with unique id in climate_laws_df\n",
    "climate_ids_to_texts_dict = {key: value for (key, value) in zip(list(climate_laws_df[\"id\"]), climate_laws_texts)}\n",
    "assert isinstance(climate_ids_to_texts_dict, dict)\n",
    "\n",
    "# Testing an output\n",
    "climate_ids_to_texts_dict[climate_laws_df[\"id\"][0]]"
   ]
  },
  {
   "cell_type": "code",
   "execution_count": null,
   "metadata": {},
   "outputs": [],
   "source": []
  },
  {
   "cell_type": "markdown",
   "metadata": {},
   "source": [
    "## First analysis - cross-sectional analysis of number of climate laws in different country\n",
    "\n",
    "**Question**: What factors correlate with high number of climate laws in a country?"
   ]
  },
  {
   "cell_type": "code",
   "execution_count": 44,
   "metadata": {},
   "outputs": [
    {
     "data": {
      "text/plain": [
       "Index(['index', 'id', 'title', 'description', 'law_id', 'slug', 'geography_id',\n",
       "       'created_at', 'updated_at', 'visibility_status', 'created_by_id',\n",
       "       'updated_by_id', 'discarded_at', 'legislation_type', 'parent_id', 'tsv',\n",
       "       'date', 'link', 'short_description', 'geography', 'date_passed',\n",
       "       'last_change', 'legislation_type_humanize', 'geography_path',\n",
       "       'country_name', 'percent_global_emissions', 'climate_risk_index',\n",
       "       'wb_income_group', 'eu_member_ind', 'law_discarded_at', 'federal_ind',\n",
       "       'legislative_process', 'clean_description', 'clean_legislative_process',\n",
       "       'clean_title_plus_desc'],\n",
       "      dtype='object')"
      ]
     },
     "execution_count": 44,
     "metadata": {},
     "output_type": "execute_result"
    }
   ],
   "source": [
    "climate_laws_df.columns"
   ]
  },
  {
   "cell_type": "code",
   "execution_count": 120,
   "metadata": {},
   "outputs": [],
   "source": [
    "country_info_cols = ['percent_global_emissions', 'climate_risk_index', 'wb_income_group', 'eu_member_ind']"
   ]
  },
  {
   "cell_type": "code",
   "execution_count": 121,
   "metadata": {},
   "outputs": [
    {
     "data": {
      "text/html": [
       "<div>\n",
       "<style scoped>\n",
       "    .dataframe tbody tr th:only-of-type {\n",
       "        vertical-align: middle;\n",
       "    }\n",
       "\n",
       "    .dataframe tbody tr th {\n",
       "        vertical-align: top;\n",
       "    }\n",
       "\n",
       "    .dataframe thead th {\n",
       "        text-align: right;\n",
       "    }\n",
       "</style>\n",
       "<table border=\"1\" class=\"dataframe\">\n",
       "  <thead>\n",
       "    <tr style=\"text-align: right;\">\n",
       "      <th></th>\n",
       "      <th>country_name</th>\n",
       "      <th>num_climate_laws</th>\n",
       "    </tr>\n",
       "  </thead>\n",
       "  <tbody>\n",
       "    <tr>\n",
       "      <th>0</th>\n",
       "      <td>Afghanistan</td>\n",
       "      <td>14</td>\n",
       "    </tr>\n",
       "    <tr>\n",
       "      <th>1</th>\n",
       "      <td>Albania</td>\n",
       "      <td>3</td>\n",
       "    </tr>\n",
       "    <tr>\n",
       "      <th>2</th>\n",
       "      <td>Algeria</td>\n",
       "      <td>13</td>\n",
       "    </tr>\n",
       "    <tr>\n",
       "      <th>3</th>\n",
       "      <td>Angola</td>\n",
       "      <td>21</td>\n",
       "    </tr>\n",
       "    <tr>\n",
       "      <th>4</th>\n",
       "      <td>Antigua and Barbuda</td>\n",
       "      <td>6</td>\n",
       "    </tr>\n",
       "  </tbody>\n",
       "</table>\n",
       "</div>"
      ],
      "text/plain": [
       "          country_name  num_climate_laws\n",
       "0          Afghanistan                14\n",
       "1              Albania                 3\n",
       "2              Algeria                13\n",
       "3               Angola                21\n",
       "4  Antigua and Barbuda                 6"
      ]
     },
     "execution_count": 121,
     "metadata": {},
     "output_type": "execute_result"
    }
   ],
   "source": [
    "# Compile country data\n",
    "climate_laws_country_df = pd.DataFrame(pd.pivot_table(values=\"id\",\n",
    "                                                      index=\"country_name\",\n",
    "                                                      aggfunc=\"count\",\n",
    "                                                      data=climate_laws_df.dropna(subset=country_info_cols)).to_records()\n",
    "                                      )\n",
    "climate_laws_country_df.rename(columns={'id':'num_climate_laws'}, inplace=True)\n",
    "climate_laws_country_df.head()"
   ]
  },
  {
   "cell_type": "code",
   "execution_count": 122,
   "metadata": {},
   "outputs": [],
   "source": [
    "def enrich_pivot(main_df=None, baseline_data=None, cols=None, index=None, values=None, aggfunc=None):\n",
    "    \"\"\"\n",
    "    Enrich pivoted data with more columns\n",
    "    \"\"\"\n",
    "    for col in cols:\n",
    "        supplemental_df = pd.DataFrame(pd.pivot_table(values=col,\n",
    "                                                      index=index,\n",
    "                                                      aggfunc=aggfunc,\n",
    "                                                      data=baseline_data\n",
    "                                                     ).to_records()\n",
    "                                      )\n",
    "        main_df = main_df.merge(supplemental_df, on=index, how=\"left\")\n",
    "    return main_df"
   ]
  },
  {
   "cell_type": "code",
   "execution_count": 123,
   "metadata": {},
   "outputs": [],
   "source": [
    "climate_laws_country_df = enrich_pivot(main_df=climate_laws_country_df, \n",
    "                                     baseline_data=climate_laws_df, \n",
    "                                     cols=['percent_global_emissions', 'climate_risk_index', 'wb_income_group', 'eu_member_ind'],\n",
    "                                     index=\"country_name\",\n",
    "                                     values=\"id\",\n",
    "                                     aggfunc=lambda x: re.sub(r\"([{}''])\", \"\", str(set(x)))\n",
    "                                     )"
   ]
  },
  {
   "cell_type": "code",
   "execution_count": 124,
   "metadata": {},
   "outputs": [
    {
     "name": "stdout",
     "output_type": "stream",
     "text": [
      "(175, 6)\n"
     ]
    },
    {
     "data": {
      "text/html": [
       "<div>\n",
       "<style scoped>\n",
       "    .dataframe tbody tr th:only-of-type {\n",
       "        vertical-align: middle;\n",
       "    }\n",
       "\n",
       "    .dataframe tbody tr th {\n",
       "        vertical-align: top;\n",
       "    }\n",
       "\n",
       "    .dataframe thead th {\n",
       "        text-align: right;\n",
       "    }\n",
       "</style>\n",
       "<table border=\"1\" class=\"dataframe\">\n",
       "  <thead>\n",
       "    <tr style=\"text-align: right;\">\n",
       "      <th></th>\n",
       "      <th>country_name</th>\n",
       "      <th>num_climate_laws</th>\n",
       "      <th>percent_global_emissions</th>\n",
       "      <th>climate_risk_index</th>\n",
       "      <th>wb_income_group</th>\n",
       "      <th>eu_member_ind</th>\n",
       "    </tr>\n",
       "  </thead>\n",
       "  <tbody>\n",
       "    <tr>\n",
       "      <th>0</th>\n",
       "      <td>Afghanistan</td>\n",
       "      <td>14</td>\n",
       "      <td>0.2</td>\n",
       "      <td>41.83</td>\n",
       "      <td>Low income</td>\n",
       "      <td>False</td>\n",
       "    </tr>\n",
       "    <tr>\n",
       "      <th>1</th>\n",
       "      <td>Albania</td>\n",
       "      <td>3</td>\n",
       "      <td>0.02</td>\n",
       "      <td>114.17</td>\n",
       "      <td>Upper middle income</td>\n",
       "      <td>False</td>\n",
       "    </tr>\n",
       "    <tr>\n",
       "      <th>2</th>\n",
       "      <td>Algeria</td>\n",
       "      <td>13</td>\n",
       "      <td>0.44</td>\n",
       "      <td>92.5</td>\n",
       "      <td>Upper middle income</td>\n",
       "      <td>False</td>\n",
       "    </tr>\n",
       "    <tr>\n",
       "      <th>3</th>\n",
       "      <td>Angola</td>\n",
       "      <td>21</td>\n",
       "      <td>0.38</td>\n",
       "      <td>97</td>\n",
       "      <td>Lower middle income</td>\n",
       "      <td>False</td>\n",
       "    </tr>\n",
       "    <tr>\n",
       "      <th>4</th>\n",
       "      <td>Antigua and Barbuda</td>\n",
       "      <td>6</td>\n",
       "      <td>0.0</td>\n",
       "      <td>58</td>\n",
       "      <td>High income</td>\n",
       "      <td>False</td>\n",
       "    </tr>\n",
       "  </tbody>\n",
       "</table>\n",
       "</div>"
      ],
      "text/plain": [
       "          country_name  num_climate_laws percent_global_emissions  \\\n",
       "0          Afghanistan                14                      0.2   \n",
       "1              Albania                 3                     0.02   \n",
       "2              Algeria                13                     0.44   \n",
       "3               Angola                21                     0.38   \n",
       "4  Antigua and Barbuda                 6                      0.0   \n",
       "\n",
       "  climate_risk_index      wb_income_group eu_member_ind  \n",
       "0              41.83           Low income         False  \n",
       "1             114.17  Upper middle income         False  \n",
       "2               92.5  Upper middle income         False  \n",
       "3                 97  Lower middle income         False  \n",
       "4                 58          High income         False  "
      ]
     },
     "execution_count": 124,
     "metadata": {},
     "output_type": "execute_result"
    }
   ],
   "source": [
    "# Showing the shape and head of the cross-sectional data1\n",
    "print(climate_laws_country_df.shape)\n",
    "climate_laws_country_df.head()"
   ]
  },
  {
   "cell_type": "code",
   "execution_count": 125,
   "metadata": {},
   "outputs": [],
   "source": [
    "# Cleaning individual column\n",
    "def clean_numeric_col(data):\n",
    "    if data == \"\":\n",
    "        return np.nan\n",
    "    else:\n",
    "        data = float(data)\n",
    "        return data\n",
    "    \n",
    "# Percent global emissions\n",
    "climate_laws_country_df[\"percent_global_emissions\"] = climate_laws_country_df[\"percent_global_emissions\"].apply(lambda x: clean_numeric_col(x))\n",
    "\n",
    "# CLimate risk index\n",
    "climate_laws_country_df[\"climate_risk_index\"] = climate_laws_country_df[\"climate_risk_index\"].apply(lambda x: clean_numeric_col(x))"
   ]
  },
  {
   "cell_type": "code",
   "execution_count": 126,
   "metadata": {},
   "outputs": [
    {
     "name": "stdout",
     "output_type": "stream",
     "text": [
      "Average global emissions of countries in dataset: 0.57\n",
      "Average global climate risk index of countries in dataset: 91\n"
     ]
    }
   ],
   "source": [
    "# Showing mean of percent global emissions and climate risk index\n",
    "print(f\"Average global emissions of countries in dataset: {round(climate_laws_country_df.percent_global_emissions.mean(), 2)}\")\n",
    "print(f\"Average global climate risk index of countries in dataset: {round(climate_laws_country_df.climate_risk_index.mean())}\")"
   ]
  },
  {
   "cell_type": "code",
   "execution_count": 127,
   "metadata": {},
   "outputs": [
    {
     "data": {
      "text/plain": [
       "array(['Low income', 'Upper middle income', 'Lower middle income',\n",
       "       'High income', ''], dtype=object)"
      ]
     },
     "execution_count": 127,
     "metadata": {},
     "output_type": "execute_result"
    }
   ],
   "source": [
    "# Checking distinct values in wb_income_group\n",
    "climate_laws_country_df[\"wb_income_group\"].unique()"
   ]
  },
  {
   "cell_type": "code",
   "execution_count": 128,
   "metadata": {},
   "outputs": [],
   "source": [
    "# See which country has the empty string\n",
    "climate_laws_country_df[climate_laws_country_df[\"wb_income_group\"]==\"\"]\n",
    "\n",
    "# This is a pretty empty observation, let's drop it\n",
    "climate_laws_country_df.drop(index=53, axis=0, inplace=True)"
   ]
  },
  {
   "cell_type": "code",
   "execution_count": 129,
   "metadata": {
    "scrolled": false
   },
   "outputs": [],
   "source": [
    "# Getting dummies for wb_income_group\n",
    "assert len(pd.get_dummies(climate_laws_country_df.wb_income_group)) == len(climate_laws_country_df) \n",
    "\n",
    "# Concatenating dummies cols into the main df\n",
    "climate_laws_country_df = pd.concat(objs=[climate_laws_country_df, pd.get_dummies(climate_laws_country_df.wb_income_group)],\n",
    "                                   axis=1)\n",
    "try:\n",
    "    del climate_laws_country_df[\"wb_income_group\"]\n",
    "except KeyError:\n",
    "    pass"
   ]
  },
  {
   "cell_type": "code",
   "execution_count": 133,
   "metadata": {},
   "outputs": [],
   "source": [
    "# Finally, cleaning the eu_member_ind\n",
    "def clean_bool(data):\n",
    "    if data==\"True\":\n",
    "        return 1\n",
    "    elif data==\"False\":\n",
    "        return 0\n",
    "    else:\n",
    "        return np.nan\n",
    "    \n",
    "climate_laws_country_df[\"eu_member_ind\"] = climate_laws_country_df[\"eu_member_ind\"].apply(lambda x: clean_bool(x))"
   ]
  },
  {
   "cell_type": "code",
   "execution_count": 135,
   "metadata": {},
   "outputs": [],
   "source": [
    "# Dropping any remaining NaNs\n",
    "climate_laws_country_df.dropna(inplace=True)"
   ]
  },
  {
   "cell_type": "code",
   "execution_count": 137,
   "metadata": {
    "scrolled": true
   },
   "outputs": [
    {
     "name": "stdout",
     "output_type": "stream",
     "text": [
      "(174, 9)\n"
     ]
    },
    {
     "data": {
      "text/html": [
       "<div>\n",
       "<style scoped>\n",
       "    .dataframe tbody tr th:only-of-type {\n",
       "        vertical-align: middle;\n",
       "    }\n",
       "\n",
       "    .dataframe tbody tr th {\n",
       "        vertical-align: top;\n",
       "    }\n",
       "\n",
       "    .dataframe thead th {\n",
       "        text-align: right;\n",
       "    }\n",
       "</style>\n",
       "<table border=\"1\" class=\"dataframe\">\n",
       "  <thead>\n",
       "    <tr style=\"text-align: right;\">\n",
       "      <th></th>\n",
       "      <th>country_name</th>\n",
       "      <th>num_climate_laws</th>\n",
       "      <th>percent_global_emissions</th>\n",
       "      <th>climate_risk_index</th>\n",
       "      <th>eu_member_ind</th>\n",
       "      <th>High income</th>\n",
       "      <th>Low income</th>\n",
       "      <th>Lower middle income</th>\n",
       "      <th>Upper middle income</th>\n",
       "    </tr>\n",
       "  </thead>\n",
       "  <tbody>\n",
       "    <tr>\n",
       "      <th>0</th>\n",
       "      <td>Afghanistan</td>\n",
       "      <td>14</td>\n",
       "      <td>0.20</td>\n",
       "      <td>41.83</td>\n",
       "      <td>0</td>\n",
       "      <td>0</td>\n",
       "      <td>1</td>\n",
       "      <td>0</td>\n",
       "      <td>0</td>\n",
       "    </tr>\n",
       "    <tr>\n",
       "      <th>1</th>\n",
       "      <td>Albania</td>\n",
       "      <td>3</td>\n",
       "      <td>0.02</td>\n",
       "      <td>114.17</td>\n",
       "      <td>0</td>\n",
       "      <td>0</td>\n",
       "      <td>0</td>\n",
       "      <td>0</td>\n",
       "      <td>1</td>\n",
       "    </tr>\n",
       "    <tr>\n",
       "      <th>2</th>\n",
       "      <td>Algeria</td>\n",
       "      <td>13</td>\n",
       "      <td>0.44</td>\n",
       "      <td>92.50</td>\n",
       "      <td>0</td>\n",
       "      <td>0</td>\n",
       "      <td>0</td>\n",
       "      <td>0</td>\n",
       "      <td>1</td>\n",
       "    </tr>\n",
       "    <tr>\n",
       "      <th>3</th>\n",
       "      <td>Angola</td>\n",
       "      <td>21</td>\n",
       "      <td>0.38</td>\n",
       "      <td>97.00</td>\n",
       "      <td>0</td>\n",
       "      <td>0</td>\n",
       "      <td>0</td>\n",
       "      <td>1</td>\n",
       "      <td>0</td>\n",
       "    </tr>\n",
       "    <tr>\n",
       "      <th>4</th>\n",
       "      <td>Antigua and Barbuda</td>\n",
       "      <td>6</td>\n",
       "      <td>0.00</td>\n",
       "      <td>58.00</td>\n",
       "      <td>0</td>\n",
       "      <td>1</td>\n",
       "      <td>0</td>\n",
       "      <td>0</td>\n",
       "      <td>0</td>\n",
       "    </tr>\n",
       "  </tbody>\n",
       "</table>\n",
       "</div>"
      ],
      "text/plain": [
       "          country_name  num_climate_laws  percent_global_emissions  \\\n",
       "0          Afghanistan                14                      0.20   \n",
       "1              Albania                 3                      0.02   \n",
       "2              Algeria                13                      0.44   \n",
       "3               Angola                21                      0.38   \n",
       "4  Antigua and Barbuda                 6                      0.00   \n",
       "\n",
       "   climate_risk_index  eu_member_ind  High income  Low income  \\\n",
       "0               41.83              0            0           1   \n",
       "1              114.17              0            0           0   \n",
       "2               92.50              0            0           0   \n",
       "3               97.00              0            0           0   \n",
       "4               58.00              0            1           0   \n",
       "\n",
       "   Lower middle income  Upper middle income  \n",
       "0                    0                    0  \n",
       "1                    0                    1  \n",
       "2                    0                    1  \n",
       "3                    1                    0  \n",
       "4                    0                    0  "
      ]
     },
     "execution_count": 137,
     "metadata": {},
     "output_type": "execute_result"
    }
   ],
   "source": [
    "# Final shape\n",
    "print(climate_laws_country_df.shape)\n",
    "\n",
    "climate_laws_country_df.head()"
   ]
  },
  {
   "cell_type": "markdown",
   "metadata": {},
   "source": [
    "**After data cleaning is done, let's run it through a simple OLS model to see the associations of different variables to the number of climate laws passed by a country** "
   ]
  },
  {
   "cell_type": "markdown",
   "metadata": {},
   "source": [
    "**Cross-sectional country data**\n",
    "\n",
    "<code>**y** = Number of climate laws passed for a given country</code>\n",
    "\n",
    "<code>**X**: percent_global_emissions, climate_risk_index, wb_income_group, eu_member_ind</code>"
   ]
  },
  {
   "cell_type": "code",
   "execution_count": 161,
   "metadata": {},
   "outputs": [],
   "source": [
    "# Import statsmodels linear models\n",
    "import statsmodels.api as sm"
   ]
  },
  {
   "cell_type": "code",
   "execution_count": 164,
   "metadata": {
    "scrolled": false
   },
   "outputs": [
    {
     "data": {
      "text/html": [
       "<table class=\"simpletable\">\n",
       "<caption>OLS Regression Results</caption>\n",
       "<tr>\n",
       "  <th>Dep. Variable:</th>    <td>num_climate_laws</td> <th>  R-squared:         </th> <td>   0.213</td>\n",
       "</tr>\n",
       "<tr>\n",
       "  <th>Model:</th>                   <td>OLS</td>       <th>  Adj. R-squared:    </th> <td>   0.185</td>\n",
       "</tr>\n",
       "<tr>\n",
       "  <th>Method:</th>             <td>Least Squares</td>  <th>  F-statistic:       </th> <td>   7.544</td>\n",
       "</tr>\n",
       "<tr>\n",
       "  <th>Date:</th>             <td>Thu, 25 Feb 2021</td> <th>  Prob (F-statistic):</th> <td>3.60e-07</td>\n",
       "</tr>\n",
       "<tr>\n",
       "  <th>Time:</th>                 <td>21:46:44</td>     <th>  Log-Likelihood:    </th> <td> -580.05</td>\n",
       "</tr>\n",
       "<tr>\n",
       "  <th>No. Observations:</th>      <td>   174</td>      <th>  AIC:               </th> <td>   1174.</td>\n",
       "</tr>\n",
       "<tr>\n",
       "  <th>Df Residuals:</th>          <td>   167</td>      <th>  BIC:               </th> <td>   1196.</td>\n",
       "</tr>\n",
       "<tr>\n",
       "  <th>Df Model:</th>              <td>     6</td>      <th>                     </th>     <td> </td>   \n",
       "</tr>\n",
       "<tr>\n",
       "  <th>Covariance Type:</th>      <td>nonrobust</td>    <th>                     </th>     <td> </td>   \n",
       "</tr>\n",
       "</table>\n",
       "<table class=\"simpletable\">\n",
       "<tr>\n",
       "              <td></td>                <th>coef</th>     <th>std err</th>      <th>t</th>      <th>P>|t|</th>  <th>[0.025</th>    <th>0.975]</th>  \n",
       "</tr>\n",
       "<tr>\n",
       "  <th>percent_global_emissions</th> <td>    0.3247</td> <td>    0.247</td> <td>    1.314</td> <td> 0.190</td> <td>   -0.163</td> <td>    0.812</td>\n",
       "</tr>\n",
       "<tr>\n",
       "  <th>climate_risk_index</th>       <td>   -0.0609</td> <td>    0.013</td> <td>   -4.580</td> <td> 0.000</td> <td>   -0.087</td> <td>   -0.035</td>\n",
       "</tr>\n",
       "<tr>\n",
       "  <th>eu_member_ind</th>            <td>    3.2324</td> <td>    1.820</td> <td>    1.776</td> <td> 0.078</td> <td>   -0.361</td> <td>    6.826</td>\n",
       "</tr>\n",
       "<tr>\n",
       "  <th>High income</th>              <td>   17.7314</td> <td>    1.971</td> <td>    8.998</td> <td> 0.000</td> <td>   13.841</td> <td>   21.622</td>\n",
       "</tr>\n",
       "<tr>\n",
       "  <th>Low income</th>               <td>   13.9359</td> <td>    1.803</td> <td>    7.729</td> <td> 0.000</td> <td>   10.376</td> <td>   17.495</td>\n",
       "</tr>\n",
       "<tr>\n",
       "  <th>Lower middle income</th>      <td>   16.7986</td> <td>    1.569</td> <td>   10.706</td> <td> 0.000</td> <td>   13.701</td> <td>   19.896</td>\n",
       "</tr>\n",
       "<tr>\n",
       "  <th>Upper middle income</th>      <td>   14.6784</td> <td>    1.592</td> <td>    9.220</td> <td> 0.000</td> <td>   11.535</td> <td>   17.822</td>\n",
       "</tr>\n",
       "</table>\n",
       "<table class=\"simpletable\">\n",
       "<tr>\n",
       "  <th>Omnibus:</th>       <td>32.294</td> <th>  Durbin-Watson:     </th> <td>   2.060</td>\n",
       "</tr>\n",
       "<tr>\n",
       "  <th>Prob(Omnibus):</th> <td> 0.000</td> <th>  Jarque-Bera (JB):  </th> <td>  48.195</td>\n",
       "</tr>\n",
       "<tr>\n",
       "  <th>Skew:</th>          <td> 1.013</td> <th>  Prob(JB):          </th> <td>3.42e-11</td>\n",
       "</tr>\n",
       "<tr>\n",
       "  <th>Kurtosis:</th>      <td> 4.595</td> <th>  Cond. No.          </th> <td>    564.</td>\n",
       "</tr>\n",
       "</table><br/><br/>Warnings:<br/>[1] Standard Errors assume that the covariance matrix of the errors is correctly specified."
      ],
      "text/plain": [
       "<class 'statsmodels.iolib.summary.Summary'>\n",
       "\"\"\"\n",
       "                            OLS Regression Results                            \n",
       "==============================================================================\n",
       "Dep. Variable:       num_climate_laws   R-squared:                       0.213\n",
       "Model:                            OLS   Adj. R-squared:                  0.185\n",
       "Method:                 Least Squares   F-statistic:                     7.544\n",
       "Date:                Thu, 25 Feb 2021   Prob (F-statistic):           3.60e-07\n",
       "Time:                        21:46:44   Log-Likelihood:                -580.05\n",
       "No. Observations:                 174   AIC:                             1174.\n",
       "Df Residuals:                     167   BIC:                             1196.\n",
       "Df Model:                           6                                         \n",
       "Covariance Type:            nonrobust                                         \n",
       "============================================================================================\n",
       "                               coef    std err          t      P>|t|      [0.025      0.975]\n",
       "--------------------------------------------------------------------------------------------\n",
       "percent_global_emissions     0.3247      0.247      1.314      0.190      -0.163       0.812\n",
       "climate_risk_index          -0.0609      0.013     -4.580      0.000      -0.087      -0.035\n",
       "eu_member_ind                3.2324      1.820      1.776      0.078      -0.361       6.826\n",
       "High income                 17.7314      1.971      8.998      0.000      13.841      21.622\n",
       "Low income                  13.9359      1.803      7.729      0.000      10.376      17.495\n",
       "Lower middle income         16.7986      1.569     10.706      0.000      13.701      19.896\n",
       "Upper middle income         14.6784      1.592      9.220      0.000      11.535      17.822\n",
       "==============================================================================\n",
       "Omnibus:                       32.294   Durbin-Watson:                   2.060\n",
       "Prob(Omnibus):                  0.000   Jarque-Bera (JB):               48.195\n",
       "Skew:                           1.013   Prob(JB):                     3.42e-11\n",
       "Kurtosis:                       4.595   Cond. No.                         564.\n",
       "==============================================================================\n",
       "\n",
       "Warnings:\n",
       "[1] Standard Errors assume that the covariance matrix of the errors is correctly specified.\n",
       "\"\"\""
      ]
     },
     "execution_count": 164,
     "metadata": {},
     "output_type": "execute_result"
    }
   ],
   "source": [
    "# Fitting OLS\n",
    "country_X = climate_laws_country_df.iloc[:, 2:9]\n",
    "country_y = climate_laws_country_df.num_climate_laws\n",
    "country_ols = sm.OLS(country_y, country_X)\n",
    "country_ols_results = country_ols.fit()\n",
    "\n",
    "# Summary\n",
    "country_ols_results.summary()"
   ]
  },
  {
   "cell_type": "code",
   "execution_count": 167,
   "metadata": {},
   "outputs": [
    {
     "data": {
      "text/plain": [
       "count    174.000000\n",
       "mean      91.184770\n",
       "std       41.223002\n",
       "min       10.330000\n",
       "25%       58.000000\n",
       "50%       85.920000\n",
       "75%      119.545000\n",
       "max      173.670000\n",
       "Name: climate_risk_index, dtype: float64"
      ]
     },
     "execution_count": 167,
     "metadata": {},
     "output_type": "execute_result"
    }
   ],
   "source": [
    "# Exploring climate_risk_index\n",
    "climate_laws_country_df.climate_risk_index.describe()"
   ]
  },
  {
   "cell_type": "code",
   "execution_count": 172,
   "metadata": {},
   "outputs": [],
   "source": [
    "# OLS Results dictionary\n",
    "ols_results_dict = dict(country_ols_results.params)\n",
    "\n",
    "# Show\n",
    "print"
   ]
  },
  {
   "cell_type": "code",
   "execution_count": 178,
   "metadata": {},
   "outputs": [
    {
     "name": "stdout",
     "output_type": "stream",
     "text": [
      "1 standard deviation increase in climate_risk_index is associated with -2.5 increase in number of climate laws passed by a country\n",
      "Being a High income country (WB index) is associated with a 17.73 increase in number of climate_laws passed by a country\n"
     ]
    }
   ],
   "source": [
    "# Interpreting some of the results\n",
    "_ = np.std(climate_laws_country_df.climate_risk_index)*ols_results_dict['climate_risk_index']\n",
    "print(f\"1 standard deviation increase in climate_risk_index is associated with {round(_, 2)} increase in number of climate laws passed by a country\")\n",
    "_ = ols_results_dict['High income']\n",
    "print(f\"Being a High income country (WB index) is associated with a {round(_, 2)} increase in number of climate_laws passed by a country\")"
   ]
  },
  {
   "cell_type": "markdown",
   "metadata": {},
   "source": [
    "## Further idea\n",
    "\n",
    "Potentially build a **panel dataset** enriched with indicators from the WB development indicators.\n",
    "\n",
    "Some important observations to note:\n",
    "\n",
    "**1. Year range: 1947 to 2020 -> 73 years**\n",
    "\n",
    "**2. Number of countries: 198 (197 if we omit the European Union, although there needs to be a way to incorporate their data into the panel as it is a significant dataset)**"
   ]
  },
  {
   "cell_type": "markdown",
   "metadata": {},
   "source": [
    "### Idea: Use association rules to link different categories of climate laws with different categories of legislative processes "
   ]
  },
  {
   "cell_type": "code",
   "execution_count": 184,
   "metadata": {},
   "outputs": [
    {
     "data": {
      "text/plain": [
       "count    2084.000000\n",
       "mean     2010.420345\n",
       "std         7.643452\n",
       "min      1947.000000\n",
       "25%      2008.000000\n",
       "50%      2012.000000\n",
       "75%      2015.000000\n",
       "max      2020.000000\n",
       "Name: date_passed, dtype: float64"
      ]
     },
     "execution_count": 184,
     "metadata": {},
     "output_type": "execute_result"
    }
   ],
   "source": [
    "climate_laws_df[\"date_passed\"].astype(float).describe()"
   ]
  },
  {
   "cell_type": "code",
   "execution_count": 186,
   "metadata": {},
   "outputs": [
    {
     "data": {
      "text/plain": [
       "198"
      ]
     },
     "execution_count": 186,
     "metadata": {},
     "output_type": "execute_result"
    }
   ],
   "source": [
    "climate_laws_df[\"country_name\"].nunique()"
   ]
  },
  {
   "cell_type": "code",
   "execution_count": 217,
   "metadata": {},
   "outputs": [
    {
     "data": {
      "text/plain": [
       "'AU 500419'"
      ]
     },
     "execution_count": 217,
     "metadata": {},
     "output_type": "execute_result"
    }
   ],
   "source": [
    "text=\"There is a dependency on AU 500419. This should not be included. As well as this.\"\n",
    "re.findall(r\"(?i)(?<=dependency on)(.*)\", text)[0].split('.')[0].strip()"
   ]
  }
 ],
 "metadata": {
  "kernelspec": {
   "display_name": "Python 3",
   "language": "python",
   "name": "python3"
  },
  "language_info": {
   "codemirror_mode": {
    "name": "ipython",
    "version": 3
   },
   "file_extension": ".py",
   "mimetype": "text/x-python",
   "name": "python",
   "nbconvert_exporter": "python",
   "pygments_lexer": "ipython3",
   "version": "3.7.4"
  }
 },
 "nbformat": 4,
 "nbformat_minor": 2
}
