{
 "cells": [
  {
   "cell_type": "code",
   "execution_count": 63,
   "metadata": {},
   "outputs": [],
   "source": [
    "# Base packages\n",
    "import os\n",
    "import numpy as np\n",
    "import pandas as pd\n",
    "import json\n",
    "\n",
    "# Web scraping\n",
    "from bs4 import BeautifulSoup\n",
    "import requests\n",
    "\n",
    "# Misc\n",
    "from tqdm import tqdm\n",
    "from datetime import datetime\n",
    "from jupyterthemes import jtplot\n",
    "jtplot.style(theme='monokai')"
   ]
  },
  {
   "cell_type": "markdown",
   "metadata": {},
   "source": [
    "# Web scraping and data cleaning"
   ]
  },
  {
   "cell_type": "markdown",
   "metadata": {},
   "source": [
    "## Data source: Grantham Institute Climate Laws data\n",
    "\n",
    "\n",
    "<img src=\"logo-gri.png\" width=200>"
   ]
  },
  {
   "cell_type": "markdown",
   "metadata": {},
   "source": [
    "After investigating https://www.climate-laws.org/ with Edge's Developer Console, I've found out that the website's React app gets its JSON data from this link https://www.climate-laws.org/legislation_and_policies.json?offset=[offset]. This will allow me to batch request the data straight from the website's back-end, instead of scraping and cleaning static HTML files."
   ]
  },
  {
   "cell_type": "markdown",
   "metadata": {},
   "source": [
    "By: Viet Hung Ha and Anne-Laure Rajaona"
   ]
  },
  {
   "cell_type": "code",
   "execution_count": 2,
   "metadata": {},
   "outputs": [],
   "source": [
    "# Function to request data\n",
    "def request_climate_laws_data(offset_batch=np.arange(10, 2100, 10)):\n",
    "    \"\"\"\n",
    "    Get online Climate Laws data from climate-laws.org, and process it into DataFrame\n",
    "    \"\"\"\n",
    "    climate_laws_df = pd.DataFrame()\n",
    "    for offset in tqdm(offset_batch):\n",
    "        climate_laws_url = f\"https://www.climate-laws.org/legislation_and_policies.json?offset={offset}\"\n",
    "        climate_laws_data = requests.get(climate_laws_url)\n",
    "        climate_laws_df = climate_laws_df.append(climate_laws_data.json()[\"items\"])\n",
    "    return climate_laws_df.reset_index()"
   ]
  },
  {
   "cell_type": "code",
   "execution_count": 4,
   "metadata": {
    "scrolled": true
   },
   "outputs": [
    {
     "name": "stderr",
     "output_type": "stream",
     "text": [
      "100%|████████████████████████████████████████████████████████████████████████████████| 210/210 [00:39<00:00,  5.27it/s]\n"
     ]
    }
   ],
   "source": [
    "climate_laws_df = request_climate_laws_data(np.arange(10, 2110, 10))"
   ]
  },
  {
   "cell_type": "code",
   "execution_count": 5,
   "metadata": {
    "scrolled": false
   },
   "outputs": [
    {
     "name": "stdout",
     "output_type": "stream",
     "text": [
      "Data shape: (2100, 24)\n",
      "Columns:\n",
      "Index(['index', 'id', 'title', 'description', 'law_id', 'slug', 'geography_id',\n",
      "       'created_at', 'updated_at', 'visibility_status', 'created_by_id',\n",
      "       'updated_by_id', 'discarded_at', 'legislation_type', 'parent_id', 'tsv',\n",
      "       'date', 'link', 'short_description', 'geography', 'date_passed',\n",
      "       'last_change', 'legislation_type_humanize', 'geography_path'],\n",
      "      dtype='object')\n"
     ]
    },
    {
     "data": {
      "text/html": [
       "<div>\n",
       "<style scoped>\n",
       "    .dataframe tbody tr th:only-of-type {\n",
       "        vertical-align: middle;\n",
       "    }\n",
       "\n",
       "    .dataframe tbody tr th {\n",
       "        vertical-align: top;\n",
       "    }\n",
       "\n",
       "    .dataframe thead th {\n",
       "        text-align: right;\n",
       "    }\n",
       "</style>\n",
       "<table border=\"1\" class=\"dataframe\">\n",
       "  <thead>\n",
       "    <tr style=\"text-align: right;\">\n",
       "      <th></th>\n",
       "      <th>index</th>\n",
       "      <th>id</th>\n",
       "      <th>title</th>\n",
       "      <th>description</th>\n",
       "      <th>law_id</th>\n",
       "      <th>slug</th>\n",
       "      <th>geography_id</th>\n",
       "      <th>created_at</th>\n",
       "      <th>updated_at</th>\n",
       "      <th>visibility_status</th>\n",
       "      <th>...</th>\n",
       "      <th>parent_id</th>\n",
       "      <th>tsv</th>\n",
       "      <th>date</th>\n",
       "      <th>link</th>\n",
       "      <th>short_description</th>\n",
       "      <th>geography</th>\n",
       "      <th>date_passed</th>\n",
       "      <th>last_change</th>\n",
       "      <th>legislation_type_humanize</th>\n",
       "      <th>geography_path</th>\n",
       "    </tr>\n",
       "  </thead>\n",
       "  <tbody>\n",
       "    <tr>\n",
       "      <th>0</th>\n",
       "      <td>0</td>\n",
       "      <td>9746</td>\n",
       "      <td>Consolidated Appropriations Act, 2021</td>\n",
       "      <td>&lt;div&gt;This 2,000 pages-long document implements...</td>\n",
       "      <td>None</td>\n",
       "      <td>consolidated-appropriations-act-2021</td>\n",
       "      <td>192</td>\n",
       "      <td>2021-01-07T21:23:34.475Z</td>\n",
       "      <td>2021-01-07T21:32:20.664Z</td>\n",
       "      <td>published</td>\n",
       "      <td>...</td>\n",
       "      <td>NaN</td>\n",
       "      <td>'000':7B '2':6B '2021':4A 'act':3A 'advisori':...</td>\n",
       "      <td>2020-12-28</td>\n",
       "      <td>&lt;a href=\"/geographies/united-states-of-america...</td>\n",
       "      <td>This 2,000 pages-long document implements a ma...</td>\n",
       "      <td>{'id': 192, 'geography_type': 'national', 'iso...</td>\n",
       "      <td>2020</td>\n",
       "      <td>None</td>\n",
       "      <td>Legislative</td>\n",
       "      <td>/geographies/united-states-of-america</td>\n",
       "    </tr>\n",
       "    <tr>\n",
       "      <th>1</th>\n",
       "      <td>1</td>\n",
       "      <td>9767</td>\n",
       "      <td>Green Growth Strategy Through Achieving Carbon...</td>\n",
       "      <td>&lt;div&gt;This document is an industrial policy&lt;str...</td>\n",
       "      <td>None</td>\n",
       "      <td>green-growth-strategy-through-achieving-carbon...</td>\n",
       "      <td>86</td>\n",
       "      <td>2021-03-01T10:30:50.692Z</td>\n",
       "      <td>2021-03-01T10:35:34.284Z</td>\n",
       "      <td>published</td>\n",
       "      <td>...</td>\n",
       "      <td>NaN</td>\n",
       "      <td>'14':60B '2050':45B '5':49B 'achiev':5A 'actio...</td>\n",
       "      <td>2020-12-25</td>\n",
       "      <td>&lt;a href=\"/geographies/japan/policies/green-gro...</td>\n",
       "      <td>This document is an industrial policy which ai...</td>\n",
       "      <td>{'id': 86, 'geography_type': 'national', 'iso'...</td>\n",
       "      <td>2020</td>\n",
       "      <td>None</td>\n",
       "      <td>Executive</td>\n",
       "      <td>/geographies/japan</td>\n",
       "    </tr>\n",
       "    <tr>\n",
       "      <th>2</th>\n",
       "      <td>2</td>\n",
       "      <td>8713</td>\n",
       "      <td>General Law for Sustainable Forest Development</td>\n",
       "      <td>&lt;div&gt;This law replaces the &lt;a href=\"http://www...</td>\n",
       "      <td>None</td>\n",
       "      <td>general-law-for-sustainable-forest-development</td>\n",
       "      <td>114</td>\n",
       "      <td>2019-12-08T17:46:02.526Z</td>\n",
       "      <td>2021-02-17T17:53:37.188Z</td>\n",
       "      <td>published</td>\n",
       "      <td>...</td>\n",
       "      <td>NaN</td>\n",
       "      <td>'1':28B '10':126B '13th':222B '2':65B '2003':1...</td>\n",
       "      <td>2020-12-09</td>\n",
       "      <td>&lt;a href=\"/geographies/mexico/laws/general-law-...</td>\n",
       "      <td>This law replaces the 2003 general law for sus...</td>\n",
       "      <td>{'id': 114, 'geography_type': 'national', 'iso...</td>\n",
       "      <td>2018</td>\n",
       "      <td>December, 2020</td>\n",
       "      <td>Legislative</td>\n",
       "      <td>/geographies/mexico</td>\n",
       "    </tr>\n",
       "    <tr>\n",
       "      <th>3</th>\n",
       "      <td>3</td>\n",
       "      <td>9741</td>\n",
       "      <td>Notification S.O. 4259(E) creating the Apex Co...</td>\n",
       "      <td>&lt;div&gt;This document from the Ministry of Enviro...</td>\n",
       "      <td>None</td>\n",
       "      <td>notification-s-o-4259-e-creating-the-apex-comm...</td>\n",
       "      <td>78</td>\n",
       "      <td>2020-12-04T18:07:29.406Z</td>\n",
       "      <td>2020-12-04T18:13:52.925Z</td>\n",
       "      <td>published</td>\n",
       "      <td>...</td>\n",
       "      <td>NaN</td>\n",
       "      <td>'-2020':94B '4259':3A '6.2':81B '6.4':83B '6.8...</td>\n",
       "      <td>2020-11-27</td>\n",
       "      <td>&lt;a href=\"/geographies/india/policies/notificat...</td>\n",
       "      <td>This document from the Ministry of Environment...</td>\n",
       "      <td>{'id': 78, 'geography_type': 'national', 'iso'...</td>\n",
       "      <td>2020</td>\n",
       "      <td>None</td>\n",
       "      <td>Executive</td>\n",
       "      <td>/geographies/india</td>\n",
       "    </tr>\n",
       "    <tr>\n",
       "      <th>4</th>\n",
       "      <td>4</td>\n",
       "      <td>1687</td>\n",
       "      <td>CO2 Act (Act 641.71, fully revised version)</td>\n",
       "      <td>&lt;div&gt;On November 25, 2020, the Federal Council...</td>\n",
       "      <td>None</td>\n",
       "      <td>co2-act-act-641-71-fully-revised-version</td>\n",
       "      <td>174</td>\n",
       "      <td>2019-12-08T17:46:22.795Z</td>\n",
       "      <td>2020-12-04T15:29:03.388Z</td>\n",
       "      <td>published</td>\n",
       "      <td>...</td>\n",
       "      <td>NaN</td>\n",
       "      <td>'-12':731B '-20':205B '-2012':386B '-2020':417...</td>\n",
       "      <td>2020-11-25</td>\n",
       "      <td>&lt;a href=\"/geographies/switzerland/laws/co2-act...</td>\n",
       "      <td>On November 25, 2020, the Federal Council adop...</td>\n",
       "      <td>{'id': 174, 'geography_type': 'national', 'iso...</td>\n",
       "      <td>2013</td>\n",
       "      <td>November, 2020</td>\n",
       "      <td>Legislative</td>\n",
       "      <td>/geographies/switzerland</td>\n",
       "    </tr>\n",
       "  </tbody>\n",
       "</table>\n",
       "<p>5 rows × 24 columns</p>\n",
       "</div>"
      ],
      "text/plain": [
       "   index    id                                              title  \\\n",
       "0      0  9746              Consolidated Appropriations Act, 2021   \n",
       "1      1  9767  Green Growth Strategy Through Achieving Carbon...   \n",
       "2      2  8713     General Law for Sustainable Forest Development   \n",
       "3      3  9741  Notification S.O. 4259(E) creating the Apex Co...   \n",
       "4      4  1687        CO2 Act (Act 641.71, fully revised version)   \n",
       "\n",
       "                                         description law_id  \\\n",
       "0  <div>This 2,000 pages-long document implements...   None   \n",
       "1  <div>This document is an industrial policy<str...   None   \n",
       "2  <div>This law replaces the <a href=\"http://www...   None   \n",
       "3  <div>This document from the Ministry of Enviro...   None   \n",
       "4  <div>On November 25, 2020, the Federal Council...   None   \n",
       "\n",
       "                                                slug  geography_id  \\\n",
       "0               consolidated-appropriations-act-2021           192   \n",
       "1  green-growth-strategy-through-achieving-carbon...            86   \n",
       "2     general-law-for-sustainable-forest-development           114   \n",
       "3  notification-s-o-4259-e-creating-the-apex-comm...            78   \n",
       "4           co2-act-act-641-71-fully-revised-version           174   \n",
       "\n",
       "                 created_at                updated_at visibility_status  ...  \\\n",
       "0  2021-01-07T21:23:34.475Z  2021-01-07T21:32:20.664Z         published  ...   \n",
       "1  2021-03-01T10:30:50.692Z  2021-03-01T10:35:34.284Z         published  ...   \n",
       "2  2019-12-08T17:46:02.526Z  2021-02-17T17:53:37.188Z         published  ...   \n",
       "3  2020-12-04T18:07:29.406Z  2020-12-04T18:13:52.925Z         published  ...   \n",
       "4  2019-12-08T17:46:22.795Z  2020-12-04T15:29:03.388Z         published  ...   \n",
       "\n",
       "  parent_id                                                tsv        date  \\\n",
       "0       NaN  '000':7B '2':6B '2021':4A 'act':3A 'advisori':...  2020-12-28   \n",
       "1       NaN  '14':60B '2050':45B '5':49B 'achiev':5A 'actio...  2020-12-25   \n",
       "2       NaN  '1':28B '10':126B '13th':222B '2':65B '2003':1...  2020-12-09   \n",
       "3       NaN  '-2020':94B '4259':3A '6.2':81B '6.4':83B '6.8...  2020-11-27   \n",
       "4       NaN  '-12':731B '-20':205B '-2012':386B '-2020':417...  2020-11-25   \n",
       "\n",
       "                                                link  \\\n",
       "0  <a href=\"/geographies/united-states-of-america...   \n",
       "1  <a href=\"/geographies/japan/policies/green-gro...   \n",
       "2  <a href=\"/geographies/mexico/laws/general-law-...   \n",
       "3  <a href=\"/geographies/india/policies/notificat...   \n",
       "4  <a href=\"/geographies/switzerland/laws/co2-act...   \n",
       "\n",
       "                                   short_description  \\\n",
       "0  This 2,000 pages-long document implements a ma...   \n",
       "1  This document is an industrial policy which ai...   \n",
       "2  This law replaces the 2003 general law for sus...   \n",
       "3  This document from the Ministry of Environment...   \n",
       "4  On November 25, 2020, the Federal Council adop...   \n",
       "\n",
       "                                           geography date_passed  \\\n",
       "0  {'id': 192, 'geography_type': 'national', 'iso...        2020   \n",
       "1  {'id': 86, 'geography_type': 'national', 'iso'...        2020   \n",
       "2  {'id': 114, 'geography_type': 'national', 'iso...        2018   \n",
       "3  {'id': 78, 'geography_type': 'national', 'iso'...        2020   \n",
       "4  {'id': 174, 'geography_type': 'national', 'iso...        2013   \n",
       "\n",
       "      last_change legislation_type_humanize  \\\n",
       "0            None               Legislative   \n",
       "1            None                 Executive   \n",
       "2  December, 2020               Legislative   \n",
       "3            None                 Executive   \n",
       "4  November, 2020               Legislative   \n",
       "\n",
       "                          geography_path  \n",
       "0  /geographies/united-states-of-america  \n",
       "1                     /geographies/japan  \n",
       "2                    /geographies/mexico  \n",
       "3                     /geographies/india  \n",
       "4               /geographies/switzerland  \n",
       "\n",
       "[5 rows x 24 columns]"
      ]
     },
     "execution_count": 5,
     "metadata": {},
     "output_type": "execute_result"
    }
   ],
   "source": [
    "# Exploring dataset\n",
    "print(f\"Data shape: {climate_laws_df.shape}\")\n",
    "print(f\"Columns:\\n{climate_laws_df.columns}\")\n",
    "climate_laws_df.head()"
   ]
  },
  {
   "cell_type": "code",
   "execution_count": 6,
   "metadata": {},
   "outputs": [],
   "source": [
    "# Saving data to use later, instead of requesting from server\n",
    "os.makedirs(\"./climate_laws_data\", exist_ok=True)\n",
    "timestamp = datetime.now().strftime(\"%Y.%m.%d_%H.%M.%S\")\n",
    "\n",
    "climate_laws_df.to_excel(f\"./climate_laws_data/{timestamp}_climate_laws_data.xlsx\", index=False)"
   ]
  },
  {
   "cell_type": "markdown",
   "metadata": {},
   "source": [
    "### EDA and data cleaning"
   ]
  },
  {
   "cell_type": "code",
   "execution_count": 7,
   "metadata": {},
   "outputs": [],
   "source": [
    "import matplotlib.pyplot as plt\n",
    "import seaborn as sns"
   ]
  },
  {
   "cell_type": "code",
   "execution_count": 8,
   "metadata": {},
   "outputs": [
    {
     "data": {
      "image/png": "[encoded data removed]",
      "text/plain": [
       "<Figure size 432x288 with 1 Axes>"
      ]
     },
     "metadata": {},
     "output_type": "display_data"
    }
   ],
   "source": [
    "# Types of legislation\n",
    "legislation_type_plot = sns.countplot(x=\"legislation_type_humanize\", data=climate_laws_df)\n",
    "plt.xlabel(\"Legislation type\")\n",
    "plt.show()"
   ]
  },
  {
   "cell_type": "code",
   "execution_count": 9,
   "metadata": {
    "scrolled": false
   },
   "outputs": [
    {
     "data": {
      "image/png": "[encoded data removed]",
      "text/plain": [
       "<Figure size 432x288 with 1 Axes>"
      ]
     },
     "metadata": {},
     "output_type": "display_data"
    },
    {
     "name": "stdout",
     "output_type": "stream",
     "text": [
      "Year with maximum number of laws passed: \n"
     ]
    },
    {
     "data": {
      "text/html": [
       "<div>\n",
       "<style scoped>\n",
       "    .dataframe tbody tr th:only-of-type {\n",
       "        vertical-align: middle;\n",
       "    }\n",
       "\n",
       "    .dataframe tbody tr th {\n",
       "        vertical-align: top;\n",
       "    }\n",
       "\n",
       "    .dataframe thead th {\n",
       "        text-align: right;\n",
       "    }\n",
       "</style>\n",
       "<table border=\"1\" class=\"dataframe\">\n",
       "  <thead>\n",
       "    <tr style=\"text-align: right;\">\n",
       "      <th></th>\n",
       "      <th>date_passed</th>\n",
       "      <th>id</th>\n",
       "    </tr>\n",
       "  </thead>\n",
       "  <tbody>\n",
       "    <tr>\n",
       "      <th>40</th>\n",
       "      <td>2013</td>\n",
       "      <td>163</td>\n",
       "    </tr>\n",
       "  </tbody>\n",
       "</table>\n",
       "</div>"
      ],
      "text/plain": [
       "   date_passed   id\n",
       "40        2013  163"
      ]
     },
     "execution_count": 9,
     "metadata": {},
     "output_type": "execute_result"
    }
   ],
   "source": [
    "# Date passed - seeing the distribution of pass date of the laws\n",
    "date_passed_count_df = pd.DataFrame(pd.pivot_table(values=\"id\", index=\"date_passed\", aggfunc='count', data=climate_laws_df).to_records())\n",
    "date_passed_count_df.plot(x=\"date_passed\", ylabel=\"Number of climate laws passed\", xlabel=\"Year passed\")\n",
    "plt.show()\n",
    "\n",
    "print(\"Year with maximum number of laws passed: \")\n",
    "date_passed_count_df[date_passed_count_df[\"id\"] == date_passed_count_df[\"id\"].max()]"
   ]
  },
  {
   "cell_type": "markdown",
   "metadata": {},
   "source": [
    "#### Observations:\n",
    "The figure above is interesting. \n",
    "\n",
    "The number of laws passed started to skyrocket around 1999 and continue to rise until 2013, after which we see a marked decline.\n",
    "\n",
    "Additionally, we see that 2013 has the highest number of climate laws passed, it will be interesting to see which countries contribute to these? As well as which topics (topic modelling will come later)\n",
    "\n",
    "#### Update:\n",
    "\n",
    "This peak coincides with the drafting and signing of the **Paris Agreement** in 2015 and 2016."
   ]
  },
  {
   "cell_type": "markdown",
   "metadata": {},
   "source": [
    "## Provisional research question:\n",
    "\n",
    "\"What factors explain the presence of climate laws in a given year?\""
   ]
  },
  {
   "cell_type": "code",
   "execution_count": 10,
   "metadata": {},
   "outputs": [],
   "source": [
    "# Extracting country name from geography column\n",
    "def extract_country_name(df):\n",
    "    return df[\"geography\"][\"name\"]\n",
    "climate_laws_df.loc[:, \"country_name\"] = climate_laws_df.apply(lambda x: extract_country_name(x), axis=1)"
   ]
  },
  {
   "cell_type": "code",
   "execution_count": 11,
   "metadata": {},
   "outputs": [],
   "source": [
    "# Investigating which countries pass to the Climate laws in 2013\n",
    "def country_laws_year_passed(year=2013):\n",
    "    count_df = pd.DataFrame(pd.pivot_table(values=\"id\", index=\"country_name\", aggfunc=\"count\",\n",
    "                                          data=climate_laws_df[climate_laws_df[\"date_passed\"]==str(year)]).to_records())\n",
    "    return count_df"
   ]
  },
  {
   "cell_type": "code",
   "execution_count": 12,
   "metadata": {},
   "outputs": [
    {
     "data": {
      "text/html": [
       "<div>\n",
       "<style scoped>\n",
       "    .dataframe tbody tr th:only-of-type {\n",
       "        vertical-align: middle;\n",
       "    }\n",
       "\n",
       "    .dataframe tbody tr th {\n",
       "        vertical-align: top;\n",
       "    }\n",
       "\n",
       "    .dataframe thead th {\n",
       "        text-align: right;\n",
       "    }\n",
       "</style>\n",
       "<table border=\"1\" class=\"dataframe\">\n",
       "  <thead>\n",
       "    <tr style=\"text-align: right;\">\n",
       "      <th></th>\n",
       "      <th>country_name</th>\n",
       "      <th>id</th>\n",
       "    </tr>\n",
       "  </thead>\n",
       "  <tbody>\n",
       "    <tr>\n",
       "      <th>81</th>\n",
       "      <td>Spain</td>\n",
       "      <td>8</td>\n",
       "    </tr>\n",
       "    <tr>\n",
       "      <th>31</th>\n",
       "      <td>European Union</td>\n",
       "      <td>5</td>\n",
       "    </tr>\n",
       "    <tr>\n",
       "      <th>15</th>\n",
       "      <td>Burkina Faso</td>\n",
       "      <td>5</td>\n",
       "    </tr>\n",
       "    <tr>\n",
       "      <th>12</th>\n",
       "      <td>Brazil</td>\n",
       "      <td>5</td>\n",
       "    </tr>\n",
       "    <tr>\n",
       "      <th>18</th>\n",
       "      <td>Chile</td>\n",
       "      <td>4</td>\n",
       "    </tr>\n",
       "  </tbody>\n",
       "</table>\n",
       "</div>"
      ],
      "text/plain": [
       "      country_name  id\n",
       "81           Spain   8\n",
       "31  European Union   5\n",
       "15    Burkina Faso   5\n",
       "12          Brazil   5\n",
       "18           Chile   4"
      ]
     },
     "execution_count": 12,
     "metadata": {},
     "output_type": "execute_result"
    }
   ],
   "source": [
    "# Seeing the Top five countries passing highest number of climate laws in 2013\n",
    "country_laws_year_passed(year=2013).sort_values(\"id\", ascending=False).head()"
   ]
  },
  {
   "cell_type": "code",
   "execution_count": 13,
   "metadata": {
    "scrolled": true
   },
   "outputs": [
    {
     "name": "stdout",
     "output_type": "stream",
     "text": [
      "// Burkina Faso - 2013: //\n",
      "National multi-risk plan for disaster preparedness and response\n",
      "Decree no. 2013-325 (establishing the mission of a national entity responding to climate change)\n",
      "Law no. 006-2013 (on the Code for the Environment)\n",
      "Decree no. 2013-151 (on the National Council for the Environment and Sustainable Development)\n",
      "Law of finance 2013 relative to the deletion of customs charges on equipments and material of solar energy\n"
     ]
    }
   ],
   "source": [
    "# I've found it a bit surprising to see Burkina Faso on this list, let's investigate which laws were passed\n",
    "# Helper function\n",
    "def print_laws_title_country_year(country, year):\n",
    "    print(f\"// {country} - {str(year)}: //\")\n",
    "    for item in climate_laws_df[(climate_laws_df[\"country_name\"]==country) & \n",
    "                    (climate_laws_df[\"date_passed\"]==str(year))][\"title\"]:\n",
    "        print(item)\n",
    "\n",
    "print_laws_title_country_year(\"Burkina Faso\", 2013)"
   ]
  },
  {
   "cell_type": "code",
   "execution_count": 14,
   "metadata": {},
   "outputs": [
    {
     "name": "stdout",
     "output_type": "stream",
     "text": [
      "Maximum number of climate laws passed by country/region in a year:\n",
      "id    9\n",
      "Name: (2009, European Union), dtype: int64\n"
     ]
    }
   ],
   "source": [
    "# Finding out which country/region passes the maximum number of climate laws within a year\n",
    "_ = pd.DataFrame(pd.pivot_table(values=\"id\", index=[\"date_passed\", \"country_name\"], aggfunc=\"count\", data=climate_laws_df))\n",
    "\n",
    "# Print out result\n",
    "print(f\"Maximum number of climate laws passed by country/region in a year:\\n{_.iloc[_.id.argmax(), :]}\")"
   ]
  },
  {
   "cell_type": "markdown",
   "metadata": {},
   "source": [
    "9 climate laws were passed by the European Union in 2009. Let's see what they are "
   ]
  },
  {
   "cell_type": "code",
   "execution_count": 15,
   "metadata": {
    "scrolled": true
   },
   "outputs": [
    {
     "name": "stdout",
     "output_type": "stream",
     "text": [
      "Clean and energy-efficient road transport vehicles (Directive 2009/33/EC on the promotion of clean road transport vehicles in support of low-emission mobility) \n",
      "\n",
      "Third Energy Package (Directive on electricity 2009/72/EC, repealing Directive 2003/54/EC and Directive on gas 2009/73/EC, repealing Directive 2003/55/EC) \n",
      "\n",
      "Revision of the EU Emission Trading System (EU ETS) (Directive 2009/29/EC amending Directive 2003/87/EC so as to improve and extend the greenhouse gas emission allowance trading scheme of the Community) \n",
      "\n",
      "Fuel Quality (Directives 2009/30/EC and 2015/1513 amending Directive 98/70/EC as regards the specification of petrol, diesel and gas-oil and introducing a mechanism to monitor and reduce GHG emissions and amending Council Directive 1999/32/EC as regards the specification of fuel used by inland waterway vessels and repealing Directive 93/12/EEC) \n",
      "\n",
      "Emission performance standards for new passenger cars (Regulation (EC) No. 443/2009 setting emission performance standards for new passenger cars as part of the Community's integrated approach to reduce CO2 emissions from light-duty vehicles) \n",
      "\n",
      "2020 Climate and Energy Package (contains Directive 2009/29/EC, Directive 2009/28/EC, Directive 2009/31/EC and Decision No. 406/2009/EC of the Parliament and the Council ; see below) \n",
      "\n",
      "Regulation No 1222/2009 on the labelling of tyres with respect to fuel efficiency and other essential parameters \n",
      "\n",
      "Geological storage of carbon dioxide (Directive 2009/31/EC on the geological storage of carbon dioxide and amending Council Directive 85/337/EEC, European Parliament and Council Directives 2000/60/EC, 2001/80/EC, 2004/35/EC, 2006/12/EC, 2008/1/EC and Regulation (EC) No 1013/2006) \n",
      "\n",
      "Effort Sharing Decision (Decision No. 406/2009/EC on the effort of Member States to reduce their greenhouse gas emissions to meet the Community's greenhouse gas emission reduction commitments up to 2020) \n",
      "\n"
     ]
    }
   ],
   "source": [
    "# 9 laws passed by the EU in 2009\n",
    "for law in climate_laws_df[(climate_laws_df[\"date_passed\"]==\"2009\") & (climate_laws_df[\"country_name\"]==\"European Union\")][\"title\"]:\n",
    "    print(law, '\\n')"
   ]
  },
  {
   "cell_type": "markdown",
   "metadata": {},
   "source": [
    "#### Observation:\n",
    "\n",
    "Upon further observations, I noticed that the \"geography\" column contains a lot of useful information, such as the country's World Bank Income Group, Climate Risk index, Percent of Global Emissions, etc. It will be very useful to bring these information into the columns of the main DataFrame."
   ]
  },
  {
   "cell_type": "code",
   "execution_count": 16,
   "metadata": {},
   "outputs": [],
   "source": [
    "# Enriching data with more useful information from \"geography column\"\n",
    "def percent_global_emissions(df):\n",
    "    return df[\"geography\"][\"percent_global_emissions\"]\n",
    "\n",
    "def climate_risk_index(df):\n",
    "    return df[\"geography\"][\"climate_risk_index\"]\n",
    "\n",
    "def wb_income_group(df):\n",
    "    return df[\"geography\"][\"wb_income_group\"]\n",
    "\n",
    "def eu_member_ind(df):\n",
    "    return df[\"geography\"][\"eu_member\"]\n",
    "\n",
    "def visibility_status(df):\n",
    "    return df[\"geography\"][\"visibility_status\"]\n",
    "\n",
    "def law_discarded_at(df):\n",
    "    return df[\"geography\"][\"discarded_at\"]\n",
    "\n",
    "def federal_ind(df):\n",
    "    return df[\"geography\"][\"federal\"]\n",
    "\n",
    "def legislative_process(df):\n",
    "    return df[\"geography\"][\"legislative_process\"]\n",
    "\n",
    "# Adding columns\n",
    "for func, name in zip([percent_global_emissions, climate_risk_index, wb_income_group, eu_member_ind, visibility_status, law_discarded_at, federal_ind, legislative_process],\n",
    "                     [\"percent_global_emissions\", \"climate_risk_index\", \"wb_income_group\", \"eu_member_ind\", \"visibility_status\", \"law_discarded_at\", \"federal_ind\", \"legislative_process\"]):\n",
    "    climate_laws_df.loc[:, name] = climate_laws_df.apply(lambda x: func(x), axis=1)"
   ]
  },
  {
   "cell_type": "code",
   "execution_count": 17,
   "metadata": {},
   "outputs": [
    {
     "data": {
      "text/html": [
       "<div>\n",
       "<style scoped>\n",
       "    .dataframe tbody tr th:only-of-type {\n",
       "        vertical-align: middle;\n",
       "    }\n",
       "\n",
       "    .dataframe tbody tr th {\n",
       "        vertical-align: top;\n",
       "    }\n",
       "\n",
       "    .dataframe thead th {\n",
       "        text-align: right;\n",
       "    }\n",
       "</style>\n",
       "<table border=\"1\" class=\"dataframe\">\n",
       "  <thead>\n",
       "    <tr style=\"text-align: right;\">\n",
       "      <th></th>\n",
       "      <th>wb_income_group</th>\n",
       "      <th>id</th>\n",
       "    </tr>\n",
       "  </thead>\n",
       "  <tbody>\n",
       "    <tr>\n",
       "      <th>0</th>\n",
       "      <td></td>\n",
       "      <td>4</td>\n",
       "    </tr>\n",
       "    <tr>\n",
       "      <th>1</th>\n",
       "      <td>High income</td>\n",
       "      <td>741</td>\n",
       "    </tr>\n",
       "    <tr>\n",
       "      <th>2</th>\n",
       "      <td>Low income</td>\n",
       "      <td>237</td>\n",
       "    </tr>\n",
       "    <tr>\n",
       "      <th>3</th>\n",
       "      <td>Lower middle income</td>\n",
       "      <td>503</td>\n",
       "    </tr>\n",
       "    <tr>\n",
       "      <th>4</th>\n",
       "      <td>Upper middle income</td>\n",
       "      <td>530</td>\n",
       "    </tr>\n",
       "  </tbody>\n",
       "</table>\n",
       "</div>"
      ],
      "text/plain": [
       "       wb_income_group   id\n",
       "0                         4\n",
       "1          High income  741\n",
       "2           Low income  237\n",
       "3  Lower middle income  503\n",
       "4  Upper middle income  530"
      ]
     },
     "execution_count": 17,
     "metadata": {},
     "output_type": "execute_result"
    }
   ],
   "source": [
    "# Seeing number of laws passed per WB Income Group\n",
    "pd.DataFrame(pd.pivot_table(values=\"id\", index=\"wb_income_group\", aggfunc=\"count\", data=climate_laws_df.dropna(subset=[\"wb_income_group\"])).to_records())"
   ]
  },
  {
   "cell_type": "markdown",
   "metadata": {},
   "source": [
    "**Observation**\n",
    "\n",
    "Middle income countries are most active at issuing climate laws"
   ]
  },
  {
   "cell_type": "code",
   "execution_count": 18,
   "metadata": {},
   "outputs": [],
   "source": [
    "# Saving this expanded dataset\n",
    "timestamp = datetime.now().strftime(\"%Y.%m.%d_%H.%M.%S\")\n",
    "climate_laws_df.to_excel(f\"./climate_laws_data/{timestamp}_climate_laws_data_expanded.xlsx\", index=False)"
   ]
  },
  {
   "cell_type": "markdown",
   "metadata": {},
   "source": [
    "#### Exploring this expanded dataset "
   ]
  },
  {
   "cell_type": "code",
   "execution_count": 19,
   "metadata": {
    "scrolled": false
   },
   "outputs": [
    {
     "data": {
      "text/html": [
       "<div>\n",
       "<style scoped>\n",
       "    .dataframe tbody tr th:only-of-type {\n",
       "        vertical-align: middle;\n",
       "    }\n",
       "\n",
       "    .dataframe tbody tr th {\n",
       "        vertical-align: top;\n",
       "    }\n",
       "\n",
       "    .dataframe thead th {\n",
       "        text-align: right;\n",
       "    }\n",
       "</style>\n",
       "<table border=\"1\" class=\"dataframe\">\n",
       "  <thead>\n",
       "    <tr style=\"text-align: right;\">\n",
       "      <th></th>\n",
       "      <th>index</th>\n",
       "      <th>id</th>\n",
       "      <th>title</th>\n",
       "      <th>description</th>\n",
       "      <th>law_id</th>\n",
       "      <th>slug</th>\n",
       "      <th>geography_id</th>\n",
       "      <th>created_at</th>\n",
       "      <th>updated_at</th>\n",
       "      <th>visibility_status</th>\n",
       "      <th>...</th>\n",
       "      <th>legislation_type_humanize</th>\n",
       "      <th>geography_path</th>\n",
       "      <th>country_name</th>\n",
       "      <th>percent_global_emissions</th>\n",
       "      <th>climate_risk_index</th>\n",
       "      <th>wb_income_group</th>\n",
       "      <th>eu_member_ind</th>\n",
       "      <th>law_discarded_at</th>\n",
       "      <th>federal_ind</th>\n",
       "      <th>legislative_process</th>\n",
       "    </tr>\n",
       "  </thead>\n",
       "  <tbody>\n",
       "    <tr>\n",
       "      <th>0</th>\n",
       "      <td>0</td>\n",
       "      <td>9746</td>\n",
       "      <td>Consolidated Appropriations Act, 2021</td>\n",
       "      <td>&lt;div&gt;This 2,000 pages-long document implements...</td>\n",
       "      <td>None</td>\n",
       "      <td>consolidated-appropriations-act-2021</td>\n",
       "      <td>192</td>\n",
       "      <td>2021-01-07T21:23:34.475Z</td>\n",
       "      <td>2021-01-07T21:32:20.664Z</td>\n",
       "      <td>published</td>\n",
       "      <td>...</td>\n",
       "      <td>Legislative</td>\n",
       "      <td>/geographies/united-states-of-america</td>\n",
       "      <td>United States of America</td>\n",
       "      <td>12.28</td>\n",
       "      <td>44.17</td>\n",
       "      <td>High income</td>\n",
       "      <td>False</td>\n",
       "      <td>None</td>\n",
       "      <td>True</td>\n",
       "      <td>&lt;p style=\"text-align: justify;\"&gt;The United Sta...</td>\n",
       "    </tr>\n",
       "    <tr>\n",
       "      <th>1</th>\n",
       "      <td>1</td>\n",
       "      <td>9767</td>\n",
       "      <td>Green Growth Strategy Through Achieving Carbon...</td>\n",
       "      <td>&lt;div&gt;This document is an industrial policy&lt;str...</td>\n",
       "      <td>None</td>\n",
       "      <td>green-growth-strategy-through-achieving-carbon...</td>\n",
       "      <td>86</td>\n",
       "      <td>2021-03-01T10:30:50.692Z</td>\n",
       "      <td>2021-03-01T10:35:34.284Z</td>\n",
       "      <td>published</td>\n",
       "      <td>...</td>\n",
       "      <td>Executive</td>\n",
       "      <td>/geographies/japan</td>\n",
       "      <td>Japan</td>\n",
       "      <td>2.66</td>\n",
       "      <td>69.33</td>\n",
       "      <td>High income</td>\n",
       "      <td>False</td>\n",
       "      <td>None</td>\n",
       "      <td>False</td>\n",
       "      <td>&lt;div&gt;&lt;br&gt;The National Diet is the sole law-mak...</td>\n",
       "    </tr>\n",
       "    <tr>\n",
       "      <th>2</th>\n",
       "      <td>2</td>\n",
       "      <td>8713</td>\n",
       "      <td>General Law for Sustainable Forest Development</td>\n",
       "      <td>&lt;div&gt;This law replaces the &lt;a href=\"http://www...</td>\n",
       "      <td>None</td>\n",
       "      <td>general-law-for-sustainable-forest-development</td>\n",
       "      <td>114</td>\n",
       "      <td>2019-12-08T17:46:02.526Z</td>\n",
       "      <td>2021-02-17T17:53:37.188Z</td>\n",
       "      <td>published</td>\n",
       "      <td>...</td>\n",
       "      <td>Legislative</td>\n",
       "      <td>/geographies/mexico</td>\n",
       "      <td>Mexico</td>\n",
       "      <td>1.45</td>\n",
       "      <td>61.83</td>\n",
       "      <td>Upper middle income</td>\n",
       "      <td>False</td>\n",
       "      <td>None</td>\n",
       "      <td>True</td>\n",
       "      <td>&lt;div&gt;The United Mexican States (Mexico) has a ...</td>\n",
       "    </tr>\n",
       "    <tr>\n",
       "      <th>3</th>\n",
       "      <td>3</td>\n",
       "      <td>9741</td>\n",
       "      <td>Notification S.O. 4259(E) creating the Apex Co...</td>\n",
       "      <td>&lt;div&gt;This document from the Ministry of Enviro...</td>\n",
       "      <td>None</td>\n",
       "      <td>notification-s-o-4259-e-creating-the-apex-comm...</td>\n",
       "      <td>78</td>\n",
       "      <td>2020-12-04T18:07:29.406Z</td>\n",
       "      <td>2020-12-04T18:13:52.925Z</td>\n",
       "      <td>published</td>\n",
       "      <td>...</td>\n",
       "      <td>Executive</td>\n",
       "      <td>/geographies/india</td>\n",
       "      <td>India</td>\n",
       "      <td>6.81</td>\n",
       "      <td>38.67</td>\n",
       "      <td>Lower middle income</td>\n",
       "      <td>False</td>\n",
       "      <td>None</td>\n",
       "      <td>True</td>\n",
       "      <td>&lt;p style=\"text-align: justify;\"&gt;The Indian par...</td>\n",
       "    </tr>\n",
       "    <tr>\n",
       "      <th>4</th>\n",
       "      <td>4</td>\n",
       "      <td>1687</td>\n",
       "      <td>CO2 Act (Act 641.71, fully revised version)</td>\n",
       "      <td>&lt;div&gt;On November 25, 2020, the Federal Council...</td>\n",
       "      <td>None</td>\n",
       "      <td>co2-act-act-641-71-fully-revised-version</td>\n",
       "      <td>174</td>\n",
       "      <td>2019-12-08T17:46:22.795Z</td>\n",
       "      <td>2020-12-04T15:29:03.388Z</td>\n",
       "      <td>published</td>\n",
       "      <td>...</td>\n",
       "      <td>Legislative</td>\n",
       "      <td>/geographies/switzerland</td>\n",
       "      <td>Switzerland</td>\n",
       "      <td>0.1</td>\n",
       "      <td>52.33</td>\n",
       "      <td>High income</td>\n",
       "      <td>False</td>\n",
       "      <td>None</td>\n",
       "      <td>True</td>\n",
       "      <td>&lt;p style=\"text-align: justify;\"&gt;Switzerland is...</td>\n",
       "    </tr>\n",
       "  </tbody>\n",
       "</table>\n",
       "<p>5 rows × 32 columns</p>\n",
       "</div>"
      ],
      "text/plain": [
       "   index    id                                              title  \\\n",
       "0      0  9746              Consolidated Appropriations Act, 2021   \n",
       "1      1  9767  Green Growth Strategy Through Achieving Carbon...   \n",
       "2      2  8713     General Law for Sustainable Forest Development   \n",
       "3      3  9741  Notification S.O. 4259(E) creating the Apex Co...   \n",
       "4      4  1687        CO2 Act (Act 641.71, fully revised version)   \n",
       "\n",
       "                                         description law_id  \\\n",
       "0  <div>This 2,000 pages-long document implements...   None   \n",
       "1  <div>This document is an industrial policy<str...   None   \n",
       "2  <div>This law replaces the <a href=\"http://www...   None   \n",
       "3  <div>This document from the Ministry of Enviro...   None   \n",
       "4  <div>On November 25, 2020, the Federal Council...   None   \n",
       "\n",
       "                                                slug  geography_id  \\\n",
       "0               consolidated-appropriations-act-2021           192   \n",
       "1  green-growth-strategy-through-achieving-carbon...            86   \n",
       "2     general-law-for-sustainable-forest-development           114   \n",
       "3  notification-s-o-4259-e-creating-the-apex-comm...            78   \n",
       "4           co2-act-act-641-71-fully-revised-version           174   \n",
       "\n",
       "                 created_at                updated_at visibility_status  ...  \\\n",
       "0  2021-01-07T21:23:34.475Z  2021-01-07T21:32:20.664Z         published  ...   \n",
       "1  2021-03-01T10:30:50.692Z  2021-03-01T10:35:34.284Z         published  ...   \n",
       "2  2019-12-08T17:46:02.526Z  2021-02-17T17:53:37.188Z         published  ...   \n",
       "3  2020-12-04T18:07:29.406Z  2020-12-04T18:13:52.925Z         published  ...   \n",
       "4  2019-12-08T17:46:22.795Z  2020-12-04T15:29:03.388Z         published  ...   \n",
       "\n",
       "  legislation_type_humanize                         geography_path  \\\n",
       "0               Legislative  /geographies/united-states-of-america   \n",
       "1                 Executive                     /geographies/japan   \n",
       "2               Legislative                    /geographies/mexico   \n",
       "3                 Executive                     /geographies/india   \n",
       "4               Legislative               /geographies/switzerland   \n",
       "\n",
       "               country_name percent_global_emissions climate_risk_index  \\\n",
       "0  United States of America                    12.28              44.17   \n",
       "1                     Japan                     2.66              69.33   \n",
       "2                    Mexico                     1.45              61.83   \n",
       "3                     India                     6.81              38.67   \n",
       "4               Switzerland                      0.1              52.33   \n",
       "\n",
       "       wb_income_group eu_member_ind law_discarded_at federal_ind  \\\n",
       "0          High income         False             None        True   \n",
       "1          High income         False             None       False   \n",
       "2  Upper middle income         False             None        True   \n",
       "3  Lower middle income         False             None        True   \n",
       "4          High income         False             None        True   \n",
       "\n",
       "                                 legislative_process  \n",
       "0  <p style=\"text-align: justify;\">The United Sta...  \n",
       "1  <div><br>The National Diet is the sole law-mak...  \n",
       "2  <div>The United Mexican States (Mexico) has a ...  \n",
       "3  <p style=\"text-align: justify;\">The Indian par...  \n",
       "4  <p style=\"text-align: justify;\">Switzerland is...  \n",
       "\n",
       "[5 rows x 32 columns]"
      ]
     },
     "execution_count": 19,
     "metadata": {},
     "output_type": "execute_result"
    }
   ],
   "source": [
    "climate_laws_df.head()"
   ]
  },
  {
   "cell_type": "code",
   "execution_count": 20,
   "metadata": {},
   "outputs": [
    {
     "data": {
      "text/plain": [
       "Index(['index', 'id', 'title', 'description', 'law_id', 'slug', 'geography_id',\n",
       "       'created_at', 'updated_at', 'visibility_status', 'created_by_id',\n",
       "       'updated_by_id', 'discarded_at', 'legislation_type', 'parent_id', 'tsv',\n",
       "       'date', 'link', 'short_description', 'geography', 'date_passed',\n",
       "       'last_change', 'legislation_type_humanize', 'geography_path',\n",
       "       'country_name', 'percent_global_emissions', 'climate_risk_index',\n",
       "       'wb_income_group', 'eu_member_ind', 'law_discarded_at', 'federal_ind',\n",
       "       'legislative_process'],\n",
       "      dtype='object')"
      ]
     },
     "execution_count": 20,
     "metadata": {},
     "output_type": "execute_result"
    }
   ],
   "source": [
    "climate_laws_df.columns"
   ]
  },
  {
   "cell_type": "code",
   "execution_count": 21,
   "metadata": {
    "scrolled": true
   },
   "outputs": [
    {
     "data": {
      "text/html": [
       "<div>\n",
       "<style scoped>\n",
       "    .dataframe tbody tr th:only-of-type {\n",
       "        vertical-align: middle;\n",
       "    }\n",
       "\n",
       "    .dataframe tbody tr th {\n",
       "        vertical-align: top;\n",
       "    }\n",
       "\n",
       "    .dataframe thead th {\n",
       "        text-align: right;\n",
       "    }\n",
       "</style>\n",
       "<table border=\"1\" class=\"dataframe\">\n",
       "  <thead>\n",
       "    <tr style=\"text-align: right;\">\n",
       "      <th></th>\n",
       "      <th>index</th>\n",
       "      <th>id</th>\n",
       "      <th>title</th>\n",
       "      <th>description</th>\n",
       "      <th>law_id</th>\n",
       "      <th>slug</th>\n",
       "      <th>geography_id</th>\n",
       "      <th>created_at</th>\n",
       "      <th>updated_at</th>\n",
       "      <th>visibility_status</th>\n",
       "      <th>...</th>\n",
       "      <th>legislation_type_humanize</th>\n",
       "      <th>geography_path</th>\n",
       "      <th>country_name</th>\n",
       "      <th>percent_global_emissions</th>\n",
       "      <th>climate_risk_index</th>\n",
       "      <th>wb_income_group</th>\n",
       "      <th>eu_member_ind</th>\n",
       "      <th>law_discarded_at</th>\n",
       "      <th>federal_ind</th>\n",
       "      <th>legislative_process</th>\n",
       "    </tr>\n",
       "  </thead>\n",
       "  <tbody>\n",
       "    <tr>\n",
       "      <th>0</th>\n",
       "      <td>0</td>\n",
       "      <td>9746</td>\n",
       "      <td>Consolidated Appropriations Act, 2021</td>\n",
       "      <td>&lt;div&gt;This 2,000 pages-long document implements...</td>\n",
       "      <td>None</td>\n",
       "      <td>consolidated-appropriations-act-2021</td>\n",
       "      <td>192</td>\n",
       "      <td>2021-01-07T21:23:34.475Z</td>\n",
       "      <td>2021-01-07T21:32:20.664Z</td>\n",
       "      <td>published</td>\n",
       "      <td>...</td>\n",
       "      <td>Legislative</td>\n",
       "      <td>/geographies/united-states-of-america</td>\n",
       "      <td>United States of America</td>\n",
       "      <td>12.28</td>\n",
       "      <td>44.17</td>\n",
       "      <td>High income</td>\n",
       "      <td>False</td>\n",
       "      <td>None</td>\n",
       "      <td>True</td>\n",
       "      <td>&lt;p style=\"text-align: justify;\"&gt;The United Sta...</td>\n",
       "    </tr>\n",
       "    <tr>\n",
       "      <th>1</th>\n",
       "      <td>1</td>\n",
       "      <td>9767</td>\n",
       "      <td>Green Growth Strategy Through Achieving Carbon...</td>\n",
       "      <td>&lt;div&gt;This document is an industrial policy&lt;str...</td>\n",
       "      <td>None</td>\n",
       "      <td>green-growth-strategy-through-achieving-carbon...</td>\n",
       "      <td>86</td>\n",
       "      <td>2021-03-01T10:30:50.692Z</td>\n",
       "      <td>2021-03-01T10:35:34.284Z</td>\n",
       "      <td>published</td>\n",
       "      <td>...</td>\n",
       "      <td>Executive</td>\n",
       "      <td>/geographies/japan</td>\n",
       "      <td>Japan</td>\n",
       "      <td>2.66</td>\n",
       "      <td>69.33</td>\n",
       "      <td>High income</td>\n",
       "      <td>False</td>\n",
       "      <td>None</td>\n",
       "      <td>False</td>\n",
       "      <td>&lt;div&gt;&lt;br&gt;The National Diet is the sole law-mak...</td>\n",
       "    </tr>\n",
       "    <tr>\n",
       "      <th>2</th>\n",
       "      <td>2</td>\n",
       "      <td>8713</td>\n",
       "      <td>General Law for Sustainable Forest Development</td>\n",
       "      <td>&lt;div&gt;This law replaces the &lt;a href=\"http://www...</td>\n",
       "      <td>None</td>\n",
       "      <td>general-law-for-sustainable-forest-development</td>\n",
       "      <td>114</td>\n",
       "      <td>2019-12-08T17:46:02.526Z</td>\n",
       "      <td>2021-02-17T17:53:37.188Z</td>\n",
       "      <td>published</td>\n",
       "      <td>...</td>\n",
       "      <td>Legislative</td>\n",
       "      <td>/geographies/mexico</td>\n",
       "      <td>Mexico</td>\n",
       "      <td>1.45</td>\n",
       "      <td>61.83</td>\n",
       "      <td>Upper middle income</td>\n",
       "      <td>False</td>\n",
       "      <td>None</td>\n",
       "      <td>True</td>\n",
       "      <td>&lt;div&gt;The United Mexican States (Mexico) has a ...</td>\n",
       "    </tr>\n",
       "    <tr>\n",
       "      <th>3</th>\n",
       "      <td>3</td>\n",
       "      <td>9741</td>\n",
       "      <td>Notification S.O. 4259(E) creating the Apex Co...</td>\n",
       "      <td>&lt;div&gt;This document from the Ministry of Enviro...</td>\n",
       "      <td>None</td>\n",
       "      <td>notification-s-o-4259-e-creating-the-apex-comm...</td>\n",
       "      <td>78</td>\n",
       "      <td>2020-12-04T18:07:29.406Z</td>\n",
       "      <td>2020-12-04T18:13:52.925Z</td>\n",
       "      <td>published</td>\n",
       "      <td>...</td>\n",
       "      <td>Executive</td>\n",
       "      <td>/geographies/india</td>\n",
       "      <td>India</td>\n",
       "      <td>6.81</td>\n",
       "      <td>38.67</td>\n",
       "      <td>Lower middle income</td>\n",
       "      <td>False</td>\n",
       "      <td>None</td>\n",
       "      <td>True</td>\n",
       "      <td>&lt;p style=\"text-align: justify;\"&gt;The Indian par...</td>\n",
       "    </tr>\n",
       "    <tr>\n",
       "      <th>4</th>\n",
       "      <td>4</td>\n",
       "      <td>1687</td>\n",
       "      <td>CO2 Act (Act 641.71, fully revised version)</td>\n",
       "      <td>&lt;div&gt;On November 25, 2020, the Federal Council...</td>\n",
       "      <td>None</td>\n",
       "      <td>co2-act-act-641-71-fully-revised-version</td>\n",
       "      <td>174</td>\n",
       "      <td>2019-12-08T17:46:22.795Z</td>\n",
       "      <td>2020-12-04T15:29:03.388Z</td>\n",
       "      <td>published</td>\n",
       "      <td>...</td>\n",
       "      <td>Legislative</td>\n",
       "      <td>/geographies/switzerland</td>\n",
       "      <td>Switzerland</td>\n",
       "      <td>0.1</td>\n",
       "      <td>52.33</td>\n",
       "      <td>High income</td>\n",
       "      <td>False</td>\n",
       "      <td>None</td>\n",
       "      <td>True</td>\n",
       "      <td>&lt;p style=\"text-align: justify;\"&gt;Switzerland is...</td>\n",
       "    </tr>\n",
       "  </tbody>\n",
       "</table>\n",
       "<p>5 rows × 32 columns</p>\n",
       "</div>"
      ],
      "text/plain": [
       "   index    id                                              title  \\\n",
       "0      0  9746              Consolidated Appropriations Act, 2021   \n",
       "1      1  9767  Green Growth Strategy Through Achieving Carbon...   \n",
       "2      2  8713     General Law for Sustainable Forest Development   \n",
       "3      3  9741  Notification S.O. 4259(E) creating the Apex Co...   \n",
       "4      4  1687        CO2 Act (Act 641.71, fully revised version)   \n",
       "\n",
       "                                         description law_id  \\\n",
       "0  <div>This 2,000 pages-long document implements...   None   \n",
       "1  <div>This document is an industrial policy<str...   None   \n",
       "2  <div>This law replaces the <a href=\"http://www...   None   \n",
       "3  <div>This document from the Ministry of Enviro...   None   \n",
       "4  <div>On November 25, 2020, the Federal Council...   None   \n",
       "\n",
       "                                                slug  geography_id  \\\n",
       "0               consolidated-appropriations-act-2021           192   \n",
       "1  green-growth-strategy-through-achieving-carbon...            86   \n",
       "2     general-law-for-sustainable-forest-development           114   \n",
       "3  notification-s-o-4259-e-creating-the-apex-comm...            78   \n",
       "4           co2-act-act-641-71-fully-revised-version           174   \n",
       "\n",
       "                 created_at                updated_at visibility_status  ...  \\\n",
       "0  2021-01-07T21:23:34.475Z  2021-01-07T21:32:20.664Z         published  ...   \n",
       "1  2021-03-01T10:30:50.692Z  2021-03-01T10:35:34.284Z         published  ...   \n",
       "2  2019-12-08T17:46:02.526Z  2021-02-17T17:53:37.188Z         published  ...   \n",
       "3  2020-12-04T18:07:29.406Z  2020-12-04T18:13:52.925Z         published  ...   \n",
       "4  2019-12-08T17:46:22.795Z  2020-12-04T15:29:03.388Z         published  ...   \n",
       "\n",
       "  legislation_type_humanize                         geography_path  \\\n",
       "0               Legislative  /geographies/united-states-of-america   \n",
       "1                 Executive                     /geographies/japan   \n",
       "2               Legislative                    /geographies/mexico   \n",
       "3                 Executive                     /geographies/india   \n",
       "4               Legislative               /geographies/switzerland   \n",
       "\n",
       "               country_name percent_global_emissions climate_risk_index  \\\n",
       "0  United States of America                    12.28              44.17   \n",
       "1                     Japan                     2.66              69.33   \n",
       "2                    Mexico                     1.45              61.83   \n",
       "3                     India                     6.81              38.67   \n",
       "4               Switzerland                      0.1              52.33   \n",
       "\n",
       "       wb_income_group eu_member_ind law_discarded_at federal_ind  \\\n",
       "0          High income         False             None        True   \n",
       "1          High income         False             None       False   \n",
       "2  Upper middle income         False             None        True   \n",
       "3  Lower middle income         False             None        True   \n",
       "4          High income         False             None        True   \n",
       "\n",
       "                                 legislative_process  \n",
       "0  <p style=\"text-align: justify;\">The United Sta...  \n",
       "1  <div><br>The National Diet is the sole law-mak...  \n",
       "2  <div>The United Mexican States (Mexico) has a ...  \n",
       "3  <p style=\"text-align: justify;\">The Indian par...  \n",
       "4  <p style=\"text-align: justify;\">Switzerland is...  \n",
       "\n",
       "[5 rows x 32 columns]"
      ]
     },
     "execution_count": 21,
     "metadata": {},
     "output_type": "execute_result"
    }
   ],
   "source": [
    "climate_laws_df.head()"
   ]
  },
  {
   "cell_type": "code",
   "execution_count": 22,
   "metadata": {},
   "outputs": [
    {
     "data": {
      "text/html": [
       "<div>\n",
       "<style scoped>\n",
       "    .dataframe tbody tr th:only-of-type {\n",
       "        vertical-align: middle;\n",
       "    }\n",
       "\n",
       "    .dataframe tbody tr th {\n",
       "        vertical-align: top;\n",
       "    }\n",
       "\n",
       "    .dataframe thead th {\n",
       "        text-align: right;\n",
       "    }\n",
       "</style>\n",
       "<table border=\"1\" class=\"dataframe\">\n",
       "  <thead>\n",
       "    <tr style=\"text-align: right;\">\n",
       "      <th></th>\n",
       "      <th>country_name</th>\n",
       "      <th>id</th>\n",
       "    </tr>\n",
       "  </thead>\n",
       "  <tbody>\n",
       "    <tr>\n",
       "      <th>0</th>\n",
       "      <td>Afghanistan</td>\n",
       "      <td>14</td>\n",
       "    </tr>\n",
       "    <tr>\n",
       "      <th>1</th>\n",
       "      <td>Albania</td>\n",
       "      <td>3</td>\n",
       "    </tr>\n",
       "    <tr>\n",
       "      <th>2</th>\n",
       "      <td>Algeria</td>\n",
       "      <td>13</td>\n",
       "    </tr>\n",
       "    <tr>\n",
       "      <th>3</th>\n",
       "      <td>Andorra</td>\n",
       "      <td>8</td>\n",
       "    </tr>\n",
       "    <tr>\n",
       "      <th>4</th>\n",
       "      <td>Angola</td>\n",
       "      <td>21</td>\n",
       "    </tr>\n",
       "    <tr>\n",
       "      <th>...</th>\n",
       "      <td>...</td>\n",
       "      <td>...</td>\n",
       "    </tr>\n",
       "    <tr>\n",
       "      <th>193</th>\n",
       "      <td>Venezuela</td>\n",
       "      <td>4</td>\n",
       "    </tr>\n",
       "    <tr>\n",
       "      <th>194</th>\n",
       "      <td>Vietnam</td>\n",
       "      <td>26</td>\n",
       "    </tr>\n",
       "    <tr>\n",
       "      <th>195</th>\n",
       "      <td>Yemen</td>\n",
       "      <td>6</td>\n",
       "    </tr>\n",
       "    <tr>\n",
       "      <th>196</th>\n",
       "      <td>Zambia</td>\n",
       "      <td>17</td>\n",
       "    </tr>\n",
       "    <tr>\n",
       "      <th>197</th>\n",
       "      <td>Zimbabwe</td>\n",
       "      <td>12</td>\n",
       "    </tr>\n",
       "  </tbody>\n",
       "</table>\n",
       "<p>198 rows × 2 columns</p>\n",
       "</div>"
      ],
      "text/plain": [
       "    country_name  id\n",
       "0    Afghanistan  14\n",
       "1        Albania   3\n",
       "2        Algeria  13\n",
       "3        Andorra   8\n",
       "4         Angola  21\n",
       "..           ...  ..\n",
       "193    Venezuela   4\n",
       "194      Vietnam  26\n",
       "195        Yemen   6\n",
       "196       Zambia  17\n",
       "197     Zimbabwe  12\n",
       "\n",
       "[198 rows x 2 columns]"
      ]
     },
     "execution_count": 22,
     "metadata": {},
     "output_type": "execute_result"
    }
   ],
   "source": [
    "pd.DataFrame(pd.pivot_table(values=\"id\", index=[\"country_name\"], aggfunc=\"count\", data=climate_laws_df).to_records())"
   ]
  },
  {
   "cell_type": "markdown",
   "metadata": {},
   "source": [
    "### Cleaning the core description content\n",
    "\n",
    "The main description feature contains HTML tags and other items that needs to be cleaned"
   ]
  },
  {
   "cell_type": "code",
   "execution_count": 23,
   "metadata": {},
   "outputs": [],
   "source": [
    "# Import relevant libraries\n",
    "import re"
   ]
  },
  {
   "cell_type": "code",
   "execution_count": 24,
   "metadata": {},
   "outputs": [],
   "source": [
    "# Function to clean up description\n",
    "def clean_description(df, col=\"description\"):\n",
    "    # Convert to string\n",
    "    df[col] = str(df[col])\n",
    "    # Remove html tags and React non-breaking space characters i.e. &nbsp\n",
    "    df[col] = re.sub(r\"(&nbsp;)|(<([^>]+)>)\", \" \", df[col])\n",
    "    # Misc - converting markup ampersand to normal ampersand\n",
    "    df[col] = re.sub(r\"(&amp)\", \"&\", df[col])\n",
    "    # Convert any double space into single space\n",
    "    df[col] = df[col].replace(\"  \", \" \")\n",
    "    # Remove 'nan'\n",
    "    df[col] = df[col].replace(\"nan\", \"\")\n",
    "    # Remove 'None'\n",
    "    df[col] = df[col].replace(\"None\", \"\")\n",
    "    # Trimming leading or trailing space\n",
    "    df[col] = df[col].strip()\n",
    "    return df[col]\n",
    "\n",
    "# Applying the function\n",
    "climate_laws_df.loc[:, \"clean_description\"] = climate_laws_df.apply(lambda x: clean_description(x), axis=1)"
   ]
  },
  {
   "cell_type": "code",
   "execution_count": 25,
   "metadata": {},
   "outputs": [],
   "source": [
    "# Cleaning legislative process column\n",
    "climate_laws_df.loc[:, \"clean_legislative_process\"] = climate_laws_df.apply(\n",
    "    lambda x:clean_description(x, \"legislative_process\"), axis=1)"
   ]
  },
  {
   "cell_type": "code",
   "execution_count": 26,
   "metadata": {},
   "outputs": [
    {
     "data": {
      "text/plain": [
       "Index(['index', 'id', 'title', 'description', 'law_id', 'slug', 'geography_id',\n",
       "       'created_at', 'updated_at', 'visibility_status', 'created_by_id',\n",
       "       'updated_by_id', 'discarded_at', 'legislation_type', 'parent_id', 'tsv',\n",
       "       'date', 'link', 'short_description', 'geography', 'date_passed',\n",
       "       'last_change', 'legislation_type_humanize', 'geography_path',\n",
       "       'country_name', 'percent_global_emissions', 'climate_risk_index',\n",
       "       'wb_income_group', 'eu_member_ind', 'law_discarded_at', 'federal_ind',\n",
       "       'legislative_process', 'clean_description',\n",
       "       'clean_legislative_process'],\n",
       "      dtype='object')"
      ]
     },
     "execution_count": 26,
     "metadata": {},
     "output_type": "execute_result"
    }
   ],
   "source": [
    "climate_laws_df.columns"
   ]
  },
  {
   "cell_type": "code",
   "execution_count": 27,
   "metadata": {},
   "outputs": [
    {
     "data": {
      "text/plain": [
       "'France has a bicameral parliamentary system where legislative power belongs to the National Assembly and the Senate. The last election for the National Assembly was held in 2012, the next is scheduled for 2017. The Senate is elected indirectly by Members of Parliament and local representatives. Statute legislation may be proposed by the Council of Ministers or by Members of Parliament; the majority of bills are currently proposed by the government. \\n There is a strict separation between laws and regulations. Laws determine general principles and rules in domains explicitly set out in the constitution, such as civil rights, nationality and crime. They must be voted on by the Parliament and can be blocked by the Constitutional Court if it finds that the law goes against the Constitution. In this case, the law must be modified and voted on again, or abandoned. Regulations can establish rules out\\xadside of the law’s domain or specify more precisely how to implement laws. Regulations do not need to be voted on by the Parliament.'"
      ]
     },
     "execution_count": 27,
     "metadata": {},
     "output_type": "execute_result"
    }
   ],
   "source": [
    "climate_laws_df[\"clean_legislative_process\"][19]"
   ]
  },
  {
   "cell_type": "markdown",
   "metadata": {},
   "source": [
    "##### Showing an example of a cleaned description "
   ]
  },
  {
   "cell_type": "code",
   "execution_count": 28,
   "metadata": {},
   "outputs": [
    {
     "name": "stdout",
     "output_type": "stream",
     "text": [
      "Sustainability Bond Framework \n",
      "\n",
      "\n",
      "<div>This document is aimed at supporting the development of the green, social and/or sustainability capital market with the issuance of safe (AAA-rated) and liquid sovereign green, social and/or sustainability bond(s).<br><br>Under this Framework, the Grand Duchy of Luxembourg may issue 3 types of bonds: 1) Green Bonds where an amount equal to the net proceeds will be exclusively used to (re)finance eligible expenditures falling within the Eligible Green categories, 2) Social Bonds where an amount equal to the net proceeds will be exclusively used to (re)finance eligible expenditures falling within the Eligible Social categories,, and 3) Sustainability Bonds where an amount equal to the net proceeds will be exclusively used to (re)finance eligible expenditures falling within both Eligible Green and Social categories.</div>\n",
      "\n",
      "\n",
      "This document is aimed at supporting the development of the green, social and/or sustainability capital market with the issuance of safe (AAA-rated) and liquid sovereign green, social and/or sustainability bond(s). Under this Framework, the Grand Duchy of Luxembourg may issue 3 types of bonds: 1) Green Bonds where an amount equal to the net proceeds will be exclusively used to (re)fice eligible expenditures falling within the Eligible Green categories, 2) Social Bonds where an amount equal to the net proceeds will be exclusively used to (re)fice eligible expenditures falling within the Eligible Social categories,, and 3) Sustainability Bonds where an amount equal to the net proceeds will be exclusively used to (re)fice eligible expenditures falling within both Eligible Green and Social categories.\n"
     ]
    }
   ],
   "source": [
    "# An example of before and after\n",
    "print(climate_laws_df[\"title\"][22])\n",
    "print('\\n')\n",
    "print(climate_laws_df[\"description\"][22])\n",
    "print('\\n')\n",
    "print(climate_laws_df[\"clean_description\"][22])"
   ]
  },
  {
   "cell_type": "code",
   "execution_count": 29,
   "metadata": {},
   "outputs": [],
   "source": [
    "# Output this DataFrame to Excel\n",
    "timestamp = datetime.now().strftime(\"%Y.%m.%d_%H.%M.%S\")\n",
    "climate_laws_df.to_excel(f\"./climate_laws_data/{timestamp}_climate_laws_data_cleaned.xlsx\", index=False)"
   ]
  },
  {
   "cell_type": "markdown",
   "metadata": {},
   "source": [
    "### Clustering description and legislative process --> Giving some structure to the text data "
   ]
  },
  {
   "cell_type": "code",
   "execution_count": 30,
   "metadata": {},
   "outputs": [],
   "source": [
    "# Feature extraction and clustering\n",
    "from sklearn.feature_extraction.text import TfidfVectorizer\n",
    "from sklearn.cluster import MiniBatchKMeans\n",
    "from sklearn.mixture import GaussianMixture\n",
    "\n",
    "# General NLP libraries\n",
    "from nltk import word_tokenize\n",
    "from nltk.stem import WordNetLemmatizer, PorterStemmer\n",
    "from nltk.corpus import stopwords\n",
    "import string\n",
    "\n",
    "# Spell correction\n",
    "from autocorrect import Speller\n",
    "\n",
    "# Global nlp vars\n",
    "stop_words = stopwords.words(\"english\")\n",
    "ps = PorterStemmer()\n",
    "lemmatizer = WordNetLemmatizer()"
   ]
  },
  {
   "cell_type": "markdown",
   "metadata": {},
   "source": [
    "**Observations:**\n",
    "\n",
    "There are certain words that can be filtered out in the preprocessing steps, including: **law, legal, environment, environmental, action, act, decree, directive**\n",
    "\n",
    "Since this is a legal context, these words may not be very useful at differentiating and grouping topics together"
   ]
  },
  {
   "cell_type": "code",
   "execution_count": 31,
   "metadata": {},
   "outputs": [
    {
     "name": "stdout",
     "output_type": "stream",
     "text": [
      "Before:  ['can', 'if', 'else', 'could', 'may', 'should', 'must', 'might', 'would', 'will', 'maybe', 'also', 'ought', 'have', 'or', 'of', 'from', 'to', 'shall']\n",
      "After:  ['can', 'if', 'else', 'could', 'may', 'should', 'must', 'might', 'would', 'will', 'maybe', 'also', 'ought', 'have', 'or', 'of', 'from', 'to', 'shall', 'law', 'legal', 'environment', 'environmental', 'action', 'act', 'decree', 'directive']\n"
     ]
    }
   ],
   "source": [
    "# Loading in stop words\n",
    "del_words_general = []\n",
    "with open('./misc/del_words_general.txt', 'r', encoding=\"utf8\") as file:\n",
    "    for line in file:\n",
    "        word = line.split('\\n')[0]\n",
    "        word = word.lower()\n",
    "        del_words_general.append(word)\n",
    "file.close()\n",
    "\n",
    "print('Before: ', del_words_general)\n",
    "\n",
    "# Adding the generic legal context words\n",
    "del_words_legal = ['law', 'legal', 'environment', 'environmental', 'action', 'act', 'decree', 'directive']\n",
    "del_words_total = del_words_general + del_words_legal\n",
    "\n",
    "print('After: ', del_words_total)"
   ]
  },
  {
   "cell_type": "code",
   "execution_count": 32,
   "metadata": {},
   "outputs": [],
   "source": [
    "# Helper functions to remove Non-Ascii\n",
    "def removeNonAscii(s): \n",
    "    return \"\".join(i for i in s if ord(i)<128)\n",
    "\n",
    "def clean_text(text):\n",
    "    text = str(text)\n",
    "    text = text.lower()\n",
    "    text = re.sub(r'\\W+', ' ', text)\n",
    "    text = re.sub(r'\\s+', ' ', text)\n",
    "    text = re.sub('[^a-zA-Z ]+', '', text)\n",
    "    text = text.replace(\"nan\", \"\")\n",
    "    text = text.replace(\"None\", \"\")\n",
    "    text = removeNonAscii(text)\n",
    "    text = re.sub(r'\\b\\w{0,2}\\b', '', text) # Remove any words that are less than 3 characters longth\n",
    "    text = text.strip()\n",
    "    return text"
   ]
  },
  {
   "cell_type": "code",
   "execution_count": 33,
   "metadata": {},
   "outputs": [],
   "source": [
    "def correct_spelling(data, engine=Speller(fast=True)):\n",
    "    \"\"\"\n",
    "    Correct spelling at scale\n",
    "    \"\"\"\n",
    "    result = engine(data)\n",
    "    return result"
   ]
  },
  {
   "cell_type": "code",
   "execution_count": 34,
   "metadata": {
    "scrolled": true
   },
   "outputs": [],
   "source": [
    "# Processing function to clean and tokenize text data\n",
    "def preprocess(column, stem=False, lemmatize=True, del_words_total_ind=True):\n",
    "    print(\"Correcting spelling ...\")\n",
    "    column = [correct_spelling(row) for row in column]\n",
    "    print(\"Tokenizing and cleaning text ...\")\n",
    "    column = [clean_text(row) for row in column]\n",
    "    tokens = [word_tokenize(row) for row in column]\n",
    "    preprocessed = []\n",
    "    print(\"Carrying out core pre-processing processes ...\")\n",
    "    for val in tokens:\n",
    "        row=[]\n",
    "        for word in val:\n",
    "            if word not in stop_words + list(string.punctuation) + del_words_total_ind*del_words_total:\n",
    "                if stem == True:\n",
    "                    row.append(ps.stem(word))\n",
    "                elif lemmatize == True:\n",
    "                    row.append(lemmatizer.lemmatize(word))\n",
    "                else:\n",
    "                    row.append(word)\n",
    "        preprocessed.append(row)\n",
    "    assert len(preprocessed) == len(column)\n",
    "    return preprocessed"
   ]
  },
  {
   "cell_type": "code",
   "execution_count": 35,
   "metadata": {},
   "outputs": [],
   "source": [
    "# Converting empty string to NaNs\n",
    "climate_laws_df[\"clean_description\"] = climate_laws_df[\"clean_description\"].apply(lambda x: np.nan if x==\"\" else x)\n",
    "climate_laws_df[\"clean_legislative_process\"] = climate_laws_df[\"clean_legislative_process\"].apply(lambda x: np.nan if x==\"\" else x)"
   ]
  },
  {
   "cell_type": "code",
   "execution_count": 36,
   "metadata": {},
   "outputs": [
    {
     "name": "stdout",
     "output_type": "stream",
     "text": [
      "# of null descriptions 5\n",
      "# of null legislative process 660\n"
     ]
    }
   ],
   "source": [
    "print(\"# of null descriptions\", climate_laws_df[\"clean_description\"].isna().sum())\n",
    "print(\"# of null legislative process\", climate_laws_df[\"clean_legislative_process\"].isna().sum())"
   ]
  },
  {
   "cell_type": "markdown",
   "metadata": {},
   "source": [
    "#### Observation:\n",
    "\n",
    "The number of null descriptions is not very high, we can just simply remove those 6 data points from the dataset"
   ]
  },
  {
   "cell_type": "code",
   "execution_count": 37,
   "metadata": {},
   "outputs": [],
   "source": [
    "# Combining climate law title and description\n",
    "climate_laws_df[\"clean_title_plus_desc\"] = climate_laws_df.apply(lambda x: str(x[\"title\"]) + \" \" + str(x[\"clean_description\"]), axis=1)"
   ]
  },
  {
   "cell_type": "code",
   "execution_count": 38,
   "metadata": {},
   "outputs": [
    {
     "data": {
      "text/plain": [
       "0"
      ]
     },
     "execution_count": 38,
     "metadata": {},
     "output_type": "execute_result"
    }
   ],
   "source": [
    "# Check if there are any NaNs\n",
    "climate_laws_df[\"clean_title_plus_desc\"].isna().sum()"
   ]
  },
  {
   "cell_type": "markdown",
   "metadata": {},
   "source": [
    "There are null values in this newly contrived feature, which is good, let's head to preprocessing"
   ]
  },
  {
   "cell_type": "markdown",
   "metadata": {},
   "source": [
    "# Text data preprocessing -> Main variables below!\n",
    "\n"
   ]
  },
  {
   "cell_type": "code",
   "execution_count": 39,
   "metadata": {},
   "outputs": [
    {
     "name": "stdout",
     "output_type": "stream",
     "text": [
      "Correcting spelling ...\n",
      "Tokenizing and cleaning text ...\n",
      "Carrying out core pre-processing processes ...\n"
     ]
    }
   ],
   "source": [
    "# Main data points to use --> climate laws title + description\n",
    "climate_laws_texts = list(climate_laws_df[\"clean_title_plus_desc\"])\n",
    "climate_laws_texts = preprocess(climate_laws_texts)"
   ]
  },
  {
   "cell_type": "code",
   "execution_count": 40,
   "metadata": {
    "scrolled": true
   },
   "outputs": [
    {
     "data": {
      "text/plain": [
       "['consolidated',\n",
       " 'appropriation',\n",
       " 'page',\n",
       " 'long',\n",
       " 'document',\n",
       " 'implement',\n",
       " 'major',\n",
       " 'government',\n",
       " 'funding',\n",
       " 'scheme',\n",
       " 'includes',\n",
       " 'economic',\n",
       " 'stimulus',\n",
       " 'provision',\n",
       " 'respond',\n",
       " 'coronavirus',\n",
       " 'pandemic',\n",
       " 'document',\n",
       " 'contains',\n",
       " 'numerous',\n",
       " 'climate',\n",
       " 'related',\n",
       " 'clause',\n",
       " 'notably',\n",
       " 'encourages',\n",
       " 'emission',\n",
       " 'reduction',\n",
       " 'promotes',\n",
       " 'renewables',\n",
       " 'contains',\n",
       " 'part',\n",
       " 'carbon',\n",
       " 'use',\n",
       " 'set',\n",
       " 'process',\n",
       " 'estimate',\n",
       " 'economic',\n",
       " 'climate',\n",
       " 'impact',\n",
       " 'well',\n",
       " 'integrated',\n",
       " 'national',\n",
       " 'carbon',\n",
       " 'dioxide',\n",
       " 'pipeline',\n",
       " 'system',\n",
       " 'mandate',\n",
       " 'climate',\n",
       " 'security',\n",
       " 'advisory',\n",
       " 'council',\n",
       " 'develop',\n",
       " 'study',\n",
       " 'advisory',\n",
       " 'council',\n",
       " 'model',\n",
       " 'strategic',\n",
       " 'transnational',\n",
       " 'threat']"
      ]
     },
     "execution_count": 40,
     "metadata": {},
     "output_type": "execute_result"
    }
   ],
   "source": [
    "# Example cleaned output\n",
    "climate_laws_texts[0]"
   ]
  },
  {
   "cell_type": "markdown",
   "metadata": {},
   "source": [
    "### Elbow plot for KMeans model selection "
   ]
  },
  {
   "cell_type": "code",
   "execution_count": 41,
   "metadata": {},
   "outputs": [],
   "source": [
    "from sklearn.metrics import silhouette_score"
   ]
  },
  {
   "cell_type": "code",
   "execution_count": 42,
   "metadata": {},
   "outputs": [],
   "source": [
    "# Dummy func\n",
    "def dummy_func(doc):\n",
    "    return doc"
   ]
  },
  {
   "cell_type": "code",
   "execution_count": 43,
   "metadata": {},
   "outputs": [],
   "source": [
    "# Helper function\n",
    "def elbow_kmeans_ssd(data, min_n, max_n, step, ngram_range=(1,1), eval_metric='inertia'):\n",
    "    # Vectorization\n",
    "    tfidf = TfidfVectorizer(analyzer='word',\n",
    "                            tokenizer=dummy_func,\n",
    "                            preprocessor=dummy_func,\n",
    "                            token_pattern=None,\n",
    "                            ngram_range=ngram_range\n",
    "                            )\n",
    "    tfidf_matrix = tfidf.fit_transform(data)\n",
    "    print(\"TF-IDF matrix shape: \", tfidf_matrix.shape)\n",
    "    # Clustering\n",
    "    sum_of_square_distances = []\n",
    "    silhouette_scores = []\n",
    "    iter_range = range(min_n, max_n, step)\n",
    "    for k in tqdm(iter_range):\n",
    "        kmeans_model = MiniBatchKMeans(n_clusters=k,\n",
    "                                       init='k-means++',\n",
    "                                       n_init=1,\n",
    "                                       init_size=2090,\n",
    "                                       batch_size=2090,\n",
    "                                       verbose=0,\n",
    "                                       max_iter=1000,\n",
    "                                       random_state=0)\n",
    "        kmeans_model = kmeans_model.fit(tfidf_matrix)\n",
    "        sum_of_square_distances.append(kmeans_model.inertia_)\n",
    "        silhouette_scores.append(silhouette_score(tfidf_matrix, kmeans_model.labels_))\n",
    "    if eval_metric == 'inertia':\n",
    "        plt.plot(iter_range, sum_of_square_distances, 'bx-')\n",
    "        plt.xticks(range(min_n, max_n, step))\n",
    "        plt.xlabel(\"# of clusters\")\n",
    "        plt.ylabel(\"Sum of squared distances\")\n",
    "        plt.title(\"Elbow method for optimal K\")\n",
    "        plt.show()\n",
    "    elif eval_metric == 'silhouette':\n",
    "        plt.plot(iter_range, silhouette_scores, '-bx')\n",
    "        plt.xticks(range(min_n, max_n, step))\n",
    "        plt.xlabel(\"# of clusters\")\n",
    "        plt.ylabel(\"Average silhouette score\")\n",
    "        plt.title(\"Elbow method for optimal K\")\n",
    "        plt.show()"
   ]
  },
  {
   "cell_type": "code",
   "execution_count": 44,
   "metadata": {},
   "outputs": [
    {
     "name": "stderr",
     "output_type": "stream",
     "text": [
      "\r",
      "  0%|                                                                                           | 0/18 [00:00<?, ?it/s]"
     ]
    },
    {
     "name": "stdout",
     "output_type": "stream",
     "text": [
      "TF-IDF matrix shape:  (2100, 7423)\n"
     ]
    },
    {
     "name": "stderr",
     "output_type": "stream",
     "text": [
      "100%|██████████████████████████████████████████████████████████████████████████████████| 18/18 [00:05<00:00,  3.28it/s]\n"
     ]
    },
    {
     "data": {
      "image/png": "[encoded data removed]",
      "text/plain": [
       "<Figure size 432x288 with 1 Axes>"
      ]
     },
     "metadata": {},
     "output_type": "display_data"
    }
   ],
   "source": [
    "# Running the KMeans elbow plot\n",
    "elbow_kmeans_ssd(climate_laws_texts, 2, 20, 1, (1,1), 'silhouette')"
   ]
  },
  {
   "cell_type": "code",
   "execution_count": 45,
   "metadata": {},
   "outputs": [
    {
     "name": "stderr",
     "output_type": "stream",
     "text": [
      "\r",
      "  0%|                                                                                           | 0/18 [00:00<?, ?it/s]"
     ]
    },
    {
     "name": "stdout",
     "output_type": "stream",
     "text": [
      "TF-IDF matrix shape:  (2100, 7423)\n"
     ]
    },
    {
     "name": "stderr",
     "output_type": "stream",
     "text": [
      "100%|██████████████████████████████████████████████████████████████████████████████████| 18/18 [00:05<00:00,  3.46it/s]\n"
     ]
    },
    {
     "data": {
      "image/png": "[encoded data removed]",
      "text/plain": [
       "<Figure size 432x288 with 1 Axes>"
      ]
     },
     "metadata": {},
     "output_type": "display_data"
    }
   ],
   "source": [
    "# Running the KMeans elbow plot\n",
    "elbow_kmeans_ssd(climate_laws_texts, 2, 20, 1, (1,1), 'inertia')"
   ]
  },
  {
   "cell_type": "markdown",
   "metadata": {},
   "source": [
    "#### It looks like optimal k for ngram_range (1,1) is about 8 "
   ]
  },
  {
   "cell_type": "code",
   "execution_count": 46,
   "metadata": {},
   "outputs": [
    {
     "name": "stderr",
     "output_type": "stream",
     "text": [
      "\r",
      "  0%|                                                                                           | 0/18 [00:00<?, ?it/s]"
     ]
    },
    {
     "name": "stdout",
     "output_type": "stream",
     "text": [
      "TF-IDF matrix shape:  (2100, 104657)\n"
     ]
    },
    {
     "name": "stderr",
     "output_type": "stream",
     "text": [
      "100%|██████████████████████████████████████████████████████████████████████████████████| 18/18 [00:12<00:00,  1.42it/s]\n"
     ]
    },
    {
     "data": {
      "image/png": "[encoded data removed]",
      "text/plain": [
       "<Figure size 432x288 with 1 Axes>"
      ]
     },
     "metadata": {},
     "output_type": "display_data"
    }
   ],
   "source": [
    "# Let's try ngram (1,2)\n",
    "elbow_kmeans_ssd(climate_laws_texts, 2, 20, 1, (1,2), 'silhouette')"
   ]
  },
  {
   "cell_type": "code",
   "execution_count": 47,
   "metadata": {},
   "outputs": [
    {
     "name": "stderr",
     "output_type": "stream",
     "text": [
      "\r",
      "  0%|                                                                                           | 0/18 [00:00<?, ?it/s]"
     ]
    },
    {
     "name": "stdout",
     "output_type": "stream",
     "text": [
      "TF-IDF matrix shape:  (2100, 104657)\n"
     ]
    },
    {
     "name": "stderr",
     "output_type": "stream",
     "text": [
      "100%|██████████████████████████████████████████████████████████████████████████████████| 18/18 [00:12<00:00,  1.44it/s]\n"
     ]
    },
    {
     "data": {
      "image/png": "[encoded data removed]",
      "text/plain": [
       "<Figure size 432x288 with 1 Axes>"
      ]
     },
     "metadata": {},
     "output_type": "display_data"
    }
   ],
   "source": [
    "elbow_kmeans_ssd(climate_laws_texts, 2, 20, 1, (1,2), 'inertia')"
   ]
  },
  {
   "cell_type": "markdown",
   "metadata": {},
   "source": [
    "#### The optimal K for ngram_range=(1, 2) is 6 or 7.\n",
    "\n",
    "**Main data:** climate_laws_texts"
   ]
  },
  {
   "cell_type": "code",
   "execution_count": 48,
   "metadata": {
    "scrolled": true
   },
   "outputs": [],
   "source": [
    "# Creating dictionary linking climate_laws_texts with unique id in climate_laws_df\n",
    "climate_ids_to_texts_dict = {key: value for (key, value) in zip(list(climate_laws_df[\"id\"]), climate_laws_texts)}\n",
    "assert isinstance(climate_ids_to_texts_dict, dict)"
   ]
  },
  {
   "cell_type": "code",
   "execution_count": 49,
   "metadata": {},
   "outputs": [],
   "source": [
    "# Pipeline function\n",
    "def tfidf_kmeans(data, k, ngram_range):\n",
    "    \"\"\"\n",
    "    Pipeline function to run TF-IDF vectorization and KMeans clustering\n",
    "    Returns 2 objects respectively: cluster_labels, cluster_centers\n",
    "    \"\"\"\n",
    "    # Vectorization\n",
    "    tfidf = TfidfVectorizer(analyzer='word',\n",
    "                            tokenizer=dummy_func,\n",
    "                            preprocessor=dummy_func,\n",
    "                            token_pattern=None,\n",
    "                            ngram_range=ngram_range\n",
    "                            )\n",
    "    tfidf_matrix = tfidf.fit_transform(data)\n",
    "    # KMeans clustering\n",
    "    kmeans_model = MiniBatchKMeans(n_clusters=k,\n",
    "                                       init='k-means++',\n",
    "                                       n_init=1,\n",
    "                                       init_size=2090,\n",
    "                                       batch_size=2090,\n",
    "                                       verbose=0,\n",
    "                                       max_iter=1000,\n",
    "                                       random_state=0)\n",
    "    kmeans_model = kmeans_model.fit(tfidf_matrix)\n",
    "    cluster_labels = kmeans_model.labels_\n",
    "    cluster_centers = kmeans_model.cluster_centers_\n",
    "    sorted_centroids = cluster_centers.argsort()[:, ::-1] # Returns the list of indices that goes from the largest item to the smallest\n",
    "    terms = tfidf.get_feature_names()\n",
    "    return cluster_labels, cluster_centers, sorted_centroids, terms\n",
    "\n",
    "def compile_kmeans_top_words_df(num_clusters, sorted_centroids, terms, n_top_terms):\n",
    "    all_keywords = {}\n",
    "    for i in range(num_clusters):\n",
    "        topic_keywords = []\n",
    "        all_keywords[f\"{i}\"] = []\n",
    "        for j in sorted_centroids[i, :n_top_terms]:\n",
    "            topic_keywords.append(terms[j])\n",
    "        all_keywords[f\"{i}\"].append(topic_keywords)\n",
    "    keywords_df = pd.DataFrame({'Cluster': all_keywords.keys()})\n",
    "    keywords_df['Cluster'] = keywords_df['Cluster'].apply(lambda x: str(x))\n",
    "    keywords_df.loc[:, \"Top Words\"] = [\" \".join(words) for keywords in all_keywords.values() for words in keywords]\n",
    "    keywords_df.loc[:, \"Top Words separated\"] = [\" | \".join(words) for keywords in all_keywords.values() for words in keywords]\n",
    "    return keywords_df"
   ]
  },
  {
   "cell_type": "code",
   "execution_count": 50,
   "metadata": {},
   "outputs": [],
   "source": [
    "# Baseline pipeline 1 - TF-IDF ngram (1, 1) and then KMeans Clustering @ k = 10\n",
    "k8_n11_tfidf_labels, k8_n11_tfidf_cluster_centers, k8_n11_sorted_centroids, k8_n11_terms = tfidf_kmeans(climate_laws_texts, 8, (1,1)) "
   ]
  },
  {
   "cell_type": "code",
   "execution_count": 51,
   "metadata": {
    "scrolled": true
   },
   "outputs": [
    {
     "data": {
      "text/html": [
       "<div>\n",
       "<style scoped>\n",
       "    .dataframe tbody tr th:only-of-type {\n",
       "        vertical-align: middle;\n",
       "    }\n",
       "\n",
       "    .dataframe tbody tr th {\n",
       "        vertical-align: top;\n",
       "    }\n",
       "\n",
       "    .dataframe thead th {\n",
       "        text-align: right;\n",
       "    }\n",
       "</style>\n",
       "<table border=\"1\" class=\"dataframe\">\n",
       "  <thead>\n",
       "    <tr style=\"text-align: right;\">\n",
       "      <th></th>\n",
       "      <th>Cluster</th>\n",
       "      <th>Top Words</th>\n",
       "      <th>Top Words separated</th>\n",
       "    </tr>\n",
       "  </thead>\n",
       "  <tbody>\n",
       "    <tr>\n",
       "      <th>0</th>\n",
       "      <td>0</td>\n",
       "      <td>regulation air energy geothermal pollution sta...</td>\n",
       "      <td>regulation | air | energy | geothermal | pollu...</td>\n",
       "    </tr>\n",
       "    <tr>\n",
       "      <th>1</th>\n",
       "      <td>1</td>\n",
       "      <td>development national climate plan sustainable ...</td>\n",
       "      <td>development | national | climate | plan | sust...</td>\n",
       "    </tr>\n",
       "    <tr>\n",
       "      <th>2</th>\n",
       "      <td>2</td>\n",
       "      <td>energy renewable electricity source power tari...</td>\n",
       "      <td>energy | renewable | electricity | source | po...</td>\n",
       "    </tr>\n",
       "    <tr>\n",
       "      <th>3</th>\n",
       "      <td>3</td>\n",
       "      <td>climate change adaptation national plan strate...</td>\n",
       "      <td>climate | change | adaptation | national | pla...</td>\n",
       "    </tr>\n",
       "    <tr>\n",
       "      <th>4</th>\n",
       "      <td>4</td>\n",
       "      <td>energy efficiency plan building renewable poli...</td>\n",
       "      <td>energy | efficiency | plan | building | renewa...</td>\n",
       "    </tr>\n",
       "    <tr>\n",
       "      <th>5</th>\n",
       "      <td>5</td>\n",
       "      <td>emission tax vehicle fuel biofuels gas carbon ...</td>\n",
       "      <td>emission | tax | vehicle | fuel | biofuels | g...</td>\n",
       "    </tr>\n",
       "    <tr>\n",
       "      <th>6</th>\n",
       "      <td>6</td>\n",
       "      <td>disaster risk management national emergency re...</td>\n",
       "      <td>disaster | risk | management | national | emer...</td>\n",
       "    </tr>\n",
       "    <tr>\n",
       "      <th>7</th>\n",
       "      <td>7</td>\n",
       "      <td>forest forestry red deforestation national sus...</td>\n",
       "      <td>forest | forestry | red | deforestation | nati...</td>\n",
       "    </tr>\n",
       "  </tbody>\n",
       "</table>\n",
       "</div>"
      ],
      "text/plain": [
       "  Cluster                                          Top Words  \\\n",
       "0       0  regulation air energy geothermal pollution sta...   \n",
       "1       1  development national climate plan sustainable ...   \n",
       "2       2  energy renewable electricity source power tari...   \n",
       "3       3  climate change adaptation national plan strate...   \n",
       "4       4  energy efficiency plan building renewable poli...   \n",
       "5       5  emission tax vehicle fuel biofuels gas carbon ...   \n",
       "6       6  disaster risk management national emergency re...   \n",
       "7       7  forest forestry red deforestation national sus...   \n",
       "\n",
       "                                 Top Words separated  \n",
       "0  regulation | air | energy | geothermal | pollu...  \n",
       "1  development | national | climate | plan | sust...  \n",
       "2  energy | renewable | electricity | source | po...  \n",
       "3  climate | change | adaptation | national | pla...  \n",
       "4  energy | efficiency | plan | building | renewa...  \n",
       "5  emission | tax | vehicle | fuel | biofuels | g...  \n",
       "6  disaster | risk | management | national | emer...  \n",
       "7  forest | forestry | red | deforestation | nati...  "
      ]
     },
     "execution_count": 51,
     "metadata": {},
     "output_type": "execute_result"
    }
   ],
   "source": [
    "k8_n11_keywords_df = compile_kmeans_top_words_df(8, k8_n11_sorted_centroids, k8_n11_terms, 20)\n",
    "k8_n11_keywords_df"
   ]
  },
  {
   "cell_type": "code",
   "execution_count": 52,
   "metadata": {},
   "outputs": [
    {
     "name": "stdout",
     "output_type": "stream",
     "text": [
      "Cluster 0:\n",
      "regulation | air | energy | geothermal | pollution | standard | electrical | quality | set | motor | atmosphere | water | efficiency | induction | pollutant | ministerial | control | requirement | activity | atmospheric\n",
      "Cluster 1:\n",
      "development | national | climate | plan | sustainable | strategy | protection | energy | management | policy | change | carbon | green | resource | sector | project | agricultural | government | document | natural\n",
      "Cluster 2:\n",
      "energy | renewable | electricity | source | power | tariff | generation | solar | production | development | wind | grid | use | plant | national | market | project | supply | installation | feed\n",
      "Cluster 3:\n",
      "climate | change | adaptation | national | plan | strategy | policy | mitigation | development | sector | management | risk | impact | implementation | emission | framework | sustainable | agriculture | measure | resource\n",
      "Cluster 4:\n",
      "energy | efficiency | plan | building | renewable | policy | national | use | sector | consumption | efficient | saving | target | supply | measure | gas | conservation | source | emission | electricity\n",
      "Cluster 5:\n",
      "emission | tax | vehicle | fuel | biofuels | gas | carbon | regulation | greenhouse | energy | reduction | biofuel | car | electric | incentive | trading | new | year | production | set\n",
      "Cluster 6:\n",
      "disaster | risk | management | national | emergency | response | plan | prevention | preparedness | natural | policy | reduction | government | committee | framework | climate | recovery | civil | change | system\n",
      "Cluster 7:\n",
      "forest | forestry | red | deforestation | national | sustainable | management | climate | land | carbon | development | conservation | policy | change | protection | degradation | strategy | programme | area | activity\n"
     ]
    }
   ],
   "source": [
    "for i, j in zip(k8_n11_keywords_df['Cluster'], k8_n11_keywords_df['Top Words separated']):\n",
    "    print(f\"Cluster {i}:\")\n",
    "    print(j)"
   ]
  },
  {
   "cell_type": "code",
   "execution_count": 53,
   "metadata": {},
   "outputs": [],
   "source": [
    "# Baseline pipeline 1 - TF-IDF ngram (1, 1) and then KMeans Clustering @ k = 10\n",
    "k5_n11_tfidf_labels, k5_n11_tfidf_cluster_centers, k5_n11_sorted_centroids, k5_n11_terms = tfidf_kmeans(climate_laws_texts, 5, (1,1)) "
   ]
  },
  {
   "cell_type": "code",
   "execution_count": 54,
   "metadata": {},
   "outputs": [
    {
     "name": "stdout",
     "output_type": "stream",
     "text": [
      "Cluster 0:\n",
      "regulation | vehicle | energy | building | emission | electric | air | standard | efficiency | requirement | new | fuel | performance | light | car | set | electricity | motor | geothermal | pollution\n",
      "Cluster 1:\n",
      "emission | energy | carbon | development | national | tax | plan | climate | gas | project | sustainable | biofuels | transport | strategy | fuel | green | production | sector | policy | protection\n",
      "Cluster 2:\n",
      "energy | renewable | efficiency | electricity | source | national | use | policy | plan | sector | development | power | supply | generation | production | target | consumption | efficient | building | promote\n",
      "Cluster 3:\n",
      "climate | change | adaptation | national | plan | strategy | policy | development | mitigation | sector | emission | impact | agriculture | energy | management | sustainable | measure | implementation | framework | carbon\n",
      "Cluster 4:\n",
      "disaster | management | forest | risk | national | plan | climate | development | change | policy | natural | emergency | protection | sustainable | response | government | strategy | forestry | prevention | framework\n"
     ]
    }
   ],
   "source": [
    "k5_n11_keywords_df = compile_kmeans_top_words_df(5, k5_n11_sorted_centroids, k5_n11_terms, 20)\n",
    "for i, j in zip(k5_n11_keywords_df['Cluster'], k5_n11_keywords_df['Top Words separated']):\n",
    "    print(f\"Cluster {i}:\")\n",
    "    print(j)"
   ]
  },
  {
   "cell_type": "markdown",
   "metadata": {},
   "source": [
    "##### Baseline model 2 with ngram_range=(1,2) "
   ]
  },
  {
   "cell_type": "code",
   "execution_count": 55,
   "metadata": {},
   "outputs": [],
   "source": [
    "# Baseline pipeline 2 - TF-IDF ngram (1, 2) and then KMeans Clustering @ k = 7\n",
    "k7_n12_tfidf_labels, k7_n12_tfidf_cluster_centers, k7_n12_sorted_centroids, k7_n12_terms = tfidf_kmeans(climate_laws_texts, 7, (1,2))"
   ]
  },
  {
   "cell_type": "code",
   "execution_count": 56,
   "metadata": {
    "scrolled": true
   },
   "outputs": [
    {
     "name": "stdout",
     "output_type": "stream",
     "text": [
      "Cluster 0:\n",
      "vehicle | electric | regulation | motor | standard | scheme | incentive | electric vehicle | energy | tax | car | hybrid | induction | induction motor | import | building | passenger | emission | energy efficiency | efficiency\n",
      "Cluster 1:\n",
      "biofuels | carbon | production | biofuel | low carbon | low | tax | fuel | storage | industry | plan | transport | energy | development | euro | green | sector | emission | national | vehicle\n",
      "Cluster 2:\n",
      "emission | gas | climate | greenhouse | greenhouse gas | carbon | regulation | change | national | climate change | reduction | tax | gas emission | fuel | project | energy | air | policy | protection | state\n",
      "Cluster 3:\n",
      "energy | renewable | renewable energy | efficiency | energy efficiency | electricity | source | use | national | plan | power | policy | national energy | energy source | building | sector | development | supply | production | generation\n",
      "Cluster 4:\n",
      "forest | development | climate | sustainable | national | plan | strategy | change | management | climate change | policy | resource | land | protection | forestry | sustainable development | natural | agricultural | water | document\n",
      "Cluster 5:\n",
      "climate | climate change | change | adaptation | national | policy | plan | strategy | national climate | mitigation | development | change adaptation | impact | change policy | sector | implementation | risk | committee | management | framework\n",
      "Cluster 6:\n",
      "disaster | risk | management | disaster risk | disaster management | risk management | national disaster | national | emergency | response | plan | prevention | risk reduction | preparedness | natural disaster | reduction | policy | natural | government | disaster prevention\n"
     ]
    }
   ],
   "source": [
    "k7_n12_keywords_df = compile_kmeans_top_words_df(7, k7_n12_sorted_centroids, k7_n12_terms, 20)\n",
    "for i, j in zip(k7_n12_keywords_df['Cluster'], k7_n12_keywords_df['Top Words separated']):\n",
    "    print(f\"Cluster {i}:\")\n",
    "    print(j)"
   ]
  },
  {
   "cell_type": "code",
   "execution_count": 57,
   "metadata": {},
   "outputs": [
    {
     "name": "stdout",
     "output_type": "stream",
     "text": [
      "Cluster 0:\n",
      "regulation | induction | induction motor | motor | energy | resource regulation | standard | energy efficiency | fuel charge | efficiency standard | meet standard | marketing exhibition | preventing manufacturing | import marketing | manufacturing sale | exhibition | efficiency | fail | fail meet | sale import\n",
      "Cluster 1:\n",
      "carbon | plan | low carbon | low | climate | industry | development | emission | sector | budget | national | transport | carbon budget | climate change | energy | change | storage | production | period | mining\n",
      "Cluster 2:\n",
      "climate | climate change | change | national | adaptation | policy | plan | development | strategy | mitigation | national climate | emission | sustainable | impact | implementation | carbon | change policy | framework | sector | mitigation adaptation\n",
      "Cluster 3:\n",
      "energy | efficiency | renewable | energy efficiency | renewable energy | plan | source | national energy | national | policy | use | building | sector | energy policy | development | electricity | consumption | energy source | supply | target\n",
      "Cluster 4:\n",
      "energy | electricity | renewable | renewable energy | power | tax | regulation | fuel | tariff | biofuels | vehicle | generation | source | production | electric | solar | plant | project | new | market\n",
      "Cluster 5:\n",
      "committee | steering committee | steering | change | climate | committee climate | climate change | mali | order | project | coastal | creates | national | national committee | composition | committee project | management | interministerial committee | change mali | interministerial\n",
      "Cluster 6:\n",
      "disaster | risk | management | disaster risk | disaster management | risk management | national disaster | national | emergency | plan | response | prevention | risk reduction | preparedness | natural disaster | reduction | policy | natural | disaster prevention | government\n",
      "Cluster 7:\n",
      "nuclear | nuclear energy | energy | fund | atomic | energy production | atomic energy | nuclear power | production | tax | framework nuclear | reactor | facility | minister | government | requires | carbon tax | create | accident | license\n",
      "Cluster 8:\n",
      "emission | gas | greenhouse | greenhouse gas | gas emission | green | carbon | regulation | reduction | tax | trading | allowance | reduce | national | set | strategy | emission reduction | energy | sector | emission trading\n",
      "Cluster 9:\n",
      "forest | climate | change | climate change | development | strategy | adaptation | plan | national | sustainable | management | forestry | land | policy | resource | agriculture | agricultural | water | disaster | natural\n"
     ]
    }
   ],
   "source": [
    "# Baseline pipeline 4 - TF-IDF ngram (1, 2) and then KMeans Clustering @ k = 10\n",
    "k10_n12_tfidf_labels, k10_n12_tfidf_cluster_centers, k10_n12_sorted_centroids, k10_n12_terms = tfidf_kmeans(climate_laws_texts, 10, (1,2))\n",
    "\n",
    "k10_n12_keywords_df = compile_kmeans_top_words_df(10, k10_n12_sorted_centroids, k10_n12_terms, 20)\n",
    "for i, j in zip(k10_n12_keywords_df['Cluster'], k10_n12_keywords_df['Top Words separated']):\n",
    "    print(f\"Cluster {i}:\")\n",
    "    print(j)"
   ]
  },
  {
   "cell_type": "markdown",
   "metadata": {},
   "source": [
    "**Notes: ** It would be good to find a way to label these clusters"
   ]
  },
  {
   "cell_type": "markdown",
   "metadata": {},
   "source": [
    "#### There are basically 4 different models to evaluate --> Output to Excel file to examine them manually"
   ]
  },
  {
   "cell_type": "code",
   "execution_count": 58,
   "metadata": {},
   "outputs": [],
   "source": [
    "def output_clustering_excel(output_name, cluster_labels, cluster_results_df, baseline_df = climate_laws_df):\n",
    "    os.makedirs(\"./clustering_output\", exist_ok=True)\n",
    "    baseline_df = climate_laws_df.copy()\n",
    "    baseline_df.loc[:, \"Cluster\"] = list(map(str, cluster_labels))\n",
    "    results_df = baseline_df.merge(cluster_results_df, on=\"Cluster\", how=\"left\")\n",
    "    results_df.to_excel(f\"./clustering_output/{output_name}.xlsx\", index=False)\n",
    "    print(\"Baseline data has been merged with clustering results and exported to Excel\")"
   ]
  },
  {
   "cell_type": "markdown",
   "metadata": {},
   "source": [
    "###### Outputting some Excel files to examine the output"
   ]
  },
  {
   "cell_type": "markdown",
   "metadata": {},
   "source": [
    "**Update:** after examining the data manually, model with K=10 and ngram=(1, 2) seems to be the best -> Choose this model"
   ]
  },
  {
   "cell_type": "code",
   "execution_count": 62,
   "metadata": {},
   "outputs": [
    {
     "name": "stdout",
     "output_type": "stream",
     "text": [
      "Baseline data has been merged with clustering results and exported to Excel\n"
     ]
    }
   ],
   "source": [
    "# K10 N12\n",
    "output_clustering_excel(\"k10_n12_kmeans_tfidf_output\", k10_n12_tfidf_labels, k10_n12_keywords_df)"
   ]
  },
  {
   "cell_type": "code",
   "execution_count": 67,
   "metadata": {},
   "outputs": [],
   "source": [
    "# Incorporate this into the main DataFrame\n",
    "climate_laws_df.loc[:, \"Cluster\"] = list(map(str, k10_n12_tfidf_labels))\n",
    "climate_laws_df = climate_laws_df.merge(k10_n12_keywords_df, on=\"Cluster\", how=\"left\")"
   ]
  },
  {
   "cell_type": "code",
   "execution_count": 70,
   "metadata": {
    "scrolled": false
   },
   "outputs": [
    {
     "data": {
      "text/html": [
       "<div>\n",
       "<style scoped>\n",
       "    .dataframe tbody tr th:only-of-type {\n",
       "        vertical-align: middle;\n",
       "    }\n",
       "\n",
       "    .dataframe tbody tr th {\n",
       "        vertical-align: top;\n",
       "    }\n",
       "\n",
       "    .dataframe thead th {\n",
       "        text-align: right;\n",
       "    }\n",
       "</style>\n",
       "<table border=\"1\" class=\"dataframe\">\n",
       "  <thead>\n",
       "    <tr style=\"text-align: right;\">\n",
       "      <th></th>\n",
       "      <th>index</th>\n",
       "      <th>id</th>\n",
       "      <th>title</th>\n",
       "      <th>description</th>\n",
       "      <th>law_id</th>\n",
       "      <th>slug</th>\n",
       "      <th>geography_id</th>\n",
       "      <th>created_at</th>\n",
       "      <th>updated_at</th>\n",
       "      <th>visibility_status</th>\n",
       "      <th>...</th>\n",
       "      <th>eu_member_ind</th>\n",
       "      <th>law_discarded_at</th>\n",
       "      <th>federal_ind</th>\n",
       "      <th>legislative_process</th>\n",
       "      <th>clean_description</th>\n",
       "      <th>clean_legislative_process</th>\n",
       "      <th>clean_title_plus_desc</th>\n",
       "      <th>Law Cluster</th>\n",
       "      <th>Law Top Words</th>\n",
       "      <th>Law Top Words separated</th>\n",
       "    </tr>\n",
       "  </thead>\n",
       "  <tbody>\n",
       "    <tr>\n",
       "      <th>0</th>\n",
       "      <td>0</td>\n",
       "      <td>9746</td>\n",
       "      <td>Consolidated Appropriations Act, 2021</td>\n",
       "      <td>&lt;div&gt;This 2,000 pages-long document implements...</td>\n",
       "      <td>None</td>\n",
       "      <td>consolidated-appropriations-act-2021</td>\n",
       "      <td>192</td>\n",
       "      <td>2021-01-07T21:23:34.475Z</td>\n",
       "      <td>2021-01-07T21:32:20.664Z</td>\n",
       "      <td>published</td>\n",
       "      <td>...</td>\n",
       "      <td>False</td>\n",
       "      <td>None</td>\n",
       "      <td>True</td>\n",
       "      <td>&lt;p style=\"text-align: justify;\"&gt;The United Sta...</td>\n",
       "      <td>This 2,000 pages-long document implements a ma...</td>\n",
       "      <td>The United States has a bicameral legislature ...</td>\n",
       "      <td>Consolidated Appropriations Act, 2021 This 2,0...</td>\n",
       "      <td>9</td>\n",
       "      <td>forest climate change climate change developme...</td>\n",
       "      <td>forest | climate | change | climate change | d...</td>\n",
       "    </tr>\n",
       "    <tr>\n",
       "      <th>1</th>\n",
       "      <td>1</td>\n",
       "      <td>9767</td>\n",
       "      <td>Green Growth Strategy Through Achieving Carbon...</td>\n",
       "      <td>&lt;div&gt;This document is an industrial policy&lt;str...</td>\n",
       "      <td>None</td>\n",
       "      <td>green-growth-strategy-through-achieving-carbon...</td>\n",
       "      <td>86</td>\n",
       "      <td>2021-03-01T10:30:50.692Z</td>\n",
       "      <td>2021-03-01T10:35:34.284Z</td>\n",
       "      <td>published</td>\n",
       "      <td>...</td>\n",
       "      <td>False</td>\n",
       "      <td>None</td>\n",
       "      <td>False</td>\n",
       "      <td>&lt;div&gt;&lt;br&gt;The National Diet is the sole law-mak...</td>\n",
       "      <td>This document is an industrial policy  which a...</td>\n",
       "      <td>The National Diet is the sole law-making organ...</td>\n",
       "      <td>Green Growth Strategy Through Achieving Carbon...</td>\n",
       "      <td>8</td>\n",
       "      <td>emission gas greenhouse greenhouse gas gas emi...</td>\n",
       "      <td>emission | gas | greenhouse | greenhouse gas |...</td>\n",
       "    </tr>\n",
       "    <tr>\n",
       "      <th>2</th>\n",
       "      <td>2</td>\n",
       "      <td>8713</td>\n",
       "      <td>General Law for Sustainable Forest Development</td>\n",
       "      <td>&lt;div&gt;This law replaces the &lt;a href=\"http://www...</td>\n",
       "      <td>None</td>\n",
       "      <td>general-law-for-sustainable-forest-development</td>\n",
       "      <td>114</td>\n",
       "      <td>2019-12-08T17:46:02.526Z</td>\n",
       "      <td>2021-02-17T17:53:37.188Z</td>\n",
       "      <td>published</td>\n",
       "      <td>...</td>\n",
       "      <td>False</td>\n",
       "      <td>None</td>\n",
       "      <td>True</td>\n",
       "      <td>&lt;div&gt;The United Mexican States (Mexico) has a ...</td>\n",
       "      <td>This law replaces the 2003 general law for sus...</td>\n",
       "      <td>The United Mexican States (Mexico) has a bicam...</td>\n",
       "      <td>General Law for Sustainable Forest Development...</td>\n",
       "      <td>9</td>\n",
       "      <td>forest climate change climate change developme...</td>\n",
       "      <td>forest | climate | change | climate change | d...</td>\n",
       "    </tr>\n",
       "    <tr>\n",
       "      <th>3</th>\n",
       "      <td>3</td>\n",
       "      <td>9741</td>\n",
       "      <td>Notification S.O. 4259(E) creating the Apex Co...</td>\n",
       "      <td>&lt;div&gt;This document from the Ministry of Enviro...</td>\n",
       "      <td>None</td>\n",
       "      <td>notification-s-o-4259-e-creating-the-apex-comm...</td>\n",
       "      <td>78</td>\n",
       "      <td>2020-12-04T18:07:29.406Z</td>\n",
       "      <td>2020-12-04T18:13:52.925Z</td>\n",
       "      <td>published</td>\n",
       "      <td>...</td>\n",
       "      <td>False</td>\n",
       "      <td>None</td>\n",
       "      <td>True</td>\n",
       "      <td>&lt;p style=\"text-align: justify;\"&gt;The Indian par...</td>\n",
       "      <td>This document from the Ministry of Environment...</td>\n",
       "      <td>The Indian parliament is a bicameral legislatu...</td>\n",
       "      <td>Notification S.O. 4259(E) creating the Apex Co...</td>\n",
       "      <td>2</td>\n",
       "      <td>climate climate change change national adaptat...</td>\n",
       "      <td>climate | climate change | change | national |...</td>\n",
       "    </tr>\n",
       "    <tr>\n",
       "      <th>4</th>\n",
       "      <td>4</td>\n",
       "      <td>1687</td>\n",
       "      <td>CO2 Act (Act 641.71, fully revised version)</td>\n",
       "      <td>&lt;div&gt;On November 25, 2020, the Federal Council...</td>\n",
       "      <td>None</td>\n",
       "      <td>co2-act-act-641-71-fully-revised-version</td>\n",
       "      <td>174</td>\n",
       "      <td>2019-12-08T17:46:22.795Z</td>\n",
       "      <td>2020-12-04T15:29:03.388Z</td>\n",
       "      <td>published</td>\n",
       "      <td>...</td>\n",
       "      <td>False</td>\n",
       "      <td>None</td>\n",
       "      <td>True</td>\n",
       "      <td>&lt;p style=\"text-align: justify;\"&gt;Switzerland is...</td>\n",
       "      <td>On November 25, 2020, the Federal Council adop...</td>\n",
       "      <td>Switzerland is a federal state with 26 cantons...</td>\n",
       "      <td>CO2 Act (Act 641.71, fully revised version) On...</td>\n",
       "      <td>8</td>\n",
       "      <td>emission gas greenhouse greenhouse gas gas emi...</td>\n",
       "      <td>emission | gas | greenhouse | greenhouse gas |...</td>\n",
       "    </tr>\n",
       "  </tbody>\n",
       "</table>\n",
       "<p>5 rows × 38 columns</p>\n",
       "</div>"
      ],
      "text/plain": [
       "   index    id                                              title  \\\n",
       "0      0  9746              Consolidated Appropriations Act, 2021   \n",
       "1      1  9767  Green Growth Strategy Through Achieving Carbon...   \n",
       "2      2  8713     General Law for Sustainable Forest Development   \n",
       "3      3  9741  Notification S.O. 4259(E) creating the Apex Co...   \n",
       "4      4  1687        CO2 Act (Act 641.71, fully revised version)   \n",
       "\n",
       "                                         description law_id  \\\n",
       "0  <div>This 2,000 pages-long document implements...   None   \n",
       "1  <div>This document is an industrial policy<str...   None   \n",
       "2  <div>This law replaces the <a href=\"http://www...   None   \n",
       "3  <div>This document from the Ministry of Enviro...   None   \n",
       "4  <div>On November 25, 2020, the Federal Council...   None   \n",
       "\n",
       "                                                slug  geography_id  \\\n",
       "0               consolidated-appropriations-act-2021           192   \n",
       "1  green-growth-strategy-through-achieving-carbon...            86   \n",
       "2     general-law-for-sustainable-forest-development           114   \n",
       "3  notification-s-o-4259-e-creating-the-apex-comm...            78   \n",
       "4           co2-act-act-641-71-fully-revised-version           174   \n",
       "\n",
       "                 created_at                updated_at visibility_status  ...  \\\n",
       "0  2021-01-07T21:23:34.475Z  2021-01-07T21:32:20.664Z         published  ...   \n",
       "1  2021-03-01T10:30:50.692Z  2021-03-01T10:35:34.284Z         published  ...   \n",
       "2  2019-12-08T17:46:02.526Z  2021-02-17T17:53:37.188Z         published  ...   \n",
       "3  2020-12-04T18:07:29.406Z  2020-12-04T18:13:52.925Z         published  ...   \n",
       "4  2019-12-08T17:46:22.795Z  2020-12-04T15:29:03.388Z         published  ...   \n",
       "\n",
       "  eu_member_ind law_discarded_at federal_ind  \\\n",
       "0         False             None        True   \n",
       "1         False             None       False   \n",
       "2         False             None        True   \n",
       "3         False             None        True   \n",
       "4         False             None        True   \n",
       "\n",
       "                                 legislative_process  \\\n",
       "0  <p style=\"text-align: justify;\">The United Sta...   \n",
       "1  <div><br>The National Diet is the sole law-mak...   \n",
       "2  <div>The United Mexican States (Mexico) has a ...   \n",
       "3  <p style=\"text-align: justify;\">The Indian par...   \n",
       "4  <p style=\"text-align: justify;\">Switzerland is...   \n",
       "\n",
       "                                   clean_description  \\\n",
       "0  This 2,000 pages-long document implements a ma...   \n",
       "1  This document is an industrial policy  which a...   \n",
       "2  This law replaces the 2003 general law for sus...   \n",
       "3  This document from the Ministry of Environment...   \n",
       "4  On November 25, 2020, the Federal Council adop...   \n",
       "\n",
       "                           clean_legislative_process  \\\n",
       "0  The United States has a bicameral legislature ...   \n",
       "1  The National Diet is the sole law-making organ...   \n",
       "2  The United Mexican States (Mexico) has a bicam...   \n",
       "3  The Indian parliament is a bicameral legislatu...   \n",
       "4  Switzerland is a federal state with 26 cantons...   \n",
       "\n",
       "                               clean_title_plus_desc Law Cluster  \\\n",
       "0  Consolidated Appropriations Act, 2021 This 2,0...           9   \n",
       "1  Green Growth Strategy Through Achieving Carbon...           8   \n",
       "2  General Law for Sustainable Forest Development...           9   \n",
       "3  Notification S.O. 4259(E) creating the Apex Co...           2   \n",
       "4  CO2 Act (Act 641.71, fully revised version) On...           8   \n",
       "\n",
       "                                       Law Top Words  \\\n",
       "0  forest climate change climate change developme...   \n",
       "1  emission gas greenhouse greenhouse gas gas emi...   \n",
       "2  forest climate change climate change developme...   \n",
       "3  climate climate change change national adaptat...   \n",
       "4  emission gas greenhouse greenhouse gas gas emi...   \n",
       "\n",
       "                             Law Top Words separated  \n",
       "0  forest | climate | change | climate change | d...  \n",
       "1  emission | gas | greenhouse | greenhouse gas |...  \n",
       "2  forest | climate | change | climate change | d...  \n",
       "3  climate | climate change | change | national |...  \n",
       "4  emission | gas | greenhouse | greenhouse gas |...  \n",
       "\n",
       "[5 rows x 38 columns]"
      ]
     },
     "execution_count": 70,
     "metadata": {},
     "output_type": "execute_result"
    }
   ],
   "source": [
    "# Rename\n",
    "climate_laws_df.rename(columns={'Cluster': 'Law Cluster',\n",
    "                                'Top Words': 'Law Top Words',\n",
    "                                'Top Words separated': 'Law Top Words separated'\n",
    "                       }, inplace=True)\n",
    "\n",
    "climate_laws_df.head()"
   ]
  },
  {
   "cell_type": "markdown",
   "metadata": {},
   "source": [
    "### Let's enrich this data with types of government around the world "
   ]
  },
  {
   "cell_type": "code",
   "execution_count": 121,
   "metadata": {},
   "outputs": [],
   "source": [
    "# Government type URL\n",
    "gov_type_url = \"https://en.wikipedia.org/wiki/List_of_countries_by_system_of_government\"\n",
    "gov_type_page = requests.get(gov_type_url)\n",
    "gov_type_soup = BeautifulSoup(gov_type_page.content, 'html.parser')"
   ]
  },
  {
   "cell_type": "code",
   "execution_count": 122,
   "metadata": {
    "scrolled": true
   },
   "outputs": [],
   "source": [
    "# Finding the table content of the page\n",
    "gov_type_table = gov_type_soup.find_all('table')[5]\n",
    "\n",
    "# UPDATE - Supplement table with partially recognised states\n",
    "gov_type_table_supplement = gov_type_soup.find_all('table')[6]"
   ]
  },
  {
   "cell_type": "code",
   "execution_count": 124,
   "metadata": {},
   "outputs": [
    {
     "data": {
      "text/html": [
       "<div>\n",
       "<style scoped>\n",
       "    .dataframe tbody tr th:only-of-type {\n",
       "        vertical-align: middle;\n",
       "    }\n",
       "\n",
       "    .dataframe tbody tr th {\n",
       "        vertical-align: top;\n",
       "    }\n",
       "\n",
       "    .dataframe thead th {\n",
       "        text-align: right;\n",
       "    }\n",
       "</style>\n",
       "<table border=\"1\" class=\"dataframe\">\n",
       "  <thead>\n",
       "    <tr style=\"text-align: right;\">\n",
       "      <th></th>\n",
       "      <th>Name</th>\n",
       "      <th>Constitutional form</th>\n",
       "      <th>Head of state</th>\n",
       "      <th>Basis of executive legitimacy</th>\n",
       "    </tr>\n",
       "  </thead>\n",
       "  <tbody>\n",
       "    <tr>\n",
       "      <th>0</th>\n",
       "      <td>Afghanistan</td>\n",
       "      <td>Republic</td>\n",
       "      <td>Executive</td>\n",
       "      <td>Presidency is independent of legislature</td>\n",
       "    </tr>\n",
       "    <tr>\n",
       "      <th>1</th>\n",
       "      <td>Albania</td>\n",
       "      <td>Republic</td>\n",
       "      <td>Ceremonial</td>\n",
       "      <td>Ministry is subject to parliamentary confidence</td>\n",
       "    </tr>\n",
       "    <tr>\n",
       "      <th>2</th>\n",
       "      <td>Algeria</td>\n",
       "      <td>Republic</td>\n",
       "      <td>Executive</td>\n",
       "      <td>Presidency independent of legislature; ministr...</td>\n",
       "    </tr>\n",
       "    <tr>\n",
       "      <th>3</th>\n",
       "      <td>Andorra</td>\n",
       "      <td>Constitutional monarchy</td>\n",
       "      <td>Ceremonial</td>\n",
       "      <td>Ministry is subject to parliamentary confidence</td>\n",
       "    </tr>\n",
       "    <tr>\n",
       "      <th>4</th>\n",
       "      <td>Angola</td>\n",
       "      <td>Republic</td>\n",
       "      <td>Executive</td>\n",
       "      <td>Presidency is independent of legislature</td>\n",
       "    </tr>\n",
       "  </tbody>\n",
       "</table>\n",
       "</div>"
      ],
      "text/plain": [
       "          Name      Constitutional form Head of state  \\\n",
       "0  Afghanistan                 Republic     Executive   \n",
       "1      Albania                 Republic    Ceremonial   \n",
       "2      Algeria                 Republic     Executive   \n",
       "3      Andorra  Constitutional monarchy    Ceremonial   \n",
       "4       Angola                 Republic     Executive   \n",
       "\n",
       "                       Basis of executive legitimacy  \n",
       "0           Presidency is independent of legislature  \n",
       "1    Ministry is subject to parliamentary confidence  \n",
       "2  Presidency independent of legislature; ministr...  \n",
       "3    Ministry is subject to parliamentary confidence  \n",
       "4           Presidency is independent of legislature  "
      ]
     },
     "execution_count": 124,
     "metadata": {},
     "output_type": "execute_result"
    }
   ],
   "source": [
    "# Process the fetched tables into DataFrames\n",
    "gov_type_df = pd.read_html(str(gov_type_table))[0]\n",
    "original_len = len(gov_type_df)\n",
    "gov_type_df_supplement = pd.read_html(str(gov_type_table_supplement))[0]\n",
    "gov_type_df = gov_type_df.append(gov_type_df_supplement)\n",
    "assert len(gov_type_df) > original_len, \"Check the fetched tables\"\n",
    "\n",
    "# Show\n",
    "gov_type_df.head()"
   ]
  },
  {
   "cell_type": "code",
   "execution_count": 126,
   "metadata": {
    "scrolled": true
   },
   "outputs": [],
   "source": [
    "gov_type_df.fillna('', inplace=True)"
   ]
  },
  {
   "cell_type": "code",
   "execution_count": 127,
   "metadata": {},
   "outputs": [],
   "source": [
    "gov_type_df['government_type'] = gov_type_df['Constitutional form'] + \" - \" + gov_type_df['Head of state']"
   ]
  },
  {
   "cell_type": "code",
   "execution_count": 128,
   "metadata": {},
   "outputs": [
    {
     "data": {
      "text/html": [
       "<div>\n",
       "<style scoped>\n",
       "    .dataframe tbody tr th:only-of-type {\n",
       "        vertical-align: middle;\n",
       "    }\n",
       "\n",
       "    .dataframe tbody tr th {\n",
       "        vertical-align: top;\n",
       "    }\n",
       "\n",
       "    .dataframe thead th {\n",
       "        text-align: right;\n",
       "    }\n",
       "</style>\n",
       "<table border=\"1\" class=\"dataframe\">\n",
       "  <thead>\n",
       "    <tr style=\"text-align: right;\">\n",
       "      <th></th>\n",
       "      <th>Name</th>\n",
       "      <th>Constitutional form</th>\n",
       "      <th>Head of state</th>\n",
       "      <th>Basis of executive legitimacy</th>\n",
       "      <th>government_type</th>\n",
       "    </tr>\n",
       "  </thead>\n",
       "  <tbody>\n",
       "    <tr>\n",
       "      <th>0</th>\n",
       "      <td>Afghanistan</td>\n",
       "      <td>Republic</td>\n",
       "      <td>Executive</td>\n",
       "      <td>Presidency is independent of legislature</td>\n",
       "      <td>Republic - Executive</td>\n",
       "    </tr>\n",
       "    <tr>\n",
       "      <th>1</th>\n",
       "      <td>Albania</td>\n",
       "      <td>Republic</td>\n",
       "      <td>Ceremonial</td>\n",
       "      <td>Ministry is subject to parliamentary confidence</td>\n",
       "      <td>Republic - Ceremonial</td>\n",
       "    </tr>\n",
       "    <tr>\n",
       "      <th>2</th>\n",
       "      <td>Algeria</td>\n",
       "      <td>Republic</td>\n",
       "      <td>Executive</td>\n",
       "      <td>Presidency independent of legislature; ministr...</td>\n",
       "      <td>Republic - Executive</td>\n",
       "    </tr>\n",
       "    <tr>\n",
       "      <th>3</th>\n",
       "      <td>Andorra</td>\n",
       "      <td>Constitutional monarchy</td>\n",
       "      <td>Ceremonial</td>\n",
       "      <td>Ministry is subject to parliamentary confidence</td>\n",
       "      <td>Constitutional monarchy - Ceremonial</td>\n",
       "    </tr>\n",
       "    <tr>\n",
       "      <th>4</th>\n",
       "      <td>Angola</td>\n",
       "      <td>Republic</td>\n",
       "      <td>Executive</td>\n",
       "      <td>Presidency is independent of legislature</td>\n",
       "      <td>Republic - Executive</td>\n",
       "    </tr>\n",
       "  </tbody>\n",
       "</table>\n",
       "</div>"
      ],
      "text/plain": [
       "          Name      Constitutional form Head of state  \\\n",
       "0  Afghanistan                 Republic     Executive   \n",
       "1      Albania                 Republic    Ceremonial   \n",
       "2      Algeria                 Republic     Executive   \n",
       "3      Andorra  Constitutional monarchy    Ceremonial   \n",
       "4       Angola                 Republic     Executive   \n",
       "\n",
       "                       Basis of executive legitimacy  \\\n",
       "0           Presidency is independent of legislature   \n",
       "1    Ministry is subject to parliamentary confidence   \n",
       "2  Presidency independent of legislature; ministr...   \n",
       "3    Ministry is subject to parliamentary confidence   \n",
       "4           Presidency is independent of legislature   \n",
       "\n",
       "                        government_type  \n",
       "0                  Republic - Executive  \n",
       "1                 Republic - Ceremonial  \n",
       "2                  Republic - Executive  \n",
       "3  Constitutional monarchy - Ceremonial  \n",
       "4                  Republic - Executive  "
      ]
     },
     "execution_count": 128,
     "metadata": {},
     "output_type": "execute_result"
    }
   ],
   "source": [
    "gov_type_df.head()"
   ]
  },
  {
   "cell_type": "code",
   "execution_count": 131,
   "metadata": {},
   "outputs": [],
   "source": [
    "# Clean up some non-breaking space characters\n",
    "def clean_gov_type(text):\n",
    "    text = re.sub(r\"(\\xa0)\", \" \", text)\n",
    "    if text == \"Provisional - \":\n",
    "        text = \"Provisional\"\n",
    "    return text"
   ]
  },
  {
   "cell_type": "code",
   "execution_count": 132,
   "metadata": {},
   "outputs": [],
   "source": [
    "gov_type_df[\"government_type\"] = gov_type_df[\"government_type\"].apply(lambda x: clean_gov_type(x))"
   ]
  },
  {
   "cell_type": "code",
   "execution_count": 133,
   "metadata": {
    "scrolled": true
   },
   "outputs": [
    {
     "data": {
      "text/plain": [
       "array(['Brunei Darussalam', 'Cabo Verde', 'China', 'Congo', 'Czechia',\n",
       "       'Democratic Republic of Congo', 'European Union', 'Gambia',\n",
       "       \"Lao People's Democratic Republic\", 'Micronesia',\n",
       "       'North Macedonia (Republic of North Macedonia)',\n",
       "       'Sao Tome and Principe', 'South Korea', 'Taiwan', 'Timor-Leste',\n",
       "       'United States of America'], dtype='<U45')"
      ]
     },
     "execution_count": 133,
     "metadata": {},
     "output_type": "execute_result"
    }
   ],
   "source": [
    "# See which countries are the Climate laws but not in Gov Type Dataframe\n",
    "np.setdiff1d(list(climate_laws_df['country_name']), list(gov_type_df['Name']))"
   ]
  },
  {
   "cell_type": "code",
   "execution_count": 135,
   "metadata": {},
   "outputs": [],
   "source": [
    "# Hash map dict to relabel\n",
    "country_names_hash_map = {'Brunei Darussalam': 'Brunei',\n",
    "                          'Cabo Verde': 'Cape Verde',\n",
    "                          'China': \"China, People's Republic of\",\n",
    "                          'Congo': \"Congo, Republic of the\",\n",
    "                          'Czechia': 'Czech Republic',\n",
    "                          'Democratic Republic of Congo': 'Congo, Democratic Republic of the',\n",
    "                          'Gambia': 'Gambia, The',\n",
    "                          \"Lao People's Democratic Republic\": 'Laos',\n",
    "                          'Micronesia': 'Federated States of Micronesia',\n",
    "                          'North Macedonia (Republic of North Macedonia)': 'North Macedonia',\n",
    "                          'Sao Tome and Principe': 'São Tomé and Príncipe',\n",
    "                          'South Korea': 'Korea, South',\n",
    "                          'Taiwan': 'Republic of China',\n",
    "                          'Timor-Leste': 'East Timor',\n",
    "                          'United States of America': 'United States'\n",
    "                         }\n",
    "\n",
    "def relabel_country_name(text, hash_map=country_names_hash_map):\n",
    "    if text in list(hash_map.keys()):\n",
    "        text = hash_map[text]\n",
    "    return text"
   ]
  },
  {
   "cell_type": "code",
   "execution_count": 136,
   "metadata": {},
   "outputs": [],
   "source": [
    "# Relabel the country names in climate_laws_df\n",
    "climate_laws_df['country_name'] = climate_laws_df['country_name'].apply(lambda x: relabel_country_name(x))"
   ]
  },
  {
   "cell_type": "code",
   "execution_count": 138,
   "metadata": {},
   "outputs": [
    {
     "data": {
      "text/plain": [
       "array(['European Union'], dtype='<U33')"
      ]
     },
     "execution_count": 138,
     "metadata": {},
     "output_type": "execute_result"
    }
   ],
   "source": [
    "np.setdiff1d(list(climate_laws_df['country_name']), list(gov_type_df['Name']))"
   ]
  },
  {
   "cell_type": "code",
   "execution_count": 140,
   "metadata": {},
   "outputs": [],
   "source": [
    "# Add European Union to Government Type dataframe\n",
    "gov_type_df = gov_type_df.append({'Name': 'European Union', \n",
    "                                  'government_type': 'Republic - Executive'}, ignore_index=True)"
   ]
  },
  {
   "cell_type": "code",
   "execution_count": 142,
   "metadata": {},
   "outputs": [],
   "source": [
    "gov_type_df.rename(columns={'Name': 'country_name'}, inplace=True)"
   ]
  },
  {
   "cell_type": "code",
   "execution_count": 143,
   "metadata": {},
   "outputs": [],
   "source": [
    "# Enrich data with government type\n",
    "climate_laws_df = climate_laws_df.merge(gov_type_df[['country_name', 'government_type']], on='country_name', how='left')"
   ]
  },
  {
   "cell_type": "code",
   "execution_count": 147,
   "metadata": {},
   "outputs": [
    {
     "data": {
      "text/html": [
       "<div>\n",
       "<style scoped>\n",
       "    .dataframe tbody tr th:only-of-type {\n",
       "        vertical-align: middle;\n",
       "    }\n",
       "\n",
       "    .dataframe tbody tr th {\n",
       "        vertical-align: top;\n",
       "    }\n",
       "\n",
       "    .dataframe thead th {\n",
       "        text-align: right;\n",
       "    }\n",
       "</style>\n",
       "<table border=\"1\" class=\"dataframe\">\n",
       "  <thead>\n",
       "    <tr style=\"text-align: right;\">\n",
       "      <th></th>\n",
       "      <th>index</th>\n",
       "      <th>id</th>\n",
       "      <th>title</th>\n",
       "      <th>description</th>\n",
       "      <th>law_id</th>\n",
       "      <th>slug</th>\n",
       "      <th>geography_id</th>\n",
       "      <th>created_at</th>\n",
       "      <th>updated_at</th>\n",
       "      <th>visibility_status</th>\n",
       "      <th>...</th>\n",
       "      <th>law_discarded_at</th>\n",
       "      <th>federal_ind</th>\n",
       "      <th>legislative_process</th>\n",
       "      <th>clean_description</th>\n",
       "      <th>clean_legislative_process</th>\n",
       "      <th>clean_title_plus_desc</th>\n",
       "      <th>law_cluster</th>\n",
       "      <th>law_top_words</th>\n",
       "      <th>law_top_words_sep</th>\n",
       "      <th>government_type</th>\n",
       "    </tr>\n",
       "  </thead>\n",
       "  <tbody>\n",
       "    <tr>\n",
       "      <th>0</th>\n",
       "      <td>0</td>\n",
       "      <td>9746</td>\n",
       "      <td>Consolidated Appropriations Act, 2021</td>\n",
       "      <td>&lt;div&gt;This 2,000 pages-long document implements...</td>\n",
       "      <td>None</td>\n",
       "      <td>consolidated-appropriations-act-2021</td>\n",
       "      <td>192</td>\n",
       "      <td>2021-01-07T21:23:34.475Z</td>\n",
       "      <td>2021-01-07T21:32:20.664Z</td>\n",
       "      <td>published</td>\n",
       "      <td>...</td>\n",
       "      <td>None</td>\n",
       "      <td>True</td>\n",
       "      <td>&lt;p style=\"text-align: justify;\"&gt;The United Sta...</td>\n",
       "      <td>This 2,000 pages-long document implements a ma...</td>\n",
       "      <td>The United States has a bicameral legislature ...</td>\n",
       "      <td>Consolidated Appropriations Act, 2021 This 2,0...</td>\n",
       "      <td>9</td>\n",
       "      <td>forest climate change climate change developme...</td>\n",
       "      <td>forest | climate | change | climate change | d...</td>\n",
       "      <td>Republic - Executive</td>\n",
       "    </tr>\n",
       "    <tr>\n",
       "      <th>1</th>\n",
       "      <td>1</td>\n",
       "      <td>9767</td>\n",
       "      <td>Green Growth Strategy Through Achieving Carbon...</td>\n",
       "      <td>&lt;div&gt;This document is an industrial policy&lt;str...</td>\n",
       "      <td>None</td>\n",
       "      <td>green-growth-strategy-through-achieving-carbon...</td>\n",
       "      <td>86</td>\n",
       "      <td>2021-03-01T10:30:50.692Z</td>\n",
       "      <td>2021-03-01T10:35:34.284Z</td>\n",
       "      <td>published</td>\n",
       "      <td>...</td>\n",
       "      <td>None</td>\n",
       "      <td>False</td>\n",
       "      <td>&lt;div&gt;&lt;br&gt;The National Diet is the sole law-mak...</td>\n",
       "      <td>This document is an industrial policy  which a...</td>\n",
       "      <td>The National Diet is the sole law-making organ...</td>\n",
       "      <td>Green Growth Strategy Through Achieving Carbon...</td>\n",
       "      <td>8</td>\n",
       "      <td>emission gas greenhouse greenhouse gas gas emi...</td>\n",
       "      <td>emission | gas | greenhouse | greenhouse gas |...</td>\n",
       "      <td>Constitutional monarchy - Ceremonial</td>\n",
       "    </tr>\n",
       "    <tr>\n",
       "      <th>2</th>\n",
       "      <td>2</td>\n",
       "      <td>8713</td>\n",
       "      <td>General Law for Sustainable Forest Development</td>\n",
       "      <td>&lt;div&gt;This law replaces the &lt;a href=\"http://www...</td>\n",
       "      <td>None</td>\n",
       "      <td>general-law-for-sustainable-forest-development</td>\n",
       "      <td>114</td>\n",
       "      <td>2019-12-08T17:46:02.526Z</td>\n",
       "      <td>2021-02-17T17:53:37.188Z</td>\n",
       "      <td>published</td>\n",
       "      <td>...</td>\n",
       "      <td>None</td>\n",
       "      <td>True</td>\n",
       "      <td>&lt;div&gt;The United Mexican States (Mexico) has a ...</td>\n",
       "      <td>This law replaces the 2003 general law for sus...</td>\n",
       "      <td>The United Mexican States (Mexico) has a bicam...</td>\n",
       "      <td>General Law for Sustainable Forest Development...</td>\n",
       "      <td>9</td>\n",
       "      <td>forest climate change climate change developme...</td>\n",
       "      <td>forest | climate | change | climate change | d...</td>\n",
       "      <td>Republic - Executive</td>\n",
       "    </tr>\n",
       "    <tr>\n",
       "      <th>3</th>\n",
       "      <td>3</td>\n",
       "      <td>9741</td>\n",
       "      <td>Notification S.O. 4259(E) creating the Apex Co...</td>\n",
       "      <td>&lt;div&gt;This document from the Ministry of Enviro...</td>\n",
       "      <td>None</td>\n",
       "      <td>notification-s-o-4259-e-creating-the-apex-comm...</td>\n",
       "      <td>78</td>\n",
       "      <td>2020-12-04T18:07:29.406Z</td>\n",
       "      <td>2020-12-04T18:13:52.925Z</td>\n",
       "      <td>published</td>\n",
       "      <td>...</td>\n",
       "      <td>None</td>\n",
       "      <td>True</td>\n",
       "      <td>&lt;p style=\"text-align: justify;\"&gt;The Indian par...</td>\n",
       "      <td>This document from the Ministry of Environment...</td>\n",
       "      <td>The Indian parliament is a bicameral legislatu...</td>\n",
       "      <td>Notification S.O. 4259(E) creating the Apex Co...</td>\n",
       "      <td>2</td>\n",
       "      <td>climate climate change change national adaptat...</td>\n",
       "      <td>climate | climate change | change | national |...</td>\n",
       "      <td>Republic - Ceremonial</td>\n",
       "    </tr>\n",
       "    <tr>\n",
       "      <th>4</th>\n",
       "      <td>4</td>\n",
       "      <td>1687</td>\n",
       "      <td>CO2 Act (Act 641.71, fully revised version)</td>\n",
       "      <td>&lt;div&gt;On November 25, 2020, the Federal Council...</td>\n",
       "      <td>None</td>\n",
       "      <td>co2-act-act-641-71-fully-revised-version</td>\n",
       "      <td>174</td>\n",
       "      <td>2019-12-08T17:46:22.795Z</td>\n",
       "      <td>2020-12-04T15:29:03.388Z</td>\n",
       "      <td>published</td>\n",
       "      <td>...</td>\n",
       "      <td>None</td>\n",
       "      <td>True</td>\n",
       "      <td>&lt;p style=\"text-align: justify;\"&gt;Switzerland is...</td>\n",
       "      <td>On November 25, 2020, the Federal Council adop...</td>\n",
       "      <td>Switzerland is a federal state with 26 cantons...</td>\n",
       "      <td>CO2 Act (Act 641.71, fully revised version) On...</td>\n",
       "      <td>8</td>\n",
       "      <td>emission gas greenhouse greenhouse gas gas emi...</td>\n",
       "      <td>emission | gas | greenhouse | greenhouse gas |...</td>\n",
       "      <td>Republic - Executive</td>\n",
       "    </tr>\n",
       "  </tbody>\n",
       "</table>\n",
       "<p>5 rows × 39 columns</p>\n",
       "</div>"
      ],
      "text/plain": [
       "   index    id                                              title  \\\n",
       "0      0  9746              Consolidated Appropriations Act, 2021   \n",
       "1      1  9767  Green Growth Strategy Through Achieving Carbon...   \n",
       "2      2  8713     General Law for Sustainable Forest Development   \n",
       "3      3  9741  Notification S.O. 4259(E) creating the Apex Co...   \n",
       "4      4  1687        CO2 Act (Act 641.71, fully revised version)   \n",
       "\n",
       "                                         description law_id  \\\n",
       "0  <div>This 2,000 pages-long document implements...   None   \n",
       "1  <div>This document is an industrial policy<str...   None   \n",
       "2  <div>This law replaces the <a href=\"http://www...   None   \n",
       "3  <div>This document from the Ministry of Enviro...   None   \n",
       "4  <div>On November 25, 2020, the Federal Council...   None   \n",
       "\n",
       "                                                slug  geography_id  \\\n",
       "0               consolidated-appropriations-act-2021           192   \n",
       "1  green-growth-strategy-through-achieving-carbon...            86   \n",
       "2     general-law-for-sustainable-forest-development           114   \n",
       "3  notification-s-o-4259-e-creating-the-apex-comm...            78   \n",
       "4           co2-act-act-641-71-fully-revised-version           174   \n",
       "\n",
       "                 created_at                updated_at visibility_status  ...  \\\n",
       "0  2021-01-07T21:23:34.475Z  2021-01-07T21:32:20.664Z         published  ...   \n",
       "1  2021-03-01T10:30:50.692Z  2021-03-01T10:35:34.284Z         published  ...   \n",
       "2  2019-12-08T17:46:02.526Z  2021-02-17T17:53:37.188Z         published  ...   \n",
       "3  2020-12-04T18:07:29.406Z  2020-12-04T18:13:52.925Z         published  ...   \n",
       "4  2019-12-08T17:46:22.795Z  2020-12-04T15:29:03.388Z         published  ...   \n",
       "\n",
       "  law_discarded_at federal_ind  \\\n",
       "0             None        True   \n",
       "1             None       False   \n",
       "2             None        True   \n",
       "3             None        True   \n",
       "4             None        True   \n",
       "\n",
       "                                 legislative_process  \\\n",
       "0  <p style=\"text-align: justify;\">The United Sta...   \n",
       "1  <div><br>The National Diet is the sole law-mak...   \n",
       "2  <div>The United Mexican States (Mexico) has a ...   \n",
       "3  <p style=\"text-align: justify;\">The Indian par...   \n",
       "4  <p style=\"text-align: justify;\">Switzerland is...   \n",
       "\n",
       "                                   clean_description  \\\n",
       "0  This 2,000 pages-long document implements a ma...   \n",
       "1  This document is an industrial policy  which a...   \n",
       "2  This law replaces the 2003 general law for sus...   \n",
       "3  This document from the Ministry of Environment...   \n",
       "4  On November 25, 2020, the Federal Council adop...   \n",
       "\n",
       "                           clean_legislative_process  \\\n",
       "0  The United States has a bicameral legislature ...   \n",
       "1  The National Diet is the sole law-making organ...   \n",
       "2  The United Mexican States (Mexico) has a bicam...   \n",
       "3  The Indian parliament is a bicameral legislatu...   \n",
       "4  Switzerland is a federal state with 26 cantons...   \n",
       "\n",
       "                               clean_title_plus_desc law_cluster  \\\n",
       "0  Consolidated Appropriations Act, 2021 This 2,0...           9   \n",
       "1  Green Growth Strategy Through Achieving Carbon...           8   \n",
       "2  General Law for Sustainable Forest Development...           9   \n",
       "3  Notification S.O. 4259(E) creating the Apex Co...           2   \n",
       "4  CO2 Act (Act 641.71, fully revised version) On...           8   \n",
       "\n",
       "                                       law_top_words  \\\n",
       "0  forest climate change climate change developme...   \n",
       "1  emission gas greenhouse greenhouse gas gas emi...   \n",
       "2  forest climate change climate change developme...   \n",
       "3  climate climate change change national adaptat...   \n",
       "4  emission gas greenhouse greenhouse gas gas emi...   \n",
       "\n",
       "                                   law_top_words_sep  \\\n",
       "0  forest | climate | change | climate change | d...   \n",
       "1  emission | gas | greenhouse | greenhouse gas |...   \n",
       "2  forest | climate | change | climate change | d...   \n",
       "3  climate | climate change | change | national |...   \n",
       "4  emission | gas | greenhouse | greenhouse gas |...   \n",
       "\n",
       "                        government_type  \n",
       "0                  Republic - Executive  \n",
       "1  Constitutional monarchy - Ceremonial  \n",
       "2                  Republic - Executive  \n",
       "3                 Republic - Ceremonial  \n",
       "4                  Republic - Executive  \n",
       "\n",
       "[5 rows x 39 columns]"
      ]
     },
     "execution_count": 147,
     "metadata": {},
     "output_type": "execute_result"
    }
   ],
   "source": [
    "climate_laws_df.rename(columns={'Law Cluster': 'law_cluster',\n",
    "                                'Law Top Words': 'law_top_words',\n",
    "                                'Law Top Words separated': 'law_top_words_sep'}, inplace=True)\n",
    "\n",
    "climate_laws_df.head()"
   ]
  },
  {
   "cell_type": "markdown",
   "metadata": {},
   "source": [
    "#### Query idea: What is the association between government type and the type (cluster) of climate laws passed?"
   ]
  },
  {
   "cell_type": "code",
   "execution_count": 155,
   "metadata": {},
   "outputs": [],
   "source": [
    "# Importing Association Rules and Apriori\n",
    "from mlxtend.preprocessing import TransactionEncoder\n",
    "from mlxtend.frequent_patterns import association_rules, apriori"
   ]
  },
  {
   "cell_type": "code",
   "execution_count": 169,
   "metadata": {},
   "outputs": [
    {
     "name": "stdout",
     "output_type": "stream",
     "text": [
      "law_cluster        0\n",
      "government_type    0\n",
      "dtype: int64\n"
     ]
    }
   ],
   "source": [
    "# Checking if there are any nulls in the two features we care about\n",
    "print(climate_laws_df[['law_cluster', 'government_type']].isna().sum())"
   ]
  },
  {
   "cell_type": "code",
   "execution_count": 175,
   "metadata": {},
   "outputs": [
    {
     "name": "stdout",
     "output_type": "stream",
     "text": [
      "Zipped list:\n",
      " [['9', 'Republic - Executive'], ['8', 'Constitutional monarchy - Ceremonial'], ['9', 'Republic - Executive'], ['2', 'Republic - Ceremonial'], ['8', 'Republic - Executive']]\n",
      "Encoded transactions:\n",
      " [[False False False False False False False False False  True False False\n",
      "  False False False  True]\n",
      " [False False False False False False False False  True False False  True\n",
      "  False False False False]\n",
      " [False False False False False False False False False  True False False\n",
      "  False False False  True]\n",
      " [False False  True False False False False False False False False False\n",
      "  False False  True False]\n",
      " [False False False False False False False False  True False False False\n",
      "  False False False  True]]\n"
     ]
    },
    {
     "data": {
      "text/html": [
       "<div>\n",
       "<style scoped>\n",
       "    .dataframe tbody tr th:only-of-type {\n",
       "        vertical-align: middle;\n",
       "    }\n",
       "\n",
       "    .dataframe tbody tr th {\n",
       "        vertical-align: top;\n",
       "    }\n",
       "\n",
       "    .dataframe thead th {\n",
       "        text-align: right;\n",
       "    }\n",
       "</style>\n",
       "<table border=\"1\" class=\"dataframe\">\n",
       "  <thead>\n",
       "    <tr style=\"text-align: right;\">\n",
       "      <th></th>\n",
       "      <th>0</th>\n",
       "      <th>1</th>\n",
       "      <th>2</th>\n",
       "      <th>3</th>\n",
       "      <th>4</th>\n",
       "      <th>5</th>\n",
       "      <th>6</th>\n",
       "      <th>7</th>\n",
       "      <th>8</th>\n",
       "      <th>9</th>\n",
       "      <th>Absolute monarchy - Executive</th>\n",
       "      <th>Constitutional monarchy - Ceremonial</th>\n",
       "      <th>Constitutional monarchy - Executive</th>\n",
       "      <th>Provisional</th>\n",
       "      <th>Republic - Ceremonial</th>\n",
       "      <th>Republic - Executive</th>\n",
       "    </tr>\n",
       "  </thead>\n",
       "  <tbody>\n",
       "    <tr>\n",
       "      <th>0</th>\n",
       "      <td>False</td>\n",
       "      <td>False</td>\n",
       "      <td>False</td>\n",
       "      <td>False</td>\n",
       "      <td>False</td>\n",
       "      <td>False</td>\n",
       "      <td>False</td>\n",
       "      <td>False</td>\n",
       "      <td>False</td>\n",
       "      <td>True</td>\n",
       "      <td>False</td>\n",
       "      <td>False</td>\n",
       "      <td>False</td>\n",
       "      <td>False</td>\n",
       "      <td>False</td>\n",
       "      <td>True</td>\n",
       "    </tr>\n",
       "    <tr>\n",
       "      <th>1</th>\n",
       "      <td>False</td>\n",
       "      <td>False</td>\n",
       "      <td>False</td>\n",
       "      <td>False</td>\n",
       "      <td>False</td>\n",
       "      <td>False</td>\n",
       "      <td>False</td>\n",
       "      <td>False</td>\n",
       "      <td>True</td>\n",
       "      <td>False</td>\n",
       "      <td>False</td>\n",
       "      <td>True</td>\n",
       "      <td>False</td>\n",
       "      <td>False</td>\n",
       "      <td>False</td>\n",
       "      <td>False</td>\n",
       "    </tr>\n",
       "    <tr>\n",
       "      <th>2</th>\n",
       "      <td>False</td>\n",
       "      <td>False</td>\n",
       "      <td>False</td>\n",
       "      <td>False</td>\n",
       "      <td>False</td>\n",
       "      <td>False</td>\n",
       "      <td>False</td>\n",
       "      <td>False</td>\n",
       "      <td>False</td>\n",
       "      <td>True</td>\n",
       "      <td>False</td>\n",
       "      <td>False</td>\n",
       "      <td>False</td>\n",
       "      <td>False</td>\n",
       "      <td>False</td>\n",
       "      <td>True</td>\n",
       "    </tr>\n",
       "    <tr>\n",
       "      <th>3</th>\n",
       "      <td>False</td>\n",
       "      <td>False</td>\n",
       "      <td>True</td>\n",
       "      <td>False</td>\n",
       "      <td>False</td>\n",
       "      <td>False</td>\n",
       "      <td>False</td>\n",
       "      <td>False</td>\n",
       "      <td>False</td>\n",
       "      <td>False</td>\n",
       "      <td>False</td>\n",
       "      <td>False</td>\n",
       "      <td>False</td>\n",
       "      <td>False</td>\n",
       "      <td>True</td>\n",
       "      <td>False</td>\n",
       "    </tr>\n",
       "    <tr>\n",
       "      <th>4</th>\n",
       "      <td>False</td>\n",
       "      <td>False</td>\n",
       "      <td>False</td>\n",
       "      <td>False</td>\n",
       "      <td>False</td>\n",
       "      <td>False</td>\n",
       "      <td>False</td>\n",
       "      <td>False</td>\n",
       "      <td>True</td>\n",
       "      <td>False</td>\n",
       "      <td>False</td>\n",
       "      <td>False</td>\n",
       "      <td>False</td>\n",
       "      <td>False</td>\n",
       "      <td>False</td>\n",
       "      <td>True</td>\n",
       "    </tr>\n",
       "  </tbody>\n",
       "</table>\n",
       "</div>"
      ],
      "text/plain": [
       "       0      1      2      3      4      5      6      7      8      9  \\\n",
       "0  False  False  False  False  False  False  False  False  False   True   \n",
       "1  False  False  False  False  False  False  False  False   True  False   \n",
       "2  False  False  False  False  False  False  False  False  False   True   \n",
       "3  False  False   True  False  False  False  False  False  False  False   \n",
       "4  False  False  False  False  False  False  False  False   True  False   \n",
       "\n",
       "   Absolute monarchy - Executive  Constitutional monarchy - Ceremonial  \\\n",
       "0                          False                                 False   \n",
       "1                          False                                  True   \n",
       "2                          False                                 False   \n",
       "3                          False                                 False   \n",
       "4                          False                                 False   \n",
       "\n",
       "   Constitutional monarchy - Executive  Provisional  Republic - Ceremonial  \\\n",
       "0                                False        False                  False   \n",
       "1                                False        False                  False   \n",
       "2                                False        False                  False   \n",
       "3                                False        False                   True   \n",
       "4                                False        False                  False   \n",
       "\n",
       "   Republic - Executive  \n",
       "0                  True  \n",
       "1                 False  \n",
       "2                  True  \n",
       "3                 False  \n",
       "4                  True  "
      ]
     },
     "execution_count": 175,
     "metadata": {},
     "output_type": "execute_result"
    }
   ],
   "source": [
    "# TransactionEncoder\n",
    "transaction_encoder = TransactionEncoder()\n",
    "\n",
    "# Preparing dataset for Apriori\n",
    "cluster_plus_gov_type_data = list(map(list, list(zip(climate_laws_df['law_cluster'], climate_laws_df['government_type']))))\n",
    "print('Zipped list:\\n', cluster_plus_gov_type_data[:5])\n",
    "\n",
    "# Encoding them into transaction\n",
    "cluster_plus_gov_type_data = transaction_encoder.fit_transform(cluster_plus_gov_type_data)\n",
    "print('Encoded transactions:\\n', cluster_plus_gov_type_data[:5])\n",
    "\n",
    "# Into DataFrame\n",
    "cluster_plus_gov_type_data = pd.DataFrame(cluster_plus_gov_type_data, columns=transaction_encoder.columns_)\n",
    "cluster_plus_gov_type_data.head()"
   ]
  },
  {
   "cell_type": "code",
   "execution_count": 244,
   "metadata": {},
   "outputs": [],
   "source": [
    "# Apriori to extract frequent itemsets\n",
    "cluster_plus_gov_type_apriori_df = apriori(cluster_plus_gov_type_data, min_support=0.01, use_colnames=True)\n",
    "\n",
    "cluster_plus_gov_type_association_rules_df = association_rules(cluster_plus_gov_type_apriori_df, metric=\"confidence\", min_threshold=0.2)\n",
    "\n",
    "# See antecendents as government type only\n",
    "cluster_plus_gov_type_association_rules_df['antecedents'] = cluster_plus_gov_type_association_rules_df['antecedents'].apply(\n",
    "    lambda x: list(x)[0]).astype(\"unicode\")\n",
    "cluster_plus_gov_type_association_rules_df['consequents'] = cluster_plus_gov_type_association_rules_df['consequents'].apply(\n",
    "    lambda x: list(x)[0]).astype(\"unicode\")"
   ]
  },
  {
   "cell_type": "code",
   "execution_count": 245,
   "metadata": {
    "scrolled": true
   },
   "outputs": [
    {
     "data": {
      "text/html": [
       "<div>\n",
       "<style scoped>\n",
       "    .dataframe tbody tr th:only-of-type {\n",
       "        vertical-align: middle;\n",
       "    }\n",
       "\n",
       "    .dataframe tbody tr th {\n",
       "        vertical-align: top;\n",
       "    }\n",
       "\n",
       "    .dataframe thead th {\n",
       "        text-align: right;\n",
       "    }\n",
       "</style>\n",
       "<table border=\"1\" class=\"dataframe\">\n",
       "  <thead>\n",
       "    <tr style=\"text-align: right;\">\n",
       "      <th></th>\n",
       "      <th>antecedents</th>\n",
       "      <th>consequents</th>\n",
       "      <th>antecedent support</th>\n",
       "      <th>consequent support</th>\n",
       "      <th>support</th>\n",
       "      <th>confidence</th>\n",
       "      <th>lift</th>\n",
       "      <th>leverage</th>\n",
       "      <th>conviction</th>\n",
       "      <th>Top Words separated</th>\n",
       "    </tr>\n",
       "  </thead>\n",
       "  <tbody>\n",
       "    <tr>\n",
       "      <th>0</th>\n",
       "      <td>Republic - Ceremonial</td>\n",
       "      <td>3</td>\n",
       "      <td>0.208571</td>\n",
       "      <td>0.212381</td>\n",
       "      <td>0.060952</td>\n",
       "      <td>0.292237</td>\n",
       "      <td>1.376006</td>\n",
       "      <td>0.016656</td>\n",
       "      <td>1.112829</td>\n",
       "      <td>energy | efficiency | renewable | energy effic...</td>\n",
       "    </tr>\n",
       "    <tr>\n",
       "      <th>1</th>\n",
       "      <td>Republic - Ceremonial</td>\n",
       "      <td>4</td>\n",
       "      <td>0.208571</td>\n",
       "      <td>0.223333</td>\n",
       "      <td>0.056190</td>\n",
       "      <td>0.269406</td>\n",
       "      <td>1.206297</td>\n",
       "      <td>0.009610</td>\n",
       "      <td>1.063063</td>\n",
       "      <td>energy | electricity | renewable | renewable e...</td>\n",
       "    </tr>\n",
       "    <tr>\n",
       "      <th>2</th>\n",
       "      <td>Constitutional monarchy - Ceremonial</td>\n",
       "      <td>4</td>\n",
       "      <td>0.180476</td>\n",
       "      <td>0.223333</td>\n",
       "      <td>0.044762</td>\n",
       "      <td>0.248021</td>\n",
       "      <td>1.110542</td>\n",
       "      <td>0.004456</td>\n",
       "      <td>1.032830</td>\n",
       "      <td>energy | electricity | renewable | renewable e...</td>\n",
       "    </tr>\n",
       "    <tr>\n",
       "      <th>3</th>\n",
       "      <td>Republic - Executive</td>\n",
       "      <td>4</td>\n",
       "      <td>0.551905</td>\n",
       "      <td>0.223333</td>\n",
       "      <td>0.115714</td>\n",
       "      <td>0.209664</td>\n",
       "      <td>0.938792</td>\n",
       "      <td>-0.007544</td>\n",
       "      <td>0.982704</td>\n",
       "      <td>energy | electricity | renewable | renewable e...</td>\n",
       "    </tr>\n",
       "    <tr>\n",
       "      <th>4</th>\n",
       "      <td>Republic - Executive</td>\n",
       "      <td>9</td>\n",
       "      <td>0.551905</td>\n",
       "      <td>0.206667</td>\n",
       "      <td>0.116190</td>\n",
       "      <td>0.210526</td>\n",
       "      <td>1.018676</td>\n",
       "      <td>0.002130</td>\n",
       "      <td>1.004889</td>\n",
       "      <td>forest | climate | change | climate change | d...</td>\n",
       "    </tr>\n",
       "  </tbody>\n",
       "</table>\n",
       "</div>"
      ],
      "text/plain": [
       "                            antecedents consequents  antecedent support  \\\n",
       "0                 Republic - Ceremonial           3            0.208571   \n",
       "1                 Republic - Ceremonial           4            0.208571   \n",
       "2  Constitutional monarchy - Ceremonial           4            0.180476   \n",
       "3                  Republic - Executive           4            0.551905   \n",
       "4                  Republic - Executive           9            0.551905   \n",
       "\n",
       "   consequent support   support  confidence      lift  leverage  conviction  \\\n",
       "0            0.212381  0.060952    0.292237  1.376006  0.016656    1.112829   \n",
       "1            0.223333  0.056190    0.269406  1.206297  0.009610    1.063063   \n",
       "2            0.223333  0.044762    0.248021  1.110542  0.004456    1.032830   \n",
       "3            0.223333  0.115714    0.209664  0.938792 -0.007544    0.982704   \n",
       "4            0.206667  0.116190    0.210526  1.018676  0.002130    1.004889   \n",
       "\n",
       "                                 Top Words separated  \n",
       "0  energy | efficiency | renewable | energy effic...  \n",
       "1  energy | electricity | renewable | renewable e...  \n",
       "2  energy | electricity | renewable | renewable e...  \n",
       "3  energy | electricity | renewable | renewable e...  \n",
       "4  forest | climate | change | climate change | d...  "
      ]
     },
     "execution_count": 245,
     "metadata": {},
     "output_type": "execute_result"
    }
   ],
   "source": [
    "# View 1 - government type as antecedents\n",
    "gov_type_assoc_view_1 = cluster_plus_gov_type_association_rules_df[~cluster_plus_gov_type_association_rules_df['antecedents']\\\n",
    "                                           .isin(climate_laws_df['law_cluster'].unique())].sort_values('confidence', ascending=False)\n",
    "gov_type_assoc_view_1 = gov_type_assoc_view_1.merge(k10_n12_keywords_df[['Cluster', 'Top Words separated']].applymap(str), left_on='consequents', right_on='Cluster')\n",
    "\n",
    "gov_type_assoc_view_1.drop(columns=['Cluster'], inplace=True)\n",
    "\n",
    "gov_type_assoc_view_1"
   ]
  },
  {
   "cell_type": "code",
   "execution_count": 246,
   "metadata": {
    "scrolled": true
   },
   "outputs": [
    {
     "data": {
      "text/html": [
       "<div>\n",
       "<style scoped>\n",
       "    .dataframe tbody tr th:only-of-type {\n",
       "        vertical-align: middle;\n",
       "    }\n",
       "\n",
       "    .dataframe tbody tr th {\n",
       "        vertical-align: top;\n",
       "    }\n",
       "\n",
       "    .dataframe thead th {\n",
       "        text-align: right;\n",
       "    }\n",
       "</style>\n",
       "<table border=\"1\" class=\"dataframe\">\n",
       "  <thead>\n",
       "    <tr style=\"text-align: right;\">\n",
       "      <th></th>\n",
       "      <th>antecedents</th>\n",
       "      <th>consequents</th>\n",
       "      <th>antecedent support</th>\n",
       "      <th>consequent support</th>\n",
       "      <th>support</th>\n",
       "      <th>confidence</th>\n",
       "      <th>lift</th>\n",
       "      <th>leverage</th>\n",
       "      <th>conviction</th>\n",
       "      <th>Top Words separated</th>\n",
       "    </tr>\n",
       "  </thead>\n",
       "  <tbody>\n",
       "    <tr>\n",
       "      <th>0</th>\n",
       "      <td>6</td>\n",
       "      <td>Republic - Executive</td>\n",
       "      <td>0.064286</td>\n",
       "      <td>0.551905</td>\n",
       "      <td>0.043810</td>\n",
       "      <td>0.681481</td>\n",
       "      <td>1.234781</td>\n",
       "      <td>0.008330</td>\n",
       "      <td>1.406811</td>\n",
       "      <td>disaster | risk | management | disaster risk |...</td>\n",
       "    </tr>\n",
       "    <tr>\n",
       "      <th>1</th>\n",
       "      <td>2</td>\n",
       "      <td>Republic - Executive</td>\n",
       "      <td>0.167619</td>\n",
       "      <td>0.551905</td>\n",
       "      <td>0.104286</td>\n",
       "      <td>0.622159</td>\n",
       "      <td>1.127294</td>\n",
       "      <td>0.011776</td>\n",
       "      <td>1.185936</td>\n",
       "      <td>climate | climate change | change | national |...</td>\n",
       "    </tr>\n",
       "    <tr>\n",
       "      <th>2</th>\n",
       "      <td>1</td>\n",
       "      <td>Republic - Executive</td>\n",
       "      <td>0.025714</td>\n",
       "      <td>0.551905</td>\n",
       "      <td>0.015238</td>\n",
       "      <td>0.592593</td>\n",
       "      <td>1.073723</td>\n",
       "      <td>0.001046</td>\n",
       "      <td>1.099870</td>\n",
       "      <td>carbon | plan | low carbon | low | climate | i...</td>\n",
       "    </tr>\n",
       "    <tr>\n",
       "      <th>3</th>\n",
       "      <td>9</td>\n",
       "      <td>Republic - Executive</td>\n",
       "      <td>0.206667</td>\n",
       "      <td>0.551905</td>\n",
       "      <td>0.116190</td>\n",
       "      <td>0.562212</td>\n",
       "      <td>1.018676</td>\n",
       "      <td>0.002130</td>\n",
       "      <td>1.023544</td>\n",
       "      <td>forest | climate | change | climate change | d...</td>\n",
       "    </tr>\n",
       "    <tr>\n",
       "      <th>4</th>\n",
       "      <td>4</td>\n",
       "      <td>Republic - Executive</td>\n",
       "      <td>0.223333</td>\n",
       "      <td>0.551905</td>\n",
       "      <td>0.115714</td>\n",
       "      <td>0.518124</td>\n",
       "      <td>0.938792</td>\n",
       "      <td>-0.007544</td>\n",
       "      <td>0.929897</td>\n",
       "      <td>energy | electricity | renewable | renewable e...</td>\n",
       "    </tr>\n",
       "    <tr>\n",
       "      <th>5</th>\n",
       "      <td>4</td>\n",
       "      <td>Republic - Ceremonial</td>\n",
       "      <td>0.223333</td>\n",
       "      <td>0.208571</td>\n",
       "      <td>0.056190</td>\n",
       "      <td>0.251599</td>\n",
       "      <td>1.206297</td>\n",
       "      <td>0.009610</td>\n",
       "      <td>1.057493</td>\n",
       "      <td>energy | electricity | renewable | renewable e...</td>\n",
       "    </tr>\n",
       "    <tr>\n",
       "      <th>6</th>\n",
       "      <td>4</td>\n",
       "      <td>Constitutional monarchy - Ceremonial</td>\n",
       "      <td>0.223333</td>\n",
       "      <td>0.180476</td>\n",
       "      <td>0.044762</td>\n",
       "      <td>0.200426</td>\n",
       "      <td>1.110542</td>\n",
       "      <td>0.004456</td>\n",
       "      <td>1.024951</td>\n",
       "      <td>energy | electricity | renewable | renewable e...</td>\n",
       "    </tr>\n",
       "    <tr>\n",
       "      <th>7</th>\n",
       "      <td>8</td>\n",
       "      <td>Republic - Executive</td>\n",
       "      <td>0.071905</td>\n",
       "      <td>0.551905</td>\n",
       "      <td>0.036667</td>\n",
       "      <td>0.509934</td>\n",
       "      <td>0.923952</td>\n",
       "      <td>-0.003018</td>\n",
       "      <td>0.914356</td>\n",
       "      <td>emission | gas | greenhouse | greenhouse gas |...</td>\n",
       "    </tr>\n",
       "    <tr>\n",
       "      <th>8</th>\n",
       "      <td>8</td>\n",
       "      <td>Constitutional monarchy - Ceremonial</td>\n",
       "      <td>0.071905</td>\n",
       "      <td>0.180476</td>\n",
       "      <td>0.020000</td>\n",
       "      <td>0.278146</td>\n",
       "      <td>1.541177</td>\n",
       "      <td>0.007023</td>\n",
       "      <td>1.135304</td>\n",
       "      <td>emission | gas | greenhouse | greenhouse gas |...</td>\n",
       "    </tr>\n",
       "    <tr>\n",
       "      <th>9</th>\n",
       "      <td>3</td>\n",
       "      <td>Republic - Executive</td>\n",
       "      <td>0.212381</td>\n",
       "      <td>0.551905</td>\n",
       "      <td>0.106667</td>\n",
       "      <td>0.502242</td>\n",
       "      <td>0.910016</td>\n",
       "      <td>-0.010547</td>\n",
       "      <td>0.900227</td>\n",
       "      <td>energy | efficiency | renewable | energy effic...</td>\n",
       "    </tr>\n",
       "    <tr>\n",
       "      <th>10</th>\n",
       "      <td>3</td>\n",
       "      <td>Republic - Ceremonial</td>\n",
       "      <td>0.212381</td>\n",
       "      <td>0.208571</td>\n",
       "      <td>0.060952</td>\n",
       "      <td>0.286996</td>\n",
       "      <td>1.376006</td>\n",
       "      <td>0.016656</td>\n",
       "      <td>1.109991</td>\n",
       "      <td>energy | efficiency | renewable | energy effic...</td>\n",
       "    </tr>\n",
       "  </tbody>\n",
       "</table>\n",
       "</div>"
      ],
      "text/plain": [
       "   antecedents                           consequents  antecedent support  \\\n",
       "0            6                  Republic - Executive            0.064286   \n",
       "1            2                  Republic - Executive            0.167619   \n",
       "2            1                  Republic - Executive            0.025714   \n",
       "3            9                  Republic - Executive            0.206667   \n",
       "4            4                  Republic - Executive            0.223333   \n",
       "5            4                 Republic - Ceremonial            0.223333   \n",
       "6            4  Constitutional monarchy - Ceremonial            0.223333   \n",
       "7            8                  Republic - Executive            0.071905   \n",
       "8            8  Constitutional monarchy - Ceremonial            0.071905   \n",
       "9            3                  Republic - Executive            0.212381   \n",
       "10           3                 Republic - Ceremonial            0.212381   \n",
       "\n",
       "    consequent support   support  confidence      lift  leverage  conviction  \\\n",
       "0             0.551905  0.043810    0.681481  1.234781  0.008330    1.406811   \n",
       "1             0.551905  0.104286    0.622159  1.127294  0.011776    1.185936   \n",
       "2             0.551905  0.015238    0.592593  1.073723  0.001046    1.099870   \n",
       "3             0.551905  0.116190    0.562212  1.018676  0.002130    1.023544   \n",
       "4             0.551905  0.115714    0.518124  0.938792 -0.007544    0.929897   \n",
       "5             0.208571  0.056190    0.251599  1.206297  0.009610    1.057493   \n",
       "6             0.180476  0.044762    0.200426  1.110542  0.004456    1.024951   \n",
       "7             0.551905  0.036667    0.509934  0.923952 -0.003018    0.914356   \n",
       "8             0.180476  0.020000    0.278146  1.541177  0.007023    1.135304   \n",
       "9             0.551905  0.106667    0.502242  0.910016 -0.010547    0.900227   \n",
       "10            0.208571  0.060952    0.286996  1.376006  0.016656    1.109991   \n",
       "\n",
       "                                  Top Words separated  \n",
       "0   disaster | risk | management | disaster risk |...  \n",
       "1   climate | climate change | change | national |...  \n",
       "2   carbon | plan | low carbon | low | climate | i...  \n",
       "3   forest | climate | change | climate change | d...  \n",
       "4   energy | electricity | renewable | renewable e...  \n",
       "5   energy | electricity | renewable | renewable e...  \n",
       "6   energy | electricity | renewable | renewable e...  \n",
       "7   emission | gas | greenhouse | greenhouse gas |...  \n",
       "8   emission | gas | greenhouse | greenhouse gas |...  \n",
       "9   energy | efficiency | renewable | energy effic...  \n",
       "10  energy | efficiency | renewable | energy effic...  "
      ]
     },
     "execution_count": 246,
     "metadata": {},
     "output_type": "execute_result"
    }
   ],
   "source": [
    "gov_type_assoc_view_2 = cluster_plus_gov_type_association_rules_df[~cluster_plus_gov_type_association_rules_df['consequents']\\\n",
    "                                           .isin(climate_laws_df['law_cluster'].unique())].sort_values('confidence', ascending=False)\n",
    "gov_type_assoc_view_2 = gov_type_assoc_view_2.merge(k10_n12_keywords_df[['Cluster', 'Top Words separated']].applymap(str), left_on='antecedents', right_on='Cluster')\n",
    "\n",
    "gov_type_assoc_view_2.drop(columns=['Cluster'], inplace=True)\n",
    "\n",
    "gov_type_assoc_view_2"
   ]
  },
  {
   "cell_type": "code",
   "execution_count": null,
   "metadata": {},
   "outputs": [],
   "source": []
  },
  {
   "cell_type": "code",
   "execution_count": null,
   "metadata": {},
   "outputs": [],
   "source": []
  },
  {
   "cell_type": "code",
   "execution_count": null,
   "metadata": {},
   "outputs": [],
   "source": []
  },
  {
   "cell_type": "code",
   "execution_count": null,
   "metadata": {},
   "outputs": [],
   "source": []
  },
  {
   "cell_type": "code",
   "execution_count": null,
   "metadata": {},
   "outputs": [],
   "source": []
  },
  {
   "cell_type": "markdown",
   "metadata": {},
   "source": [
    "# Section 2: Econometrics analysis"
   ]
  },
  {
   "cell_type": "markdown",
   "metadata": {},
   "source": [
    "## First analysis - cross-sectional analysis of number of climate laws in different country\n",
    "\n",
    "**Question**: What factors correlate with high number of climate laws in a country?"
   ]
  },
  {
   "cell_type": "code",
   "execution_count": 249,
   "metadata": {},
   "outputs": [
    {
     "data": {
      "text/plain": [
       "Index(['index', 'id', 'title', 'description', 'law_id', 'slug', 'geography_id',\n",
       "       'created_at', 'updated_at', 'visibility_status', 'created_by_id',\n",
       "       'updated_by_id', 'discarded_at', 'legislation_type', 'parent_id', 'tsv',\n",
       "       'date', 'link', 'short_description', 'geography', 'date_passed',\n",
       "       'last_change', 'legislation_type_humanize', 'geography_path',\n",
       "       'country_name', 'percent_global_emissions', 'climate_risk_index',\n",
       "       'wb_income_group', 'eu_member_ind', 'law_discarded_at', 'federal_ind',\n",
       "       'legislative_process', 'clean_description', 'clean_legislative_process',\n",
       "       'clean_title_plus_desc', 'law_cluster', 'law_top_words',\n",
       "       'law_top_words_sep', 'government_type'],\n",
       "      dtype='object')"
      ]
     },
     "execution_count": 249,
     "metadata": {},
     "output_type": "execute_result"
    }
   ],
   "source": [
    "climate_laws_df.columns"
   ]
  },
  {
   "cell_type": "code",
   "execution_count": 250,
   "metadata": {},
   "outputs": [],
   "source": [
    "country_info_cols = ['percent_global_emissions', 'climate_risk_index', 'wb_income_group', 'eu_member_ind']"
   ]
  },
  {
   "cell_type": "code",
   "execution_count": 251,
   "metadata": {},
   "outputs": [
    {
     "data": {
      "text/html": [
       "<div>\n",
       "<style scoped>\n",
       "    .dataframe tbody tr th:only-of-type {\n",
       "        vertical-align: middle;\n",
       "    }\n",
       "\n",
       "    .dataframe tbody tr th {\n",
       "        vertical-align: top;\n",
       "    }\n",
       "\n",
       "    .dataframe thead th {\n",
       "        text-align: right;\n",
       "    }\n",
       "</style>\n",
       "<table border=\"1\" class=\"dataframe\">\n",
       "  <thead>\n",
       "    <tr style=\"text-align: right;\">\n",
       "      <th></th>\n",
       "      <th>country_name</th>\n",
       "      <th>num_climate_laws</th>\n",
       "    </tr>\n",
       "  </thead>\n",
       "  <tbody>\n",
       "    <tr>\n",
       "      <th>0</th>\n",
       "      <td>Afghanistan</td>\n",
       "      <td>14</td>\n",
       "    </tr>\n",
       "    <tr>\n",
       "      <th>1</th>\n",
       "      <td>Albania</td>\n",
       "      <td>3</td>\n",
       "    </tr>\n",
       "    <tr>\n",
       "      <th>2</th>\n",
       "      <td>Algeria</td>\n",
       "      <td>13</td>\n",
       "    </tr>\n",
       "    <tr>\n",
       "      <th>3</th>\n",
       "      <td>Angola</td>\n",
       "      <td>21</td>\n",
       "    </tr>\n",
       "    <tr>\n",
       "      <th>4</th>\n",
       "      <td>Antigua and Barbuda</td>\n",
       "      <td>5</td>\n",
       "    </tr>\n",
       "  </tbody>\n",
       "</table>\n",
       "</div>"
      ],
      "text/plain": [
       "          country_name  num_climate_laws\n",
       "0          Afghanistan                14\n",
       "1              Albania                 3\n",
       "2              Algeria                13\n",
       "3               Angola                21\n",
       "4  Antigua and Barbuda                 5"
      ]
     },
     "execution_count": 251,
     "metadata": {},
     "output_type": "execute_result"
    }
   ],
   "source": [
    "# Compile country data\n",
    "climate_laws_country_df = pd.DataFrame(pd.pivot_table(values=\"id\",\n",
    "                                                      index=\"country_name\",\n",
    "                                                      aggfunc=\"count\",\n",
    "                                                      data=climate_laws_df.dropna(subset=country_info_cols)).to_records()\n",
    "                                      )\n",
    "climate_laws_country_df.rename(columns={'id':'num_climate_laws'}, inplace=True)\n",
    "climate_laws_country_df.head()"
   ]
  },
  {
   "cell_type": "code",
   "execution_count": 252,
   "metadata": {},
   "outputs": [],
   "source": [
    "def enrich_pivot(main_df=None, baseline_data=None, cols=None, index=None, values=None, aggfunc=None):\n",
    "    \"\"\"\n",
    "    Enrich pivoted data with more columns\n",
    "    \"\"\"\n",
    "    for col in cols:\n",
    "        supplemental_df = pd.DataFrame(pd.pivot_table(values=col,\n",
    "                                                      index=index,\n",
    "                                                      aggfunc=aggfunc,\n",
    "                                                      data=baseline_data\n",
    "                                                     ).to_records()\n",
    "                                      )\n",
    "        main_df = main_df.merge(supplemental_df, on=index, how=\"left\")\n",
    "    return main_df"
   ]
  },
  {
   "cell_type": "code",
   "execution_count": 253,
   "metadata": {},
   "outputs": [],
   "source": [
    "climate_laws_country_df = enrich_pivot(main_df=climate_laws_country_df, \n",
    "                                     baseline_data=climate_laws_df, \n",
    "                                     cols=['percent_global_emissions', 'climate_risk_index', 'wb_income_group', 'eu_member_ind'],\n",
    "                                     index=\"country_name\",\n",
    "                                     values=\"id\",\n",
    "                                     aggfunc=lambda x: re.sub(r\"([{}''])\", \"\", str(set(x)))\n",
    "                                     )"
   ]
  },
  {
   "cell_type": "code",
   "execution_count": 254,
   "metadata": {},
   "outputs": [
    {
     "name": "stdout",
     "output_type": "stream",
     "text": [
      "(175, 6)\n"
     ]
    },
    {
     "data": {
      "text/html": [
       "<div>\n",
       "<style scoped>\n",
       "    .dataframe tbody tr th:only-of-type {\n",
       "        vertical-align: middle;\n",
       "    }\n",
       "\n",
       "    .dataframe tbody tr th {\n",
       "        vertical-align: top;\n",
       "    }\n",
       "\n",
       "    .dataframe thead th {\n",
       "        text-align: right;\n",
       "    }\n",
       "</style>\n",
       "<table border=\"1\" class=\"dataframe\">\n",
       "  <thead>\n",
       "    <tr style=\"text-align: right;\">\n",
       "      <th></th>\n",
       "      <th>country_name</th>\n",
       "      <th>num_climate_laws</th>\n",
       "      <th>percent_global_emissions</th>\n",
       "      <th>climate_risk_index</th>\n",
       "      <th>wb_income_group</th>\n",
       "      <th>eu_member_ind</th>\n",
       "    </tr>\n",
       "  </thead>\n",
       "  <tbody>\n",
       "    <tr>\n",
       "      <th>0</th>\n",
       "      <td>Afghanistan</td>\n",
       "      <td>14</td>\n",
       "      <td>0.2</td>\n",
       "      <td>41.83</td>\n",
       "      <td>Low income</td>\n",
       "      <td>False</td>\n",
       "    </tr>\n",
       "    <tr>\n",
       "      <th>1</th>\n",
       "      <td>Albania</td>\n",
       "      <td>3</td>\n",
       "      <td>0.02</td>\n",
       "      <td>114.17</td>\n",
       "      <td>Upper middle income</td>\n",
       "      <td>False</td>\n",
       "    </tr>\n",
       "    <tr>\n",
       "      <th>2</th>\n",
       "      <td>Algeria</td>\n",
       "      <td>13</td>\n",
       "      <td>0.44</td>\n",
       "      <td>92.5</td>\n",
       "      <td>Upper middle income</td>\n",
       "      <td>False</td>\n",
       "    </tr>\n",
       "    <tr>\n",
       "      <th>3</th>\n",
       "      <td>Angola</td>\n",
       "      <td>21</td>\n",
       "      <td>0.38</td>\n",
       "      <td>97</td>\n",
       "      <td>Lower middle income</td>\n",
       "      <td>False</td>\n",
       "    </tr>\n",
       "    <tr>\n",
       "      <th>4</th>\n",
       "      <td>Antigua and Barbuda</td>\n",
       "      <td>5</td>\n",
       "      <td>0.0</td>\n",
       "      <td>58</td>\n",
       "      <td>High income</td>\n",
       "      <td>False</td>\n",
       "    </tr>\n",
       "  </tbody>\n",
       "</table>\n",
       "</div>"
      ],
      "text/plain": [
       "          country_name  num_climate_laws percent_global_emissions  \\\n",
       "0          Afghanistan                14                      0.2   \n",
       "1              Albania                 3                     0.02   \n",
       "2              Algeria                13                     0.44   \n",
       "3               Angola                21                     0.38   \n",
       "4  Antigua and Barbuda                 5                      0.0   \n",
       "\n",
       "  climate_risk_index      wb_income_group eu_member_ind  \n",
       "0              41.83           Low income         False  \n",
       "1             114.17  Upper middle income         False  \n",
       "2               92.5  Upper middle income         False  \n",
       "3                 97  Lower middle income         False  \n",
       "4                 58          High income         False  "
      ]
     },
     "execution_count": 254,
     "metadata": {},
     "output_type": "execute_result"
    }
   ],
   "source": [
    "# Showing the shape and head of the cross-sectional data1\n",
    "print(climate_laws_country_df.shape)\n",
    "climate_laws_country_df.head()"
   ]
  },
  {
   "cell_type": "code",
   "execution_count": 255,
   "metadata": {},
   "outputs": [],
   "source": [
    "# Cleaning individual column\n",
    "def clean_numeric_col(data):\n",
    "    if data == \"\":\n",
    "        return np.nan\n",
    "    else:\n",
    "        data = float(data)\n",
    "        return data\n",
    "    \n",
    "# Percent global emissions\n",
    "climate_laws_country_df[\"percent_global_emissions\"] = climate_laws_country_df[\"percent_global_emissions\"].apply(lambda x: clean_numeric_col(x))\n",
    "\n",
    "# CLimate risk index\n",
    "climate_laws_country_df[\"climate_risk_index\"] = climate_laws_country_df[\"climate_risk_index\"].apply(lambda x: clean_numeric_col(x))"
   ]
  },
  {
   "cell_type": "code",
   "execution_count": 256,
   "metadata": {},
   "outputs": [
    {
     "name": "stdout",
     "output_type": "stream",
     "text": [
      "Average global emissions of countries in dataset: 0.57\n",
      "Average global climate risk index of countries in dataset: 91\n"
     ]
    }
   ],
   "source": [
    "# Showing mean of percent global emissions and climate risk index\n",
    "print(f\"Average global emissions of countries in dataset: {round(climate_laws_country_df.percent_global_emissions.mean(), 2)}\")\n",
    "print(f\"Average global climate risk index of countries in dataset: {round(climate_laws_country_df.climate_risk_index.mean())}\")"
   ]
  },
  {
   "cell_type": "code",
   "execution_count": 257,
   "metadata": {},
   "outputs": [
    {
     "data": {
      "text/plain": [
       "array(['Low income', 'Upper middle income', 'Lower middle income',\n",
       "       'High income', ''], dtype=object)"
      ]
     },
     "execution_count": 257,
     "metadata": {},
     "output_type": "execute_result"
    }
   ],
   "source": [
    "# Checking distinct values in wb_income_group\n",
    "climate_laws_country_df[\"wb_income_group\"].unique()"
   ]
  },
  {
   "cell_type": "code",
   "execution_count": 258,
   "metadata": {},
   "outputs": [],
   "source": [
    "# See which country has the empty string\n",
    "climate_laws_country_df[climate_laws_country_df[\"wb_income_group\"]==\"\"]\n",
    "\n",
    "# This is a pretty empty observation, let's drop it\n",
    "climate_laws_country_df.drop(index=53, axis=0, inplace=True)"
   ]
  },
  {
   "cell_type": "code",
   "execution_count": 259,
   "metadata": {
    "scrolled": false
   },
   "outputs": [],
   "source": [
    "# Getting dummies for wb_income_group\n",
    "assert len(pd.get_dummies(climate_laws_country_df.wb_income_group)) == len(climate_laws_country_df) \n",
    "\n",
    "# Concatenating dummies cols into the main df\n",
    "climate_laws_country_df = pd.concat(objs=[climate_laws_country_df, pd.get_dummies(climate_laws_country_df.wb_income_group)],\n",
    "                                   axis=1)\n",
    "try:\n",
    "    del climate_laws_country_df[\"wb_income_group\"]\n",
    "except KeyError:\n",
    "    pass"
   ]
  },
  {
   "cell_type": "code",
   "execution_count": 260,
   "metadata": {},
   "outputs": [],
   "source": [
    "# Finally, cleaning the eu_member_ind\n",
    "def clean_bool(data):\n",
    "    if data==\"True\":\n",
    "        return 1\n",
    "    elif data==\"False\":\n",
    "        return 0\n",
    "    else:\n",
    "        return np.nan\n",
    "    \n",
    "climate_laws_country_df[\"eu_member_ind\"] = climate_laws_country_df[\"eu_member_ind\"].apply(lambda x: clean_bool(x))"
   ]
  },
  {
   "cell_type": "code",
   "execution_count": 261,
   "metadata": {},
   "outputs": [],
   "source": [
    "# Dropping any remaining NaNs\n",
    "climate_laws_country_df.dropna(inplace=True)"
   ]
  },
  {
   "cell_type": "code",
   "execution_count": 262,
   "metadata": {
    "scrolled": true
   },
   "outputs": [
    {
     "name": "stdout",
     "output_type": "stream",
     "text": [
      "(174, 9)\n"
     ]
    },
    {
     "data": {
      "text/html": [
       "<div>\n",
       "<style scoped>\n",
       "    .dataframe tbody tr th:only-of-type {\n",
       "        vertical-align: middle;\n",
       "    }\n",
       "\n",
       "    .dataframe tbody tr th {\n",
       "        vertical-align: top;\n",
       "    }\n",
       "\n",
       "    .dataframe thead th {\n",
       "        text-align: right;\n",
       "    }\n",
       "</style>\n",
       "<table border=\"1\" class=\"dataframe\">\n",
       "  <thead>\n",
       "    <tr style=\"text-align: right;\">\n",
       "      <th></th>\n",
       "      <th>country_name</th>\n",
       "      <th>num_climate_laws</th>\n",
       "      <th>percent_global_emissions</th>\n",
       "      <th>climate_risk_index</th>\n",
       "      <th>eu_member_ind</th>\n",
       "      <th>High income</th>\n",
       "      <th>Low income</th>\n",
       "      <th>Lower middle income</th>\n",
       "      <th>Upper middle income</th>\n",
       "    </tr>\n",
       "  </thead>\n",
       "  <tbody>\n",
       "    <tr>\n",
       "      <th>0</th>\n",
       "      <td>Afghanistan</td>\n",
       "      <td>14</td>\n",
       "      <td>0.20</td>\n",
       "      <td>41.83</td>\n",
       "      <td>0</td>\n",
       "      <td>0</td>\n",
       "      <td>1</td>\n",
       "      <td>0</td>\n",
       "      <td>0</td>\n",
       "    </tr>\n",
       "    <tr>\n",
       "      <th>1</th>\n",
       "      <td>Albania</td>\n",
       "      <td>3</td>\n",
       "      <td>0.02</td>\n",
       "      <td>114.17</td>\n",
       "      <td>0</td>\n",
       "      <td>0</td>\n",
       "      <td>0</td>\n",
       "      <td>0</td>\n",
       "      <td>1</td>\n",
       "    </tr>\n",
       "    <tr>\n",
       "      <th>2</th>\n",
       "      <td>Algeria</td>\n",
       "      <td>13</td>\n",
       "      <td>0.44</td>\n",
       "      <td>92.50</td>\n",
       "      <td>0</td>\n",
       "      <td>0</td>\n",
       "      <td>0</td>\n",
       "      <td>0</td>\n",
       "      <td>1</td>\n",
       "    </tr>\n",
       "    <tr>\n",
       "      <th>3</th>\n",
       "      <td>Angola</td>\n",
       "      <td>21</td>\n",
       "      <td>0.38</td>\n",
       "      <td>97.00</td>\n",
       "      <td>0</td>\n",
       "      <td>0</td>\n",
       "      <td>0</td>\n",
       "      <td>1</td>\n",
       "      <td>0</td>\n",
       "    </tr>\n",
       "    <tr>\n",
       "      <th>4</th>\n",
       "      <td>Antigua and Barbuda</td>\n",
       "      <td>5</td>\n",
       "      <td>0.00</td>\n",
       "      <td>58.00</td>\n",
       "      <td>0</td>\n",
       "      <td>1</td>\n",
       "      <td>0</td>\n",
       "      <td>0</td>\n",
       "      <td>0</td>\n",
       "    </tr>\n",
       "  </tbody>\n",
       "</table>\n",
       "</div>"
      ],
      "text/plain": [
       "          country_name  num_climate_laws  percent_global_emissions  \\\n",
       "0          Afghanistan                14                      0.20   \n",
       "1              Albania                 3                      0.02   \n",
       "2              Algeria                13                      0.44   \n",
       "3               Angola                21                      0.38   \n",
       "4  Antigua and Barbuda                 5                      0.00   \n",
       "\n",
       "   climate_risk_index  eu_member_ind  High income  Low income  \\\n",
       "0               41.83              0            0           1   \n",
       "1              114.17              0            0           0   \n",
       "2               92.50              0            0           0   \n",
       "3               97.00              0            0           0   \n",
       "4               58.00              0            1           0   \n",
       "\n",
       "   Lower middle income  Upper middle income  \n",
       "0                    0                    0  \n",
       "1                    0                    1  \n",
       "2                    0                    1  \n",
       "3                    1                    0  \n",
       "4                    0                    0  "
      ]
     },
     "execution_count": 262,
     "metadata": {},
     "output_type": "execute_result"
    }
   ],
   "source": [
    "# Final shape\n",
    "print(climate_laws_country_df.shape)\n",
    "\n",
    "climate_laws_country_df.head()"
   ]
  },
  {
   "cell_type": "markdown",
   "metadata": {},
   "source": [
    "**After data cleaning is done, let's run it through a simple OLS model to see the associations of different variables to the number of climate laws passed by a country** "
   ]
  },
  {
   "cell_type": "markdown",
   "metadata": {},
   "source": [
    "**Cross-sectional country data**\n",
    "\n",
    "<code>**y** = Number of climate laws passed for a given country</code>\n",
    "\n",
    "<code>**X**: percent_global_emissions, climate_risk_index, wb_income_group, eu_member_ind</code>"
   ]
  },
  {
   "cell_type": "code",
   "execution_count": 263,
   "metadata": {},
   "outputs": [],
   "source": [
    "# Import statsmodels linear models\n",
    "import statsmodels.api as sm"
   ]
  },
  {
   "cell_type": "code",
   "execution_count": 264,
   "metadata": {
    "scrolled": false
   },
   "outputs": [
    {
     "data": {
      "text/html": [
       "<table class=\"simpletable\">\n",
       "<caption>OLS Regression Results</caption>\n",
       "<tr>\n",
       "  <th>Dep. Variable:</th>    <td>num_climate_laws</td> <th>  R-squared:         </th> <td>   0.217</td>\n",
       "</tr>\n",
       "<tr>\n",
       "  <th>Model:</th>                   <td>OLS</td>       <th>  Adj. R-squared:    </th> <td>   0.189</td>\n",
       "</tr>\n",
       "<tr>\n",
       "  <th>Method:</th>             <td>Least Squares</td>  <th>  F-statistic:       </th> <td>   7.717</td>\n",
       "</tr>\n",
       "<tr>\n",
       "  <th>Date:</th>             <td>Sun, 07 Mar 2021</td> <th>  Prob (F-statistic):</th> <td>2.48e-07</td>\n",
       "</tr>\n",
       "<tr>\n",
       "  <th>Time:</th>                 <td>15:41:09</td>     <th>  Log-Likelihood:    </th> <td> -581.63</td>\n",
       "</tr>\n",
       "<tr>\n",
       "  <th>No. Observations:</th>      <td>   174</td>      <th>  AIC:               </th> <td>   1177.</td>\n",
       "</tr>\n",
       "<tr>\n",
       "  <th>Df Residuals:</th>          <td>   167</td>      <th>  BIC:               </th> <td>   1199.</td>\n",
       "</tr>\n",
       "<tr>\n",
       "  <th>Df Model:</th>              <td>     6</td>      <th>                     </th>     <td> </td>   \n",
       "</tr>\n",
       "<tr>\n",
       "  <th>Covariance Type:</th>      <td>nonrobust</td>    <th>                     </th>     <td> </td>   \n",
       "</tr>\n",
       "</table>\n",
       "<table class=\"simpletable\">\n",
       "<tr>\n",
       "              <td></td>                <th>coef</th>     <th>std err</th>      <th>t</th>      <th>P>|t|</th>  <th>[0.025</th>    <th>0.975]</th>  \n",
       "</tr>\n",
       "<tr>\n",
       "  <th>percent_global_emissions</th> <td>    0.3390</td> <td>    0.249</td> <td>    1.360</td> <td> 0.176</td> <td>   -0.153</td> <td>    0.831</td>\n",
       "</tr>\n",
       "<tr>\n",
       "  <th>climate_risk_index</th>       <td>   -0.0615</td> <td>    0.013</td> <td>   -4.583</td> <td> 0.000</td> <td>   -0.088</td> <td>   -0.035</td>\n",
       "</tr>\n",
       "<tr>\n",
       "  <th>eu_member_ind</th>            <td>    3.4622</td> <td>    1.837</td> <td>    1.885</td> <td> 0.061</td> <td>   -0.164</td> <td>    7.088</td>\n",
       "</tr>\n",
       "<tr>\n",
       "  <th>High income</th>              <td>   17.7686</td> <td>    1.989</td> <td>    8.935</td> <td> 0.000</td> <td>   13.843</td> <td>   21.695</td>\n",
       "</tr>\n",
       "<tr>\n",
       "  <th>Low income</th>               <td>   13.9892</td> <td>    1.819</td> <td>    7.689</td> <td> 0.000</td> <td>   10.397</td> <td>   17.581</td>\n",
       "</tr>\n",
       "<tr>\n",
       "  <th>Lower middle income</th>      <td>   16.9377</td> <td>    1.583</td> <td>   10.697</td> <td> 0.000</td> <td>   13.812</td> <td>   20.064</td>\n",
       "</tr>\n",
       "<tr>\n",
       "  <th>Upper middle income</th>      <td>   14.7504</td> <td>    1.607</td> <td>    9.181</td> <td> 0.000</td> <td>   11.579</td> <td>   17.922</td>\n",
       "</tr>\n",
       "</table>\n",
       "<table class=\"simpletable\">\n",
       "<tr>\n",
       "  <th>Omnibus:</th>       <td>32.563</td> <th>  Durbin-Watson:     </th> <td>   2.182</td>\n",
       "</tr>\n",
       "<tr>\n",
       "  <th>Prob(Omnibus):</th> <td> 0.000</td> <th>  Jarque-Bera (JB):  </th> <td>  49.157</td>\n",
       "</tr>\n",
       "<tr>\n",
       "  <th>Skew:</th>          <td> 1.013</td> <th>  Prob(JB):          </th> <td>2.12e-11</td>\n",
       "</tr>\n",
       "<tr>\n",
       "  <th>Kurtosis:</th>      <td> 4.636</td> <th>  Cond. No.          </th> <td>    564.</td>\n",
       "</tr>\n",
       "</table><br/><br/>Notes:<br/>[1] Standard Errors assume that the covariance matrix of the errors is correctly specified."
      ],
      "text/plain": [
       "<class 'statsmodels.iolib.summary.Summary'>\n",
       "\"\"\"\n",
       "                            OLS Regression Results                            \n",
       "==============================================================================\n",
       "Dep. Variable:       num_climate_laws   R-squared:                       0.217\n",
       "Model:                            OLS   Adj. R-squared:                  0.189\n",
       "Method:                 Least Squares   F-statistic:                     7.717\n",
       "Date:                Sun, 07 Mar 2021   Prob (F-statistic):           2.48e-07\n",
       "Time:                        15:41:09   Log-Likelihood:                -581.63\n",
       "No. Observations:                 174   AIC:                             1177.\n",
       "Df Residuals:                     167   BIC:                             1199.\n",
       "Df Model:                           6                                         \n",
       "Covariance Type:            nonrobust                                         \n",
       "============================================================================================\n",
       "                               coef    std err          t      P>|t|      [0.025      0.975]\n",
       "--------------------------------------------------------------------------------------------\n",
       "percent_global_emissions     0.3390      0.249      1.360      0.176      -0.153       0.831\n",
       "climate_risk_index          -0.0615      0.013     -4.583      0.000      -0.088      -0.035\n",
       "eu_member_ind                3.4622      1.837      1.885      0.061      -0.164       7.088\n",
       "High income                 17.7686      1.989      8.935      0.000      13.843      21.695\n",
       "Low income                  13.9892      1.819      7.689      0.000      10.397      17.581\n",
       "Lower middle income         16.9377      1.583     10.697      0.000      13.812      20.064\n",
       "Upper middle income         14.7504      1.607      9.181      0.000      11.579      17.922\n",
       "==============================================================================\n",
       "Omnibus:                       32.563   Durbin-Watson:                   2.182\n",
       "Prob(Omnibus):                  0.000   Jarque-Bera (JB):               49.157\n",
       "Skew:                           1.013   Prob(JB):                     2.12e-11\n",
       "Kurtosis:                       4.636   Cond. No.                         564.\n",
       "==============================================================================\n",
       "\n",
       "Notes:\n",
       "[1] Standard Errors assume that the covariance matrix of the errors is correctly specified.\n",
       "\"\"\""
      ]
     },
     "execution_count": 264,
     "metadata": {},
     "output_type": "execute_result"
    }
   ],
   "source": [
    "# Fitting OLS\n",
    "country_X = climate_laws_country_df.iloc[:, 2:9]\n",
    "country_y = climate_laws_country_df.num_climate_laws\n",
    "country_ols = sm.OLS(country_y, country_X)\n",
    "country_ols_results = country_ols.fit()\n",
    "\n",
    "# Summary\n",
    "country_ols_results.summary()"
   ]
  },
  {
   "cell_type": "code",
   "execution_count": 265,
   "metadata": {},
   "outputs": [
    {
     "data": {
      "text/plain": [
       "count    174.000000\n",
       "mean      91.184770\n",
       "std       41.223002\n",
       "min       10.330000\n",
       "25%       58.000000\n",
       "50%       85.920000\n",
       "75%      119.545000\n",
       "max      173.670000\n",
       "Name: climate_risk_index, dtype: float64"
      ]
     },
     "execution_count": 265,
     "metadata": {},
     "output_type": "execute_result"
    }
   ],
   "source": [
    "# Exploring climate_risk_index\n",
    "climate_laws_country_df.climate_risk_index.describe()"
   ]
  },
  {
   "cell_type": "code",
   "execution_count": 266,
   "metadata": {},
   "outputs": [],
   "source": [
    "# OLS Results dictionary\n",
    "ols_results_dict = dict(country_ols_results.params)"
   ]
  },
  {
   "cell_type": "code",
   "execution_count": 267,
   "metadata": {},
   "outputs": [
    {
     "name": "stdout",
     "output_type": "stream",
     "text": [
      "1 standard deviation increase in climate_risk_index is associated with -2.53 increase in number of climate laws passed by a country\n",
      "Being a High income country (WB index) is associated with a 17.77 increase in number of climate_laws passed by a country\n"
     ]
    }
   ],
   "source": [
    "# Interpreting some of the results\n",
    "_ = np.std(climate_laws_country_df.climate_risk_index)*ols_results_dict['climate_risk_index']\n",
    "print(f\"1 standard deviation increase in climate_risk_index is associated with {round(_, 2)} increase in number of climate laws passed by a country\")\n",
    "_ = ols_results_dict['High income']\n",
    "print(f\"Being a High income country (WB index) is associated with a {round(_, 2)} increase in number of climate_laws passed by a country\")"
   ]
  },
  {
   "cell_type": "markdown",
   "metadata": {},
   "source": [
    "### Inference:\n",
    "**1 standard deviation increase in climate_risk_index is associated with 2.53 decrease in number of climate laws passed by a country**\n",
    "\n",
    "\n",
    "**Being a High income country (WB index) is associated with a 17.77 increase in number of climate_laws passed by a country**"
   ]
  },
  {
   "cell_type": "markdown",
   "metadata": {},
   "source": [
    "## Further idea\n",
    "\n",
    "Potentially build a **panel dataset** enriched with indicators from the WB development indicators.\n",
    "\n",
    "Some important observations to note:\n",
    "\n",
    "**1. Year range: 1947 to 2020 -> 73 years**\n",
    "\n",
    "**2. Number of countries: 198 (197 if we omit the European Union, although there needs to be a way to incorporate their data into the panel as it is a significant dataset)**"
   ]
  },
  {
   "cell_type": "markdown",
   "metadata": {},
   "source": [
    "### Idea: Use association rules to link different categories of climate laws with different categories of legislative processes "
   ]
  }
 ],
 "metadata": {
  "kernelspec": {
   "display_name": "Python 3",
   "language": "python",
   "name": "python3"
  },
  "language_info": {
   "codemirror_mode": {
    "name": "ipython",
    "version": 3
   },
   "file_extension": ".py",
   "mimetype": "text/x-python",
   "name": "python",
   "nbconvert_exporter": "python",
   "pygments_lexer": "ipython3",
   "version": "3.8.5"
  }
 },
 "nbformat": 4,
 "nbformat_minor": 2
}
