{
 "cells": [
  {
   "cell_type": "code",
   "execution_count": 1,
   "metadata": {},
   "outputs": [],
   "source": [
    "# Base packages\n",
    "import os\n",
    "import numpy as np\n",
    "import pandas as pd\n",
    "import json\n",
    "\n",
    "# Web scraping\n",
    "from bs4 import BeautifulSoup\n",
    "import requests\n",
    "\n",
    "# Misc\n",
    "from tqdm import tqdm\n",
    "from datetime import datetime\n",
    "from jupyterthemes import jtplot\n",
    "jtplot.style(theme='chesterish')"
   ]
  },
  {
   "cell_type": "markdown",
   "metadata": {},
   "source": [
    "# Web scraping and data cleaning"
   ]
  },
  {
   "cell_type": "markdown",
   "metadata": {},
   "source": [
    "## Data source: Grantham Institute Climate Laws data\n",
    "\n",
    "\n",
    "<img src=\"logo-gri.png\" width=200>"
   ]
  },
  {
   "cell_type": "markdown",
   "metadata": {},
   "source": [
    "After investigating https://www.climate-laws.org/ with Edge's Developer Console, I've found out that the website's React app gets its JSON data from this link https://www.climate-laws.org/legislation_and_policies.json?offset=[offset]. This will allow me to batch request the data straight from the website's back-end, instead of scraping and cleaning static HTML files."
   ]
  },
  {
   "cell_type": "markdown",
   "metadata": {},
   "source": [
    "By: Viet Hung Ha and Anne-Laure Rajaona"
   ]
  },
  {
   "cell_type": "code",
   "execution_count": 2,
   "metadata": {},
   "outputs": [],
   "source": [
    "# Function to request data\n",
    "def request_climate_laws_data(offset_batch=np.arange(10, 2100, 10)):\n",
    "    \"\"\"\n",
    "    Get online Climate Laws data from climate-laws.org, and process it into DataFrame\n",
    "    \"\"\"\n",
    "    climate_laws_df = pd.DataFrame()\n",
    "    for offset in tqdm(offset_batch):\n",
    "        climate_laws_url = f\"https://www.climate-laws.org/legislation_and_policies.json?offset={offset}\"\n",
    "        climate_laws_data = requests.get(climate_laws_url)\n",
    "        climate_laws_df = climate_laws_df.append(climate_laws_data.json()[\"items\"])\n",
    "    return climate_laws_df.reset_index()"
   ]
  },
  {
   "cell_type": "code",
   "execution_count": 3,
   "metadata": {
    "scrolled": true
   },
   "outputs": [
    {
     "name": "stderr",
     "output_type": "stream",
     "text": [
      "100%|███████████████████████████████████████████████████████████████████████████████████████████████████████████████████████████████████████████████████████████████████████████| 209/209 [00:51<00:00,  4.09it/s]\n"
     ]
    }
   ],
   "source": [
    "climate_laws_df = request_climate_laws_data(np.arange(10, 2100, 10))"
   ]
  },
  {
   "cell_type": "code",
   "execution_count": 4,
   "metadata": {
    "scrolled": false
   },
   "outputs": [
    {
     "name": "stdout",
     "output_type": "stream",
     "text": [
      "Data shape: (2090, 24)\n",
      "Columns:\n",
      "Index(['index', 'id', 'title', 'description', 'law_id', 'slug', 'geography_id',\n",
      "       'created_at', 'updated_at', 'visibility_status', 'created_by_id',\n",
      "       'updated_by_id', 'discarded_at', 'legislation_type', 'parent_id', 'tsv',\n",
      "       'date', 'link', 'short_description', 'geography', 'date_passed',\n",
      "       'last_change', 'legislation_type_humanize', 'geography_path'],\n",
      "      dtype='object')\n"
     ]
    },
    {
     "data": {
      "text/html": [
       "<div>\n",
       "<style scoped>\n",
       "    .dataframe tbody tr th:only-of-type {\n",
       "        vertical-align: middle;\n",
       "    }\n",
       "\n",
       "    .dataframe tbody tr th {\n",
       "        vertical-align: top;\n",
       "    }\n",
       "\n",
       "    .dataframe thead th {\n",
       "        text-align: right;\n",
       "    }\n",
       "</style>\n",
       "<table border=\"1\" class=\"dataframe\">\n",
       "  <thead>\n",
       "    <tr style=\"text-align: right;\">\n",
       "      <th></th>\n",
       "      <th>index</th>\n",
       "      <th>id</th>\n",
       "      <th>title</th>\n",
       "      <th>description</th>\n",
       "      <th>law_id</th>\n",
       "      <th>slug</th>\n",
       "      <th>geography_id</th>\n",
       "      <th>created_at</th>\n",
       "      <th>updated_at</th>\n",
       "      <th>visibility_status</th>\n",
       "      <th>...</th>\n",
       "      <th>parent_id</th>\n",
       "      <th>tsv</th>\n",
       "      <th>date</th>\n",
       "      <th>link</th>\n",
       "      <th>short_description</th>\n",
       "      <th>geography</th>\n",
       "      <th>date_passed</th>\n",
       "      <th>last_change</th>\n",
       "      <th>legislation_type_humanize</th>\n",
       "      <th>geography_path</th>\n",
       "    </tr>\n",
       "  </thead>\n",
       "  <tbody>\n",
       "    <tr>\n",
       "      <th>0</th>\n",
       "      <td>0</td>\n",
       "      <td>8713</td>\n",
       "      <td>General Law for Sustainable Forest Development</td>\n",
       "      <td>&lt;div&gt;This law replaces the &lt;a href=\"http://www...</td>\n",
       "      <td>None</td>\n",
       "      <td>general-law-for-sustainable-forest-development</td>\n",
       "      <td>114</td>\n",
       "      <td>2019-12-08T17:46:02.526Z</td>\n",
       "      <td>2021-02-17T17:53:37.188Z</td>\n",
       "      <td>published</td>\n",
       "      <td>...</td>\n",
       "      <td>NaN</td>\n",
       "      <td>'1':28B '10':126B '13th':222B '2':65B '2003':1...</td>\n",
       "      <td>2020-12-09</td>\n",
       "      <td>&lt;a href=\"/geographies/mexico/laws/general-law-...</td>\n",
       "      <td>This law replaces the 2003 general law for sus...</td>\n",
       "      <td>{'id': 114, 'geography_type': 'national', 'iso...</td>\n",
       "      <td>2018</td>\n",
       "      <td>December, 2020</td>\n",
       "      <td>Legislative</td>\n",
       "      <td>/geographies/mexico</td>\n",
       "    </tr>\n",
       "    <tr>\n",
       "      <th>1</th>\n",
       "      <td>1</td>\n",
       "      <td>9741</td>\n",
       "      <td>Notification S.O. 4259(E) creating the Apex Co...</td>\n",
       "      <td>&lt;div&gt;This document from the Ministry of Enviro...</td>\n",
       "      <td>None</td>\n",
       "      <td>notification-s-o-4259-e-creating-the-apex-comm...</td>\n",
       "      <td>78</td>\n",
       "      <td>2020-12-04T18:07:29.406Z</td>\n",
       "      <td>2020-12-04T18:13:52.925Z</td>\n",
       "      <td>published</td>\n",
       "      <td>...</td>\n",
       "      <td>NaN</td>\n",
       "      <td>'-2020':94B '4259':3A '6.2':81B '6.4':83B '6.8...</td>\n",
       "      <td>2020-11-27</td>\n",
       "      <td>&lt;a href=\"/geographies/india/policies/notificat...</td>\n",
       "      <td>This document from the Ministry of Environment...</td>\n",
       "      <td>{'id': 78, 'geography_type': 'national', 'iso'...</td>\n",
       "      <td>2020</td>\n",
       "      <td>None</td>\n",
       "      <td>Executive</td>\n",
       "      <td>/geographies/india</td>\n",
       "    </tr>\n",
       "    <tr>\n",
       "      <th>2</th>\n",
       "      <td>2</td>\n",
       "      <td>1687</td>\n",
       "      <td>CO2 Act (Act 641.71, fully revised version)</td>\n",
       "      <td>&lt;div&gt;On November 25, 2020, the Federal Council...</td>\n",
       "      <td>None</td>\n",
       "      <td>co2-act-act-641-71-fully-revised-version</td>\n",
       "      <td>174</td>\n",
       "      <td>2019-12-08T17:46:22.795Z</td>\n",
       "      <td>2020-12-04T15:29:03.388Z</td>\n",
       "      <td>published</td>\n",
       "      <td>...</td>\n",
       "      <td>NaN</td>\n",
       "      <td>'-12':731B '-20':205B '-2012':386B '-2020':417...</td>\n",
       "      <td>2020-11-25</td>\n",
       "      <td>&lt;a href=\"/geographies/switzerland/laws/co2-act...</td>\n",
       "      <td>On November 25, 2020, the Federal Council adop...</td>\n",
       "      <td>{'id': 174, 'geography_type': 'national', 'iso...</td>\n",
       "      <td>2013</td>\n",
       "      <td>November, 2020</td>\n",
       "      <td>Legislative</td>\n",
       "      <td>/geographies/switzerland</td>\n",
       "    </tr>\n",
       "    <tr>\n",
       "      <th>3</th>\n",
       "      <td>3</td>\n",
       "      <td>9739</td>\n",
       "      <td>An EU Strategy to harness the potential of off...</td>\n",
       "      <td>&lt;div&gt;This communication from the Commission es...</td>\n",
       "      <td>None</td>\n",
       "      <td>an-eu-strategy-to-harness-the-potential-of-off...</td>\n",
       "      <td>59</td>\n",
       "      <td>2020-12-04T17:10:20.086Z</td>\n",
       "      <td>2021-02-27T13:44:49.554Z</td>\n",
       "      <td>published</td>\n",
       "      <td>...</td>\n",
       "      <td>NaN</td>\n",
       "      <td>'-400':75B '2050':40B '300':74B 'achiev':72B '...</td>\n",
       "      <td>2020-11-19</td>\n",
       "      <td>&lt;a href=\"/geographies/european-union/policies/...</td>\n",
       "      <td>This communication from the Commission establi...</td>\n",
       "      <td>{'id': 59, 'geography_type': 'supranational', ...</td>\n",
       "      <td>2020</td>\n",
       "      <td>None</td>\n",
       "      <td>Executive</td>\n",
       "      <td>/geographies/european-union</td>\n",
       "    </tr>\n",
       "    <tr>\n",
       "      <th>4</th>\n",
       "      <td>4</td>\n",
       "      <td>9734</td>\n",
       "      <td>Royal Decree 960/2020 regulating the economic ...</td>\n",
       "      <td>&lt;div&gt;This document sets the remuneration frame...</td>\n",
       "      <td>None</td>\n",
       "      <td>royal-decree-960-2020-regulating-the-economic-...</td>\n",
       "      <td>168</td>\n",
       "      <td>2020-11-16T15:58:40.307Z</td>\n",
       "      <td>2020-11-16T16:00:51.183Z</td>\n",
       "      <td>published</td>\n",
       "      <td>...</td>\n",
       "      <td>9468</td>\n",
       "      <td>'960/2020':3A 'base':43B 'call':31B 'de':40B '...</td>\n",
       "      <td>2020-11-03</td>\n",
       "      <td>&lt;a href=\"/geographies/spain/policies/royal-dec...</td>\n",
       "      <td>This document sets the remuneration framework ...</td>\n",
       "      <td>{'id': 168, 'geography_type': 'national', 'iso...</td>\n",
       "      <td>2020</td>\n",
       "      <td>None</td>\n",
       "      <td>Executive</td>\n",
       "      <td>/geographies/spain</td>\n",
       "    </tr>\n",
       "  </tbody>\n",
       "</table>\n",
       "<p>5 rows × 24 columns</p>\n",
       "</div>"
      ],
      "text/plain": [
       "   index    id                                              title  \\\n",
       "0      0  8713     General Law for Sustainable Forest Development   \n",
       "1      1  9741  Notification S.O. 4259(E) creating the Apex Co...   \n",
       "2      2  1687        CO2 Act (Act 641.71, fully revised version)   \n",
       "3      3  9739  An EU Strategy to harness the potential of off...   \n",
       "4      4  9734  Royal Decree 960/2020 regulating the economic ...   \n",
       "\n",
       "                                         description law_id  \\\n",
       "0  <div>This law replaces the <a href=\"http://www...   None   \n",
       "1  <div>This document from the Ministry of Enviro...   None   \n",
       "2  <div>On November 25, 2020, the Federal Council...   None   \n",
       "3  <div>This communication from the Commission es...   None   \n",
       "4  <div>This document sets the remuneration frame...   None   \n",
       "\n",
       "                                                slug  geography_id  \\\n",
       "0     general-law-for-sustainable-forest-development           114   \n",
       "1  notification-s-o-4259-e-creating-the-apex-comm...            78   \n",
       "2           co2-act-act-641-71-fully-revised-version           174   \n",
       "3  an-eu-strategy-to-harness-the-potential-of-off...            59   \n",
       "4  royal-decree-960-2020-regulating-the-economic-...           168   \n",
       "\n",
       "                 created_at                updated_at visibility_status  ...  \\\n",
       "0  2019-12-08T17:46:02.526Z  2021-02-17T17:53:37.188Z         published  ...   \n",
       "1  2020-12-04T18:07:29.406Z  2020-12-04T18:13:52.925Z         published  ...   \n",
       "2  2019-12-08T17:46:22.795Z  2020-12-04T15:29:03.388Z         published  ...   \n",
       "3  2020-12-04T17:10:20.086Z  2021-02-27T13:44:49.554Z         published  ...   \n",
       "4  2020-11-16T15:58:40.307Z  2020-11-16T16:00:51.183Z         published  ...   \n",
       "\n",
       "  parent_id                                                tsv        date  \\\n",
       "0       NaN  '1':28B '10':126B '13th':222B '2':65B '2003':1...  2020-12-09   \n",
       "1       NaN  '-2020':94B '4259':3A '6.2':81B '6.4':83B '6.8...  2020-11-27   \n",
       "2       NaN  '-12':731B '-20':205B '-2012':386B '-2020':417...  2020-11-25   \n",
       "3       NaN  '-400':75B '2050':40B '300':74B 'achiev':72B '...  2020-11-19   \n",
       "4      9468  '960/2020':3A 'base':43B 'call':31B 'de':40B '...  2020-11-03   \n",
       "\n",
       "                                                link  \\\n",
       "0  <a href=\"/geographies/mexico/laws/general-law-...   \n",
       "1  <a href=\"/geographies/india/policies/notificat...   \n",
       "2  <a href=\"/geographies/switzerland/laws/co2-act...   \n",
       "3  <a href=\"/geographies/european-union/policies/...   \n",
       "4  <a href=\"/geographies/spain/policies/royal-dec...   \n",
       "\n",
       "                                   short_description  \\\n",
       "0  This law replaces the 2003 general law for sus...   \n",
       "1  This document from the Ministry of Environment...   \n",
       "2  On November 25, 2020, the Federal Council adop...   \n",
       "3  This communication from the Commission establi...   \n",
       "4  This document sets the remuneration framework ...   \n",
       "\n",
       "                                           geography date_passed  \\\n",
       "0  {'id': 114, 'geography_type': 'national', 'iso...        2018   \n",
       "1  {'id': 78, 'geography_type': 'national', 'iso'...        2020   \n",
       "2  {'id': 174, 'geography_type': 'national', 'iso...        2013   \n",
       "3  {'id': 59, 'geography_type': 'supranational', ...        2020   \n",
       "4  {'id': 168, 'geography_type': 'national', 'iso...        2020   \n",
       "\n",
       "      last_change legislation_type_humanize               geography_path  \n",
       "0  December, 2020               Legislative          /geographies/mexico  \n",
       "1            None                 Executive           /geographies/india  \n",
       "2  November, 2020               Legislative     /geographies/switzerland  \n",
       "3            None                 Executive  /geographies/european-union  \n",
       "4            None                 Executive           /geographies/spain  \n",
       "\n",
       "[5 rows x 24 columns]"
      ]
     },
     "execution_count": 4,
     "metadata": {},
     "output_type": "execute_result"
    }
   ],
   "source": [
    "# Exploring dataset\n",
    "print(f\"Data shape: {climate_laws_df.shape}\")\n",
    "print(f\"Columns:\\n{climate_laws_df.columns}\")\n",
    "climate_laws_df.head()"
   ]
  },
  {
   "cell_type": "code",
   "execution_count": 5,
   "metadata": {},
   "outputs": [],
   "source": [
    "# Saving data to use later, instead of requesting from server\n",
    "os.makedirs(\"./climate_laws_data\", exist_ok=True)\n",
    "timestamp = datetime.now().strftime(\"%Y.%m.%d_%H.%M.%S\")\n",
    "\n",
    "climate_laws_df.to_excel(f\"./climate_laws_data/{timestamp}_climate_laws_data.xlsx\", index=False)"
   ]
  },
  {
   "cell_type": "markdown",
   "metadata": {},
   "source": [
    "### EDA and data cleaning"
   ]
  },
  {
   "cell_type": "code",
   "execution_count": 6,
   "metadata": {},
   "outputs": [],
   "source": [
    "import matplotlib.pyplot as plt\n",
    "import seaborn as sns"
   ]
  },
  {
   "cell_type": "code",
   "execution_count": 7,
   "metadata": {},
   "outputs": [
    {
     "data": {
      "image/png": "[encoded data removed]",
      "text/plain": [
       "<Figure size 432x288 with 1 Axes>"
      ]
     },
     "metadata": {},
     "output_type": "display_data"
    }
   ],
   "source": [
    "# Types of legislation\n",
    "legislation_type_plot = sns.countplot(x=\"legislation_type_humanize\", data=climate_laws_df)\n",
    "plt.xlabel(\"Legislation type\")\n",
    "plt.show()"
   ]
  },
  {
   "cell_type": "code",
   "execution_count": 8,
   "metadata": {
    "scrolled": false
   },
   "outputs": [
    {
     "data": {
      "image/png": "[encoded data removed]",
      "text/plain": [
       "<Figure size 432x288 with 1 Axes>"
      ]
     },
     "metadata": {},
     "output_type": "display_data"
    },
    {
     "name": "stdout",
     "output_type": "stream",
     "text": [
      "Year with maximum number of laws passed: \n"
     ]
    },
    {
     "data": {
      "text/html": [
       "<div>\n",
       "<style scoped>\n",
       "    .dataframe tbody tr th:only-of-type {\n",
       "        vertical-align: middle;\n",
       "    }\n",
       "\n",
       "    .dataframe tbody tr th {\n",
       "        vertical-align: top;\n",
       "    }\n",
       "\n",
       "    .dataframe thead th {\n",
       "        text-align: right;\n",
       "    }\n",
       "</style>\n",
       "<table border=\"1\" class=\"dataframe\">\n",
       "  <thead>\n",
       "    <tr style=\"text-align: right;\">\n",
       "      <th></th>\n",
       "      <th>date_passed</th>\n",
       "      <th>id</th>\n",
       "    </tr>\n",
       "  </thead>\n",
       "  <tbody>\n",
       "    <tr>\n",
       "      <th>42</th>\n",
       "      <td>2013</td>\n",
       "      <td>161</td>\n",
       "    </tr>\n",
       "  </tbody>\n",
       "</table>\n",
       "</div>"
      ],
      "text/plain": [
       "   date_passed   id\n",
       "42        2013  161"
      ]
     },
     "execution_count": 8,
     "metadata": {},
     "output_type": "execute_result"
    }
   ],
   "source": [
    "# Date passed - seeing the distribution of pass date of the laws\n",
    "date_passed_count_df = pd.DataFrame(pd.pivot_table(values=\"id\", index=\"date_passed\", aggfunc='count', data=climate_laws_df).to_records())\n",
    "date_passed_count_df.plot(x=\"date_passed\", ylabel=\"Number of climate laws passed\", xlabel=\"Year passed\")\n",
    "plt.show()\n",
    "\n",
    "print(\"Year with maximum number of laws passed: \")\n",
    "date_passed_count_df[date_passed_count_df[\"id\"] == date_passed_count_df[\"id\"].max()]"
   ]
  },
  {
   "cell_type": "markdown",
   "metadata": {},
   "source": [
    "#### Observations:\n",
    "The figure above is interesting. \n",
    "\n",
    "The number of laws passed started to skyrocket around 1999 and continue to rise until 2013, after which we see a marked decline.\n",
    "\n",
    "Additionally, we see that 2013 has the highest number of climate laws passed, it will be interesting to see which countries contribute to these? As well as which topics (topic modelling will come later)\n",
    "\n",
    "#### Update:\n",
    "\n",
    "This peak coincides with the drafting and signing of the **Paris Agreement** in 2015 and 2016."
   ]
  },
  {
   "cell_type": "markdown",
   "metadata": {},
   "source": [
    "## Provisional research question:\n",
    "\n",
    "\"What factors explain the presence of climate laws in a given year?\""
   ]
  },
  {
   "cell_type": "code",
   "execution_count": 9,
   "metadata": {},
   "outputs": [],
   "source": [
    "# Extracting country name from geography column\n",
    "def extract_country_name(df):\n",
    "    return df[\"geography\"][\"name\"]\n",
    "climate_laws_df.loc[:, \"country_name\"] = climate_laws_df.apply(lambda x: extract_country_name(x), axis=1)"
   ]
  },
  {
   "cell_type": "code",
   "execution_count": 10,
   "metadata": {},
   "outputs": [],
   "source": [
    "# Investigating which countries pass to the Climate laws in 2013\n",
    "def country_laws_year_passed(year=2013):\n",
    "    count_df = pd.DataFrame(pd.pivot_table(values=\"id\", index=\"country_name\", aggfunc=\"count\",\n",
    "                                          data=climate_laws_df[climate_laws_df[\"date_passed\"]==str(year)]).to_records())\n",
    "    return count_df"
   ]
  },
  {
   "cell_type": "code",
   "execution_count": 11,
   "metadata": {},
   "outputs": [
    {
     "data": {
      "text/html": [
       "<div>\n",
       "<style scoped>\n",
       "    .dataframe tbody tr th:only-of-type {\n",
       "        vertical-align: middle;\n",
       "    }\n",
       "\n",
       "    .dataframe tbody tr th {\n",
       "        vertical-align: top;\n",
       "    }\n",
       "\n",
       "    .dataframe thead th {\n",
       "        text-align: right;\n",
       "    }\n",
       "</style>\n",
       "<table border=\"1\" class=\"dataframe\">\n",
       "  <thead>\n",
       "    <tr style=\"text-align: right;\">\n",
       "      <th></th>\n",
       "      <th>country_name</th>\n",
       "      <th>id</th>\n",
       "    </tr>\n",
       "  </thead>\n",
       "  <tbody>\n",
       "    <tr>\n",
       "      <th>81</th>\n",
       "      <td>Spain</td>\n",
       "      <td>8</td>\n",
       "    </tr>\n",
       "    <tr>\n",
       "      <th>31</th>\n",
       "      <td>European Union</td>\n",
       "      <td>5</td>\n",
       "    </tr>\n",
       "    <tr>\n",
       "      <th>15</th>\n",
       "      <td>Burkina Faso</td>\n",
       "      <td>5</td>\n",
       "    </tr>\n",
       "    <tr>\n",
       "      <th>12</th>\n",
       "      <td>Brazil</td>\n",
       "      <td>5</td>\n",
       "    </tr>\n",
       "    <tr>\n",
       "      <th>18</th>\n",
       "      <td>Chile</td>\n",
       "      <td>4</td>\n",
       "    </tr>\n",
       "  </tbody>\n",
       "</table>\n",
       "</div>"
      ],
      "text/plain": [
       "      country_name  id\n",
       "81           Spain   8\n",
       "31  European Union   5\n",
       "15    Burkina Faso   5\n",
       "12          Brazil   5\n",
       "18           Chile   4"
      ]
     },
     "execution_count": 11,
     "metadata": {},
     "output_type": "execute_result"
    }
   ],
   "source": [
    "# Seeing the Top five countries passing highest number of climate laws in 2013\n",
    "country_laws_year_passed(year=2013).sort_values(\"id\", ascending=False).head()"
   ]
  },
  {
   "cell_type": "code",
   "execution_count": 12,
   "metadata": {
    "scrolled": true
   },
   "outputs": [
    {
     "name": "stdout",
     "output_type": "stream",
     "text": [
      "// Burkina Faso - 2013: //\n",
      "National multi-risk plan for disaster preparedness and response\n",
      "Decree no. 2013-325 (establishing the mission of a national entity responding to climate change)\n",
      "Law no. 006-2013 (on the Code for the Environment)\n",
      "Decree no. 2013-151 (on the National Council for the Environment and Sustainable Development)\n",
      "Law of finance 2013 relative to the deletion of customs charges on equipments and material of solar energy\n"
     ]
    }
   ],
   "source": [
    "# I've found it a bit surprising to see Burkina Faso on this list, let's investigate which laws were passed\n",
    "# Helper function\n",
    "def print_laws_title_country_year(country, year):\n",
    "    print(f\"// {country} - {str(year)}: //\")\n",
    "    for item in climate_laws_df[(climate_laws_df[\"country_name\"]==country) & \n",
    "                    (climate_laws_df[\"date_passed\"]==str(year))][\"title\"]:\n",
    "        print(item)\n",
    "\n",
    "print_laws_title_country_year(\"Burkina Faso\", 2013)"
   ]
  },
  {
   "cell_type": "code",
   "execution_count": 13,
   "metadata": {},
   "outputs": [
    {
     "name": "stdout",
     "output_type": "stream",
     "text": [
      "Maximum number of climate laws passed by country/region in a year:\n",
      "id    9\n",
      "Name: (2009, European Union), dtype: int64\n"
     ]
    }
   ],
   "source": [
    "# Finding out which country/region passes the maximum number of climate laws within a year\n",
    "_ = pd.DataFrame(pd.pivot_table(values=\"id\", index=[\"date_passed\", \"country_name\"], aggfunc=\"count\", data=climate_laws_df))\n",
    "\n",
    "# Print out result\n",
    "print(f\"Maximum number of climate laws passed by country/region in a year:\\n{_.iloc[_.id.argmax(), :]}\")"
   ]
  },
  {
   "cell_type": "markdown",
   "metadata": {},
   "source": [
    "9 climate laws were passed by the European Union in 2009. Let's see what they are "
   ]
  },
  {
   "cell_type": "code",
   "execution_count": 14,
   "metadata": {
    "scrolled": true
   },
   "outputs": [
    {
     "name": "stdout",
     "output_type": "stream",
     "text": [
      "Clean and energy-efficient road transport vehicles (Directive 2009/33/EC on the promotion of clean road transport vehicles in support of low-emission mobility) \n",
      "\n",
      "Revision of the EU Emission Trading System (EU ETS) (Directive 2009/29/EC amending Directive 2003/87/EC so as to improve and extend the greenhouse gas emission allowance trading scheme of the Community) \n",
      "\n",
      "Fuel Quality (Directives 2009/30/EC and 2015/1513 amending Directive 98/70/EC as regards the specification of petrol, diesel and gas-oil and introducing a mechanism to monitor and reduce GHG emissions and amending Council Directive 1999/32/EC as regards the specification of fuel used by inland waterway vessels and repealing Directive 93/12/EEC) \n",
      "\n",
      "Emission performance standards for new passenger cars (Regulation (EC) No. 443/2009 setting emission performance standards for new passenger cars as part of the Community's integrated approach to reduce CO2 emissions from light-duty vehicles) \n",
      "\n",
      "2020 Climate and Energy Package (contains Directive 2009/29/EC, Directive 2009/28/EC, Directive 2009/31/EC and Decision No. 406/2009/EC of the Parliament and the Council ; see below) \n",
      "\n",
      "Third Energy Package (Directive on electricity 2009/72/EC, repealing Directive 2003/54/EC and Directive on gas 2009/73/EC, repealing Directive 2003/55/EC) \n",
      "\n",
      "Regulation No 1222/2009 on the labelling of tyres with respect to fuel efficiency and other essential parameters \n",
      "\n",
      "Geological storage of carbon dioxide (Directive 2009/31/EC on the geological storage of carbon dioxide and amending Council Directive 85/337/EEC, European Parliament and Council Directives 2000/60/EC, 2001/80/EC, 2004/35/EC, 2006/12/EC, 2008/1/EC and Regulation (EC) No 1013/2006) \n",
      "\n",
      "Effort Sharing Decision (Decision No. 406/2009/EC on the effort of Member States to reduce their greenhouse gas emissions to meet the Community's greenhouse gas emission reduction commitments up to 2020) \n",
      "\n"
     ]
    }
   ],
   "source": [
    "# 9 laws passed by the EU in 2009\n",
    "for law in climate_laws_df[(climate_laws_df[\"date_passed\"]==\"2009\") & (climate_laws_df[\"country_name\"]==\"European Union\")][\"title\"]:\n",
    "    print(law, '\\n')"
   ]
  },
  {
   "cell_type": "markdown",
   "metadata": {},
   "source": [
    "#### Observation:\n",
    "\n",
    "Upon further observations, I noticed that the \"geography\" column contains a lot of useful information, such as the country's World Bank Income Group, Climate Risk index, Percent of Global Emissions, etc. It will be very useful to bring these information into the columns of the main DataFrame."
   ]
  },
  {
   "cell_type": "code",
   "execution_count": 15,
   "metadata": {},
   "outputs": [],
   "source": [
    "# Enriching data with more useful information from \"geography column\"\n",
    "def percent_global_emissions(df):\n",
    "    return df[\"geography\"][\"percent_global_emissions\"]\n",
    "\n",
    "def climate_risk_index(df):\n",
    "    return df[\"geography\"][\"climate_risk_index\"]\n",
    "\n",
    "def wb_income_group(df):\n",
    "    return df[\"geography\"][\"wb_income_group\"]\n",
    "\n",
    "def eu_member_ind(df):\n",
    "    return df[\"geography\"][\"eu_member\"]\n",
    "\n",
    "def visibility_status(df):\n",
    "    return df[\"geography\"][\"visibility_status\"]\n",
    "\n",
    "def law_discarded_at(df):\n",
    "    return df[\"geography\"][\"discarded_at\"]\n",
    "\n",
    "def federal_ind(df):\n",
    "    return df[\"geography\"][\"federal\"]\n",
    "\n",
    "def legislative_process(df):\n",
    "    return df[\"geography\"][\"legislative_process\"]\n",
    "\n",
    "# Adding columns\n",
    "for func, name in zip([percent_global_emissions, climate_risk_index, wb_income_group, eu_member_ind, visibility_status, law_discarded_at, federal_ind, legislative_process],\n",
    "                     [\"percent_global_emissions\", \"climate_risk_index\", \"wb_income_group\", \"eu_member_ind\", \"visibility_status\", \"law_discarded_at\", \"federal_ind\", \"legislative_process\"]):\n",
    "    climate_laws_df.loc[:, name] = climate_laws_df.apply(lambda x: func(x), axis=1)"
   ]
  },
  {
   "cell_type": "code",
   "execution_count": 16,
   "metadata": {},
   "outputs": [
    {
     "data": {
      "text/html": [
       "<div>\n",
       "<style scoped>\n",
       "    .dataframe tbody tr th:only-of-type {\n",
       "        vertical-align: middle;\n",
       "    }\n",
       "\n",
       "    .dataframe tbody tr th {\n",
       "        vertical-align: top;\n",
       "    }\n",
       "\n",
       "    .dataframe thead th {\n",
       "        text-align: right;\n",
       "    }\n",
       "</style>\n",
       "<table border=\"1\" class=\"dataframe\">\n",
       "  <thead>\n",
       "    <tr style=\"text-align: right;\">\n",
       "      <th></th>\n",
       "      <th>wb_income_group</th>\n",
       "      <th>id</th>\n",
       "    </tr>\n",
       "  </thead>\n",
       "  <tbody>\n",
       "    <tr>\n",
       "      <th>0</th>\n",
       "      <td></td>\n",
       "      <td>4</td>\n",
       "    </tr>\n",
       "    <tr>\n",
       "      <th>1</th>\n",
       "      <td>High income</td>\n",
       "      <td>735</td>\n",
       "    </tr>\n",
       "    <tr>\n",
       "      <th>2</th>\n",
       "      <td>Low income</td>\n",
       "      <td>237</td>\n",
       "    </tr>\n",
       "    <tr>\n",
       "      <th>3</th>\n",
       "      <td>Lower middle income</td>\n",
       "      <td>501</td>\n",
       "    </tr>\n",
       "    <tr>\n",
       "      <th>4</th>\n",
       "      <td>Upper middle income</td>\n",
       "      <td>528</td>\n",
       "    </tr>\n",
       "  </tbody>\n",
       "</table>\n",
       "</div>"
      ],
      "text/plain": [
       "       wb_income_group   id\n",
       "0                         4\n",
       "1          High income  735\n",
       "2           Low income  237\n",
       "3  Lower middle income  501\n",
       "4  Upper middle income  528"
      ]
     },
     "execution_count": 16,
     "metadata": {},
     "output_type": "execute_result"
    }
   ],
   "source": [
    "# Seeing number of laws passed per WB Income Group\n",
    "pd.DataFrame(pd.pivot_table(values=\"id\", index=\"wb_income_group\", aggfunc=\"count\", data=climate_laws_df.dropna(subset=[\"wb_income_group\"])).to_records())"
   ]
  },
  {
   "cell_type": "markdown",
   "metadata": {},
   "source": [
    "**Observation**\n",
    "\n",
    "Middle income countries are most active at issuing climate laws"
   ]
  },
  {
   "cell_type": "code",
   "execution_count": 17,
   "metadata": {},
   "outputs": [],
   "source": [
    "# Saving this expanded dataset\n",
    "timestamp = datetime.now().strftime(\"%Y.%m.%d_%H.%M.%S\")\n",
    "climate_laws_df.to_excel(f\"./climate_laws_data/{timestamp}_climate_laws_data_expanded.xlsx\", index=False)"
   ]
  },
  {
   "cell_type": "markdown",
   "metadata": {},
   "source": [
    "#### Exploring this expanded dataset "
   ]
  },
  {
   "cell_type": "code",
   "execution_count": 18,
   "metadata": {
    "scrolled": false
   },
   "outputs": [
    {
     "data": {
      "text/html": [
       "<div>\n",
       "<style scoped>\n",
       "    .dataframe tbody tr th:only-of-type {\n",
       "        vertical-align: middle;\n",
       "    }\n",
       "\n",
       "    .dataframe tbody tr th {\n",
       "        vertical-align: top;\n",
       "    }\n",
       "\n",
       "    .dataframe thead th {\n",
       "        text-align: right;\n",
       "    }\n",
       "</style>\n",
       "<table border=\"1\" class=\"dataframe\">\n",
       "  <thead>\n",
       "    <tr style=\"text-align: right;\">\n",
       "      <th></th>\n",
       "      <th>index</th>\n",
       "      <th>id</th>\n",
       "      <th>title</th>\n",
       "      <th>description</th>\n",
       "      <th>law_id</th>\n",
       "      <th>slug</th>\n",
       "      <th>geography_id</th>\n",
       "      <th>created_at</th>\n",
       "      <th>updated_at</th>\n",
       "      <th>visibility_status</th>\n",
       "      <th>...</th>\n",
       "      <th>legislation_type_humanize</th>\n",
       "      <th>geography_path</th>\n",
       "      <th>country_name</th>\n",
       "      <th>percent_global_emissions</th>\n",
       "      <th>climate_risk_index</th>\n",
       "      <th>wb_income_group</th>\n",
       "      <th>eu_member_ind</th>\n",
       "      <th>law_discarded_at</th>\n",
       "      <th>federal_ind</th>\n",
       "      <th>legislative_process</th>\n",
       "    </tr>\n",
       "  </thead>\n",
       "  <tbody>\n",
       "    <tr>\n",
       "      <th>0</th>\n",
       "      <td>0</td>\n",
       "      <td>8713</td>\n",
       "      <td>General Law for Sustainable Forest Development</td>\n",
       "      <td>&lt;div&gt;This law replaces the &lt;a href=\"http://www...</td>\n",
       "      <td>None</td>\n",
       "      <td>general-law-for-sustainable-forest-development</td>\n",
       "      <td>114</td>\n",
       "      <td>2019-12-08T17:46:02.526Z</td>\n",
       "      <td>2021-02-17T17:53:37.188Z</td>\n",
       "      <td>published</td>\n",
       "      <td>...</td>\n",
       "      <td>Legislative</td>\n",
       "      <td>/geographies/mexico</td>\n",
       "      <td>Mexico</td>\n",
       "      <td>1.45</td>\n",
       "      <td>61.83</td>\n",
       "      <td>Upper middle income</td>\n",
       "      <td>False</td>\n",
       "      <td>None</td>\n",
       "      <td>True</td>\n",
       "      <td>&lt;div&gt;The United Mexican States (Mexico) has a ...</td>\n",
       "    </tr>\n",
       "    <tr>\n",
       "      <th>1</th>\n",
       "      <td>1</td>\n",
       "      <td>9741</td>\n",
       "      <td>Notification S.O. 4259(E) creating the Apex Co...</td>\n",
       "      <td>&lt;div&gt;This document from the Ministry of Enviro...</td>\n",
       "      <td>None</td>\n",
       "      <td>notification-s-o-4259-e-creating-the-apex-comm...</td>\n",
       "      <td>78</td>\n",
       "      <td>2020-12-04T18:07:29.406Z</td>\n",
       "      <td>2020-12-04T18:13:52.925Z</td>\n",
       "      <td>published</td>\n",
       "      <td>...</td>\n",
       "      <td>Executive</td>\n",
       "      <td>/geographies/india</td>\n",
       "      <td>India</td>\n",
       "      <td>6.81</td>\n",
       "      <td>38.67</td>\n",
       "      <td>Lower middle income</td>\n",
       "      <td>False</td>\n",
       "      <td>None</td>\n",
       "      <td>True</td>\n",
       "      <td>&lt;p style=\"text-align: justify;\"&gt;The Indian par...</td>\n",
       "    </tr>\n",
       "    <tr>\n",
       "      <th>2</th>\n",
       "      <td>2</td>\n",
       "      <td>1687</td>\n",
       "      <td>CO2 Act (Act 641.71, fully revised version)</td>\n",
       "      <td>&lt;div&gt;On November 25, 2020, the Federal Council...</td>\n",
       "      <td>None</td>\n",
       "      <td>co2-act-act-641-71-fully-revised-version</td>\n",
       "      <td>174</td>\n",
       "      <td>2019-12-08T17:46:22.795Z</td>\n",
       "      <td>2020-12-04T15:29:03.388Z</td>\n",
       "      <td>published</td>\n",
       "      <td>...</td>\n",
       "      <td>Legislative</td>\n",
       "      <td>/geographies/switzerland</td>\n",
       "      <td>Switzerland</td>\n",
       "      <td>0.1</td>\n",
       "      <td>52.33</td>\n",
       "      <td>High income</td>\n",
       "      <td>False</td>\n",
       "      <td>None</td>\n",
       "      <td>True</td>\n",
       "      <td>&lt;p style=\"text-align: justify;\"&gt;Switzerland is...</td>\n",
       "    </tr>\n",
       "    <tr>\n",
       "      <th>3</th>\n",
       "      <td>3</td>\n",
       "      <td>9739</td>\n",
       "      <td>An EU Strategy to harness the potential of off...</td>\n",
       "      <td>&lt;div&gt;This communication from the Commission es...</td>\n",
       "      <td>None</td>\n",
       "      <td>an-eu-strategy-to-harness-the-potential-of-off...</td>\n",
       "      <td>59</td>\n",
       "      <td>2020-12-04T17:10:20.086Z</td>\n",
       "      <td>2021-02-27T13:44:49.554Z</td>\n",
       "      <td>published</td>\n",
       "      <td>...</td>\n",
       "      <td>Executive</td>\n",
       "      <td>/geographies/european-union</td>\n",
       "      <td>European Union</td>\n",
       "      <td>None</td>\n",
       "      <td>None</td>\n",
       "      <td>None</td>\n",
       "      <td>False</td>\n",
       "      <td>None</td>\n",
       "      <td>True</td>\n",
       "      <td>&lt;p style=\"text-align: justify;\"&gt;The legislativ...</td>\n",
       "    </tr>\n",
       "    <tr>\n",
       "      <th>4</th>\n",
       "      <td>4</td>\n",
       "      <td>9734</td>\n",
       "      <td>Royal Decree 960/2020 regulating the economic ...</td>\n",
       "      <td>&lt;div&gt;This document sets the remuneration frame...</td>\n",
       "      <td>None</td>\n",
       "      <td>royal-decree-960-2020-regulating-the-economic-...</td>\n",
       "      <td>168</td>\n",
       "      <td>2020-11-16T15:58:40.307Z</td>\n",
       "      <td>2020-11-16T16:00:51.183Z</td>\n",
       "      <td>published</td>\n",
       "      <td>...</td>\n",
       "      <td>Executive</td>\n",
       "      <td>/geographies/spain</td>\n",
       "      <td>Spain</td>\n",
       "      <td>0.6</td>\n",
       "      <td>47.33</td>\n",
       "      <td>High income</td>\n",
       "      <td>True</td>\n",
       "      <td>None</td>\n",
       "      <td>False</td>\n",
       "      <td>&lt;p style=\"text-align: justify;\"&gt;Spain is a Par...</td>\n",
       "    </tr>\n",
       "  </tbody>\n",
       "</table>\n",
       "<p>5 rows × 32 columns</p>\n",
       "</div>"
      ],
      "text/plain": [
       "   index    id                                              title  \\\n",
       "0      0  8713     General Law for Sustainable Forest Development   \n",
       "1      1  9741  Notification S.O. 4259(E) creating the Apex Co...   \n",
       "2      2  1687        CO2 Act (Act 641.71, fully revised version)   \n",
       "3      3  9739  An EU Strategy to harness the potential of off...   \n",
       "4      4  9734  Royal Decree 960/2020 regulating the economic ...   \n",
       "\n",
       "                                         description law_id  \\\n",
       "0  <div>This law replaces the <a href=\"http://www...   None   \n",
       "1  <div>This document from the Ministry of Enviro...   None   \n",
       "2  <div>On November 25, 2020, the Federal Council...   None   \n",
       "3  <div>This communication from the Commission es...   None   \n",
       "4  <div>This document sets the remuneration frame...   None   \n",
       "\n",
       "                                                slug  geography_id  \\\n",
       "0     general-law-for-sustainable-forest-development           114   \n",
       "1  notification-s-o-4259-e-creating-the-apex-comm...            78   \n",
       "2           co2-act-act-641-71-fully-revised-version           174   \n",
       "3  an-eu-strategy-to-harness-the-potential-of-off...            59   \n",
       "4  royal-decree-960-2020-regulating-the-economic-...           168   \n",
       "\n",
       "                 created_at                updated_at visibility_status  ...  \\\n",
       "0  2019-12-08T17:46:02.526Z  2021-02-17T17:53:37.188Z         published  ...   \n",
       "1  2020-12-04T18:07:29.406Z  2020-12-04T18:13:52.925Z         published  ...   \n",
       "2  2019-12-08T17:46:22.795Z  2020-12-04T15:29:03.388Z         published  ...   \n",
       "3  2020-12-04T17:10:20.086Z  2021-02-27T13:44:49.554Z         published  ...   \n",
       "4  2020-11-16T15:58:40.307Z  2020-11-16T16:00:51.183Z         published  ...   \n",
       "\n",
       "  legislation_type_humanize               geography_path    country_name  \\\n",
       "0               Legislative          /geographies/mexico          Mexico   \n",
       "1                 Executive           /geographies/india           India   \n",
       "2               Legislative     /geographies/switzerland     Switzerland   \n",
       "3                 Executive  /geographies/european-union  European Union   \n",
       "4                 Executive           /geographies/spain           Spain   \n",
       "\n",
       "  percent_global_emissions climate_risk_index      wb_income_group  \\\n",
       "0                     1.45              61.83  Upper middle income   \n",
       "1                     6.81              38.67  Lower middle income   \n",
       "2                      0.1              52.33          High income   \n",
       "3                     None               None                 None   \n",
       "4                      0.6              47.33          High income   \n",
       "\n",
       "  eu_member_ind law_discarded_at federal_ind  \\\n",
       "0         False             None        True   \n",
       "1         False             None        True   \n",
       "2         False             None        True   \n",
       "3         False             None        True   \n",
       "4          True             None       False   \n",
       "\n",
       "                                 legislative_process  \n",
       "0  <div>The United Mexican States (Mexico) has a ...  \n",
       "1  <p style=\"text-align: justify;\">The Indian par...  \n",
       "2  <p style=\"text-align: justify;\">Switzerland is...  \n",
       "3  <p style=\"text-align: justify;\">The legislativ...  \n",
       "4  <p style=\"text-align: justify;\">Spain is a Par...  \n",
       "\n",
       "[5 rows x 32 columns]"
      ]
     },
     "execution_count": 18,
     "metadata": {},
     "output_type": "execute_result"
    }
   ],
   "source": [
    "climate_laws_df.head()"
   ]
  },
  {
   "cell_type": "code",
   "execution_count": 19,
   "metadata": {},
   "outputs": [
    {
     "data": {
      "text/plain": [
       "Index(['index', 'id', 'title', 'description', 'law_id', 'slug', 'geography_id',\n",
       "       'created_at', 'updated_at', 'visibility_status', 'created_by_id',\n",
       "       'updated_by_id', 'discarded_at', 'legislation_type', 'parent_id', 'tsv',\n",
       "       'date', 'link', 'short_description', 'geography', 'date_passed',\n",
       "       'last_change', 'legislation_type_humanize', 'geography_path',\n",
       "       'country_name', 'percent_global_emissions', 'climate_risk_index',\n",
       "       'wb_income_group', 'eu_member_ind', 'law_discarded_at', 'federal_ind',\n",
       "       'legislative_process'],\n",
       "      dtype='object')"
      ]
     },
     "execution_count": 19,
     "metadata": {},
     "output_type": "execute_result"
    }
   ],
   "source": [
    "climate_laws_df.columns"
   ]
  },
  {
   "cell_type": "code",
   "execution_count": 20,
   "metadata": {
    "scrolled": true
   },
   "outputs": [
    {
     "data": {
      "text/html": [
       "<div>\n",
       "<style scoped>\n",
       "    .dataframe tbody tr th:only-of-type {\n",
       "        vertical-align: middle;\n",
       "    }\n",
       "\n",
       "    .dataframe tbody tr th {\n",
       "        vertical-align: top;\n",
       "    }\n",
       "\n",
       "    .dataframe thead th {\n",
       "        text-align: right;\n",
       "    }\n",
       "</style>\n",
       "<table border=\"1\" class=\"dataframe\">\n",
       "  <thead>\n",
       "    <tr style=\"text-align: right;\">\n",
       "      <th></th>\n",
       "      <th>index</th>\n",
       "      <th>id</th>\n",
       "      <th>title</th>\n",
       "      <th>description</th>\n",
       "      <th>law_id</th>\n",
       "      <th>slug</th>\n",
       "      <th>geography_id</th>\n",
       "      <th>created_at</th>\n",
       "      <th>updated_at</th>\n",
       "      <th>visibility_status</th>\n",
       "      <th>...</th>\n",
       "      <th>legislation_type_humanize</th>\n",
       "      <th>geography_path</th>\n",
       "      <th>country_name</th>\n",
       "      <th>percent_global_emissions</th>\n",
       "      <th>climate_risk_index</th>\n",
       "      <th>wb_income_group</th>\n",
       "      <th>eu_member_ind</th>\n",
       "      <th>law_discarded_at</th>\n",
       "      <th>federal_ind</th>\n",
       "      <th>legislative_process</th>\n",
       "    </tr>\n",
       "  </thead>\n",
       "  <tbody>\n",
       "    <tr>\n",
       "      <th>0</th>\n",
       "      <td>0</td>\n",
       "      <td>8713</td>\n",
       "      <td>General Law for Sustainable Forest Development</td>\n",
       "      <td>&lt;div&gt;This law replaces the &lt;a href=\"http://www...</td>\n",
       "      <td>None</td>\n",
       "      <td>general-law-for-sustainable-forest-development</td>\n",
       "      <td>114</td>\n",
       "      <td>2019-12-08T17:46:02.526Z</td>\n",
       "      <td>2021-02-17T17:53:37.188Z</td>\n",
       "      <td>published</td>\n",
       "      <td>...</td>\n",
       "      <td>Legislative</td>\n",
       "      <td>/geographies/mexico</td>\n",
       "      <td>Mexico</td>\n",
       "      <td>1.45</td>\n",
       "      <td>61.83</td>\n",
       "      <td>Upper middle income</td>\n",
       "      <td>False</td>\n",
       "      <td>None</td>\n",
       "      <td>True</td>\n",
       "      <td>&lt;div&gt;The United Mexican States (Mexico) has a ...</td>\n",
       "    </tr>\n",
       "    <tr>\n",
       "      <th>1</th>\n",
       "      <td>1</td>\n",
       "      <td>9741</td>\n",
       "      <td>Notification S.O. 4259(E) creating the Apex Co...</td>\n",
       "      <td>&lt;div&gt;This document from the Ministry of Enviro...</td>\n",
       "      <td>None</td>\n",
       "      <td>notification-s-o-4259-e-creating-the-apex-comm...</td>\n",
       "      <td>78</td>\n",
       "      <td>2020-12-04T18:07:29.406Z</td>\n",
       "      <td>2020-12-04T18:13:52.925Z</td>\n",
       "      <td>published</td>\n",
       "      <td>...</td>\n",
       "      <td>Executive</td>\n",
       "      <td>/geographies/india</td>\n",
       "      <td>India</td>\n",
       "      <td>6.81</td>\n",
       "      <td>38.67</td>\n",
       "      <td>Lower middle income</td>\n",
       "      <td>False</td>\n",
       "      <td>None</td>\n",
       "      <td>True</td>\n",
       "      <td>&lt;p style=\"text-align: justify;\"&gt;The Indian par...</td>\n",
       "    </tr>\n",
       "    <tr>\n",
       "      <th>2</th>\n",
       "      <td>2</td>\n",
       "      <td>1687</td>\n",
       "      <td>CO2 Act (Act 641.71, fully revised version)</td>\n",
       "      <td>&lt;div&gt;On November 25, 2020, the Federal Council...</td>\n",
       "      <td>None</td>\n",
       "      <td>co2-act-act-641-71-fully-revised-version</td>\n",
       "      <td>174</td>\n",
       "      <td>2019-12-08T17:46:22.795Z</td>\n",
       "      <td>2020-12-04T15:29:03.388Z</td>\n",
       "      <td>published</td>\n",
       "      <td>...</td>\n",
       "      <td>Legislative</td>\n",
       "      <td>/geographies/switzerland</td>\n",
       "      <td>Switzerland</td>\n",
       "      <td>0.1</td>\n",
       "      <td>52.33</td>\n",
       "      <td>High income</td>\n",
       "      <td>False</td>\n",
       "      <td>None</td>\n",
       "      <td>True</td>\n",
       "      <td>&lt;p style=\"text-align: justify;\"&gt;Switzerland is...</td>\n",
       "    </tr>\n",
       "    <tr>\n",
       "      <th>3</th>\n",
       "      <td>3</td>\n",
       "      <td>9739</td>\n",
       "      <td>An EU Strategy to harness the potential of off...</td>\n",
       "      <td>&lt;div&gt;This communication from the Commission es...</td>\n",
       "      <td>None</td>\n",
       "      <td>an-eu-strategy-to-harness-the-potential-of-off...</td>\n",
       "      <td>59</td>\n",
       "      <td>2020-12-04T17:10:20.086Z</td>\n",
       "      <td>2021-02-27T13:44:49.554Z</td>\n",
       "      <td>published</td>\n",
       "      <td>...</td>\n",
       "      <td>Executive</td>\n",
       "      <td>/geographies/european-union</td>\n",
       "      <td>European Union</td>\n",
       "      <td>None</td>\n",
       "      <td>None</td>\n",
       "      <td>None</td>\n",
       "      <td>False</td>\n",
       "      <td>None</td>\n",
       "      <td>True</td>\n",
       "      <td>&lt;p style=\"text-align: justify;\"&gt;The legislativ...</td>\n",
       "    </tr>\n",
       "    <tr>\n",
       "      <th>4</th>\n",
       "      <td>4</td>\n",
       "      <td>9734</td>\n",
       "      <td>Royal Decree 960/2020 regulating the economic ...</td>\n",
       "      <td>&lt;div&gt;This document sets the remuneration frame...</td>\n",
       "      <td>None</td>\n",
       "      <td>royal-decree-960-2020-regulating-the-economic-...</td>\n",
       "      <td>168</td>\n",
       "      <td>2020-11-16T15:58:40.307Z</td>\n",
       "      <td>2020-11-16T16:00:51.183Z</td>\n",
       "      <td>published</td>\n",
       "      <td>...</td>\n",
       "      <td>Executive</td>\n",
       "      <td>/geographies/spain</td>\n",
       "      <td>Spain</td>\n",
       "      <td>0.6</td>\n",
       "      <td>47.33</td>\n",
       "      <td>High income</td>\n",
       "      <td>True</td>\n",
       "      <td>None</td>\n",
       "      <td>False</td>\n",
       "      <td>&lt;p style=\"text-align: justify;\"&gt;Spain is a Par...</td>\n",
       "    </tr>\n",
       "  </tbody>\n",
       "</table>\n",
       "<p>5 rows × 32 columns</p>\n",
       "</div>"
      ],
      "text/plain": [
       "   index    id                                              title  \\\n",
       "0      0  8713     General Law for Sustainable Forest Development   \n",
       "1      1  9741  Notification S.O. 4259(E) creating the Apex Co...   \n",
       "2      2  1687        CO2 Act (Act 641.71, fully revised version)   \n",
       "3      3  9739  An EU Strategy to harness the potential of off...   \n",
       "4      4  9734  Royal Decree 960/2020 regulating the economic ...   \n",
       "\n",
       "                                         description law_id  \\\n",
       "0  <div>This law replaces the <a href=\"http://www...   None   \n",
       "1  <div>This document from the Ministry of Enviro...   None   \n",
       "2  <div>On November 25, 2020, the Federal Council...   None   \n",
       "3  <div>This communication from the Commission es...   None   \n",
       "4  <div>This document sets the remuneration frame...   None   \n",
       "\n",
       "                                                slug  geography_id  \\\n",
       "0     general-law-for-sustainable-forest-development           114   \n",
       "1  notification-s-o-4259-e-creating-the-apex-comm...            78   \n",
       "2           co2-act-act-641-71-fully-revised-version           174   \n",
       "3  an-eu-strategy-to-harness-the-potential-of-off...            59   \n",
       "4  royal-decree-960-2020-regulating-the-economic-...           168   \n",
       "\n",
       "                 created_at                updated_at visibility_status  ...  \\\n",
       "0  2019-12-08T17:46:02.526Z  2021-02-17T17:53:37.188Z         published  ...   \n",
       "1  2020-12-04T18:07:29.406Z  2020-12-04T18:13:52.925Z         published  ...   \n",
       "2  2019-12-08T17:46:22.795Z  2020-12-04T15:29:03.388Z         published  ...   \n",
       "3  2020-12-04T17:10:20.086Z  2021-02-27T13:44:49.554Z         published  ...   \n",
       "4  2020-11-16T15:58:40.307Z  2020-11-16T16:00:51.183Z         published  ...   \n",
       "\n",
       "  legislation_type_humanize               geography_path    country_name  \\\n",
       "0               Legislative          /geographies/mexico          Mexico   \n",
       "1                 Executive           /geographies/india           India   \n",
       "2               Legislative     /geographies/switzerland     Switzerland   \n",
       "3                 Executive  /geographies/european-union  European Union   \n",
       "4                 Executive           /geographies/spain           Spain   \n",
       "\n",
       "  percent_global_emissions climate_risk_index      wb_income_group  \\\n",
       "0                     1.45              61.83  Upper middle income   \n",
       "1                     6.81              38.67  Lower middle income   \n",
       "2                      0.1              52.33          High income   \n",
       "3                     None               None                 None   \n",
       "4                      0.6              47.33          High income   \n",
       "\n",
       "  eu_member_ind law_discarded_at federal_ind  \\\n",
       "0         False             None        True   \n",
       "1         False             None        True   \n",
       "2         False             None        True   \n",
       "3         False             None        True   \n",
       "4          True             None       False   \n",
       "\n",
       "                                 legislative_process  \n",
       "0  <div>The United Mexican States (Mexico) has a ...  \n",
       "1  <p style=\"text-align: justify;\">The Indian par...  \n",
       "2  <p style=\"text-align: justify;\">Switzerland is...  \n",
       "3  <p style=\"text-align: justify;\">The legislativ...  \n",
       "4  <p style=\"text-align: justify;\">Spain is a Par...  \n",
       "\n",
       "[5 rows x 32 columns]"
      ]
     },
     "execution_count": 20,
     "metadata": {},
     "output_type": "execute_result"
    }
   ],
   "source": [
    "climate_laws_df.head()"
   ]
  },
  {
   "cell_type": "code",
   "execution_count": 21,
   "metadata": {},
   "outputs": [
    {
     "data": {
      "text/html": [
       "<div>\n",
       "<style scoped>\n",
       "    .dataframe tbody tr th:only-of-type {\n",
       "        vertical-align: middle;\n",
       "    }\n",
       "\n",
       "    .dataframe tbody tr th {\n",
       "        vertical-align: top;\n",
       "    }\n",
       "\n",
       "    .dataframe thead th {\n",
       "        text-align: right;\n",
       "    }\n",
       "</style>\n",
       "<table border=\"1\" class=\"dataframe\">\n",
       "  <thead>\n",
       "    <tr style=\"text-align: right;\">\n",
       "      <th></th>\n",
       "      <th>country_name</th>\n",
       "      <th>id</th>\n",
       "    </tr>\n",
       "  </thead>\n",
       "  <tbody>\n",
       "    <tr>\n",
       "      <th>0</th>\n",
       "      <td>Afghanistan</td>\n",
       "      <td>14</td>\n",
       "    </tr>\n",
       "    <tr>\n",
       "      <th>1</th>\n",
       "      <td>Albania</td>\n",
       "      <td>3</td>\n",
       "    </tr>\n",
       "    <tr>\n",
       "      <th>2</th>\n",
       "      <td>Algeria</td>\n",
       "      <td>13</td>\n",
       "    </tr>\n",
       "    <tr>\n",
       "      <th>3</th>\n",
       "      <td>Andorra</td>\n",
       "      <td>8</td>\n",
       "    </tr>\n",
       "    <tr>\n",
       "      <th>4</th>\n",
       "      <td>Angola</td>\n",
       "      <td>21</td>\n",
       "    </tr>\n",
       "    <tr>\n",
       "      <th>...</th>\n",
       "      <td>...</td>\n",
       "      <td>...</td>\n",
       "    </tr>\n",
       "    <tr>\n",
       "      <th>193</th>\n",
       "      <td>Venezuela</td>\n",
       "      <td>4</td>\n",
       "    </tr>\n",
       "    <tr>\n",
       "      <th>194</th>\n",
       "      <td>Vietnam</td>\n",
       "      <td>26</td>\n",
       "    </tr>\n",
       "    <tr>\n",
       "      <th>195</th>\n",
       "      <td>Yemen</td>\n",
       "      <td>6</td>\n",
       "    </tr>\n",
       "    <tr>\n",
       "      <th>196</th>\n",
       "      <td>Zambia</td>\n",
       "      <td>17</td>\n",
       "    </tr>\n",
       "    <tr>\n",
       "      <th>197</th>\n",
       "      <td>Zimbabwe</td>\n",
       "      <td>12</td>\n",
       "    </tr>\n",
       "  </tbody>\n",
       "</table>\n",
       "<p>198 rows × 2 columns</p>\n",
       "</div>"
      ],
      "text/plain": [
       "    country_name  id\n",
       "0    Afghanistan  14\n",
       "1        Albania   3\n",
       "2        Algeria  13\n",
       "3        Andorra   8\n",
       "4         Angola  21\n",
       "..           ...  ..\n",
       "193    Venezuela   4\n",
       "194      Vietnam  26\n",
       "195        Yemen   6\n",
       "196       Zambia  17\n",
       "197     Zimbabwe  12\n",
       "\n",
       "[198 rows x 2 columns]"
      ]
     },
     "execution_count": 21,
     "metadata": {},
     "output_type": "execute_result"
    }
   ],
   "source": [
    "pd.DataFrame(pd.pivot_table(values=\"id\", index=[\"country_name\"], aggfunc=\"count\", data=climate_laws_df).to_records())"
   ]
  },
  {
   "cell_type": "markdown",
   "metadata": {},
   "source": [
    "### Cleaning the core description content\n",
    "\n",
    "The main description feature contains HTML tags and other items that needs to be cleaned"
   ]
  },
  {
   "cell_type": "code",
   "execution_count": 22,
   "metadata": {},
   "outputs": [],
   "source": [
    "# Import relevant libraries\n",
    "import re"
   ]
  },
  {
   "cell_type": "code",
   "execution_count": 23,
   "metadata": {},
   "outputs": [],
   "source": [
    "# Function to clean up description\n",
    "def clean_description(df, col=\"description\"):\n",
    "    # Convert to string\n",
    "    df[col] = str(df[col])\n",
    "    # Remove html tags and React non-breaking space characters i.e. &nbsp\n",
    "    df[col] = re.sub(r\"(&nbsp;)|(<([^>]+)>)\", \" \", df[col])\n",
    "    # Misc - converting markup ampersand to normal ampersand\n",
    "    df[col] = re.sub(r\"(&amp)\", \"&\", df[col])\n",
    "    # Convert any double space into single space\n",
    "    df[col] = df[col].replace(\"  \", \" \")\n",
    "    # Remove 'nan'\n",
    "    df[col] = df[col].replace(\"nan\", \"\")\n",
    "    # Remove 'None'\n",
    "    df[col] = df[col].replace(\"None\", \"\")\n",
    "    # Trimming leading or trailing space\n",
    "    df[col] = df[col].strip()\n",
    "    return df[col]\n",
    "\n",
    "# Applying the function\n",
    "climate_laws_df.loc[:, \"clean_description\"] = climate_laws_df.apply(lambda x: clean_description(x), axis=1)"
   ]
  },
  {
   "cell_type": "code",
   "execution_count": 24,
   "metadata": {},
   "outputs": [],
   "source": [
    "# Cleaning legislative process column\n",
    "climate_laws_df.loc[:, \"clean_legislative_process\"] = climate_laws_df.apply(\n",
    "    lambda x:clean_description(x, \"legislative_process\"), axis=1)"
   ]
  },
  {
   "cell_type": "code",
   "execution_count": 25,
   "metadata": {},
   "outputs": [
    {
     "data": {
      "text/plain": [
       "Index(['index', 'id', 'title', 'description', 'law_id', 'slug', 'geography_id',\n",
       "       'created_at', 'updated_at', 'visibility_status', 'created_by_id',\n",
       "       'updated_by_id', 'discarded_at', 'legislation_type', 'parent_id', 'tsv',\n",
       "       'date', 'link', 'short_description', 'geography', 'date_passed',\n",
       "       'last_change', 'legislation_type_humanize', 'geography_path',\n",
       "       'country_name', 'percent_global_emissions', 'climate_risk_index',\n",
       "       'wb_income_group', 'eu_member_ind', 'law_discarded_at', 'federal_ind',\n",
       "       'legislative_process', 'clean_description',\n",
       "       'clean_legislative_process'],\n",
       "      dtype='object')"
      ]
     },
     "execution_count": 25,
     "metadata": {},
     "output_type": "execute_result"
    }
   ],
   "source": [
    "climate_laws_df.columns"
   ]
  },
  {
   "cell_type": "code",
   "execution_count": 26,
   "metadata": {},
   "outputs": [
    {
     "data": {
      "text/plain": [
       "'Spain is a Parliamentary Monarchy. The King is the Head of State and exercises the functions attributed in the Constitution and the laws. The Constitution defines Spain as a unitary State, but guarantees autonomy for nationalities and regions. \\n The Spanish Parliament is divided in two chambers: the Congress of Deputies with popular representation, and the Senate with territorial representation. The last regular parliamentary election was held in December 2015 but as no party gained the majority, the Parliament was dissolved and new election held in June 2016, the next is expected for 2020. Both Chambers convene in Plenary Sessions and in Commissions. Assemblies of the Autonomous Communities may ask the government to adopt a bill or send an act of proposal to the Board of the Congress. Popular initiatives require at least 500,000 signatures and cannot introduce legislation dealing with issues reserved to Organic Laws or regarding taxes, international affairs and the prerogative of pardon. The government can introduce bill proposals, which are approved by the Council of Ministers and submitted to the Congress. \\n The Spanish legal system is hierarchical, so norms of a lower rank cannot override rules of a higher one. The ranking, from higher to lower level, is: \\n \\n Organic Laws – regulate the exercise of fundamental rights and public liberties; statutes of autonomy; the general electoral system; the State ombudsman; the Council of State; the Constitutional Court; and popular legislative initiative. Organic Laws require an absolute majority of Congress in a final vote of the entire bill for their approval, modification or repeal \\n Ordinary Laws deal with all subject matters not reserved to organic laws. They are initiated in Congress. After approval, bills are discussed in the Senate, which may approve, amend or veto them. Congress has the final decision. Ordinary Laws require a simple majority. \\n Decree-Laws are provisional rules issued for extraordinary and urgent matters. Congress must ratify them within a period of 30 days. \\n Legislative Decrees are issued by the executive as a result of a delegation from Parliament and they also rank as laws. \\n Regulations are ranked below acts and refer to any general rule given by the executive power in order to regulate their own institution and procedures. \\n \\n Autonomous Communities may issue Ordinary Laws, Legislative Decrees, Decrees-Acts, and Regulations. Central government’s rules prevail if they apply to the matter regulated. \\n In addition, the central executive can issue Decrees from the Council of Ministers; Orders from the Ministers or Delegated Commissions; and Instructions and Orders of Regulation from lower authorities and high officials of public administration. \\n The King sanctions the acts approved by the Parliament within 15 days, promulgates them, and orders their publication. The acts are then published in the Spanish Official Gazette.'"
      ]
     },
     "execution_count": 26,
     "metadata": {},
     "output_type": "execute_result"
    }
   ],
   "source": [
    "climate_laws_df[\"clean_legislative_process\"][19]"
   ]
  },
  {
   "cell_type": "markdown",
   "metadata": {},
   "source": [
    "##### Showing an example of a cleaned description "
   ]
  },
  {
   "cell_type": "code",
   "execution_count": 27,
   "metadata": {},
   "outputs": [
    {
     "name": "stdout",
     "output_type": "stream",
     "text": [
      "Ireland's National Energy and Climate Plan\n",
      "\n",
      "\n",
      "<div>The National Energy and Climate (ENCP) Plan is a ten-year integrated document <a href=\"https://ec.europa.eu/energy/topics/energy-strategy/national-energy-climate-plans_en\">mandated by the European Union</a> to each of its member states in order for the EU to meet its overall greenhouse gases emissions targets.&nbsp; The Energy and Climate Plan addresses all five dimensions of the EU Energy Union: decarbonisation, energy efficiency, energy security, internal energy markets and research, innovation and competitiveness. &nbsp;<br><br>The plan establishes key measures to address the five dimensions of the EU Energy Union :&nbsp;<br><br>1) Decarbonisation : to reduce emissions from sectors outside the EU's Emissions Trading System, carbon pricing to create behavioural change and avoid locking in carbon intensive technologies, eliminate non-recyclable plastic and impose higher fees on the production of materials which are difficult to recycle, promote the increased use of domestic harvested wood in longer lived product, mainstream biodiversity across the decision making process in the State, increase electricity generated from renewable sources to 70%, etc;<br>2) Energy efficiency : to set stricter requirements for new buildings and substantial refurbishment, 600,000 heatpumps installed over the period 2021-2030, scale-up and improve the Sustainable Energy Communities and Better Energy Communities, etc;&nbsp;<br>3) Energy security : to support efforts to increase indigenous renewable sources in the energy mix, including wind, solar and bioenergy, etc;&nbsp;<br>4) Internal energy market : continue to deepen the integration of IRL’s wholesale electricity market and its regulation with the EU internal energy market (IEM), etc;<br>5) Research, innovation and competitivenes : to increase investment in knowledge-based capital, to strengthen delivery of public funding for basic and applied research to meet Ireland’s decarbonisation objectives, etc.&nbsp;</div>\n",
      "\n",
      "\n",
      "The National Energy and Climate (ENCP) Plan is a ten-year integrated document mandated by the European Union to each of its member states in order for the EU to meet its overall greenhouse gases emissions targets. The Energy and Climate Plan addresses all five dimensions of the EU Energy Union: decarbonisation, energy efficiency, energy security, internal energy markets and research, innovation and competitiveness.  The plan establishes key measures to address the five dimensions of the EU Energy Union :  1) Decarbonisation : to reduce emissions from sectors outside the EU's Emissions Trading System, carbon pricing to create behavioural change and avoid locking in carbon intensive technologies, eliminate non-recyclable plastic and impose higher fees on the production of materials which are difficult to recycle, promote the increased use of domestic harvested wood in longer lived product, mainstream biodiversity across the decision making process in the State, increase electricity generated from renewable sources to 70%, etc; 2) Energy efficiency : to set stricter requirements for new buildings and substantial refurbishment, 600,000 heatpumps installed over the period 2021-2030, scale-up and improve the Sustainable Energy Communities and Better Energy Communities, etc; 3) Energy security : to support efforts to increase indigenous renewable sources in the energy mix, including wind, solar and bioenergy, etc; 4) Internal energy market : continue to deepen the integration of IRL’s wholesale electricity market and its regulation with the EU internal energy market (IEM), etc; 5) Research, innovation and competitivenes : to increase investment in knowledge-based capital, to strengthen delivery of public funding for basic and applied research to meet Ireland’s decarbonisation objectives, etc.\n"
     ]
    }
   ],
   "source": [
    "# An example of before and after\n",
    "print(climate_laws_df[\"title\"][22])\n",
    "print('\\n')\n",
    "print(climate_laws_df[\"description\"][22])\n",
    "print('\\n')\n",
    "print(climate_laws_df[\"clean_description\"][22])"
   ]
  },
  {
   "cell_type": "code",
   "execution_count": 28,
   "metadata": {},
   "outputs": [],
   "source": [
    "# Output this DataFrame to Excel\n",
    "timestamp = datetime.now().strftime(\"%Y.%m.%d_%H.%M.%S\")\n",
    "climate_laws_df.to_excel(f\"./climate_laws_data/{timestamp}_climate_laws_data_cleaned.xlsx\", index=False)"
   ]
  },
  {
   "cell_type": "markdown",
   "metadata": {},
   "source": [
    "### Clustering description and legislative process --> Giving some structure to the text data "
   ]
  },
  {
   "cell_type": "code",
   "execution_count": 29,
   "metadata": {},
   "outputs": [],
   "source": [
    "# Feature extraction and clustering\n",
    "from sklearn.feature_extraction.text import TfidfVectorizer\n",
    "from sklearn.cluster import MiniBatchKMeans\n",
    "from sklearn.mixture import GaussianMixture\n",
    "\n",
    "# General NLP libraries\n",
    "from nltk import word_tokenize\n",
    "from nltk.stem import WordNetLemmatizer, PorterStemmer\n",
    "from nltk.corpus import stopwords\n",
    "import string\n",
    "\n",
    "# Spell correction\n",
    "from autocorrect import Speller\n",
    "\n",
    "# Global nlp vars\n",
    "stop_words = stopwords.words(\"english\")\n",
    "ps = PorterStemmer()\n",
    "lemmatizer = WordNetLemmatizer()"
   ]
  },
  {
   "cell_type": "markdown",
   "metadata": {},
   "source": [
    "**Observations:**\n",
    "\n",
    "There are certain words that can be filtered out in the preprocessing steps, including: **law, legal, environment, environmental, action, act, decree, directive**\n",
    "\n",
    "Since this is a legal context, these words may not be very useful at differentiating and grouping topics together"
   ]
  },
  {
   "cell_type": "code",
   "execution_count": 42,
   "metadata": {},
   "outputs": [
    {
     "name": "stdout",
     "output_type": "stream",
     "text": [
      "Before:  ['can', 'if', 'else', 'could', 'may', 'should', 'must', 'might', 'would', 'will', 'maybe', 'also', 'ought', 'have', 'or', 'of', 'from', 'to', 'shall']\n",
      "After:  ['can', 'if', 'else', 'could', 'may', 'should', 'must', 'might', 'would', 'will', 'maybe', 'also', 'ought', 'have', 'or', 'of', 'from', 'to', 'shall', 'law', 'legal', 'environment', 'environmental', 'action', 'act', 'decree', 'directive']\n"
     ]
    }
   ],
   "source": [
    "# Loading in stop words\n",
    "del_words_general = []\n",
    "with open('./misc/del_words_general.txt', 'r', encoding=\"utf8\") as file:\n",
    "    for line in file:\n",
    "        word = line.split('\\n')[0]\n",
    "        word = word.lower()\n",
    "        del_words_general.append(word)\n",
    "file.close()\n",
    "\n",
    "print('Before: ', del_words_general)\n",
    "\n",
    "# Adding the generic legal context words\n",
    "del_words_legal = ['law', 'legal', 'environment', 'environmental', 'action', 'act', 'decree', 'directive']\n",
    "del_words_total = del_words_general + del_words_legal\n",
    "\n",
    "print('After: ', del_words_total)"
   ]
  },
  {
   "cell_type": "code",
   "execution_count": 43,
   "metadata": {},
   "outputs": [],
   "source": [
    "# Helper functions to remove Non-Ascii\n",
    "def removeNonAscii(s): \n",
    "    return \"\".join(i for i in s if ord(i)<128)\n",
    "\n",
    "def clean_text(text):\n",
    "    text = str(text)\n",
    "    text = text.lower()\n",
    "    text = re.sub(r'\\W+', ' ', text)\n",
    "    text = re.sub(r'\\s+', ' ', text)\n",
    "    text = re.sub('[^a-zA-Z ]+', '', text)\n",
    "    text = text.replace(\"nan\", \"\")\n",
    "    text = text.replace(\"None\", \"\")\n",
    "    text = removeNonAscii(text)\n",
    "    text = re.sub(r'\\b\\w{0,2}\\b', '', text) # Remove any words that are less than 3 characters longth\n",
    "    text = text.strip()\n",
    "    return text"
   ]
  },
  {
   "cell_type": "code",
   "execution_count": 44,
   "metadata": {},
   "outputs": [],
   "source": [
    "def correct_spelling(data, engine=Speller(fast=True)):\n",
    "    \"\"\"\n",
    "    Correct spelling at scale\n",
    "    \"\"\"\n",
    "    result = engine(data)\n",
    "    return result"
   ]
  },
  {
   "cell_type": "code",
   "execution_count": 45,
   "metadata": {
    "scrolled": true
   },
   "outputs": [],
   "source": [
    "# Processing function to clean and tokenize text data\n",
    "def preprocess(column, stem=False, lemmatize=True, del_words_total_ind=True):\n",
    "    print(\"Correcting spelling ...\")\n",
    "    column = [correct_spelling(row) for row in column]\n",
    "    print(\"Tokenizing and cleaning text ...\")\n",
    "    column = [clean_text(row) for row in column]\n",
    "    tokens = [word_tokenize(row) for row in column]\n",
    "    preprocessed = []\n",
    "    print(\"Carrying out core pre-processing processes ...\")\n",
    "    for val in tokens:\n",
    "        row=[]\n",
    "        for word in val:\n",
    "            if word not in stop_words + list(string.punctuation) + del_words_total_ind*del_words_total:\n",
    "                if stem == True:\n",
    "                    row.append(ps.stem(word))\n",
    "                elif lemmatize == True:\n",
    "                    row.append(lemmatizer.lemmatize(word))\n",
    "                else:\n",
    "                    row.append(word)\n",
    "        preprocessed.append(row)\n",
    "    assert len(preprocessed) == len(column)\n",
    "    return preprocessed"
   ]
  },
  {
   "cell_type": "code",
   "execution_count": 46,
   "metadata": {},
   "outputs": [],
   "source": [
    "# Converting empty string to NaNs\n",
    "climate_laws_df[\"clean_description\"] = climate_laws_df[\"clean_description\"].apply(lambda x: np.nan if x==\"\" else x)\n",
    "climate_laws_df[\"clean_legislative_process\"] = climate_laws_df[\"clean_legislative_process\"].apply(lambda x: np.nan if x==\"\" else x)"
   ]
  },
  {
   "cell_type": "code",
   "execution_count": 47,
   "metadata": {},
   "outputs": [
    {
     "name": "stdout",
     "output_type": "stream",
     "text": [
      "# of null descriptions 5\n",
      "# of null legislative process 659\n"
     ]
    }
   ],
   "source": [
    "print(\"# of null descriptions\", climate_laws_df[\"clean_description\"].isna().sum())\n",
    "print(\"# of null legislative process\", climate_laws_df[\"clean_legislative_process\"].isna().sum())"
   ]
  },
  {
   "cell_type": "markdown",
   "metadata": {},
   "source": [
    "#### Observation:\n",
    "\n",
    "The number of null descriptions is not very high, we can just simply remove those 6 data points from the dataset"
   ]
  },
  {
   "cell_type": "code",
   "execution_count": 48,
   "metadata": {},
   "outputs": [],
   "source": [
    "# Combining climate law title and description\n",
    "climate_laws_df[\"clean_title_plus_desc\"] = climate_laws_df.apply(lambda x: str(x[\"title\"]) + \" \" + str(x[\"clean_description\"]), axis=1)"
   ]
  },
  {
   "cell_type": "code",
   "execution_count": 49,
   "metadata": {},
   "outputs": [
    {
     "data": {
      "text/plain": [
       "0"
      ]
     },
     "execution_count": 49,
     "metadata": {},
     "output_type": "execute_result"
    }
   ],
   "source": [
    "# Check if there are any NaNs\n",
    "climate_laws_df[\"clean_title_plus_desc\"].isna().sum()"
   ]
  },
  {
   "cell_type": "markdown",
   "metadata": {},
   "source": [
    "There are null values in this newly contrived feature, which is good, let's head to preprocessing"
   ]
  },
  {
   "cell_type": "markdown",
   "metadata": {},
   "source": [
    "# Text data preprocessing -> Main variables below!\n",
    "\n"
   ]
  },
  {
   "cell_type": "code",
   "execution_count": 50,
   "metadata": {},
   "outputs": [
    {
     "name": "stdout",
     "output_type": "stream",
     "text": [
      "Correcting spelling ...\n",
      "Tokenizing and cleaning text ...\n",
      "Carrying out core pre-processing processes ...\n"
     ]
    }
   ],
   "source": [
    "# Main data points to use --> climate laws title + description\n",
    "climate_laws_texts = list(climate_laws_df[\"clean_title_plus_desc\"])\n",
    "climate_laws_texts = preprocess(climate_laws_texts)"
   ]
  },
  {
   "cell_type": "code",
   "execution_count": 51,
   "metadata": {
    "scrolled": true
   },
   "outputs": [
    {
     "data": {
      "text/plain": [
       "['general',\n",
       " 'sustainable',\n",
       " 'forest',\n",
       " 'development',\n",
       " 'replaces',\n",
       " 'general',\n",
       " 'sustainable',\n",
       " 'forest',\n",
       " 'development',\n",
       " 'specific',\n",
       " 'objective',\n",
       " 'stated',\n",
       " 'art',\n",
       " 'include',\n",
       " 'promotion',\n",
       " 'sustainable',\n",
       " 'forest',\n",
       " 'management',\n",
       " 'order',\n",
       " 'help',\n",
       " 'maintain',\n",
       " 'increase',\n",
       " 'carbon',\n",
       " 'stock',\n",
       " 'reduce',\n",
       " 'emission',\n",
       " 'deforestation',\n",
       " 'forest',\n",
       " 'degradation',\n",
       " 'well',\n",
       " 'reduce',\n",
       " 'vulnerability',\n",
       " 'strengthen',\n",
       " 'resilience',\n",
       " 'adaptation',\n",
       " 'climate',\n",
       " 'change',\n",
       " 'design',\n",
       " 'strategy',\n",
       " 'policy',\n",
       " 'measure',\n",
       " 'action',\n",
       " 'transit',\n",
       " 'zero',\n",
       " 'percent',\n",
       " 'carbon',\n",
       " 'loss',\n",
       " 'rate',\n",
       " 'original',\n",
       " 'ecosystem',\n",
       " 'term',\n",
       " 'general',\n",
       " 'climate',\n",
       " 'change',\n",
       " 'national',\n",
       " 'climate',\n",
       " 'change',\n",
       " 'strategy',\n",
       " 'incorporation',\n",
       " 'instrument',\n",
       " 'forest',\n",
       " 'policy',\n",
       " 'planning',\n",
       " 'taking',\n",
       " 'consideration',\n",
       " 'sustainable',\n",
       " 'economic',\n",
       " 'development',\n",
       " 'forest',\n",
       " 'region',\n",
       " 'community',\n",
       " 'forest',\n",
       " 'management',\n",
       " 'art',\n",
       " 'state',\n",
       " 'federal',\n",
       " 'state',\n",
       " 'prerogative',\n",
       " 'designing',\n",
       " 'strategy',\n",
       " 'policy',\n",
       " 'measure',\n",
       " 'action',\n",
       " 'avoid',\n",
       " 'loss',\n",
       " 'increase',\n",
       " 'carbon',\n",
       " 'stock',\n",
       " 'forest',\n",
       " 'ecosystem',\n",
       " 'taking',\n",
       " 'account',\n",
       " 'sustainable',\n",
       " 'rural',\n",
       " 'development',\n",
       " 'art',\n",
       " 'state',\n",
       " 'contribution',\n",
       " 'carbon',\n",
       " 'fixation',\n",
       " 'one',\n",
       " 'mandatory',\n",
       " 'criterion',\n",
       " 'forestry',\n",
       " 'policy',\n",
       " 'forestry',\n",
       " 'nature',\n",
       " 'text',\n",
       " 'modifies',\n",
       " 'definition',\n",
       " 'forestry',\n",
       " 'land',\n",
       " 'federal',\n",
       " 'narrowed',\n",
       " 'land',\n",
       " 'covered',\n",
       " 'forest',\n",
       " 'vegetation',\n",
       " 'forestry',\n",
       " 'service',\n",
       " 'undertaken',\n",
       " 'implication',\n",
       " 'licensing',\n",
       " 'procedure',\n",
       " 'fine',\n",
       " 'land',\n",
       " 'use',\n",
       " 'planning',\n",
       " 'april',\n",
       " 'amended',\n",
       " 'expand',\n",
       " 'forest',\n",
       " 'land',\n",
       " 'mean',\n",
       " 'result',\n",
       " 'category',\n",
       " 'comprises',\n",
       " 'area',\n",
       " 'covered',\n",
       " 'forest',\n",
       " 'definition',\n",
       " 'following',\n",
       " 'international',\n",
       " 'classification',\n",
       " 'december',\n",
       " 'regulation',\n",
       " 'general',\n",
       " 'sustainable',\n",
       " 'forest',\n",
       " 'development',\n",
       " 'approved',\n",
       " 'government',\n",
       " 'replacing',\n",
       " 'version']"
      ]
     },
     "execution_count": 51,
     "metadata": {},
     "output_type": "execute_result"
    }
   ],
   "source": [
    "# Example cleaned output\n",
    "climate_laws_texts[0]"
   ]
  },
  {
   "cell_type": "markdown",
   "metadata": {},
   "source": [
    "### Elbow plot for KMeans model selection "
   ]
  },
  {
   "cell_type": "code",
   "execution_count": 52,
   "metadata": {},
   "outputs": [],
   "source": [
    "from sklearn.metrics import silhouette_score"
   ]
  },
  {
   "cell_type": "code",
   "execution_count": 54,
   "metadata": {},
   "outputs": [],
   "source": [
    "# Dummy func\n",
    "def dummy_func(doc):\n",
    "    return doc"
   ]
  },
  {
   "cell_type": "code",
   "execution_count": 59,
   "metadata": {},
   "outputs": [],
   "source": [
    "# Helper function\n",
    "def elbow_kmeans_ssd(data, min_n, max_n, step, ngram_range=(1,1), eval_metric='inertia'):\n",
    "    # Vectorization\n",
    "    tfidf = TfidfVectorizer(analyzer='word',\n",
    "                            tokenizer=dummy_func,\n",
    "                            preprocessor=dummy_func,\n",
    "                            token_pattern=None,\n",
    "                            ngram_range=ngram_range\n",
    "                            )\n",
    "    tfidf_matrix = tfidf.fit_transform(data)\n",
    "    print(\"TF-IDF matrix shape: \", tfidf_matrix.shape)\n",
    "    # Clustering\n",
    "    sum_of_square_distances = []\n",
    "    silhouette_scores = []\n",
    "    iter_range = range(min_n, max_n, step)\n",
    "    for k in tqdm(iter_range):\n",
    "        kmeans_model = MiniBatchKMeans(n_clusters=k,\n",
    "                                       init='k-means++',\n",
    "                                       n_init=1,\n",
    "                                       init_size=2090,\n",
    "                                       batch_size=2090,\n",
    "                                       verbose=0,\n",
    "                                       max_iter=1000,\n",
    "                                       random_state=0)\n",
    "        kmeans_model = kmeans_model.fit(tfidf_matrix)\n",
    "        sum_of_square_distances.append(kmeans_model.inertia_)\n",
    "        silhouette_scores.append(silhouette_score(tfidf_matrix, kmeans_model.labels_))\n",
    "    if eval_metric == 'inertia':\n",
    "        plt.plot(iter_range, sum_of_square_distances, 'bx-')\n",
    "        plt.xticks(range(min_n, max_n, step))\n",
    "        plt.xlabel(\"# of clusters\")\n",
    "        plt.ylabel(\"Sum of squared distances\")\n",
    "        plt.title(\"Elbow method for optimal K\")\n",
    "        plt.show()\n",
    "    elif eval_metric == 'silhouette':\n",
    "        plt.plot(iter_range, silhouette_scores, '-bx')\n",
    "        plt.xticks(range(min_n, max_n, step))\n",
    "        plt.xlabel(\"# of clusters\")\n",
    "        plt.ylabel(\"Average silhouette score\")\n",
    "        plt.title(\"Elbow method for optimal K\")\n",
    "        plt.show()"
   ]
  },
  {
   "cell_type": "code",
   "execution_count": 65,
   "metadata": {},
   "outputs": [
    {
     "name": "stderr",
     "output_type": "stream",
     "text": [
      "\r",
      "  0%|                                                                                                                                                                                      | 0/18 [00:00<?, ?it/s]"
     ]
    },
    {
     "name": "stdout",
     "output_type": "stream",
     "text": [
      "TF-IDF matrix shape:  (2090, 7428)\n"
     ]
    },
    {
     "name": "stderr",
     "output_type": "stream",
     "text": [
      "100%|█████████████████████████████████████████████████████████████████████████████████████████████████████████████████████████████████████████████████████████████████████████████| 18/18 [00:08<00:00,  2.03it/s]\n"
     ]
    },
    {
     "data": {
      "image/png": "[encoded data removed]",
      "text/plain": [
       "<Figure size 432x288 with 1 Axes>"
      ]
     },
     "metadata": {},
     "output_type": "display_data"
    }
   ],
   "source": [
    "# Running the KMeans elbow plot\n",
    "elbow_kmeans_ssd(climate_laws_texts, 2, 20, 1, (1,1), 'silhouette')"
   ]
  },
  {
   "cell_type": "code",
   "execution_count": 66,
   "metadata": {},
   "outputs": [
    {
     "name": "stderr",
     "output_type": "stream",
     "text": [
      "\r",
      "  0%|                                                                                                                                                                                      | 0/18 [00:00<?, ?it/s]"
     ]
    },
    {
     "name": "stdout",
     "output_type": "stream",
     "text": [
      "TF-IDF matrix shape:  (2090, 7428)\n"
     ]
    },
    {
     "name": "stderr",
     "output_type": "stream",
     "text": [
      "100%|█████████████████████████████████████████████████████████████████████████████████████████████████████████████████████████████████████████████████████████████████████████████| 18/18 [00:08<00:00,  2.05it/s]\n"
     ]
    },
    {
     "data": {
      "image/png": "[encoded data removed]",
      "text/plain": [
       "<Figure size 432x288 with 1 Axes>"
      ]
     },
     "metadata": {},
     "output_type": "display_data"
    }
   ],
   "source": [
    "# Running the KMeans elbow plot\n",
    "elbow_kmeans_ssd(climate_laws_texts, 2, 20, 1, (1,1), 'inertia')"
   ]
  },
  {
   "cell_type": "markdown",
   "metadata": {},
   "source": [
    "#### It looks like optimal k for ngram_range (1,1) is about 8 "
   ]
  },
  {
   "cell_type": "code",
   "execution_count": 67,
   "metadata": {},
   "outputs": [
    {
     "name": "stderr",
     "output_type": "stream",
     "text": [
      "\r",
      "  0%|                                                                                                                                                                                      | 0/18 [00:00<?, ?it/s]"
     ]
    },
    {
     "name": "stdout",
     "output_type": "stream",
     "text": [
      "TF-IDF matrix shape:  (2090, 104577)\n"
     ]
    },
    {
     "name": "stderr",
     "output_type": "stream",
     "text": [
      "100%|█████████████████████████████████████████████████████████████████████████████████████████████████████████████████████████████████████████████████████████████████████████████| 18/18 [00:14<00:00,  1.28it/s]\n"
     ]
    },
    {
     "data": {
      "image/png": "[encoded data removed]",
      "text/plain": [
       "<Figure size 432x288 with 1 Axes>"
      ]
     },
     "metadata": {},
     "output_type": "display_data"
    }
   ],
   "source": [
    "# Let's try ngram (1,2)\n",
    "elbow_kmeans_ssd(climate_laws_texts, 2, 20, 1, (1,2), 'silhouette')"
   ]
  },
  {
   "cell_type": "code",
   "execution_count": 68,
   "metadata": {},
   "outputs": [
    {
     "name": "stderr",
     "output_type": "stream",
     "text": [
      "\r",
      "  0%|                                                                                                                                                                                      | 0/18 [00:00<?, ?it/s]"
     ]
    },
    {
     "name": "stdout",
     "output_type": "stream",
     "text": [
      "TF-IDF matrix shape:  (2090, 104577)\n"
     ]
    },
    {
     "name": "stderr",
     "output_type": "stream",
     "text": [
      "100%|█████████████████████████████████████████████████████████████████████████████████████████████████████████████████████████████████████████████████████████████████████████████| 18/18 [00:13<00:00,  1.33it/s]\n"
     ]
    },
    {
     "data": {
      "image/png": "[encoded data removed]",
      "text/plain": [
       "<Figure size 432x288 with 1 Axes>"
      ]
     },
     "metadata": {},
     "output_type": "display_data"
    }
   ],
   "source": [
    "elbow_kmeans_ssd(climate_laws_texts, 2, 20, 1, (1,2), 'inertia')"
   ]
  },
  {
   "cell_type": "markdown",
   "metadata": {},
   "source": [
    "#### The optimal K for ngram_range=(1, 2) is 6 or 7.\n",
    "\n",
    "**Main data:** climate_laws_texts"
   ]
  },
  {
   "cell_type": "code",
   "execution_count": 69,
   "metadata": {
    "scrolled": true
   },
   "outputs": [],
   "source": [
    "# Creating dictionary linking climate_laws_texts with unique id in climate_laws_df\n",
    "climate_ids_to_texts_dict = {key: value for (key, value) in zip(list(climate_laws_df[\"id\"]), climate_laws_texts)}\n",
    "assert isinstance(climate_ids_to_texts_dict, dict)"
   ]
  },
  {
   "cell_type": "code",
   "execution_count": 128,
   "metadata": {},
   "outputs": [],
   "source": [
    "# Pipeline function\n",
    "def tfidf_kmeans(data, k, ngram_range):\n",
    "    \"\"\"\n",
    "    Pipeline function to run TF-IDF vectorization and KMeans clustering\n",
    "    Returns 2 objects respectively: cluster_labels, cluster_centers\n",
    "    \"\"\"\n",
    "    # Vectorization\n",
    "    tfidf = TfidfVectorizer(analyzer='word',\n",
    "                            tokenizer=dummy_func,\n",
    "                            preprocessor=dummy_func,\n",
    "                            token_pattern=None,\n",
    "                            ngram_range=ngram_range\n",
    "                            )\n",
    "    tfidf_matrix = tfidf.fit_transform(data)\n",
    "    # KMeans clustering\n",
    "    kmeans_model = MiniBatchKMeans(n_clusters=k,\n",
    "                                       init='k-means++',\n",
    "                                       n_init=1,\n",
    "                                       init_size=2090,\n",
    "                                       batch_size=2090,\n",
    "                                       verbose=0,\n",
    "                                       max_iter=1000,\n",
    "                                       random_state=0)\n",
    "    kmeans_model = kmeans_model.fit(tfidf_matrix)\n",
    "    cluster_labels = kmeans_model.labels_\n",
    "    cluster_centers = kmeans_model.cluster_centers_\n",
    "    sorted_centroids = cluster_centers.argsort()[:, ::-1] # Returns the list of indices that goes from the largest item to the smallest\n",
    "    terms = tfidf.get_feature_names()\n",
    "    return cluster_labels, cluster_centers, sorted_centroids, terms\n",
    "\n",
    "def compile_kmeans_top_words_df(num_clusters, sorted_centroids, terms, n_top_terms):\n",
    "    all_keywords = {}\n",
    "    for i in range(num_clusters):\n",
    "        topic_keywords = []\n",
    "        all_keywords[f\"{i}\"] = []\n",
    "        for j in sorted_centroids[i, :n_top_terms]:\n",
    "            topic_keywords.append(terms[j])\n",
    "        all_keywords[f\"{i}\"].append(topic_keywords)\n",
    "    keywords_df = pd.DataFrame({'Cluster': all_keywords.keys()})\n",
    "    keywords_df['Cluster'] = keywords_df['Cluster'].apply(lambda x: str(x))\n",
    "    keywords_df.loc[:, \"Top Words\"] = [\" \".join(words) for keywords in all_keywords.values() for words in keywords]\n",
    "    keywords_df.loc[:, \"Top Words separated\"] = [\" | \".join(words) for keywords in all_keywords.values() for words in keywords]\n",
    "    return keywords_df"
   ]
  },
  {
   "cell_type": "code",
   "execution_count": 129,
   "metadata": {},
   "outputs": [],
   "source": [
    "# Baseline pipeline 1 - TF-IDF ngram (1, 1) and then KMeans Clustering @ k = 10\n",
    "k8_n11_tfidf_labels, k8_n11_tfidf_cluster_centers, k8_n11_sorted_centroids, k8_n11_terms = tfidf_kmeans(climate_laws_texts, 8, (1,1)) "
   ]
  },
  {
   "cell_type": "code",
   "execution_count": 130,
   "metadata": {
    "scrolled": true
   },
   "outputs": [
    {
     "data": {
      "text/html": [
       "<div>\n",
       "<style scoped>\n",
       "    .dataframe tbody tr th:only-of-type {\n",
       "        vertical-align: middle;\n",
       "    }\n",
       "\n",
       "    .dataframe tbody tr th {\n",
       "        vertical-align: top;\n",
       "    }\n",
       "\n",
       "    .dataframe thead th {\n",
       "        text-align: right;\n",
       "    }\n",
       "</style>\n",
       "<table border=\"1\" class=\"dataframe\">\n",
       "  <thead>\n",
       "    <tr style=\"text-align: right;\">\n",
       "      <th></th>\n",
       "      <th>Cluster</th>\n",
       "      <th>Top Words</th>\n",
       "      <th>Top Words separated</th>\n",
       "    </tr>\n",
       "  </thead>\n",
       "  <tbody>\n",
       "    <tr>\n",
       "      <th>0</th>\n",
       "      <td>0</td>\n",
       "      <td>emission carbon gas greenhouse tax climate red...</td>\n",
       "      <td>emission | carbon | gas | greenhouse | tax | c...</td>\n",
       "    </tr>\n",
       "    <tr>\n",
       "      <th>1</th>\n",
       "      <td>1</td>\n",
       "      <td>energy renewable development source nuclear ru...</td>\n",
       "      <td>energy | renewable | development | source | nu...</td>\n",
       "    </tr>\n",
       "    <tr>\n",
       "      <th>2</th>\n",
       "      <td>2</td>\n",
       "      <td>climate change adaptation national plan strate...</td>\n",
       "      <td>climate | change | adaptation | national | pla...</td>\n",
       "    </tr>\n",
       "    <tr>\n",
       "      <th>3</th>\n",
       "      <td>3</td>\n",
       "      <td>disaster risk management national emergency re...</td>\n",
       "      <td>disaster | risk | management | national | emer...</td>\n",
       "    </tr>\n",
       "    <tr>\n",
       "      <th>4</th>\n",
       "      <td>4</td>\n",
       "      <td>energy efficiency renewable plan building use ...</td>\n",
       "      <td>energy | efficiency | renewable | plan | build...</td>\n",
       "    </tr>\n",
       "    <tr>\n",
       "      <th>5</th>\n",
       "      <td>5</td>\n",
       "      <td>electricity energy renewable tariff power gene...</td>\n",
       "      <td>electricity | energy | renewable | tariff | po...</td>\n",
       "    </tr>\n",
       "    <tr>\n",
       "      <th>6</th>\n",
       "      <td>6</td>\n",
       "      <td>development protection national sustainable cl...</td>\n",
       "      <td>development | protection | national | sustaina...</td>\n",
       "    </tr>\n",
       "    <tr>\n",
       "      <th>7</th>\n",
       "      <td>7</td>\n",
       "      <td>forest forestry red national deforestation sus...</td>\n",
       "      <td>forest | forestry | red | national | deforesta...</td>\n",
       "    </tr>\n",
       "  </tbody>\n",
       "</table>\n",
       "</div>"
      ],
      "text/plain": [
       "  Cluster                                          Top Words  \\\n",
       "0       0  emission carbon gas greenhouse tax climate red...   \n",
       "1       1  energy renewable development source nuclear ru...   \n",
       "2       2  climate change adaptation national plan strate...   \n",
       "3       3  disaster risk management national emergency re...   \n",
       "4       4  energy efficiency renewable plan building use ...   \n",
       "5       5  electricity energy renewable tariff power gene...   \n",
       "6       6  development protection national sustainable cl...   \n",
       "7       7  forest forestry red national deforestation sus...   \n",
       "\n",
       "                                 Top Words separated  \n",
       "0  emission | carbon | gas | greenhouse | tax | c...  \n",
       "1  energy | renewable | development | source | nu...  \n",
       "2  climate | change | adaptation | national | pla...  \n",
       "3  disaster | risk | management | national | emer...  \n",
       "4  energy | efficiency | renewable | plan | build...  \n",
       "5  electricity | energy | renewable | tariff | po...  \n",
       "6  development | protection | national | sustaina...  \n",
       "7  forest | forestry | red | national | deforesta...  "
      ]
     },
     "execution_count": 130,
     "metadata": {},
     "output_type": "execute_result"
    }
   ],
   "source": [
    "k8_n11_keywords_df = compile_kmeans_top_words_df(8, k8_n11_sorted_centroids, k8_n11_terms, 20)\n",
    "k8_n11_keywords_df"
   ]
  },
  {
   "cell_type": "code",
   "execution_count": 103,
   "metadata": {},
   "outputs": [],
   "source": [
    "# Baseline pipeline 1 - TF-IDF ngram (1, 1) and then KMeans Clustering @ k = 10\n",
    "k5_n11_tfidf_labels, k5_n11_tfidf_cluster_centers, k5_n11_sorted_centroids, k5_n11_terms = tfidf_kmeans(climate_laws_texts, 5, (1,1)) "
   ]
  },
  {
   "cell_type": "code",
   "execution_count": 111,
   "metadata": {},
   "outputs": [
    {
     "name": "stdout",
     "output_type": "stream",
     "text": [
      "Cluster 0:\n",
      "disaster | management | forest | risk | national | plan | policy | emergency | development | response | sustainable | natural | prevention | government | red | climate | forestry | reduction | carbon | preparedness\n",
      "Cluster 1:\n",
      "energy | efficiency | building | plan | renewable | national | use | policy | consumption | efficient | sector | saving | target | supply | conservation | measure | emission | gas | programme | electricity\n",
      "Cluster 2:\n",
      "climate | change | adaptation | national | plan | strategy | policy | development | mitigation | sector | sustainable | management | impact | risk | agriculture | emission | resource | framework | document | government\n",
      "Cluster 3:\n",
      "energy | renewable | electricity | source | power | generation | development | tariff | solar | production | wind | project | use | national | grid | plant | sector | supply | market | regulation\n",
      "Cluster 4:\n",
      "emission | protection | regulation | tax | vehicle | energy | carbon | national | fuel | biofuels | climate | development | gas | transport | plan | set | article | use | air | sustainable\n"
     ]
    }
   ],
   "source": [
    "k5_n11_keywords_df = compile_kmeans_top_words_df(5, k5_n11_sorted_centroids, k5_n11_terms, 20)\n",
    "for i, j in zip(k5_n11_keywords_df['Cluster'], k5_n11_keywords_df['Top Words separated']):\n",
    "    print(f\"Cluster {i}:\")\n",
    "    print(j)"
   ]
  },
  {
   "cell_type": "markdown",
   "metadata": {},
   "source": [
    "##### Baseline model 2 with ngram_range=(1,2) "
   ]
  },
  {
   "cell_type": "code",
   "execution_count": 113,
   "metadata": {},
   "outputs": [],
   "source": [
    "# Baseline pipeline 2 - TF-IDF ngram (1, 2) and then KMeans Clustering @ k = 7\n",
    "k7_n12_tfidf_labels, k7_n12_tfidf_cluster_centers, k7_n12_sorted_centroids, k7_n12_terms = tfidf_kmeans(climate_laws_texts, 7, (1,2))"
   ]
  },
  {
   "cell_type": "code",
   "execution_count": 115,
   "metadata": {
    "scrolled": true
   },
   "outputs": [
    {
     "name": "stdout",
     "output_type": "stream",
     "text": [
      "Cluster 0:\n",
      "disaster | management | risk | disaster risk | disaster management | risk management | national | national disaster | emergency | plan | forest | response | prevention | natural | preparedness | natural disaster | government | policy | risk reduction | climate\n",
      "Cluster 1:\n",
      "protection | civil protection | civil | article | forest | national | disaster | national civil | biofuels | policy | provision | fund | state | public | use | response | prevention | carbon | glacier | project\n",
      "Cluster 2:\n",
      "electricity | tax | vehicle | energy | electric | power | regulation | tariff | solar | fuel | plant | generation | new | carbon | installation | market | incentive | car | emission | renewable\n",
      "Cluster 3:\n",
      "nuclear | nuclear energy | energy | agency | atomic | atomic energy | renewable | renewable energy | power | production | energy production | energy agency | requires | gas | electricity | nuclear power | government | facility | natural | natural gas\n",
      "Cluster 4:\n",
      "emission | development | national | forest | climate | plan | carbon | sustainable | strategy | gas | energy | policy | regulation | management | protection | transport | greenhouse | set | sector | greenhouse gas\n",
      "Cluster 5:\n",
      "climate | climate change | change | adaptation | national | plan | policy | strategy | development | mitigation | national climate | sector | impact | management | change adaptation | sustainable | risk | framework | resource | agriculture\n",
      "Cluster 6:\n",
      "energy | renewable | renewable energy | efficiency | energy efficiency | electricity | source | use | national | plan | building | national energy | policy | energy source | development | sector | consumption | supply | power | target\n"
     ]
    }
   ],
   "source": [
    "k7_n12_keywords_df = compile_kmeans_top_words_df(7, k7_n12_sorted_centroids, k7_n12_terms, 20)\n",
    "for i, j in zip(k7_n12_keywords_df['Cluster'], k7_n12_keywords_df['Top Words separated']):\n",
    "    print(f\"Cluster {i}:\")\n",
    "    print(j)"
   ]
  },
  {
   "cell_type": "code",
   "execution_count": 137,
   "metadata": {},
   "outputs": [
    {
     "name": "stdout",
     "output_type": "stream",
     "text": [
      "Cluster 0:\n",
      "forest | protection | carbon | management | national | red | sustainable | climate | forestry | development | land | policy | gas | emission | change | greenhouse | greenhouse gas | climate change | activity | conservation\n",
      "Cluster 1:\n",
      "energy | efficiency | energy efficiency | building | national energy | plan | renewable | use | national | consumption | renewable energy | policy | efficient | saving | sector | target | supply | measure | energy saving | conservation\n",
      "Cluster 2:\n",
      "renewable | energy | renewable energy | source | electricity | renewable source | energy source | incentive | tax | generation | project | biomass | energy renewable | development | production | use | grid | plant | rural | electricity renewable\n",
      "Cluster 3:\n",
      "disaster | disaster management | management | risk | emergency | national disaster | national | response | natural disaster | natural | prevention | plan | civil protection | civil | preparedness | disaster risk | government | disaster prevention | protection | committee\n",
      "Cluster 4:\n",
      "energy | renewable | renewable energy | biofuels | fuel | development | power | production | use | national | nuclear | plan | source | policy | biofuel | alternative | geothermal | solar | wind | sector\n",
      "Cluster 5:\n",
      "electricity | energy | tariff | renewable | market | power | generation | regulation | renewable energy | installation | grid | solar | feed | source | distribution | feed tariff | supply | plant | gas | production\n",
      "Cluster 6:\n",
      "online | available online | mentioned ind | online source | ind online | ind | source available | mentioned | available | source | http | www | http www | plan mentioned | policy mentioned | org | afd | logo | national | validated\n",
      "Cluster 7:\n",
      "risk | disaster | risk management | disaster risk | management | risk reduction | national | national disaster | plan | reduction | climate | climate change | change | flood | emergency | policy | framework | management plan | flood risk | response\n",
      "Cluster 8:\n",
      "climate | climate change | change | adaptation | national | plan | strategy | development | policy | mitigation | sustainable | sector | national climate | management | resource | impact | agriculture | emission | government | energy\n",
      "Cluster 9:\n",
      "emission | vehicle | tax | car | carbon | electric | regulation | fuel | gas | air | greenhouse | greenhouse gas | reduction | gas emission | mobility | emission reduction | trading | transport | allowance | new\n"
     ]
    }
   ],
   "source": [
    "# Baseline pipeline 4 - TF-IDF ngram (1, 2) and then KMeans Clustering @ k = 10\n",
    "k10_n12_tfidf_labels, k10_n12_tfidf_cluster_centers, k10_n12_sorted_centroids, k10_n12_terms = tfidf_kmeans(climate_laws_texts, 10, (1,2))\n",
    "\n",
    "k10_n12_keywords_df = compile_kmeans_top_words_df(10, k10_n12_sorted_centroids, k10_n12_terms, 20)\n",
    "for i, j in zip(k10_n12_keywords_df['Cluster'], k10_n12_keywords_df['Top Words separated']):\n",
    "    print(f\"Cluster {i}:\")\n",
    "    print(j)"
   ]
  },
  {
   "cell_type": "markdown",
   "metadata": {},
   "source": [
    "#### There are basically 4 different models to evaluate --> Output to Excel file to examine them manually"
   ]
  },
  {
   "cell_type": "code",
   "execution_count": 133,
   "metadata": {},
   "outputs": [],
   "source": [
    "def output_clustering_excel(output_name, cluster_labels, cluster_results_df, baseline_df = climate_laws_df):\n",
    "    os.makedirs(\"./clustering_output\", exist_ok=True)\n",
    "    baseline_df = climate_laws_df\n",
    "    baseline_df.loc[:, \"Cluster\"] = list(map(str, cluster_labels))\n",
    "    results_df = baseline_df.merge(cluster_results_df, on=\"Cluster\", how=\"left\")\n",
    "    results_df.to_excel(f\"./clustering_output/{output_name}.xlsx\", index=False)\n",
    "    print(\"Baseline data has been merged with clustering results and exported to Excel\")"
   ]
  },
  {
   "cell_type": "code",
   "execution_count": 134,
   "metadata": {},
   "outputs": [
    {
     "name": "stdout",
     "output_type": "stream",
     "text": [
      "Baseline data has been merged with clustering results and exported to Excel\n"
     ]
    }
   ],
   "source": [
    "# Outputting some Excel files to examine the output\n",
    "\n",
    "# K8 N11\n",
    "output_clustering_excel(\"k8_n11_kmeans_tfidf_output\", k8_n11_tfidf_labels, k8_n11_keywords_df)"
   ]
  },
  {
   "cell_type": "code",
   "execution_count": 135,
   "metadata": {},
   "outputs": [
    {
     "name": "stdout",
     "output_type": "stream",
     "text": [
      "Baseline data has been merged with clustering results and exported to Excel\n"
     ]
    }
   ],
   "source": [
    "# K5 N11\n",
    "output_clustering_excel(\"k5_n11_kmeans_tfidf_output\", k5_n11_tfidf_labels, k5_n11_keywords_df)"
   ]
  },
  {
   "cell_type": "markdown",
   "metadata": {},
   "source": [
    "##### Further domain expert's ideas:\n",
    "\n",
    "- Another level of clustering for Forestry group"
   ]
  },
  {
   "cell_type": "code",
   "execution_count": 136,
   "metadata": {},
   "outputs": [
    {
     "name": "stdout",
     "output_type": "stream",
     "text": [
      "Baseline data has been merged with clustering results and exported to Excel\n"
     ]
    }
   ],
   "source": [
    "# K2 N12\n",
    "output_clustering_excel(\"k7_n12_kmeans_tfidf_output\", k7_n12_tfidf_labels, k7_n12_keywords_df)"
   ]
  },
  {
   "cell_type": "markdown",
   "metadata": {},
   "source": [
    "# Section 2: Econometrics analysis"
   ]
  },
  {
   "cell_type": "markdown",
   "metadata": {},
   "source": [
    "## First analysis - cross-sectional analysis of number of climate laws in different country\n",
    "\n",
    "**Question**: What factors correlate with high number of climate laws in a country?"
   ]
  },
  {
   "cell_type": "code",
   "execution_count": 138,
   "metadata": {},
   "outputs": [
    {
     "data": {
      "text/plain": [
       "Index(['index', 'id', 'title', 'description', 'law_id', 'slug', 'geography_id',\n",
       "       'created_at', 'updated_at', 'visibility_status', 'created_by_id',\n",
       "       'updated_by_id', 'discarded_at', 'legislation_type', 'parent_id', 'tsv',\n",
       "       'date', 'link', 'short_description', 'geography', 'date_passed',\n",
       "       'last_change', 'legislation_type_humanize', 'geography_path',\n",
       "       'country_name', 'percent_global_emissions', 'climate_risk_index',\n",
       "       'wb_income_group', 'eu_member_ind', 'law_discarded_at', 'federal_ind',\n",
       "       'legislative_process', 'clean_description', 'clean_legislative_process',\n",
       "       'clean_title_plus_desc', 'Cluster'],\n",
       "      dtype='object')"
      ]
     },
     "execution_count": 138,
     "metadata": {},
     "output_type": "execute_result"
    }
   ],
   "source": [
    "climate_laws_df.columns"
   ]
  },
  {
   "cell_type": "code",
   "execution_count": 139,
   "metadata": {},
   "outputs": [],
   "source": [
    "country_info_cols = ['percent_global_emissions', 'climate_risk_index', 'wb_income_group', 'eu_member_ind']"
   ]
  },
  {
   "cell_type": "code",
   "execution_count": 140,
   "metadata": {},
   "outputs": [
    {
     "data": {
      "text/html": [
       "<div>\n",
       "<style scoped>\n",
       "    .dataframe tbody tr th:only-of-type {\n",
       "        vertical-align: middle;\n",
       "    }\n",
       "\n",
       "    .dataframe tbody tr th {\n",
       "        vertical-align: top;\n",
       "    }\n",
       "\n",
       "    .dataframe thead th {\n",
       "        text-align: right;\n",
       "    }\n",
       "</style>\n",
       "<table border=\"1\" class=\"dataframe\">\n",
       "  <thead>\n",
       "    <tr style=\"text-align: right;\">\n",
       "      <th></th>\n",
       "      <th>country_name</th>\n",
       "      <th>num_climate_laws</th>\n",
       "    </tr>\n",
       "  </thead>\n",
       "  <tbody>\n",
       "    <tr>\n",
       "      <th>0</th>\n",
       "      <td>Afghanistan</td>\n",
       "      <td>14</td>\n",
       "    </tr>\n",
       "    <tr>\n",
       "      <th>1</th>\n",
       "      <td>Albania</td>\n",
       "      <td>3</td>\n",
       "    </tr>\n",
       "    <tr>\n",
       "      <th>2</th>\n",
       "      <td>Algeria</td>\n",
       "      <td>13</td>\n",
       "    </tr>\n",
       "    <tr>\n",
       "      <th>3</th>\n",
       "      <td>Angola</td>\n",
       "      <td>21</td>\n",
       "    </tr>\n",
       "    <tr>\n",
       "      <th>4</th>\n",
       "      <td>Antigua and Barbuda</td>\n",
       "      <td>5</td>\n",
       "    </tr>\n",
       "  </tbody>\n",
       "</table>\n",
       "</div>"
      ],
      "text/plain": [
       "          country_name  num_climate_laws\n",
       "0          Afghanistan                14\n",
       "1              Albania                 3\n",
       "2              Algeria                13\n",
       "3               Angola                21\n",
       "4  Antigua and Barbuda                 5"
      ]
     },
     "execution_count": 140,
     "metadata": {},
     "output_type": "execute_result"
    }
   ],
   "source": [
    "# Compile country data\n",
    "climate_laws_country_df = pd.DataFrame(pd.pivot_table(values=\"id\",\n",
    "                                                      index=\"country_name\",\n",
    "                                                      aggfunc=\"count\",\n",
    "                                                      data=climate_laws_df.dropna(subset=country_info_cols)).to_records()\n",
    "                                      )\n",
    "climate_laws_country_df.rename(columns={'id':'num_climate_laws'}, inplace=True)\n",
    "climate_laws_country_df.head()"
   ]
  },
  {
   "cell_type": "code",
   "execution_count": 141,
   "metadata": {},
   "outputs": [],
   "source": [
    "def enrich_pivot(main_df=None, baseline_data=None, cols=None, index=None, values=None, aggfunc=None):\n",
    "    \"\"\"\n",
    "    Enrich pivoted data with more columns\n",
    "    \"\"\"\n",
    "    for col in cols:\n",
    "        supplemental_df = pd.DataFrame(pd.pivot_table(values=col,\n",
    "                                                      index=index,\n",
    "                                                      aggfunc=aggfunc,\n",
    "                                                      data=baseline_data\n",
    "                                                     ).to_records()\n",
    "                                      )\n",
    "        main_df = main_df.merge(supplemental_df, on=index, how=\"left\")\n",
    "    return main_df"
   ]
  },
  {
   "cell_type": "code",
   "execution_count": 142,
   "metadata": {},
   "outputs": [],
   "source": [
    "climate_laws_country_df = enrich_pivot(main_df=climate_laws_country_df, \n",
    "                                     baseline_data=climate_laws_df, \n",
    "                                     cols=['percent_global_emissions', 'climate_risk_index', 'wb_income_group', 'eu_member_ind'],\n",
    "                                     index=\"country_name\",\n",
    "                                     values=\"id\",\n",
    "                                     aggfunc=lambda x: re.sub(r\"([{}''])\", \"\", str(set(x)))\n",
    "                                     )"
   ]
  },
  {
   "cell_type": "code",
   "execution_count": 143,
   "metadata": {},
   "outputs": [
    {
     "name": "stdout",
     "output_type": "stream",
     "text": [
      "(175, 6)\n"
     ]
    },
    {
     "data": {
      "text/html": [
       "<div>\n",
       "<style scoped>\n",
       "    .dataframe tbody tr th:only-of-type {\n",
       "        vertical-align: middle;\n",
       "    }\n",
       "\n",
       "    .dataframe tbody tr th {\n",
       "        vertical-align: top;\n",
       "    }\n",
       "\n",
       "    .dataframe thead th {\n",
       "        text-align: right;\n",
       "    }\n",
       "</style>\n",
       "<table border=\"1\" class=\"dataframe\">\n",
       "  <thead>\n",
       "    <tr style=\"text-align: right;\">\n",
       "      <th></th>\n",
       "      <th>country_name</th>\n",
       "      <th>num_climate_laws</th>\n",
       "      <th>percent_global_emissions</th>\n",
       "      <th>climate_risk_index</th>\n",
       "      <th>wb_income_group</th>\n",
       "      <th>eu_member_ind</th>\n",
       "    </tr>\n",
       "  </thead>\n",
       "  <tbody>\n",
       "    <tr>\n",
       "      <th>0</th>\n",
       "      <td>Afghanistan</td>\n",
       "      <td>14</td>\n",
       "      <td>0.2</td>\n",
       "      <td>41.83</td>\n",
       "      <td>Low income</td>\n",
       "      <td>False</td>\n",
       "    </tr>\n",
       "    <tr>\n",
       "      <th>1</th>\n",
       "      <td>Albania</td>\n",
       "      <td>3</td>\n",
       "      <td>0.02</td>\n",
       "      <td>114.17</td>\n",
       "      <td>Upper middle income</td>\n",
       "      <td>False</td>\n",
       "    </tr>\n",
       "    <tr>\n",
       "      <th>2</th>\n",
       "      <td>Algeria</td>\n",
       "      <td>13</td>\n",
       "      <td>0.44</td>\n",
       "      <td>92.5</td>\n",
       "      <td>Upper middle income</td>\n",
       "      <td>False</td>\n",
       "    </tr>\n",
       "    <tr>\n",
       "      <th>3</th>\n",
       "      <td>Angola</td>\n",
       "      <td>21</td>\n",
       "      <td>0.38</td>\n",
       "      <td>97</td>\n",
       "      <td>Lower middle income</td>\n",
       "      <td>False</td>\n",
       "    </tr>\n",
       "    <tr>\n",
       "      <th>4</th>\n",
       "      <td>Antigua and Barbuda</td>\n",
       "      <td>5</td>\n",
       "      <td>0.0</td>\n",
       "      <td>58</td>\n",
       "      <td>High income</td>\n",
       "      <td>False</td>\n",
       "    </tr>\n",
       "  </tbody>\n",
       "</table>\n",
       "</div>"
      ],
      "text/plain": [
       "          country_name  num_climate_laws percent_global_emissions  \\\n",
       "0          Afghanistan                14                      0.2   \n",
       "1              Albania                 3                     0.02   \n",
       "2              Algeria                13                     0.44   \n",
       "3               Angola                21                     0.38   \n",
       "4  Antigua and Barbuda                 5                      0.0   \n",
       "\n",
       "  climate_risk_index      wb_income_group eu_member_ind  \n",
       "0              41.83           Low income         False  \n",
       "1             114.17  Upper middle income         False  \n",
       "2               92.5  Upper middle income         False  \n",
       "3                 97  Lower middle income         False  \n",
       "4                 58          High income         False  "
      ]
     },
     "execution_count": 143,
     "metadata": {},
     "output_type": "execute_result"
    }
   ],
   "source": [
    "# Showing the shape and head of the cross-sectional data1\n",
    "print(climate_laws_country_df.shape)\n",
    "climate_laws_country_df.head()"
   ]
  },
  {
   "cell_type": "code",
   "execution_count": 144,
   "metadata": {},
   "outputs": [],
   "source": [
    "# Cleaning individual column\n",
    "def clean_numeric_col(data):\n",
    "    if data == \"\":\n",
    "        return np.nan\n",
    "    else:\n",
    "        data = float(data)\n",
    "        return data\n",
    "    \n",
    "# Percent global emissions\n",
    "climate_laws_country_df[\"percent_global_emissions\"] = climate_laws_country_df[\"percent_global_emissions\"].apply(lambda x: clean_numeric_col(x))\n",
    "\n",
    "# CLimate risk index\n",
    "climate_laws_country_df[\"climate_risk_index\"] = climate_laws_country_df[\"climate_risk_index\"].apply(lambda x: clean_numeric_col(x))"
   ]
  },
  {
   "cell_type": "code",
   "execution_count": 145,
   "metadata": {},
   "outputs": [
    {
     "name": "stdout",
     "output_type": "stream",
     "text": [
      "Average global emissions of countries in dataset: 0.57\n",
      "Average global climate risk index of countries in dataset: 91\n"
     ]
    }
   ],
   "source": [
    "# Showing mean of percent global emissions and climate risk index\n",
    "print(f\"Average global emissions of countries in dataset: {round(climate_laws_country_df.percent_global_emissions.mean(), 2)}\")\n",
    "print(f\"Average global climate risk index of countries in dataset: {round(climate_laws_country_df.climate_risk_index.mean())}\")"
   ]
  },
  {
   "cell_type": "code",
   "execution_count": 146,
   "metadata": {},
   "outputs": [
    {
     "data": {
      "text/plain": [
       "array(['Low income', 'Upper middle income', 'Lower middle income',\n",
       "       'High income', ''], dtype=object)"
      ]
     },
     "execution_count": 146,
     "metadata": {},
     "output_type": "execute_result"
    }
   ],
   "source": [
    "# Checking distinct values in wb_income_group\n",
    "climate_laws_country_df[\"wb_income_group\"].unique()"
   ]
  },
  {
   "cell_type": "code",
   "execution_count": 147,
   "metadata": {},
   "outputs": [],
   "source": [
    "# See which country has the empty string\n",
    "climate_laws_country_df[climate_laws_country_df[\"wb_income_group\"]==\"\"]\n",
    "\n",
    "# This is a pretty empty observation, let's drop it\n",
    "climate_laws_country_df.drop(index=53, axis=0, inplace=True)"
   ]
  },
  {
   "cell_type": "code",
   "execution_count": 148,
   "metadata": {
    "scrolled": false
   },
   "outputs": [],
   "source": [
    "# Getting dummies for wb_income_group\n",
    "assert len(pd.get_dummies(climate_laws_country_df.wb_income_group)) == len(climate_laws_country_df) \n",
    "\n",
    "# Concatenating dummies cols into the main df\n",
    "climate_laws_country_df = pd.concat(objs=[climate_laws_country_df, pd.get_dummies(climate_laws_country_df.wb_income_group)],\n",
    "                                   axis=1)\n",
    "try:\n",
    "    del climate_laws_country_df[\"wb_income_group\"]\n",
    "except KeyError:\n",
    "    pass"
   ]
  },
  {
   "cell_type": "code",
   "execution_count": 149,
   "metadata": {},
   "outputs": [],
   "source": [
    "# Finally, cleaning the eu_member_ind\n",
    "def clean_bool(data):\n",
    "    if data==\"True\":\n",
    "        return 1\n",
    "    elif data==\"False\":\n",
    "        return 0\n",
    "    else:\n",
    "        return np.nan\n",
    "    \n",
    "climate_laws_country_df[\"eu_member_ind\"] = climate_laws_country_df[\"eu_member_ind\"].apply(lambda x: clean_bool(x))"
   ]
  },
  {
   "cell_type": "code",
   "execution_count": 150,
   "metadata": {},
   "outputs": [],
   "source": [
    "# Dropping any remaining NaNs\n",
    "climate_laws_country_df.dropna(inplace=True)"
   ]
  },
  {
   "cell_type": "code",
   "execution_count": 151,
   "metadata": {
    "scrolled": true
   },
   "outputs": [
    {
     "name": "stdout",
     "output_type": "stream",
     "text": [
      "(174, 9)\n"
     ]
    },
    {
     "data": {
      "text/html": [
       "<div>\n",
       "<style scoped>\n",
       "    .dataframe tbody tr th:only-of-type {\n",
       "        vertical-align: middle;\n",
       "    }\n",
       "\n",
       "    .dataframe tbody tr th {\n",
       "        vertical-align: top;\n",
       "    }\n",
       "\n",
       "    .dataframe thead th {\n",
       "        text-align: right;\n",
       "    }\n",
       "</style>\n",
       "<table border=\"1\" class=\"dataframe\">\n",
       "  <thead>\n",
       "    <tr style=\"text-align: right;\">\n",
       "      <th></th>\n",
       "      <th>country_name</th>\n",
       "      <th>num_climate_laws</th>\n",
       "      <th>percent_global_emissions</th>\n",
       "      <th>climate_risk_index</th>\n",
       "      <th>eu_member_ind</th>\n",
       "      <th>High income</th>\n",
       "      <th>Low income</th>\n",
       "      <th>Lower middle income</th>\n",
       "      <th>Upper middle income</th>\n",
       "    </tr>\n",
       "  </thead>\n",
       "  <tbody>\n",
       "    <tr>\n",
       "      <th>0</th>\n",
       "      <td>Afghanistan</td>\n",
       "      <td>14</td>\n",
       "      <td>0.20</td>\n",
       "      <td>41.83</td>\n",
       "      <td>0</td>\n",
       "      <td>0</td>\n",
       "      <td>1</td>\n",
       "      <td>0</td>\n",
       "      <td>0</td>\n",
       "    </tr>\n",
       "    <tr>\n",
       "      <th>1</th>\n",
       "      <td>Albania</td>\n",
       "      <td>3</td>\n",
       "      <td>0.02</td>\n",
       "      <td>114.17</td>\n",
       "      <td>0</td>\n",
       "      <td>0</td>\n",
       "      <td>0</td>\n",
       "      <td>0</td>\n",
       "      <td>1</td>\n",
       "    </tr>\n",
       "    <tr>\n",
       "      <th>2</th>\n",
       "      <td>Algeria</td>\n",
       "      <td>13</td>\n",
       "      <td>0.44</td>\n",
       "      <td>92.50</td>\n",
       "      <td>0</td>\n",
       "      <td>0</td>\n",
       "      <td>0</td>\n",
       "      <td>0</td>\n",
       "      <td>1</td>\n",
       "    </tr>\n",
       "    <tr>\n",
       "      <th>3</th>\n",
       "      <td>Angola</td>\n",
       "      <td>21</td>\n",
       "      <td>0.38</td>\n",
       "      <td>97.00</td>\n",
       "      <td>0</td>\n",
       "      <td>0</td>\n",
       "      <td>0</td>\n",
       "      <td>1</td>\n",
       "      <td>0</td>\n",
       "    </tr>\n",
       "    <tr>\n",
       "      <th>4</th>\n",
       "      <td>Antigua and Barbuda</td>\n",
       "      <td>5</td>\n",
       "      <td>0.00</td>\n",
       "      <td>58.00</td>\n",
       "      <td>0</td>\n",
       "      <td>1</td>\n",
       "      <td>0</td>\n",
       "      <td>0</td>\n",
       "      <td>0</td>\n",
       "    </tr>\n",
       "  </tbody>\n",
       "</table>\n",
       "</div>"
      ],
      "text/plain": [
       "          country_name  num_climate_laws  percent_global_emissions  \\\n",
       "0          Afghanistan                14                      0.20   \n",
       "1              Albania                 3                      0.02   \n",
       "2              Algeria                13                      0.44   \n",
       "3               Angola                21                      0.38   \n",
       "4  Antigua and Barbuda                 5                      0.00   \n",
       "\n",
       "   climate_risk_index  eu_member_ind  High income  Low income  \\\n",
       "0               41.83              0            0           1   \n",
       "1              114.17              0            0           0   \n",
       "2               92.50              0            0           0   \n",
       "3               97.00              0            0           0   \n",
       "4               58.00              0            1           0   \n",
       "\n",
       "   Lower middle income  Upper middle income  \n",
       "0                    0                    0  \n",
       "1                    0                    1  \n",
       "2                    0                    1  \n",
       "3                    1                    0  \n",
       "4                    0                    0  "
      ]
     },
     "execution_count": 151,
     "metadata": {},
     "output_type": "execute_result"
    }
   ],
   "source": [
    "# Final shape\n",
    "print(climate_laws_country_df.shape)\n",
    "\n",
    "climate_laws_country_df.head()"
   ]
  },
  {
   "cell_type": "markdown",
   "metadata": {},
   "source": [
    "**After data cleaning is done, let's run it through a simple OLS model to see the associations of different variables to the number of climate laws passed by a country** "
   ]
  },
  {
   "cell_type": "markdown",
   "metadata": {},
   "source": [
    "**Cross-sectional country data**\n",
    "\n",
    "<code>**y** = Number of climate laws passed for a given country</code>\n",
    "\n",
    "<code>**X**: percent_global_emissions, climate_risk_index, wb_income_group, eu_member_ind</code>"
   ]
  },
  {
   "cell_type": "code",
   "execution_count": 152,
   "metadata": {},
   "outputs": [],
   "source": [
    "# Import statsmodels linear models\n",
    "import statsmodels.api as sm"
   ]
  },
  {
   "cell_type": "code",
   "execution_count": 153,
   "metadata": {
    "scrolled": false
   },
   "outputs": [
    {
     "data": {
      "text/html": [
       "<table class=\"simpletable\">\n",
       "<caption>OLS Regression Results</caption>\n",
       "<tr>\n",
       "  <th>Dep. Variable:</th>    <td>num_climate_laws</td> <th>  R-squared:         </th> <td>   0.215</td>\n",
       "</tr>\n",
       "<tr>\n",
       "  <th>Model:</th>                   <td>OLS</td>       <th>  Adj. R-squared:    </th> <td>   0.187</td>\n",
       "</tr>\n",
       "<tr>\n",
       "  <th>Method:</th>             <td>Least Squares</td>  <th>  F-statistic:       </th> <td>   7.635</td>\n",
       "</tr>\n",
       "<tr>\n",
       "  <th>Date:</th>             <td>Sun, 28 Feb 2021</td> <th>  Prob (F-statistic):</th> <td>2.96e-07</td>\n",
       "</tr>\n",
       "<tr>\n",
       "  <th>Time:</th>                 <td>16:47:31</td>     <th>  Log-Likelihood:    </th> <td> -580.35</td>\n",
       "</tr>\n",
       "<tr>\n",
       "  <th>No. Observations:</th>      <td>   174</td>      <th>  AIC:               </th> <td>   1175.</td>\n",
       "</tr>\n",
       "<tr>\n",
       "  <th>Df Residuals:</th>          <td>   167</td>      <th>  BIC:               </th> <td>   1197.</td>\n",
       "</tr>\n",
       "<tr>\n",
       "  <th>Df Model:</th>              <td>     6</td>      <th>                     </th>     <td> </td>   \n",
       "</tr>\n",
       "<tr>\n",
       "  <th>Covariance Type:</th>      <td>nonrobust</td>    <th>                     </th>     <td> </td>   \n",
       "</tr>\n",
       "</table>\n",
       "<table class=\"simpletable\">\n",
       "<tr>\n",
       "              <td></td>                <th>coef</th>     <th>std err</th>      <th>t</th>      <th>P>|t|</th>  <th>[0.025</th>    <th>0.975]</th>  \n",
       "</tr>\n",
       "<tr>\n",
       "  <th>percent_global_emissions</th> <td>    0.3332</td> <td>    0.247</td> <td>    1.347</td> <td> 0.180</td> <td>   -0.155</td> <td>    0.822</td>\n",
       "</tr>\n",
       "<tr>\n",
       "  <th>climate_risk_index</th>       <td>   -0.0609</td> <td>    0.013</td> <td>   -4.571</td> <td> 0.000</td> <td>   -0.087</td> <td>   -0.035</td>\n",
       "</tr>\n",
       "<tr>\n",
       "  <th>eu_member_ind</th>            <td>    3.4649</td> <td>    1.823</td> <td>    1.900</td> <td> 0.059</td> <td>   -0.135</td> <td>    7.064</td>\n",
       "</tr>\n",
       "<tr>\n",
       "  <th>High income</th>              <td>   17.5965</td> <td>    1.974</td> <td>    8.914</td> <td> 0.000</td> <td>   13.699</td> <td>   21.494</td>\n",
       "</tr>\n",
       "<tr>\n",
       "  <th>Low income</th>               <td>   13.9334</td> <td>    1.806</td> <td>    7.715</td> <td> 0.000</td> <td>   10.368</td> <td>   17.499</td>\n",
       "</tr>\n",
       "<tr>\n",
       "  <th>Lower middle income</th>      <td>   16.8407</td> <td>    1.572</td> <td>   10.714</td> <td> 0.000</td> <td>   13.738</td> <td>   19.944</td>\n",
       "</tr>\n",
       "<tr>\n",
       "  <th>Upper middle income</th>      <td>   14.6800</td> <td>    1.595</td> <td>    9.205</td> <td> 0.000</td> <td>   11.531</td> <td>   17.829</td>\n",
       "</tr>\n",
       "</table>\n",
       "<table class=\"simpletable\">\n",
       "<tr>\n",
       "  <th>Omnibus:</th>       <td>33.582</td> <th>  Durbin-Watson:     </th> <td>   2.070</td>\n",
       "</tr>\n",
       "<tr>\n",
       "  <th>Prob(Omnibus):</th> <td> 0.000</td> <th>  Jarque-Bera (JB):  </th> <td>  52.075</td>\n",
       "</tr>\n",
       "<tr>\n",
       "  <th>Skew:</th>          <td> 1.026</td> <th>  Prob(JB):          </th> <td>4.92e-12</td>\n",
       "</tr>\n",
       "<tr>\n",
       "  <th>Kurtosis:</th>      <td> 4.725</td> <th>  Cond. No.          </th> <td>    564.</td>\n",
       "</tr>\n",
       "</table><br/><br/>Notes:<br/>[1] Standard Errors assume that the covariance matrix of the errors is correctly specified."
      ],
      "text/plain": [
       "<class 'statsmodels.iolib.summary.Summary'>\n",
       "\"\"\"\n",
       "                            OLS Regression Results                            \n",
       "==============================================================================\n",
       "Dep. Variable:       num_climate_laws   R-squared:                       0.215\n",
       "Model:                            OLS   Adj. R-squared:                  0.187\n",
       "Method:                 Least Squares   F-statistic:                     7.635\n",
       "Date:                Sun, 28 Feb 2021   Prob (F-statistic):           2.96e-07\n",
       "Time:                        16:47:31   Log-Likelihood:                -580.35\n",
       "No. Observations:                 174   AIC:                             1175.\n",
       "Df Residuals:                     167   BIC:                             1197.\n",
       "Df Model:                           6                                         \n",
       "Covariance Type:            nonrobust                                         \n",
       "============================================================================================\n",
       "                               coef    std err          t      P>|t|      [0.025      0.975]\n",
       "--------------------------------------------------------------------------------------------\n",
       "percent_global_emissions     0.3332      0.247      1.347      0.180      -0.155       0.822\n",
       "climate_risk_index          -0.0609      0.013     -4.571      0.000      -0.087      -0.035\n",
       "eu_member_ind                3.4649      1.823      1.900      0.059      -0.135       7.064\n",
       "High income                 17.5965      1.974      8.914      0.000      13.699      21.494\n",
       "Low income                  13.9334      1.806      7.715      0.000      10.368      17.499\n",
       "Lower middle income         16.8407      1.572     10.714      0.000      13.738      19.944\n",
       "Upper middle income         14.6800      1.595      9.205      0.000      11.531      17.829\n",
       "==============================================================================\n",
       "Omnibus:                       33.582   Durbin-Watson:                   2.070\n",
       "Prob(Omnibus):                  0.000   Jarque-Bera (JB):               52.075\n",
       "Skew:                           1.026   Prob(JB):                     4.92e-12\n",
       "Kurtosis:                       4.725   Cond. No.                         564.\n",
       "==============================================================================\n",
       "\n",
       "Notes:\n",
       "[1] Standard Errors assume that the covariance matrix of the errors is correctly specified.\n",
       "\"\"\""
      ]
     },
     "execution_count": 153,
     "metadata": {},
     "output_type": "execute_result"
    }
   ],
   "source": [
    "# Fitting OLS\n",
    "country_X = climate_laws_country_df.iloc[:, 2:9]\n",
    "country_y = climate_laws_country_df.num_climate_laws\n",
    "country_ols = sm.OLS(country_y, country_X)\n",
    "country_ols_results = country_ols.fit()\n",
    "\n",
    "# Summary\n",
    "country_ols_results.summary()"
   ]
  },
  {
   "cell_type": "code",
   "execution_count": 154,
   "metadata": {},
   "outputs": [
    {
     "data": {
      "text/plain": [
       "count    174.000000\n",
       "mean      91.184770\n",
       "std       41.223002\n",
       "min       10.330000\n",
       "25%       58.000000\n",
       "50%       85.920000\n",
       "75%      119.545000\n",
       "max      173.670000\n",
       "Name: climate_risk_index, dtype: float64"
      ]
     },
     "execution_count": 154,
     "metadata": {},
     "output_type": "execute_result"
    }
   ],
   "source": [
    "# Exploring climate_risk_index\n",
    "climate_laws_country_df.climate_risk_index.describe()"
   ]
  },
  {
   "cell_type": "code",
   "execution_count": 155,
   "metadata": {},
   "outputs": [],
   "source": [
    "# OLS Results dictionary\n",
    "ols_results_dict = dict(country_ols_results.params)"
   ]
  },
  {
   "cell_type": "code",
   "execution_count": 156,
   "metadata": {},
   "outputs": [
    {
     "name": "stdout",
     "output_type": "stream",
     "text": [
      "1 standard deviation increase in climate_risk_index is associated with -2.5 increase in number of climate laws passed by a country\n",
      "Being a High income country (WB index) is associated with a 17.6 increase in number of climate_laws passed by a country\n"
     ]
    }
   ],
   "source": [
    "# Interpreting some of the results\n",
    "_ = np.std(climate_laws_country_df.climate_risk_index)*ols_results_dict['climate_risk_index']\n",
    "print(f\"1 standard deviation increase in climate_risk_index is associated with {round(_, 2)} increase in number of climate laws passed by a country\")\n",
    "_ = ols_results_dict['High income']\n",
    "print(f\"Being a High income country (WB index) is associated with a {round(_, 2)} increase in number of climate_laws passed by a country\")"
   ]
  },
  {
   "cell_type": "markdown",
   "metadata": {},
   "source": [
    "## Further idea\n",
    "\n",
    "Potentially build a **panel dataset** enriched with indicators from the WB development indicators.\n",
    "\n",
    "Some important observations to note:\n",
    "\n",
    "**1. Year range: 1947 to 2020 -> 73 years**\n",
    "\n",
    "**2. Number of countries: 198 (197 if we omit the European Union, although there needs to be a way to incorporate their data into the panel as it is a significant dataset)**"
   ]
  },
  {
   "cell_type": "markdown",
   "metadata": {},
   "source": [
    "### Idea: Use association rules to link different categories of climate laws with different categories of legislative processes "
   ]
  },
  {
   "cell_type": "code",
   "execution_count": 157,
   "metadata": {},
   "outputs": [
    {
     "data": {
      "text/plain": [
       "count    2090.000000\n",
       "mean     2010.535407\n",
       "std         7.344686\n",
       "min      1947.000000\n",
       "25%      2008.000000\n",
       "50%      2012.000000\n",
       "75%      2015.000000\n",
       "max      2020.000000\n",
       "Name: date_passed, dtype: float64"
      ]
     },
     "execution_count": 157,
     "metadata": {},
     "output_type": "execute_result"
    }
   ],
   "source": [
    "climate_laws_df[\"date_passed\"].astype(float).describe()"
   ]
  },
  {
   "cell_type": "code",
   "execution_count": 158,
   "metadata": {},
   "outputs": [
    {
     "data": {
      "text/plain": [
       "198"
      ]
     },
     "execution_count": 158,
     "metadata": {},
     "output_type": "execute_result"
    }
   ],
   "source": [
    "climate_laws_df[\"country_name\"].nunique()"
   ]
  }
 ],
 "metadata": {
  "kernelspec": {
   "display_name": "Python 3",
   "language": "python",
   "name": "python3"
  },
  "language_info": {
   "codemirror_mode": {
    "name": "ipython",
    "version": 3
   },
   "file_extension": ".py",
   "mimetype": "text/x-python",
   "name": "python",
   "nbconvert_exporter": "python",
   "pygments_lexer": "ipython3",
   "version": "3.8.5"
  }
 },
 "nbformat": 4,
 "nbformat_minor": 2
}
